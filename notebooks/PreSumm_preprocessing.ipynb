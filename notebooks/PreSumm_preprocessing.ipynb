{
 "cells": [
  {
   "cell_type": "markdown",
   "metadata": {
    "id": "psfnQWdcFOqC"
   },
   "source": [
    "# BertSum"
   ]
  },
  {
   "cell_type": "markdown",
   "metadata": {
    "id": "0rTc9EIbL_rM"
   },
   "source": [
    "## Import library"
   ]
  },
  {
   "cell_type": "code",
   "execution_count": 1,
   "metadata": {
    "colab": {
     "base_uri": "https://localhost:8080/"
    },
    "id": "JwJV7t0eL_rM",
    "outputId": "46ab045b-04e9-4d7d-90c4-551f6ca7aa49"
   },
   "outputs": [],
   "source": [
    "# # colab\n",
    "# from google.colab import drive\n",
    "# drive.mount('/content/drive')\n",
    "# PROJECT_ID = \"/Projects/202011_DACON_Summarization\""
   ]
  },
  {
   "cell_type": "code",
   "execution_count": 1,
   "metadata": {},
   "outputs": [
    {
     "name": "stdout",
     "output_type": "stream",
     "text": [
      "/home/uoneway/Project/PreSumm_ko/notebooks\r\n"
     ]
    }
   ],
   "source": [
    "!pwd"
   ]
  },
  {
   "cell_type": "code",
   "execution_count": 2,
   "metadata": {
    "id": "FsSBe6q-L_rN"
   },
   "outputs": [],
   "source": [
    "ROOT_DIR = \"/home/uoneway/Project\""
   ]
  },
  {
   "cell_type": "code",
   "execution_count": 4,
   "metadata": {
    "colab": {
     "base_uri": "https://localhost:8080/"
    },
    "id": "CKTFg7fYL_rN",
    "outputId": "7436414f-ced3-4e79-a008-17a039ab0a6b"
   },
   "outputs": [
    {
     "name": "stdout",
     "output_type": "stream",
     "text": [
      "jupyter envirionment\n"
     ]
    }
   ],
   "source": [
    "import numpy as np \n",
    "import pandas as pd\n",
    "import os\n",
    "import json\n",
    "\n",
    "# import matplotlib.pyplot as plt\n",
    "# %matplotlib inline\n",
    "# import seaborn as sns\n",
    "# sns.set(style='white', context='notebook', palette='deep')\n",
    "\n",
    "import warnings\n",
    "warnings.filterwarnings(action='ignore')\n",
    "\n",
    "if get_ipython():\n",
    "    print(\"jupyter envirionment\")\n",
    "    from tqdm import tqdm_notebook as tqdm  #이거 안해주면 한 줄씩 출력됨 ;;\n",
    "else:\n",
    "    print(\"command shell envirionment\")\n",
    "    from tqdm import tqdm"
   ]
  },
  {
   "cell_type": "code",
   "execution_count": 7,
   "metadata": {
    "id": "ITLJZh81pEi8"
   },
   "outputs": [],
   "source": [
    "PROJECT_DIR = ROOT_DIR + '/PreSumm_ko'\n",
    "DATA_DIR = PROJECT_DIR + '/data'\n",
    "RAW_DATA_DIR = DATA_DIR + '/raw'\n",
    "JSON_DATA_DIR = DATA_DIR + '/json_data'\n",
    "BERT_DATA_DIR = DATA_DIR + '/bert_data' \n",
    "\n",
    "MODEL_DIR = PROJECT_DIR + '/models'  \n",
    "LOG_DIR = PROJECT_DIR + '/logs' # logs -> for storing logs information during preprocess and finetuning\n",
    "RESULT_DIR = PROJECT_DIR + '/result' \n"
   ]
  },
  {
   "cell_type": "markdown",
   "metadata": {
    "id": "QBiPYNcXfad-"
   },
   "source": [
    "## preprocessing"
   ]
  },
  {
   "cell_type": "markdown",
   "metadata": {
    "id": "LqsCQ1ucfhQ2"
   },
   "source": [
    "Our data process includes the following four steps:  \n",
    "- 1. Convert our raw data to **.story** format and store in */kaggle/working/news_sum/* . This enables us to use **preprocess.py** code to do further process  \n",
    "- 2. Tokenize **.story** file via using [**StanfordCoreNLP**](https://stanfordnlp.github.io/CoreNLP/index.html). Stanford CoreNLP is written in **Java**; recent releases require Java **1.8+**. You need to have Java installed to run CoreNLP. However, you can interact with CoreNLP via the command-line or its web service; many people use CoreNLP while writing their own code in Javascript, Python, or some other language.  \n",
    "\n",
    "    (*Here we activate Stanford CoreNLP by the code in **preprocess.py***)\n",
    "- 3. Convert tokenized data as **json** format \n",
    "- 4. Convert **json** file to **.pt** format for model finetuning\n"
   ]
  },
  {
   "cell_type": "markdown",
   "metadata": {
    "id": "MaS_tkL5eZ0U"
   },
   "source": [
    "**folder name -> data file**\n",
    "https://www.kaggle.com/uoneway/text-summarization-with-presumm-finetuning/edit\n",
    "\n",
    "\n"
   ]
  },
  {
   "cell_type": "markdown",
   "metadata": {
    "id": "cTd5TCazL_rO"
   },
   "source": [
    "### Import data"
   ]
  },
  {
   "cell_type": "code",
   "execution_count": 8,
   "metadata": {
    "colab": {
     "base_uri": "https://localhost:8080/",
     "height": 738
    },
    "id": "ogjpn_4_q4Ts",
    "outputId": "a3d0b15c-50df-47e1-906d-09c02669c3f9"
   },
   "outputs": [
    {
     "data": {
      "text/html": [
       "<div>\n",
       "<style scoped>\n",
       "    .dataframe tbody tr th:only-of-type {\n",
       "        vertical-align: middle;\n",
       "    }\n",
       "\n",
       "    .dataframe tbody tr th {\n",
       "        vertical-align: top;\n",
       "    }\n",
       "\n",
       "    .dataframe thead th {\n",
       "        text-align: right;\n",
       "    }\n",
       "</style>\n",
       "<table border=\"1\" class=\"dataframe\">\n",
       "  <thead>\n",
       "    <tr style=\"text-align: right;\">\n",
       "      <th></th>\n",
       "      <th>media</th>\n",
       "      <th>id</th>\n",
       "      <th>article_original</th>\n",
       "      <th>abstractive</th>\n",
       "      <th>extractive</th>\n",
       "      <th>extractive_sents</th>\n",
       "    </tr>\n",
       "  </thead>\n",
       "  <tbody>\n",
       "    <tr>\n",
       "      <th>0</th>\n",
       "      <td>당진시대</td>\n",
       "      <td>327827480</td>\n",
       "      <td>[당진시 문화관광과를 대상으로 하는 행정사무감사에서 당진시립합창단 관계자가 보낸 것...</td>\n",
       "      <td>지난 6일 당진시의회 행정사무감사에서 '합창단이 소리를 작게 낼 것이니 알고 있으라...</td>\n",
       "      <td>[0, 1, 2]</td>\n",
       "      <td>[당진시 문화관광과를 대상으로 하는 행정사무감사에서 당진시립합창단 관계자가 보낸 것...</td>\n",
       "    </tr>\n",
       "    <tr>\n",
       "      <th>1</th>\n",
       "      <td>국제신문</td>\n",
       "      <td>339840364</td>\n",
       "      <td>[미국 메이저리그(MLB)에서 활동하는 한국 선수들의 시즌 초반 희비가 엇갈리고 있...</td>\n",
       "      <td>LA 에인절스의 최지만이 맹활약을 하여 시즌 타율 0.250에서 0.313으로 올리...</td>\n",
       "      <td>[0, 1, 3]</td>\n",
       "      <td>[미국 메이저리그(MLB)에서 활동하는 한국 선수들의 시즌 초반 희비가 엇갈리고 있...</td>\n",
       "    </tr>\n",
       "    <tr>\n",
       "      <th>2</th>\n",
       "      <td>기호일보</td>\n",
       "      <td>371071597</td>\n",
       "      <td>[인천 부영공원 운영 생활야구협회 80여 동호회 팀에 260만 원씩 받아, 국유지로...</td>\n",
       "      <td>16일 부평구와 협회 등에 따르면 부영공원 안에 있는 야구장을 구생활체육야구협회가 ...</td>\n",
       "      <td>[6, 7, 10]</td>\n",
       "      <td>[16일 부평구와 협회 등에 따르면 부영공원 안에 있는 야구장을 구생활체육야구협회가...</td>\n",
       "    </tr>\n",
       "    <tr>\n",
       "      <th>3</th>\n",
       "      <td>대구일보</td>\n",
       "      <td>354806783</td>\n",
       "      <td>[대구·경북첨단의료산업진흥재단 의약생산센터는 항암주사제 무균충전 시설을 갖추고 있다...</td>\n",
       "      <td>대구·경북첨단의료산업진흥재단 의약생산센터는 약사법 시행규칙에서 정한 바에 따라 전용...</td>\n",
       "      <td>[1, 6, 4]</td>\n",
       "      <td>[대구·경북첨단의료산업진흥재단(이하 대구첨복재단) 의약생산센터는 주세제 특수제제인 ...</td>\n",
       "    </tr>\n",
       "    <tr>\n",
       "      <th>4</th>\n",
       "      <td>대구신문</td>\n",
       "      <td>347022773</td>\n",
       "      <td>[국내 유통되는 탄산음료 중 식품의약품안전처에 품질인증을 받은 제품이 하나도 없는 ...</td>\n",
       "      <td>식품의약품안전처는 29일 어린이가 즐겨마시는 음료를 대상으로 영양성분을 조사한 결과...</td>\n",
       "      <td>[2, 3, 10]</td>\n",
       "      <td>[식품의약품안전처는 29일 여름철 어린이가 즐겨 마시는 탄산음료 282개와 혼합음료...</td>\n",
       "    </tr>\n",
       "    <tr>\n",
       "      <th>...</th>\n",
       "      <td>...</td>\n",
       "      <td>...</td>\n",
       "      <td>...</td>\n",
       "      <td>...</td>\n",
       "      <td>...</td>\n",
       "      <td>...</td>\n",
       "    </tr>\n",
       "    <tr>\n",
       "      <th>42798</th>\n",
       "      <td>대구신문</td>\n",
       "      <td>334074661</td>\n",
       "      <td>[칠곡북삼초등학교(교장 서금자)에서는 지난달 7일부터 18일까지 3-5학년 학생 중...</td>\n",
       "      <td>지난달 7일부터 18일까지 칠곡북삼초등학교는 학생들에게 실제 영어 사용에 대한 자신...</td>\n",
       "      <td>[0, 1, 2]</td>\n",
       "      <td>[칠곡북삼초등학교(교장 서금자)에서는 지난달 7일부터 18일까지 3-5학년 학생 중...</td>\n",
       "    </tr>\n",
       "    <tr>\n",
       "      <th>42799</th>\n",
       "      <td>대구일보</td>\n",
       "      <td>362902654</td>\n",
       "      <td>[김상훈 의원, 최근 5년간, LH공공임대 임차인이 사망했으나 상속되거나 반환되지 ...</td>\n",
       "      <td>김상훈 자유한국당 의원은 최근 5년간 임차인의 사망으로 반환되지 못한 3천479가구...</td>\n",
       "      <td>[1, 2, 4]</td>\n",
       "      <td>[최근 5년간, LH공공임대 임차인이 사망했으나 상속되거나 반환되지 못한 임대보증금...</td>\n",
       "    </tr>\n",
       "    <tr>\n",
       "      <th>42800</th>\n",
       "      <td>기호일보</td>\n",
       "      <td>355310553</td>\n",
       "      <td>[▲ 5일 오전 파주 임진각에서 열린 ‘DMZ 155마일 걷기’ 출정식에서 걷기대원...</td>\n",
       "      <td>경기도는  DMZ의 의미와 평화에 관한 국민들의 인식을 새롭게 하고자  'DMZ 1...</td>\n",
       "      <td>[2, 3, 6]</td>\n",
       "      <td>[경기도의 ‘DMZ 155마일 걷기’ 행사가 5일 오전 파주 임진각에서 열린 출정식...</td>\n",
       "    </tr>\n",
       "    <tr>\n",
       "      <th>42801</th>\n",
       "      <td>당진시대</td>\n",
       "      <td>288844233</td>\n",
       "      <td>[당진지역 휘발유 평균 가격은 1534원, 경유 평균가격은 1343원으로 조사됐다....</td>\n",
       "      <td>지난 14일 기준 당진지역 휘발유 중 가장 저렴한 곳의 가격은 AJ토탈(주)당진주유...</td>\n",
       "      <td>[4, 6, 0]</td>\n",
       "      <td>[지난 14일 기준 휘발유 가격이 가장 저렴한 곳은 AJ토탈(주)당진주유소(신평)였...</td>\n",
       "    </tr>\n",
       "    <tr>\n",
       "      <th>42802</th>\n",
       "      <td>대전일보</td>\n",
       "      <td>337237901</td>\n",
       "      <td>[양승조 충남도지사는 12일 대기오염물질 배출 주요 사업장인 현대제철㈜ 당진공장을 ...</td>\n",
       "      <td>양승조 충남도지사는 12일 대기오염물질 배출 주요 사업장인 현대제철㈜ 당진공장에서 ...</td>\n",
       "      <td>[2, 5, 4]</td>\n",
       "      <td>[양승조 충남도지사는 12일 대기오염물질 배출 주요 사업장인 현대제철㈜ 당진공장을 ...</td>\n",
       "    </tr>\n",
       "  </tbody>\n",
       "</table>\n",
       "<p>42803 rows × 6 columns</p>\n",
       "</div>"
      ],
      "text/plain": [
       "      media         id                                   article_original  \\\n",
       "0      당진시대  327827480  [당진시 문화관광과를 대상으로 하는 행정사무감사에서 당진시립합창단 관계자가 보낸 것...   \n",
       "1      국제신문  339840364  [미국 메이저리그(MLB)에서 활동하는 한국 선수들의 시즌 초반 희비가 엇갈리고 있...   \n",
       "2      기호일보  371071597  [인천 부영공원 운영 생활야구협회 80여 동호회 팀에 260만 원씩 받아, 국유지로...   \n",
       "3      대구일보  354806783  [대구·경북첨단의료산업진흥재단 의약생산센터는 항암주사제 무균충전 시설을 갖추고 있다...   \n",
       "4      대구신문  347022773  [국내 유통되는 탄산음료 중 식품의약품안전처에 품질인증을 받은 제품이 하나도 없는 ...   \n",
       "...     ...        ...                                                ...   \n",
       "42798  대구신문  334074661  [칠곡북삼초등학교(교장 서금자)에서는 지난달 7일부터 18일까지 3-5학년 학생 중...   \n",
       "42799  대구일보  362902654  [김상훈 의원, 최근 5년간, LH공공임대 임차인이 사망했으나 상속되거나 반환되지 ...   \n",
       "42800  기호일보  355310553  [▲ 5일 오전 파주 임진각에서 열린 ‘DMZ 155마일 걷기’ 출정식에서 걷기대원...   \n",
       "42801  당진시대  288844233  [당진지역 휘발유 평균 가격은 1534원, 경유 평균가격은 1343원으로 조사됐다....   \n",
       "42802  대전일보  337237901  [양승조 충남도지사는 12일 대기오염물질 배출 주요 사업장인 현대제철㈜ 당진공장을 ...   \n",
       "\n",
       "                                             abstractive  extractive  \\\n",
       "0      지난 6일 당진시의회 행정사무감사에서 '합창단이 소리를 작게 낼 것이니 알고 있으라...   [0, 1, 2]   \n",
       "1      LA 에인절스의 최지만이 맹활약을 하여 시즌 타율 0.250에서 0.313으로 올리...   [0, 1, 3]   \n",
       "2      16일 부평구와 협회 등에 따르면 부영공원 안에 있는 야구장을 구생활체육야구협회가 ...  [6, 7, 10]   \n",
       "3      대구·경북첨단의료산업진흥재단 의약생산센터는 약사법 시행규칙에서 정한 바에 따라 전용...   [1, 6, 4]   \n",
       "4      식품의약품안전처는 29일 어린이가 즐겨마시는 음료를 대상으로 영양성분을 조사한 결과...  [2, 3, 10]   \n",
       "...                                                  ...         ...   \n",
       "42798  지난달 7일부터 18일까지 칠곡북삼초등학교는 학생들에게 실제 영어 사용에 대한 자신...   [0, 1, 2]   \n",
       "42799  김상훈 자유한국당 의원은 최근 5년간 임차인의 사망으로 반환되지 못한 3천479가구...   [1, 2, 4]   \n",
       "42800  경기도는  DMZ의 의미와 평화에 관한 국민들의 인식을 새롭게 하고자  'DMZ 1...   [2, 3, 6]   \n",
       "42801  지난 14일 기준 당진지역 휘발유 중 가장 저렴한 곳의 가격은 AJ토탈(주)당진주유...   [4, 6, 0]   \n",
       "42802  양승조 충남도지사는 12일 대기오염물질 배출 주요 사업장인 현대제철㈜ 당진공장에서 ...   [2, 5, 4]   \n",
       "\n",
       "                                        extractive_sents  \n",
       "0      [당진시 문화관광과를 대상으로 하는 행정사무감사에서 당진시립합창단 관계자가 보낸 것...  \n",
       "1      [미국 메이저리그(MLB)에서 활동하는 한국 선수들의 시즌 초반 희비가 엇갈리고 있...  \n",
       "2      [16일 부평구와 협회 등에 따르면 부영공원 안에 있는 야구장을 구생활체육야구협회가...  \n",
       "3      [대구·경북첨단의료산업진흥재단(이하 대구첨복재단) 의약생산센터는 주세제 특수제제인 ...  \n",
       "4      [식품의약품안전처는 29일 여름철 어린이가 즐겨 마시는 탄산음료 282개와 혼합음료...  \n",
       "...                                                  ...  \n",
       "42798  [칠곡북삼초등학교(교장 서금자)에서는 지난달 7일부터 18일까지 3-5학년 학생 중...  \n",
       "42799  [최근 5년간, LH공공임대 임차인이 사망했으나 상속되거나 반환되지 못한 임대보증금...  \n",
       "42800  [경기도의 ‘DMZ 155마일 걷기’ 행사가 5일 오전 파주 임진각에서 열린 출정식...  \n",
       "42801  [지난 14일 기준 휘발유 가격이 가장 저렴한 곳은 AJ토탈(주)당진주유소(신평)였...  \n",
       "42802  [양승조 충남도지사는 12일 대기오염물질 배출 주요 사업장인 현대제철㈜ 당진공장을 ...  \n",
       "\n",
       "[42803 rows x 6 columns]"
      ]
     },
     "execution_count": 8,
     "metadata": {},
     "output_type": "execute_result"
    }
   ],
   "source": [
    "with open(RAW_DATA_DIR + '/ext/train.jsonl', 'r') as json_file:\n",
    "    json_list = list(json_file)\n",
    "\n",
    "trains = []\n",
    "for json_str in json_list:\n",
    "    line = json.loads(json_str)\n",
    "    trains.append(line)\n",
    "\n",
    "train_df = pd.DataFrame(trains)\n",
    "train_df['extractive_sents'] = train_df.apply(lambda row: list(np.array(row['article_original'])[row['extractive']]) , axis=1)\n",
    "train_df"
   ]
  },
  {
   "cell_type": "markdown",
   "metadata": {
    "id": "Axb8u88-K5FG"
   },
   "source": [
    "### DIR 만들기"
   ]
  },
  {
   "cell_type": "code",
   "execution_count": null,
   "metadata": {
    "colab": {
     "base_uri": "https://localhost:8080/"
    },
    "id": "9Y0l2pqAfMOm",
    "outputId": "4f264659-4ccd-4ca2-c6bd-5de7911a4976"
   },
   "outputs": [
    {
     "name": "stdout",
     "output_type": "stream",
     "text": [
      "mkdir: cannot create directory ‘json_data’: File exists\n",
      "mkdir: cannot create directory ‘json_data/train_ext’: File exists\n",
      "mkdir: cannot create directory ‘json_data/train_abs’: File exists\n",
      "mkdir: cannot create directory ‘bert_data’: File exists\n",
      "mkdir: cannot create directory ‘bert_data/train_ext’: File exists\n",
      "mkdir: cannot create directory ‘bert_data/train_abs’: File exists\n"
     ]
    }
   ],
   "source": [
    "import os \n",
    "os.chdir(PreSumm_DIR + '/data')\n",
    "\n",
    "!mkdir json_data json_data/train_ext json_data/train_abs json_data/test\n",
    "!mkdir bert_data bert_data/train_ext bert_data/train_abs bert_data/test\n",
    "# !mkdir logs\n",
    "# !mkdir temp\n",
    "# !mkdir bertsumextabs "
   ]
  },
  {
   "cell_type": "code",
   "execution_count": null,
   "metadata": {
    "id": "yv1VsIx6e_aV"
   },
   "outputs": [],
   "source": [
    "# !mv bert_data/train.* bert_data/train_ext"
   ]
  },
  {
   "cell_type": "code",
   "execution_count": null,
   "metadata": {
    "id": "7CvXPloFweM0"
   },
   "outputs": [],
   "source": [
    "# !mv json_data/test.* json_data/test"
   ]
  },
  {
   "cell_type": "markdown",
   "metadata": {
    "id": "H8N9Zh1qK9QD"
   },
   "source": [
    "### DATA 변환"
   ]
  },
  {
   "cell_type": "markdown",
   "metadata": {
    "heading_collapsed": true,
    "id": "v2z0rEwyxF68"
   },
   "source": [
    "##### Mecab 설치"
   ]
  },
  {
   "cell_type": "code",
   "execution_count": 15,
   "metadata": {
    "hidden": true,
    "id": "_4qtXjuNxFgW"
   },
   "outputs": [],
   "source": [
    "%%capture\n",
    "\n",
    "# mecab 설치\n",
    "import os\n",
    "os.chdir('/tmp/')\n",
    "!curl -LO https://bitbucket.org/eunjeon/mecab-ko/downloads/mecab-0.996-ko-0.9.2.tar.gz\n",
    "!tar zxfv mecab-0.996-ko-0.9.2.tar.gz\n",
    "os.chdir('/tmp/mecab-0.996-ko-0.9.2')\n",
    "!./configure\n",
    "!make\n",
    "!make check\n",
    "!make install\n",
    "!ldconfig\n",
    "\n",
    "# GNU M4 설치\n",
    "os.chdir('/tmp/')\n",
    "!wget http://ftp.gnu.org/gnu/m4/m4-1.4.9.tar.gz\n",
    "!tar -zvxf m4-1.4.9.tar.gz\n",
    "os.chdir('/tmp/m4-1.4.9')\n",
    "!./configure\n",
    "!make\n",
    "!make install\n",
    "\n",
    "# autoconf 설치\n",
    "os.chdir('/tmp')\n",
    "!curl -OL http://ftpmirror.gnu.org/autoconf/autoconf-2.69.tar.gz\n",
    "!tar xzf autoconf-2.69.tar.gz\n",
    "os.chdir('/tmp/autoconf-2.69')\n",
    "!./configure --prefix=/usr/local\n",
    "!make\n",
    "!make install\n",
    "!export PATH=/usr/local/bin\n",
    "\n",
    "# automake 설치\n",
    "os.chdir('/tmp')\n",
    "!curl -LO http://ftpmirror.gnu.org/automake/automake-1.11.tar.gz\n",
    "!tar -zxvf automake-1.11.tar.gz\n",
    "os.chdir('/tmp/automake-1.11')\n",
    "!./configure\n",
    "!make\n",
    "!make install\n",
    "\n",
    "# mecab dictionary 설치\n",
    "os.chdir('/tmp')\n",
    "!curl -LO https://bitbucket.org/eunjeon/mecab-ko-dic/downloads/mecab-ko-dic-2.1.1-20180720.tar.gz\n",
    "!tar -zxvf mecab-ko-dic-2.1.1-20180720.tar.gz\n",
    "os.chdir('/tmp/mecab-ko-dic-2.1.1-20180720')\n",
    "!./autogen.sh\n",
    "!./configure\n",
    "!make\n",
    "!make install\n",
    "\n",
    "# mecab python 설치\n",
    "os.chdir('/content')\n",
    "\n",
    "!git clone https://bitbucket.org/eunjeon/mecab-python-0.996.git\n",
    "os.chdir('/content/mecab-python-0.996')\n",
    "\n",
    "!python3 setup.py build\n",
    "!python3 setup.py install"
   ]
  },
  {
   "cell_type": "code",
   "execution_count": 11,
   "metadata": {
    "colab": {
     "base_uri": "https://localhost:8080/"
    },
    "hidden": true,
    "id": "zENHkHhkgDLr",
    "outputId": "5fb17ec6-ab7b-4036-bb1a-f707e481dc63"
   },
   "outputs": [
    {
     "name": "stdout",
     "output_type": "stream",
     "text": [
      "Collecting kss\n",
      "  Downloading https://files.pythonhosted.org/packages/fc/bb/4772901b3b934ac204f32a0bd6fc0567871d8378f9bbc7dd5fd5e16c6ee7/kss-1.3.1.tar.gz\n",
      "Building wheels for collected packages: kss\n",
      "  Building wheel for kss (setup.py) ... \u001b[?25l\u001b[?25hdone\n",
      "  Created wheel for kss: filename=kss-1.3.1-cp36-cp36m-linux_x86_64.whl size=251547 sha256=1d849724354b9ac15b34d699e836b42553da87ce6d849d4eaba572fa1a17838e\n",
      "  Stored in directory: /root/.cache/pip/wheels/8b/98/d1/53f75f89925cd95779824778725ee3fa36e7aa55ed26ad54a8\n",
      "Successfully built kss\n",
      "Installing collected packages: kss\n",
      "Successfully installed kss-1.3.1\n"
     ]
    }
   ],
   "source": [
    "!pip install kss"
   ]
  },
  {
   "cell_type": "markdown",
   "metadata": {
    "id": "7Re5fIUYxI-x"
   },
   "source": [
    "#### make json file"
   ]
  },
  {
   "cell_type": "code",
   "execution_count": 12,
   "metadata": {
    "id": "redcs5_lOdmx"
   },
   "outputs": [],
   "source": [
    "# `[{\"src\": [[\"(\",],\n",
    "#            [],\n",
    "#     ],\n",
    "#     \"tgt\": [[\"(\",],\n",
    "#             [],\n",
    "#     ]\n",
    "#   },\n",
    "#   {}\n",
    "# ]`"
   ]
  },
  {
   "cell_type": "code",
   "execution_count": 9,
   "metadata": {
    "id": "fJXHY6TfyDUM"
   },
   "outputs": [],
   "source": [
    "import re\n",
    "import MeCab\n",
    "from bs4 import BeautifulSoup\n",
    "import kss"
   ]
  },
  {
   "cell_type": "code",
   "execution_count": 27,
   "metadata": {},
   "outputs": [
    {
     "name": "stdout",
     "output_type": "stream",
     "text": [
      "!\n",
      "\"\n",
      "#\n",
      "$\n",
      "%\n",
      "&\n",
      "'\n",
      "(\n",
      ")\n",
      "*\n",
      "+\n",
      ",\n",
      "-\n"
     ]
    }
   ],
   "source": [
    "special_symbols_in_dict = ['!', '\"', '#', '$', '%', '&', \"'\", '(', ')', '*', '+', ',', '-']\n",
    "for i in special_symbols_in_dict:\n",
    "    print(i)"
   ]
  },
  {
   "cell_type": "code",
   "execution_count": 37,
   "metadata": {
    "colab": {
     "base_uri": "https://localhost:8080/"
    },
    "id": "O2l4J1Bxv0Uk",
    "outputId": "dd722645-9d0e-441e-e228-2cfb654a884d"
   },
   "outputs": [
    {
     "data": {
      "text/plain": [
       "'위치 당진시 무수동 7 길 1 2 3 하늘 채 코오롱 아파트 정문 앞 문의 0 4 1 355 3282 URL dsf'"
      ]
     },
     "execution_count": 37,
     "metadata": {},
     "output_type": "execute_result"
    }
   ],
   "source": [
    "# special_symbols_in_dict = ['!', '\"', '#', '$', '%', '&', \"'\", '(', ')', '*', '+', ',', '-']\n",
    "# unused_tags = ['SF', 'SE', 'SSO', 'SSC', 'SC', 'SY']\n",
    "\n",
    "def korean_tokenizer(text, unused_tags=None, print_tag=False): \n",
    "    # assert if use_tags is None or unuse_tags is None\n",
    "    \n",
    "    tokenizer = MeCab.Tagger(\"-d /usr/local/lib/mecab/dic/mecab-ko-dic\")\n",
    "    parsed = tokenizer.parse(text)\n",
    "    word_tag = [w for w in parsed.split(\"\\n\")]\n",
    "    result = []\n",
    "    \n",
    "    if unused_tags:\n",
    "        for word_ in word_tag[:-2]:\n",
    "            word = word_.split(\"\\t\")\n",
    "            tag = word[1].split(\",\")[0]\n",
    "            if tag not in unused_tags:\n",
    "                if print_tag:\n",
    "                    result.append((word[0], tag))\n",
    "                else:\n",
    "                    result.append(word[0]) \n",
    "    else:\n",
    "        for word_ in word_tag[:-2]:\n",
    "            word = word_.split(\"\\t\")\n",
    "            result.append(word[0]) \n",
    "\n",
    "    return result\n",
    "\n",
    "def number_split(sentence):\n",
    "    # 1. 공백 이후 숫자로 시작하는 경우만(문자+숫자+문자, 문자+숫자 케이스는 제외), 해당 숫자와 그 뒤 문자를 분리\n",
    "    num_str_pattern = re.compile(r'(\\s\\d+)([^\\d\\s])')\n",
    "    sentence = re.sub(num_str_pattern, r'\\1 \\2', sentence)\n",
    "\n",
    "    # 2. 공백으로 sentence를 분리 후 숫자인경우만 공백 넣어주기\n",
    "    #numbers_reg = re.compile(\"\\s\\d{2,}\\s\")\n",
    "    sentence_fixed = ''\n",
    "    for token in sentence.split():\n",
    "        if token.isnumeric():\n",
    "            token = ' '.join(token)\n",
    "        sentence_fixed+=' '+token\n",
    "    return sentence_fixed\n",
    "\n",
    "def noise_remove(text):\n",
    "    text = text.lower()\n",
    "    \n",
    "    # url 대체\n",
    "    url_pattern = re.compile(r'https?://\\S*|www\\.\\S*')\n",
    "    text = url_pattern.sub(r'URL', text)\n",
    "\n",
    "    # html 삭제\n",
    "    soup = BeautifulSoup(text, \"html.parser\")\n",
    "    text = soup.get_text(separator=\" \")\n",
    "\n",
    "    # 숫자 중간에 공백 삽입하기\n",
    "    text = number_split(text)\n",
    "    #number_pattern = re.compile('\\w*\\d\\w*') \n",
    "#     number_pattern = re.compile('\\d+') \n",
    "#     text = number_pattern.sub(r'[[NUMBER]]', text)\n",
    "    \n",
    "\n",
    "    # PUCTUACTION_TO_REMOVED = string.punctuation.translate(str.maketrans('', '', '\\\"\\'#$%&\\\\@'))  # !\"#$%&\\'()*+,-./:;<=>?@[\\\\]^_`{|}~ 중 적은것을 제외한 나머지를 삭제\n",
    "    # text = text.translate(str.maketrans(PUCTUACTION_TO_REMOVED, ' '*len(PUCTUACTION_TO_REMOVED))) \n",
    "\n",
    "    # remove_redundant_white_spaces\n",
    "    text = re.sub(' +', ' ', text)\n",
    "    \n",
    "    return text\n",
    "\n",
    "def preprocessing(text, tokenizer=None, unused_tags=None):\n",
    "    text = noise_remove(text)\n",
    "    if tokenizer is not None:\n",
    "        text = tokenizer(text, unused_tags=unused_tags)\n",
    "        text = ' '.join(text)\n",
    "\n",
    "    return text\n",
    "# korean_tokenizer\n",
    "text = \"■위치 : 당진시 무수동 7길 123 (하늘채코오롱아파트 정문 앞) ■문의 : 041-355-3282! http://dsf/com <a> dsf <a/>\"\n",
    "preprocessing(text, korean_tokenizer, unused_tags=unused_tags)\n"
   ]
  },
  {
   "cell_type": "code",
   "execution_count": 29,
   "metadata": {
    "colab": {
     "base_uri": "https://localhost:8080/"
    },
    "id": "_Dum821plorZ",
    "outputId": "e1dc8219-a629-4be8-e679-318a7f32d6ae"
   },
   "outputs": [
    {
     "name": "stdout",
     "output_type": "stream",
     "text": [
      "9\n",
      "21\n",
      "19\n",
      "10\n",
      "13\n",
      "5\n",
      "7\n",
      "9\n",
      "8\n",
      "14\n",
      "67\n",
      "17\n",
      "22\n",
      "15\n",
      "13\n",
      "16\n",
      "9\n",
      "11\n",
      "13\n",
      "13\n",
      "19\n",
      "11\n",
      "9\n",
      "9\n",
      "7\n",
      "13\n",
      "10\n",
      "15\n",
      "13\n",
      "8\n",
      "10\n",
      "12\n",
      "11\n",
      "13\n",
      "17\n",
      "8\n",
      "10\n",
      "17\n",
      "16\n",
      "20\n",
      "13\n",
      "8\n",
      "7\n",
      "12\n",
      "8\n",
      "8\n",
      "17\n",
      "10\n",
      "24\n",
      "10\n",
      "8\n",
      "11\n",
      "10\n",
      "12\n",
      "9\n",
      "14\n",
      "9\n",
      "8\n",
      "10\n",
      "10\n",
      "8\n",
      "13\n",
      "8\n",
      "9\n",
      "25\n",
      "10\n",
      "19\n",
      "9\n",
      "14\n",
      "13\n",
      "11\n",
      "17\n",
      "7\n",
      "10\n",
      "24\n",
      "10\n",
      "16\n",
      "10\n",
      "17\n",
      "22\n",
      "13\n",
      "29\n",
      "10\n",
      "15\n",
      "22\n",
      "12\n",
      "8\n",
      "10\n",
      "11\n",
      "11\n",
      "5\n",
      "8\n",
      "9\n",
      "7\n",
      "17\n",
      "11\n",
      "11\n",
      "12\n",
      "13\n",
      "22\n"
     ]
    }
   ],
   "source": [
    "for i, row in train_df.iloc[0:100].iterrows():\n",
    "            print(len(row['article_original']))"
   ]
  },
  {
   "cell_type": "code",
   "execution_count": null,
   "metadata": {
    "id": "Oz0CmStNl2TS"
   },
   "outputs": [],
   "source": []
  },
  {
   "cell_type": "code",
   "execution_count": null,
   "metadata": {
    "id": "FWui2_NKjbGk"
   },
   "outputs": [],
   "source": [
    "import json\n",
    "\n",
    "def create_json_files(df, path='', type=None, summary_target = 'abs'):\n",
    "    NUM_DOCS_IN_ONE_FILE = 1000\n",
    "    start_idx_list = list(range(0, len(df), NUM_DOCS_IN_ONE_FILE))\n",
    "\n",
    "    for start_idx in tqdm(start_idx_list):\n",
    "        end_idx = start_idx + NUM_DOCS_IN_ONE_FILE\n",
    "        if end_idx > len(df):\n",
    "            end_idx = len(df)  # -1로 하니 안됨...\n",
    "\n",
    "        #정렬을 위해 앞에 0 채워주기\n",
    "        length = len(str(len(test_df)))\n",
    "        start_idx_str = (length - len(str(start_idx)))*'0' + str(start_idx)\n",
    "        end_idx_str = (length - len(str(end_idx-1)))*'0' + str(end_idx-1)\n",
    "\n",
    "        file_name = os.path.join(path,f\"{type}.{start_idx_str}_{end_idx_str}.json\")\n",
    "        \n",
    "        json_list = []\n",
    "        for _, row in df.iloc[start_idx:end_idx].iterrows():\n",
    "            original_sents_list = [preprocessing(original_sent, korean_tokenizer).split()\n",
    "                                    for original_sent in row['article_original']]\n",
    "\n",
    "            if summary_target == 'ext':\n",
    "                summary_sents_list = [preprocessing(original_sent, korean_tokenizer).split()\n",
    "                                    for original_sent in row['extractive_sents']] if type == 'train' else []\n",
    "            else:\n",
    "                summary_sents_list = []\n",
    "                sents_splited = kss.split_sentences(row['abstractive'])\n",
    "                if len(sents_splited) == 1:\n",
    "                    summary_sents_list = sents_splited\n",
    "                elif len(sents_splited) > 1:\n",
    "                    is_multi_sent = False\n",
    "                    for idx in range(len(sents_splited)):\n",
    "                        if sent_splited[-1] in ['.','?' ]:\n",
    "                            is_multi_sent = True\n",
    "                        else:\n",
    "                            is_multi_sent = False\n",
    "                            break\n",
    "                    if is_multi_sent:\n",
    "                        summary_sents_list.append(sents_splited)\n",
    "                else:\n",
    "                    print(\"error\")\n",
    "                    \n",
    "            \n",
    "            json_list.append({'src': original_sents_list,\n",
    "                              'tgt': summary_sents_list\n",
    "            })\n",
    "        # print(json_list)\n",
    "\n",
    "\n",
    "        json_string = json.dumps(json_list, indent=4, ensure_ascii=False)\n",
    "        #print(json_string)\n",
    "        with open(file_name, 'w') as json_file:\n",
    "            json_file.write(json_string)\n"
   ]
  },
  {
   "cell_type": "code",
   "execution_count": null,
   "metadata": {
    "id": "-E_9J10wlpLR"
   },
   "outputs": [],
   "source": []
  },
  {
   "cell_type": "code",
   "execution_count": null,
   "metadata": {
    "colab": {
     "base_uri": "https://localhost:8080/"
    },
    "id": "RsN-OPPdlx8B",
    "outputId": "8cef1d09-8417-4bd7-a377-e5be92fe9352"
   },
   "outputs": [
    {
     "name": "stdout",
     "output_type": "stream",
     "text": [
      "['평가자님, 이런 기사는 어떻게 요약하면 좋을까요?? ㅠㅠ']\n",
      "[\"그룹 신화의 에릭이 인스타그램에 영화 '라라랜드'의 촬영배경지였던 미국 허모사비치를 배경으로 '현지에서 먹힐까? 미국편' 단체복을 입은 사진과 함께 #에릭고슬링 해시태그를 덧붙이며 센스있게 게재했다.\"]\n",
      "['이연복 셰프를 중심으로 미국 현지에서 푸드트럭 장사에 도전하는 tvN 프로그램 \\'현지에서 먹힐까? 미국편\\'이 18일 밤11시 첫 방송을 앞두고 있는 가운데, 제작진이 \"이연복의 짜장면이 미국에서 통할까?\" 등 세 가지 관전 포인트를 공개했다.']\n",
      "['현대기아차는 ‘왓카 어워드(What Car? Awards)’에서 뛰어난 1회 충전 시 주행 가능 거리와 동급 최고 수준의 공간 활용성 등 최상의 상품성과 합리적인 가격으로 높은 점수를 받아 ‘올해의 차’를 비롯해 9개 부문에서 수상했다.']\n",
      "[\"엄마들이 모여 만든 미국 단체 '마더 컴퍼니'가 분노를 스스로 다스리는 법을 전하는 '화를 낼까? 화를 풀까?'라는 감정인지 교육용 동화를 출판하였다.\"]\n",
      "[\"25일 방송된 tvN '현지에서 먹힐까? 미국편'에서는 가수 존박이 최근 열린 제작발표회를 통해 가장 인상 깊었고 다시는 만들기 싫은 음식으로 이연복 셰프의 만두로 불리는 '복만두'를 꼽았다.\"]\n"
     ]
    }
   ],
   "source": [
    "summary_sents_list = []\n",
    "for abstractive in train_df['abstractive'].values:\n",
    "    sents_splited = kss.split_sentences(abstractive)\n",
    "    \n",
    "    if len(sents_splited) == 1:\n",
    "        # .이나 ?가 있는데도 kss가 분리하지 않은 문장들을 혹시나해서 살펴보니\n",
    "        # 대부분 쉼표나 가운데점 대신 .을 사용하거나 \"\" 사이 인용문구 안에 들어가있는 점들. -> 괜찮.\n",
    "        # aa = sents_splited[0].split('. ')\n",
    "        # if len(aa) > 1:\n",
    "        #     print(sents_splited)\n",
    "        summary_sents_list = sents_splited\n",
    "    elif len(sents_splited) > 1:\n",
    "        is_multi_sent = False\n",
    "        summary_sents_list = []\n",
    "        for idx in range(len(sents_splited) - 1):\n",
    "            # 두 문장 사이에 .이나 ?가 있는 경우는 그냥 붙여주기\n",
    "            if sents_splited[idx][-1] in ['.','?' ] and idx != (len(sents_splited) - 1):\n",
    "                is_multi_sent = True\n",
    "            else:\n",
    "                is_multi_sent = False\n",
    "                break\n",
    "        if is_multi_sent:\n",
    "            summary_sents_list.append(sents_splited)"
   ]
  },
  {
   "cell_type": "code",
   "execution_count": null,
   "metadata": {
    "colab": {
     "base_uri": "https://localhost:8080/",
     "height": 294,
     "referenced_widgets": [
      "a3013828eff34d23abf29d44882609de",
      "f0abbe8002c44bc9b91b514eb19cae34",
      "6450ca5bbc474c30843e979beddd99ae",
      "3c7af6bcc9a84f1aa55262ad8648ec11",
      "b0a1c4408e9a470886a60804be82644d",
      "e0daf47f80d440de843dfde7ea1d6325",
      "e122e8a746d54136984a75cafef002b4",
      "0f4b0508a7f04373a6fc02836cb396b1"
     ]
    },
    "id": "j-ElKBXdFbrD",
    "outputId": "9cfc7320-844d-4a2c-e6df-67b1fb07c630"
   },
   "outputs": [
    {
     "data": {
      "application/vnd.jupyter.widget-view+json": {
       "model_id": "a3013828eff34d23abf29d44882609de",
       "version_major": 2,
       "version_minor": 0
      },
      "text/plain": [
       "HBox(children=(FloatProgress(value=0.0, max=43.0), HTML(value='')))"
      ]
     },
     "metadata": {
      "tags": []
     },
     "output_type": "display_data"
    },
    {
     "ename": "KeyboardInterrupt",
     "evalue": "ignored",
     "output_type": "error",
     "traceback": [
      "\u001b[0;31m---------------------------------------------------------------------------\u001b[0m",
      "\u001b[0;31mKeyboardInterrupt\u001b[0m                         Traceback (most recent call last)",
      "\u001b[0;32m<ipython-input-35-4dfd05ee8ef9>\u001b[0m in \u001b[0;36m<module>\u001b[0;34m()\u001b[0m\n\u001b[0;32m----> 1\u001b[0;31m \u001b[0mcreate_json_files\u001b[0m\u001b[0;34m(\u001b[0m\u001b[0mtrain_df\u001b[0m\u001b[0;34m,\u001b[0m \u001b[0mpath\u001b[0m\u001b[0;34m=\u001b[0m\u001b[0mJSON_DATA_DIR\u001b[0m \u001b[0;34m+\u001b[0m \u001b[0;34m'/train_abs'\u001b[0m\u001b[0;34m,\u001b[0m \u001b[0mtype\u001b[0m\u001b[0;34m=\u001b[0m\u001b[0;34m'train'\u001b[0m\u001b[0;34m)\u001b[0m\u001b[0;34m\u001b[0m\u001b[0;34m\u001b[0m\u001b[0m\n\u001b[0m",
      "\u001b[0;32m<ipython-input-34-e24ea973c8e7>\u001b[0m in \u001b[0;36mcreate_json_files\u001b[0;34m(df, path, type, summary_target)\u001b[0m\n\u001b[1;32m     48\u001b[0m         \u001b[0;31m#print(json_string)\u001b[0m\u001b[0;34m\u001b[0m\u001b[0;34m\u001b[0m\u001b[0;34m\u001b[0m\u001b[0m\n\u001b[1;32m     49\u001b[0m         \u001b[0;32mwith\u001b[0m \u001b[0mopen\u001b[0m\u001b[0;34m(\u001b[0m\u001b[0mfile_name\u001b[0m\u001b[0;34m,\u001b[0m \u001b[0;34m'w'\u001b[0m\u001b[0;34m)\u001b[0m \u001b[0;32mas\u001b[0m \u001b[0mjson_file\u001b[0m\u001b[0;34m:\u001b[0m\u001b[0;34m\u001b[0m\u001b[0;34m\u001b[0m\u001b[0m\n\u001b[0;32m---> 50\u001b[0;31m             \u001b[0mjson_file\u001b[0m\u001b[0;34m.\u001b[0m\u001b[0mwrite\u001b[0m\u001b[0;34m(\u001b[0m\u001b[0mjson_string\u001b[0m\u001b[0;34m)\u001b[0m\u001b[0;34m\u001b[0m\u001b[0;34m\u001b[0m\u001b[0m\n\u001b[0m",
      "\u001b[0;31mKeyboardInterrupt\u001b[0m: "
     ]
    }
   ],
   "source": [
    "create_json_files(train_df, path=JSON_DATA_DIR + '/train_abs', type='train')"
   ]
  },
  {
   "cell_type": "code",
   "execution_count": null,
   "metadata": {
    "colab": {
     "base_uri": "https://localhost:8080/",
     "height": 67,
     "referenced_widgets": [
      "558af5b7265d48049c8479606d5d6e18",
      "0fe3e903b7444103b7b4c898f180a726",
      "68ca9c976bfc4ed89da032cc05b09d88",
      "eb5964b1f732474695afe69bf3a76005",
      "2808901963654f7a83e5aedc1f65499d",
      "8ad27d74b7ad445c8275f75cb03b2865",
      "625c3207c3cd4bfdb026e843fe9cc96d",
      "2ff30341ad134b14943208129dbed0c9"
     ]
    },
    "id": "YnrbdzBwKax9",
    "outputId": "24b7f1ff-9243-436b-ee86-35035d4a969a"
   },
   "outputs": [
    {
     "data": {
      "application/vnd.jupyter.widget-view+json": {
       "model_id": "558af5b7265d48049c8479606d5d6e18",
       "version_major": 2,
       "version_minor": 0
      },
      "text/plain": [
       "HBox(children=(FloatProgress(value=0.0), HTML(value='')))"
      ]
     },
     "metadata": {
      "tags": []
     },
     "output_type": "display_data"
    },
    {
     "name": "stdout",
     "output_type": "stream",
     "text": [
      "\n"
     ]
    }
   ],
   "source": [
    "create_json_files(test_df, path=JSON_DATA_DIR, type='test')"
   ]
  },
  {
   "cell_type": "markdown",
   "metadata": {
    "id": "MT48RO1L8e-G"
   },
   "source": [
    "#### 4. Make .json file as .pt file for BERT model "
   ]
  },
  {
   "cell_type": "code",
   "execution_count": null,
   "metadata": {
    "colab": {
     "base_uri": "https://localhost:8080/"
    },
    "id": "4WJjv6S6OU1h",
    "outputId": "39ee7203-723e-449e-86a2-ad135bc4e7dd"
   },
   "outputs": [
    {
     "name": "stdout",
     "output_type": "stream",
     "text": [
      "Requirement already satisfied: multiprocess==0.70.9 in /usr/local/lib/python3.6/dist-packages (from -r /content/drive/MyDrive/Notebooks/Projects/202011_DACON_Summarization/PreSumm/requirements.txt (line 1)) (0.70.9)\n",
      "Requirement already satisfied: numpy==1.17.2 in /usr/local/lib/python3.6/dist-packages (from -r /content/drive/MyDrive/Notebooks/Projects/202011_DACON_Summarization/PreSumm/requirements.txt (line 2)) (1.17.2)\n",
      "Requirement already satisfied: pyrouge==0.1.3 in /usr/local/lib/python3.6/dist-packages (from -r /content/drive/MyDrive/Notebooks/Projects/202011_DACON_Summarization/PreSumm/requirements.txt (line 3)) (0.1.3)\n",
      "Requirement already satisfied: pytorch-transformers==1.2.0 in /usr/local/lib/python3.6/dist-packages (from -r /content/drive/MyDrive/Notebooks/Projects/202011_DACON_Summarization/PreSumm/requirements.txt (line 4)) (1.2.0)\n",
      "Requirement already satisfied: tensorboardX==1.9 in /usr/local/lib/python3.6/dist-packages (from -r /content/drive/MyDrive/Notebooks/Projects/202011_DACON_Summarization/PreSumm/requirements.txt (line 5)) (1.9)\n",
      "Requirement already satisfied: torch==1.1.0 in /usr/local/lib/python3.6/dist-packages (from -r /content/drive/MyDrive/Notebooks/Projects/202011_DACON_Summarization/PreSumm/requirements.txt (line 6)) (1.1.0)\n",
      "Requirement already satisfied: dill>=0.3.1 in /usr/local/lib/python3.6/dist-packages (from multiprocess==0.70.9->-r /content/drive/MyDrive/Notebooks/Projects/202011_DACON_Summarization/PreSumm/requirements.txt (line 1)) (0.3.3)\n",
      "Requirement already satisfied: sentencepiece in /usr/local/lib/python3.6/dist-packages (from pytorch-transformers==1.2.0->-r /content/drive/MyDrive/Notebooks/Projects/202011_DACON_Summarization/PreSumm/requirements.txt (line 4)) (0.1.91)\n",
      "Requirement already satisfied: sacremoses in /usr/local/lib/python3.6/dist-packages (from pytorch-transformers==1.2.0->-r /content/drive/MyDrive/Notebooks/Projects/202011_DACON_Summarization/PreSumm/requirements.txt (line 4)) (0.0.43)\n",
      "Requirement already satisfied: regex in /usr/local/lib/python3.6/dist-packages (from pytorch-transformers==1.2.0->-r /content/drive/MyDrive/Notebooks/Projects/202011_DACON_Summarization/PreSumm/requirements.txt (line 4)) (2019.12.20)\n",
      "Requirement already satisfied: boto3 in /usr/local/lib/python3.6/dist-packages (from pytorch-transformers==1.2.0->-r /content/drive/MyDrive/Notebooks/Projects/202011_DACON_Summarization/PreSumm/requirements.txt (line 4)) (1.16.25)\n",
      "Requirement already satisfied: requests in /usr/local/lib/python3.6/dist-packages (from pytorch-transformers==1.2.0->-r /content/drive/MyDrive/Notebooks/Projects/202011_DACON_Summarization/PreSumm/requirements.txt (line 4)) (2.23.0)\n",
      "Requirement already satisfied: tqdm in /usr/local/lib/python3.6/dist-packages (from pytorch-transformers==1.2.0->-r /content/drive/MyDrive/Notebooks/Projects/202011_DACON_Summarization/PreSumm/requirements.txt (line 4)) (4.41.1)\n",
      "Requirement already satisfied: six in /usr/local/lib/python3.6/dist-packages (from tensorboardX==1.9->-r /content/drive/MyDrive/Notebooks/Projects/202011_DACON_Summarization/PreSumm/requirements.txt (line 5)) (1.15.0)\n",
      "Requirement already satisfied: protobuf>=3.8.0 in /usr/local/lib/python3.6/dist-packages (from tensorboardX==1.9->-r /content/drive/MyDrive/Notebooks/Projects/202011_DACON_Summarization/PreSumm/requirements.txt (line 5)) (3.12.4)\n",
      "Requirement already satisfied: click in /usr/local/lib/python3.6/dist-packages (from sacremoses->pytorch-transformers==1.2.0->-r /content/drive/MyDrive/Notebooks/Projects/202011_DACON_Summarization/PreSumm/requirements.txt (line 4)) (7.1.2)\n",
      "Requirement already satisfied: joblib in /usr/local/lib/python3.6/dist-packages (from sacremoses->pytorch-transformers==1.2.0->-r /content/drive/MyDrive/Notebooks/Projects/202011_DACON_Summarization/PreSumm/requirements.txt (line 4)) (0.17.0)\n",
      "Requirement already satisfied: s3transfer<0.4.0,>=0.3.0 in /usr/local/lib/python3.6/dist-packages (from boto3->pytorch-transformers==1.2.0->-r /content/drive/MyDrive/Notebooks/Projects/202011_DACON_Summarization/PreSumm/requirements.txt (line 4)) (0.3.3)\n",
      "Requirement already satisfied: botocore<1.20.0,>=1.19.25 in /usr/local/lib/python3.6/dist-packages (from boto3->pytorch-transformers==1.2.0->-r /content/drive/MyDrive/Notebooks/Projects/202011_DACON_Summarization/PreSumm/requirements.txt (line 4)) (1.19.25)\n",
      "Requirement already satisfied: jmespath<1.0.0,>=0.7.1 in /usr/local/lib/python3.6/dist-packages (from boto3->pytorch-transformers==1.2.0->-r /content/drive/MyDrive/Notebooks/Projects/202011_DACON_Summarization/PreSumm/requirements.txt (line 4)) (0.10.0)\n",
      "Requirement already satisfied: certifi>=2017.4.17 in /usr/local/lib/python3.6/dist-packages (from requests->pytorch-transformers==1.2.0->-r /content/drive/MyDrive/Notebooks/Projects/202011_DACON_Summarization/PreSumm/requirements.txt (line 4)) (2020.11.8)\n",
      "Requirement already satisfied: idna<3,>=2.5 in /usr/local/lib/python3.6/dist-packages (from requests->pytorch-transformers==1.2.0->-r /content/drive/MyDrive/Notebooks/Projects/202011_DACON_Summarization/PreSumm/requirements.txt (line 4)) (2.10)\n",
      "Requirement already satisfied: chardet<4,>=3.0.2 in /usr/local/lib/python3.6/dist-packages (from requests->pytorch-transformers==1.2.0->-r /content/drive/MyDrive/Notebooks/Projects/202011_DACON_Summarization/PreSumm/requirements.txt (line 4)) (3.0.4)\n",
      "Requirement already satisfied: urllib3!=1.25.0,!=1.25.1,<1.26,>=1.21.1 in /usr/local/lib/python3.6/dist-packages (from requests->pytorch-transformers==1.2.0->-r /content/drive/MyDrive/Notebooks/Projects/202011_DACON_Summarization/PreSumm/requirements.txt (line 4)) (1.24.3)\n",
      "Requirement already satisfied: setuptools in /usr/local/lib/python3.6/dist-packages (from protobuf>=3.8.0->tensorboardX==1.9->-r /content/drive/MyDrive/Notebooks/Projects/202011_DACON_Summarization/PreSumm/requirements.txt (line 5)) (50.3.2)\n",
      "Requirement already satisfied: python-dateutil<3.0.0,>=2.1 in /usr/local/lib/python3.6/dist-packages (from botocore<1.20.0,>=1.19.25->boto3->pytorch-transformers==1.2.0->-r /content/drive/MyDrive/Notebooks/Projects/202011_DACON_Summarization/PreSumm/requirements.txt (line 4)) (2.8.1)\n",
      "Requirement already satisfied: transformers in /usr/local/lib/python3.6/dist-packages (3.5.1)\n",
      "Requirement already satisfied: packaging in /usr/local/lib/python3.6/dist-packages (from transformers) (20.4)\n",
      "Requirement already satisfied: tokenizers==0.9.3 in /usr/local/lib/python3.6/dist-packages (from transformers) (0.9.3)\n",
      "Requirement already satisfied: sacremoses in /usr/local/lib/python3.6/dist-packages (from transformers) (0.0.43)\n",
      "Requirement already satisfied: protobuf in /usr/local/lib/python3.6/dist-packages (from transformers) (3.12.4)\n",
      "Requirement already satisfied: regex!=2019.12.17 in /usr/local/lib/python3.6/dist-packages (from transformers) (2019.12.20)\n",
      "Requirement already satisfied: filelock in /usr/local/lib/python3.6/dist-packages (from transformers) (3.0.12)\n",
      "Requirement already satisfied: tqdm>=4.27 in /usr/local/lib/python3.6/dist-packages (from transformers) (4.41.1)\n",
      "Requirement already satisfied: sentencepiece==0.1.91 in /usr/local/lib/python3.6/dist-packages (from transformers) (0.1.91)\n",
      "Requirement already satisfied: numpy in /usr/local/lib/python3.6/dist-packages (from transformers) (1.17.2)\n",
      "Requirement already satisfied: requests in /usr/local/lib/python3.6/dist-packages (from transformers) (2.23.0)\n",
      "Requirement already satisfied: dataclasses; python_version < \"3.7\" in /usr/local/lib/python3.6/dist-packages (from transformers) (0.8)\n",
      "Requirement already satisfied: six in /usr/local/lib/python3.6/dist-packages (from packaging->transformers) (1.15.0)\n",
      "Requirement already satisfied: pyparsing>=2.0.2 in /usr/local/lib/python3.6/dist-packages (from packaging->transformers) (2.4.7)\n",
      "Requirement already satisfied: joblib in /usr/local/lib/python3.6/dist-packages (from sacremoses->transformers) (0.17.0)\n",
      "Requirement already satisfied: click in /usr/local/lib/python3.6/dist-packages (from sacremoses->transformers) (7.1.2)\n",
      "Requirement already satisfied: setuptools in /usr/local/lib/python3.6/dist-packages (from protobuf->transformers) (50.3.2)\n",
      "Requirement already satisfied: certifi>=2017.4.17 in /usr/local/lib/python3.6/dist-packages (from requests->transformers) (2020.11.8)\n",
      "Requirement already satisfied: chardet<4,>=3.0.2 in /usr/local/lib/python3.6/dist-packages (from requests->transformers) (3.0.4)\n",
      "Requirement already satisfied: urllib3!=1.25.0,!=1.25.1,<1.26,>=1.21.1 in /usr/local/lib/python3.6/dist-packages (from requests->transformers) (1.24.3)\n",
      "Requirement already satisfied: idna<3,>=2.5 in /usr/local/lib/python3.6/dist-packages (from requests->transformers) (2.10)\n"
     ]
    }
   ],
   "source": [
    "!pip install -r $PreSumm_DIR/requirements.txt\n",
    "!pip install transformers"
   ]
  },
  {
   "cell_type": "code",
   "execution_count": null,
   "metadata": {
    "colab": {
     "base_uri": "https://localhost:8080/"
    },
    "id": "7rHsY_Xpi1Ld",
    "outputId": "3f1a84b9-f884-4946-b4a2-36479279ebf8"
   },
   "outputs": [
    {
     "name": "stdout",
     "output_type": "stream",
     "text": [
      "Traceback (most recent call last):\n",
      "  File \"preprocess.py\", line 8, in <module>\n",
      "    from prepro import data_builder\n",
      "  File \"/content/drive/MyDrive/Notebooks/Projects/202011_DACON_Summarization/PreSumm/src/prepro/data_builder.py\", line 18, in <module>\n",
      "    from others.tokenization_kobert import KoBertTokenizer\n",
      "  File \"/content/drive/MyDrive/Notebooks/Projects/202011_DACON_Summarization/PreSumm/src/others/tokenization_kobert.py\", line 23, in <module>\n",
      "    from transformers import PreTrainedTokenizer\n",
      "ModuleNotFoundError: No module named 'transformers'\n"
     ]
    }
   ],
   "source": [
    "import os\n",
    "os.chdir(PreSumm_DIR + '/src/')\n",
    "\n",
    "# 동일한 파일명 존재하면 덮어쓰는게 아니라 넘어감\n",
    "!python preprocess.py -mode format_to_bert \\\n",
    "                        -raw_path $JSON_DATA_DIR/train_abs -save_path $BERT_DATA_DIR/train_abs  -lower -n_cpus 1 -log_file $LOG_FILE \\\n",
    "                        -dataset train"
   ]
  },
  {
   "cell_type": "code",
   "execution_count": null,
   "metadata": {
    "colab": {
     "base_uri": "https://localhost:8080/"
    },
    "id": "g0yPKgqAKtKz",
    "outputId": "8e54e4e6-fd56-495b-d4c0-6f2e75d45078"
   },
   "outputs": [
    {
     "name": "stdout",
     "output_type": "stream",
     "text": [
      "2020-11-30 05:25:04.736700: I tensorflow/stream_executor/platform/default/dso_loader.cc:48] Successfully opened dynamic library libcudart.so.10.1\n",
      "[('test', '/content/drive/MyDrive/Notebooks/Projects/202011_DACON_Summarization/PreSumm/data/json_data/test.0000_0099.json', Namespace(dataset='test', log_file='/content/drive/MyDrive/Notebooks/Projects/202011_DACON_Summarization/PreSumm/logs/ext_bert.log', lower=True, map_path='../../data/', max_src_nsents=100, max_src_ntokens_per_sent=200, max_tgt_ntokens=500, min_src_nsents=3, min_src_ntokens_per_sent=5, min_tgt_ntokens=5, mode='format_to_bert', n_cpus=1, pretrained_model='bert', raw_path='/content/drive/MyDrive/Notebooks/Projects/202011_DACON_Summarization/PreSumm/data/json_data', save_path='/content/drive/MyDrive/Notebooks/Projects/202011_DACON_Summarization/PreSumm/data/bert_data', select_mode='greedy', shard_size=2000, use_bert_basic_tokenizer=False), '/content/drive/MyDrive/Notebooks/Projects/202011_DACON_Summarization/PreSumm/data/bert_data/test.0000_0099.bert.pt'), ('test', '/content/drive/MyDrive/Notebooks/Projects/202011_DACON_Summarization/PreSumm/data/json_data/test.0800_0899.json', Namespace(dataset='test', log_file='/content/drive/MyDrive/Notebooks/Projects/202011_DACON_Summarization/PreSumm/logs/ext_bert.log', lower=True, map_path='../../data/', max_src_nsents=100, max_src_ntokens_per_sent=200, max_tgt_ntokens=500, min_src_nsents=3, min_src_ntokens_per_sent=5, min_tgt_ntokens=5, mode='format_to_bert', n_cpus=1, pretrained_model='bert', raw_path='/content/drive/MyDrive/Notebooks/Projects/202011_DACON_Summarization/PreSumm/data/json_data', save_path='/content/drive/MyDrive/Notebooks/Projects/202011_DACON_Summarization/PreSumm/data/bert_data', select_mode='greedy', shard_size=2000, use_bert_basic_tokenizer=False), '/content/drive/MyDrive/Notebooks/Projects/202011_DACON_Summarization/PreSumm/data/bert_data/test.0800_0899.bert.pt'), ('test', '/content/drive/MyDrive/Notebooks/Projects/202011_DACON_Summarization/PreSumm/data/json_data/test.0900_0999.json', Namespace(dataset='test', log_file='/content/drive/MyDrive/Notebooks/Projects/202011_DACON_Summarization/PreSumm/logs/ext_bert.log', lower=True, map_path='../../data/', max_src_nsents=100, max_src_ntokens_per_sent=200, max_tgt_ntokens=500, min_src_nsents=3, min_src_ntokens_per_sent=5, min_tgt_ntokens=5, mode='format_to_bert', n_cpus=1, pretrained_model='bert', raw_path='/content/drive/MyDrive/Notebooks/Projects/202011_DACON_Summarization/PreSumm/data/json_data', save_path='/content/drive/MyDrive/Notebooks/Projects/202011_DACON_Summarization/PreSumm/data/bert_data', select_mode='greedy', shard_size=2000, use_bert_basic_tokenizer=False), '/content/drive/MyDrive/Notebooks/Projects/202011_DACON_Summarization/PreSumm/data/bert_data/test.0900_0999.bert.pt'), ('test', '/content/drive/MyDrive/Notebooks/Projects/202011_DACON_Summarization/PreSumm/data/json_data/test.1000_1099.json', Namespace(dataset='test', log_file='/content/drive/MyDrive/Notebooks/Projects/202011_DACON_Summarization/PreSumm/logs/ext_bert.log', lower=True, map_path='../../data/', max_src_nsents=100, max_src_ntokens_per_sent=200, max_tgt_ntokens=500, min_src_nsents=3, min_src_ntokens_per_sent=5, min_tgt_ntokens=5, mode='format_to_bert', n_cpus=1, pretrained_model='bert', raw_path='/content/drive/MyDrive/Notebooks/Projects/202011_DACON_Summarization/PreSumm/data/json_data', save_path='/content/drive/MyDrive/Notebooks/Projects/202011_DACON_Summarization/PreSumm/data/bert_data', select_mode='greedy', shard_size=2000, use_bert_basic_tokenizer=False), '/content/drive/MyDrive/Notebooks/Projects/202011_DACON_Summarization/PreSumm/data/bert_data/test.1000_1099.bert.pt'), ('test', '/content/drive/MyDrive/Notebooks/Projects/202011_DACON_Summarization/PreSumm/data/json_data/test.1100_1199.json', Namespace(dataset='test', log_file='/content/drive/MyDrive/Notebooks/Projects/202011_DACON_Summarization/PreSumm/logs/ext_bert.log', lower=True, map_path='../../data/', max_src_nsents=100, max_src_ntokens_per_sent=200, max_tgt_ntokens=500, min_src_nsents=3, min_src_ntokens_per_sent=5, min_tgt_ntokens=5, mode='format_to_bert', n_cpus=1, pretrained_model='bert', raw_path='/content/drive/MyDrive/Notebooks/Projects/202011_DACON_Summarization/PreSumm/data/json_data', save_path='/content/drive/MyDrive/Notebooks/Projects/202011_DACON_Summarization/PreSumm/data/bert_data', select_mode='greedy', shard_size=2000, use_bert_basic_tokenizer=False), '/content/drive/MyDrive/Notebooks/Projects/202011_DACON_Summarization/PreSumm/data/bert_data/test.1100_1199.bert.pt'), ('test', '/content/drive/MyDrive/Notebooks/Projects/202011_DACON_Summarization/PreSumm/data/json_data/test.1200_1299.json', Namespace(dataset='test', log_file='/content/drive/MyDrive/Notebooks/Projects/202011_DACON_Summarization/PreSumm/logs/ext_bert.log', lower=True, map_path='../../data/', max_src_nsents=100, max_src_ntokens_per_sent=200, max_tgt_ntokens=500, min_src_nsents=3, min_src_ntokens_per_sent=5, min_tgt_ntokens=5, mode='format_to_bert', n_cpus=1, pretrained_model='bert', raw_path='/content/drive/MyDrive/Notebooks/Projects/202011_DACON_Summarization/PreSumm/data/json_data', save_path='/content/drive/MyDrive/Notebooks/Projects/202011_DACON_Summarization/PreSumm/data/bert_data', select_mode='greedy', shard_size=2000, use_bert_basic_tokenizer=False), '/content/drive/MyDrive/Notebooks/Projects/202011_DACON_Summarization/PreSumm/data/bert_data/test.1200_1299.bert.pt'), ('test', '/content/drive/MyDrive/Notebooks/Projects/202011_DACON_Summarization/PreSumm/data/json_data/test.1300_1399.json', Namespace(dataset='test', log_file='/content/drive/MyDrive/Notebooks/Projects/202011_DACON_Summarization/PreSumm/logs/ext_bert.log', lower=True, map_path='../../data/', max_src_nsents=100, max_src_ntokens_per_sent=200, max_tgt_ntokens=500, min_src_nsents=3, min_src_ntokens_per_sent=5, min_tgt_ntokens=5, mode='format_to_bert', n_cpus=1, pretrained_model='bert', raw_path='/content/drive/MyDrive/Notebooks/Projects/202011_DACON_Summarization/PreSumm/data/json_data', save_path='/content/drive/MyDrive/Notebooks/Projects/202011_DACON_Summarization/PreSumm/data/bert_data', select_mode='greedy', shard_size=2000, use_bert_basic_tokenizer=False), '/content/drive/MyDrive/Notebooks/Projects/202011_DACON_Summarization/PreSumm/data/bert_data/test.1300_1399.bert.pt'), ('test', '/content/drive/MyDrive/Notebooks/Projects/202011_DACON_Summarization/PreSumm/data/json_data/test.1400_1499.json', Namespace(dataset='test', log_file='/content/drive/MyDrive/Notebooks/Projects/202011_DACON_Summarization/PreSumm/logs/ext_bert.log', lower=True, map_path='../../data/', max_src_nsents=100, max_src_ntokens_per_sent=200, max_tgt_ntokens=500, min_src_nsents=3, min_src_ntokens_per_sent=5, min_tgt_ntokens=5, mode='format_to_bert', n_cpus=1, pretrained_model='bert', raw_path='/content/drive/MyDrive/Notebooks/Projects/202011_DACON_Summarization/PreSumm/data/json_data', save_path='/content/drive/MyDrive/Notebooks/Projects/202011_DACON_Summarization/PreSumm/data/bert_data', select_mode='greedy', shard_size=2000, use_bert_basic_tokenizer=False), '/content/drive/MyDrive/Notebooks/Projects/202011_DACON_Summarization/PreSumm/data/bert_data/test.1400_1499.bert.pt'), ('test', '/content/drive/MyDrive/Notebooks/Projects/202011_DACON_Summarization/PreSumm/data/json_data/test.1500_1599.json', Namespace(dataset='test', log_file='/content/drive/MyDrive/Notebooks/Projects/202011_DACON_Summarization/PreSumm/logs/ext_bert.log', lower=True, map_path='../../data/', max_src_nsents=100, max_src_ntokens_per_sent=200, max_tgt_ntokens=500, min_src_nsents=3, min_src_ntokens_per_sent=5, min_tgt_ntokens=5, mode='format_to_bert', n_cpus=1, pretrained_model='bert', raw_path='/content/drive/MyDrive/Notebooks/Projects/202011_DACON_Summarization/PreSumm/data/json_data', save_path='/content/drive/MyDrive/Notebooks/Projects/202011_DACON_Summarization/PreSumm/data/bert_data', select_mode='greedy', shard_size=2000, use_bert_basic_tokenizer=False), '/content/drive/MyDrive/Notebooks/Projects/202011_DACON_Summarization/PreSumm/data/bert_data/test.1500_1599.bert.pt'), ('test', '/content/drive/MyDrive/Notebooks/Projects/202011_DACON_Summarization/PreSumm/data/json_data/test.1600_1699.json', Namespace(dataset='test', log_file='/content/drive/MyDrive/Notebooks/Projects/202011_DACON_Summarization/PreSumm/logs/ext_bert.log', lower=True, map_path='../../data/', max_src_nsents=100, max_src_ntokens_per_sent=200, max_tgt_ntokens=500, min_src_nsents=3, min_src_ntokens_per_sent=5, min_tgt_ntokens=5, mode='format_to_bert', n_cpus=1, pretrained_model='bert', raw_path='/content/drive/MyDrive/Notebooks/Projects/202011_DACON_Summarization/PreSumm/data/json_data', save_path='/content/drive/MyDrive/Notebooks/Projects/202011_DACON_Summarization/PreSumm/data/bert_data', select_mode='greedy', shard_size=2000, use_bert_basic_tokenizer=False), '/content/drive/MyDrive/Notebooks/Projects/202011_DACON_Summarization/PreSumm/data/bert_data/test.1600_1699.bert.pt'), ('test', '/content/drive/MyDrive/Notebooks/Projects/202011_DACON_Summarization/PreSumm/data/json_data/test.1700_1799.json', Namespace(dataset='test', log_file='/content/drive/MyDrive/Notebooks/Projects/202011_DACON_Summarization/PreSumm/logs/ext_bert.log', lower=True, map_path='../../data/', max_src_nsents=100, max_src_ntokens_per_sent=200, max_tgt_ntokens=500, min_src_nsents=3, min_src_ntokens_per_sent=5, min_tgt_ntokens=5, mode='format_to_bert', n_cpus=1, pretrained_model='bert', raw_path='/content/drive/MyDrive/Notebooks/Projects/202011_DACON_Summarization/PreSumm/data/json_data', save_path='/content/drive/MyDrive/Notebooks/Projects/202011_DACON_Summarization/PreSumm/data/bert_data', select_mode='greedy', shard_size=2000, use_bert_basic_tokenizer=False), '/content/drive/MyDrive/Notebooks/Projects/202011_DACON_Summarization/PreSumm/data/bert_data/test.1700_1799.bert.pt'), ('test', '/content/drive/MyDrive/Notebooks/Projects/202011_DACON_Summarization/PreSumm/data/json_data/test.1800_1899.json', Namespace(dataset='test', log_file='/content/drive/MyDrive/Notebooks/Projects/202011_DACON_Summarization/PreSumm/logs/ext_bert.log', lower=True, map_path='../../data/', max_src_nsents=100, max_src_ntokens_per_sent=200, max_tgt_ntokens=500, min_src_nsents=3, min_src_ntokens_per_sent=5, min_tgt_ntokens=5, mode='format_to_bert', n_cpus=1, pretrained_model='bert', raw_path='/content/drive/MyDrive/Notebooks/Projects/202011_DACON_Summarization/PreSumm/data/json_data', save_path='/content/drive/MyDrive/Notebooks/Projects/202011_DACON_Summarization/PreSumm/data/bert_data', select_mode='greedy', shard_size=2000, use_bert_basic_tokenizer=False), '/content/drive/MyDrive/Notebooks/Projects/202011_DACON_Summarization/PreSumm/data/bert_data/test.1800_1899.bert.pt'), ('test', '/content/drive/MyDrive/Notebooks/Projects/202011_DACON_Summarization/PreSumm/data/json_data/test.1900_1999.json', Namespace(dataset='test', log_file='/content/drive/MyDrive/Notebooks/Projects/202011_DACON_Summarization/PreSumm/logs/ext_bert.log', lower=True, map_path='../../data/', max_src_nsents=100, max_src_ntokens_per_sent=200, max_tgt_ntokens=500, min_src_nsents=3, min_src_ntokens_per_sent=5, min_tgt_ntokens=5, mode='format_to_bert', n_cpus=1, pretrained_model='bert', raw_path='/content/drive/MyDrive/Notebooks/Projects/202011_DACON_Summarization/PreSumm/data/json_data', save_path='/content/drive/MyDrive/Notebooks/Projects/202011_DACON_Summarization/PreSumm/data/bert_data', select_mode='greedy', shard_size=2000, use_bert_basic_tokenizer=False), '/content/drive/MyDrive/Notebooks/Projects/202011_DACON_Summarization/PreSumm/data/bert_data/test.1900_1999.bert.pt'), ('test', '/content/drive/MyDrive/Notebooks/Projects/202011_DACON_Summarization/PreSumm/data/json_data/test.2000_2099.json', Namespace(dataset='test', log_file='/content/drive/MyDrive/Notebooks/Projects/202011_DACON_Summarization/PreSumm/logs/ext_bert.log', lower=True, map_path='../../data/', max_src_nsents=100, max_src_ntokens_per_sent=200, max_tgt_ntokens=500, min_src_nsents=3, min_src_ntokens_per_sent=5, min_tgt_ntokens=5, mode='format_to_bert', n_cpus=1, pretrained_model='bert', raw_path='/content/drive/MyDrive/Notebooks/Projects/202011_DACON_Summarization/PreSumm/data/json_data', save_path='/content/drive/MyDrive/Notebooks/Projects/202011_DACON_Summarization/PreSumm/data/bert_data', select_mode='greedy', shard_size=2000, use_bert_basic_tokenizer=False), '/content/drive/MyDrive/Notebooks/Projects/202011_DACON_Summarization/PreSumm/data/bert_data/test.2000_2099.bert.pt'), ('test', '/content/drive/MyDrive/Notebooks/Projects/202011_DACON_Summarization/PreSumm/data/json_data/test.2100_2199.json', Namespace(dataset='test', log_file='/content/drive/MyDrive/Notebooks/Projects/202011_DACON_Summarization/PreSumm/logs/ext_bert.log', lower=True, map_path='../../data/', max_src_nsents=100, max_src_ntokens_per_sent=200, max_tgt_ntokens=500, min_src_nsents=3, min_src_ntokens_per_sent=5, min_tgt_ntokens=5, mode='format_to_bert', n_cpus=1, pretrained_model='bert', raw_path='/content/drive/MyDrive/Notebooks/Projects/202011_DACON_Summarization/PreSumm/data/json_data', save_path='/content/drive/MyDrive/Notebooks/Projects/202011_DACON_Summarization/PreSumm/data/bert_data', select_mode='greedy', shard_size=2000, use_bert_basic_tokenizer=False), '/content/drive/MyDrive/Notebooks/Projects/202011_DACON_Summarization/PreSumm/data/bert_data/test.2100_2199.bert.pt'), ('test', '/content/drive/MyDrive/Notebooks/Projects/202011_DACON_Summarization/PreSumm/data/json_data/test.2200_2299.json', Namespace(dataset='test', log_file='/content/drive/MyDrive/Notebooks/Projects/202011_DACON_Summarization/PreSumm/logs/ext_bert.log', lower=True, map_path='../../data/', max_src_nsents=100, max_src_ntokens_per_sent=200, max_tgt_ntokens=500, min_src_nsents=3, min_src_ntokens_per_sent=5, min_tgt_ntokens=5, mode='format_to_bert', n_cpus=1, pretrained_model='bert', raw_path='/content/drive/MyDrive/Notebooks/Projects/202011_DACON_Summarization/PreSumm/data/json_data', save_path='/content/drive/MyDrive/Notebooks/Projects/202011_DACON_Summarization/PreSumm/data/bert_data', select_mode='greedy', shard_size=2000, use_bert_basic_tokenizer=False), '/content/drive/MyDrive/Notebooks/Projects/202011_DACON_Summarization/PreSumm/data/bert_data/test.2200_2299.bert.pt'), ('test', '/content/drive/MyDrive/Notebooks/Projects/202011_DACON_Summarization/PreSumm/data/json_data/test.2300_2399.json', Namespace(dataset='test', log_file='/content/drive/MyDrive/Notebooks/Projects/202011_DACON_Summarization/PreSumm/logs/ext_bert.log', lower=True, map_path='../../data/', max_src_nsents=100, max_src_ntokens_per_sent=200, max_tgt_ntokens=500, min_src_nsents=3, min_src_ntokens_per_sent=5, min_tgt_ntokens=5, mode='format_to_bert', n_cpus=1, pretrained_model='bert', raw_path='/content/drive/MyDrive/Notebooks/Projects/202011_DACON_Summarization/PreSumm/data/json_data', save_path='/content/drive/MyDrive/Notebooks/Projects/202011_DACON_Summarization/PreSumm/data/bert_data', select_mode='greedy', shard_size=2000, use_bert_basic_tokenizer=False), '/content/drive/MyDrive/Notebooks/Projects/202011_DACON_Summarization/PreSumm/data/bert_data/test.2300_2399.bert.pt'), ('test', '/content/drive/MyDrive/Notebooks/Projects/202011_DACON_Summarization/PreSumm/data/json_data/test.2400_2499.json', Namespace(dataset='test', log_file='/content/drive/MyDrive/Notebooks/Projects/202011_DACON_Summarization/PreSumm/logs/ext_bert.log', lower=True, map_path='../../data/', max_src_nsents=100, max_src_ntokens_per_sent=200, max_tgt_ntokens=500, min_src_nsents=3, min_src_ntokens_per_sent=5, min_tgt_ntokens=5, mode='format_to_bert', n_cpus=1, pretrained_model='bert', raw_path='/content/drive/MyDrive/Notebooks/Projects/202011_DACON_Summarization/PreSumm/data/json_data', save_path='/content/drive/MyDrive/Notebooks/Projects/202011_DACON_Summarization/PreSumm/data/bert_data', select_mode='greedy', shard_size=2000, use_bert_basic_tokenizer=False), '/content/drive/MyDrive/Notebooks/Projects/202011_DACON_Summarization/PreSumm/data/bert_data/test.2400_2499.bert.pt'), ('test', '/content/drive/MyDrive/Notebooks/Projects/202011_DACON_Summarization/PreSumm/data/json_data/test.2500_2599.json', Namespace(dataset='test', log_file='/content/drive/MyDrive/Notebooks/Projects/202011_DACON_Summarization/PreSumm/logs/ext_bert.log', lower=True, map_path='../../data/', max_src_nsents=100, max_src_ntokens_per_sent=200, max_tgt_ntokens=500, min_src_nsents=3, min_src_ntokens_per_sent=5, min_tgt_ntokens=5, mode='format_to_bert', n_cpus=1, pretrained_model='bert', raw_path='/content/drive/MyDrive/Notebooks/Projects/202011_DACON_Summarization/PreSumm/data/json_data', save_path='/content/drive/MyDrive/Notebooks/Projects/202011_DACON_Summarization/PreSumm/data/bert_data', select_mode='greedy', shard_size=2000, use_bert_basic_tokenizer=False), '/content/drive/MyDrive/Notebooks/Projects/202011_DACON_Summarization/PreSumm/data/bert_data/test.2500_2599.bert.pt'), ('test', '/content/drive/MyDrive/Notebooks/Projects/202011_DACON_Summarization/PreSumm/data/json_data/test.2600_2699.json', Namespace(dataset='test', log_file='/content/drive/MyDrive/Notebooks/Projects/202011_DACON_Summarization/PreSumm/logs/ext_bert.log', lower=True, map_path='../../data/', max_src_nsents=100, max_src_ntokens_per_sent=200, max_tgt_ntokens=500, min_src_nsents=3, min_src_ntokens_per_sent=5, min_tgt_ntokens=5, mode='format_to_bert', n_cpus=1, pretrained_model='bert', raw_path='/content/drive/MyDrive/Notebooks/Projects/202011_DACON_Summarization/PreSumm/data/json_data', save_path='/content/drive/MyDrive/Notebooks/Projects/202011_DACON_Summarization/PreSumm/data/bert_data', select_mode='greedy', shard_size=2000, use_bert_basic_tokenizer=False), '/content/drive/MyDrive/Notebooks/Projects/202011_DACON_Summarization/PreSumm/data/bert_data/test.2600_2699.bert.pt'), ('test', '/content/drive/MyDrive/Notebooks/Projects/202011_DACON_Summarization/PreSumm/data/json_data/test.2700_2799.json', Namespace(dataset='test', log_file='/content/drive/MyDrive/Notebooks/Projects/202011_DACON_Summarization/PreSumm/logs/ext_bert.log', lower=True, map_path='../../data/', max_src_nsents=100, max_src_ntokens_per_sent=200, max_tgt_ntokens=500, min_src_nsents=3, min_src_ntokens_per_sent=5, min_tgt_ntokens=5, mode='format_to_bert', n_cpus=1, pretrained_model='bert', raw_path='/content/drive/MyDrive/Notebooks/Projects/202011_DACON_Summarization/PreSumm/data/json_data', save_path='/content/drive/MyDrive/Notebooks/Projects/202011_DACON_Summarization/PreSumm/data/bert_data', select_mode='greedy', shard_size=2000, use_bert_basic_tokenizer=False), '/content/drive/MyDrive/Notebooks/Projects/202011_DACON_Summarization/PreSumm/data/bert_data/test.2700_2799.bert.pt'), ('test', '/content/drive/MyDrive/Notebooks/Projects/202011_DACON_Summarization/PreSumm/data/json_data/test.2800_2899.json', Namespace(dataset='test', log_file='/content/drive/MyDrive/Notebooks/Projects/202011_DACON_Summarization/PreSumm/logs/ext_bert.log', lower=True, map_path='../../data/', max_src_nsents=100, max_src_ntokens_per_sent=200, max_tgt_ntokens=500, min_src_nsents=3, min_src_ntokens_per_sent=5, min_tgt_ntokens=5, mode='format_to_bert', n_cpus=1, pretrained_model='bert', raw_path='/content/drive/MyDrive/Notebooks/Projects/202011_DACON_Summarization/PreSumm/data/json_data', save_path='/content/drive/MyDrive/Notebooks/Projects/202011_DACON_Summarization/PreSumm/data/bert_data', select_mode='greedy', shard_size=2000, use_bert_basic_tokenizer=False), '/content/drive/MyDrive/Notebooks/Projects/202011_DACON_Summarization/PreSumm/data/bert_data/test.2800_2899.bert.pt'), ('test', '/content/drive/MyDrive/Notebooks/Projects/202011_DACON_Summarization/PreSumm/data/json_data/test.2900_2999.json', Namespace(dataset='test', log_file='/content/drive/MyDrive/Notebooks/Projects/202011_DACON_Summarization/PreSumm/logs/ext_bert.log', lower=True, map_path='../../data/', max_src_nsents=100, max_src_ntokens_per_sent=200, max_tgt_ntokens=500, min_src_nsents=3, min_src_ntokens_per_sent=5, min_tgt_ntokens=5, mode='format_to_bert', n_cpus=1, pretrained_model='bert', raw_path='/content/drive/MyDrive/Notebooks/Projects/202011_DACON_Summarization/PreSumm/data/json_data', save_path='/content/drive/MyDrive/Notebooks/Projects/202011_DACON_Summarization/PreSumm/data/bert_data', select_mode='greedy', shard_size=2000, use_bert_basic_tokenizer=False), '/content/drive/MyDrive/Notebooks/Projects/202011_DACON_Summarization/PreSumm/data/bert_data/test.2900_2999.bert.pt'), ('test', '/content/drive/MyDrive/Notebooks/Projects/202011_DACON_Summarization/PreSumm/data/json_data/test.3000_3099.json', Namespace(dataset='test', log_file='/content/drive/MyDrive/Notebooks/Projects/202011_DACON_Summarization/PreSumm/logs/ext_bert.log', lower=True, map_path='../../data/', max_src_nsents=100, max_src_ntokens_per_sent=200, max_tgt_ntokens=500, min_src_nsents=3, min_src_ntokens_per_sent=5, min_tgt_ntokens=5, mode='format_to_bert', n_cpus=1, pretrained_model='bert', raw_path='/content/drive/MyDrive/Notebooks/Projects/202011_DACON_Summarization/PreSumm/data/json_data', save_path='/content/drive/MyDrive/Notebooks/Projects/202011_DACON_Summarization/PreSumm/data/bert_data', select_mode='greedy', shard_size=2000, use_bert_basic_tokenizer=False), '/content/drive/MyDrive/Notebooks/Projects/202011_DACON_Summarization/PreSumm/data/bert_data/test.3000_3099.bert.pt'), ('test', '/content/drive/MyDrive/Notebooks/Projects/202011_DACON_Summarization/PreSumm/data/json_data/test.3100_3199.json', Namespace(dataset='test', log_file='/content/drive/MyDrive/Notebooks/Projects/202011_DACON_Summarization/PreSumm/logs/ext_bert.log', lower=True, map_path='../../data/', max_src_nsents=100, max_src_ntokens_per_sent=200, max_tgt_ntokens=500, min_src_nsents=3, min_src_ntokens_per_sent=5, min_tgt_ntokens=5, mode='format_to_bert', n_cpus=1, pretrained_model='bert', raw_path='/content/drive/MyDrive/Notebooks/Projects/202011_DACON_Summarization/PreSumm/data/json_data', save_path='/content/drive/MyDrive/Notebooks/Projects/202011_DACON_Summarization/PreSumm/data/bert_data', select_mode='greedy', shard_size=2000, use_bert_basic_tokenizer=False), '/content/drive/MyDrive/Notebooks/Projects/202011_DACON_Summarization/PreSumm/data/bert_data/test.3100_3199.bert.pt'), ('test', '/content/drive/MyDrive/Notebooks/Projects/202011_DACON_Summarization/PreSumm/data/json_data/test.3200_3299.json', Namespace(dataset='test', log_file='/content/drive/MyDrive/Notebooks/Projects/202011_DACON_Summarization/PreSumm/logs/ext_bert.log', lower=True, map_path='../../data/', max_src_nsents=100, max_src_ntokens_per_sent=200, max_tgt_ntokens=500, min_src_nsents=3, min_src_ntokens_per_sent=5, min_tgt_ntokens=5, mode='format_to_bert', n_cpus=1, pretrained_model='bert', raw_path='/content/drive/MyDrive/Notebooks/Projects/202011_DACON_Summarization/PreSumm/data/json_data', save_path='/content/drive/MyDrive/Notebooks/Projects/202011_DACON_Summarization/PreSumm/data/bert_data', select_mode='greedy', shard_size=2000, use_bert_basic_tokenizer=False), '/content/drive/MyDrive/Notebooks/Projects/202011_DACON_Summarization/PreSumm/data/bert_data/test.3200_3299.bert.pt'), ('test', '/content/drive/MyDrive/Notebooks/Projects/202011_DACON_Summarization/PreSumm/data/json_data/test.3300_3399.json', Namespace(dataset='test', log_file='/content/drive/MyDrive/Notebooks/Projects/202011_DACON_Summarization/PreSumm/logs/ext_bert.log', lower=True, map_path='../../data/', max_src_nsents=100, max_src_ntokens_per_sent=200, max_tgt_ntokens=500, min_src_nsents=3, min_src_ntokens_per_sent=5, min_tgt_ntokens=5, mode='format_to_bert', n_cpus=1, pretrained_model='bert', raw_path='/content/drive/MyDrive/Notebooks/Projects/202011_DACON_Summarization/PreSumm/data/json_data', save_path='/content/drive/MyDrive/Notebooks/Projects/202011_DACON_Summarization/PreSumm/data/bert_data', select_mode='greedy', shard_size=2000, use_bert_basic_tokenizer=False), '/content/drive/MyDrive/Notebooks/Projects/202011_DACON_Summarization/PreSumm/data/bert_data/test.3300_3399.bert.pt'), ('test', '/content/drive/MyDrive/Notebooks/Projects/202011_DACON_Summarization/PreSumm/data/json_data/test.3400_3499.json', Namespace(dataset='test', log_file='/content/drive/MyDrive/Notebooks/Projects/202011_DACON_Summarization/PreSumm/logs/ext_bert.log', lower=True, map_path='../../data/', max_src_nsents=100, max_src_ntokens_per_sent=200, max_tgt_ntokens=500, min_src_nsents=3, min_src_ntokens_per_sent=5, min_tgt_ntokens=5, mode='format_to_bert', n_cpus=1, pretrained_model='bert', raw_path='/content/drive/MyDrive/Notebooks/Projects/202011_DACON_Summarization/PreSumm/data/json_data', save_path='/content/drive/MyDrive/Notebooks/Projects/202011_DACON_Summarization/PreSumm/data/bert_data', select_mode='greedy', shard_size=2000, use_bert_basic_tokenizer=False), '/content/drive/MyDrive/Notebooks/Projects/202011_DACON_Summarization/PreSumm/data/bert_data/test.3400_3499.bert.pt'), ('test', '/content/drive/MyDrive/Notebooks/Projects/202011_DACON_Summarization/PreSumm/data/json_data/test.3500_3599.json', Namespace(dataset='test', log_file='/content/drive/MyDrive/Notebooks/Projects/202011_DACON_Summarization/PreSumm/logs/ext_bert.log', lower=True, map_path='../../data/', max_src_nsents=100, max_src_ntokens_per_sent=200, max_tgt_ntokens=500, min_src_nsents=3, min_src_ntokens_per_sent=5, min_tgt_ntokens=5, mode='format_to_bert', n_cpus=1, pretrained_model='bert', raw_path='/content/drive/MyDrive/Notebooks/Projects/202011_DACON_Summarization/PreSumm/data/json_data', save_path='/content/drive/MyDrive/Notebooks/Projects/202011_DACON_Summarization/PreSumm/data/bert_data', select_mode='greedy', shard_size=2000, use_bert_basic_tokenizer=False), '/content/drive/MyDrive/Notebooks/Projects/202011_DACON_Summarization/PreSumm/data/bert_data/test.3500_3599.bert.pt'), ('test', '/content/drive/MyDrive/Notebooks/Projects/202011_DACON_Summarization/PreSumm/data/json_data/test.3600_3699.json', Namespace(dataset='test', log_file='/content/drive/MyDrive/Notebooks/Projects/202011_DACON_Summarization/PreSumm/logs/ext_bert.log', lower=True, map_path='../../data/', max_src_nsents=100, max_src_ntokens_per_sent=200, max_tgt_ntokens=500, min_src_nsents=3, min_src_ntokens_per_sent=5, min_tgt_ntokens=5, mode='format_to_bert', n_cpus=1, pretrained_model='bert', raw_path='/content/drive/MyDrive/Notebooks/Projects/202011_DACON_Summarization/PreSumm/data/json_data', save_path='/content/drive/MyDrive/Notebooks/Projects/202011_DACON_Summarization/PreSumm/data/bert_data', select_mode='greedy', shard_size=2000, use_bert_basic_tokenizer=False), '/content/drive/MyDrive/Notebooks/Projects/202011_DACON_Summarization/PreSumm/data/bert_data/test.3600_3699.bert.pt'), ('test', '/content/drive/MyDrive/Notebooks/Projects/202011_DACON_Summarization/PreSumm/data/json_data/test.3700_3799.json', Namespace(dataset='test', log_file='/content/drive/MyDrive/Notebooks/Projects/202011_DACON_Summarization/PreSumm/logs/ext_bert.log', lower=True, map_path='../../data/', max_src_nsents=100, max_src_ntokens_per_sent=200, max_tgt_ntokens=500, min_src_nsents=3, min_src_ntokens_per_sent=5, min_tgt_ntokens=5, mode='format_to_bert', n_cpus=1, pretrained_model='bert', raw_path='/content/drive/MyDrive/Notebooks/Projects/202011_DACON_Summarization/PreSumm/data/json_data', save_path='/content/drive/MyDrive/Notebooks/Projects/202011_DACON_Summarization/PreSumm/data/bert_data', select_mode='greedy', shard_size=2000, use_bert_basic_tokenizer=False), '/content/drive/MyDrive/Notebooks/Projects/202011_DACON_Summarization/PreSumm/data/bert_data/test.3700_3799.bert.pt'), ('test', '/content/drive/MyDrive/Notebooks/Projects/202011_DACON_Summarization/PreSumm/data/json_data/test.3800_3899.json', Namespace(dataset='test', log_file='/content/drive/MyDrive/Notebooks/Projects/202011_DACON_Summarization/PreSumm/logs/ext_bert.log', lower=True, map_path='../../data/', max_src_nsents=100, max_src_ntokens_per_sent=200, max_tgt_ntokens=500, min_src_nsents=3, min_src_ntokens_per_sent=5, min_tgt_ntokens=5, mode='format_to_bert', n_cpus=1, pretrained_model='bert', raw_path='/content/drive/MyDrive/Notebooks/Projects/202011_DACON_Summarization/PreSumm/data/json_data', save_path='/content/drive/MyDrive/Notebooks/Projects/202011_DACON_Summarization/PreSumm/data/bert_data', select_mode='greedy', shard_size=2000, use_bert_basic_tokenizer=False), '/content/drive/MyDrive/Notebooks/Projects/202011_DACON_Summarization/PreSumm/data/bert_data/test.3800_3899.bert.pt'), ('test', '/content/drive/MyDrive/Notebooks/Projects/202011_DACON_Summarization/PreSumm/data/json_data/test.3900_3999.json', Namespace(dataset='test', log_file='/content/drive/MyDrive/Notebooks/Projects/202011_DACON_Summarization/PreSumm/logs/ext_bert.log', lower=True, map_path='../../data/', max_src_nsents=100, max_src_ntokens_per_sent=200, max_tgt_ntokens=500, min_src_nsents=3, min_src_ntokens_per_sent=5, min_tgt_ntokens=5, mode='format_to_bert', n_cpus=1, pretrained_model='bert', raw_path='/content/drive/MyDrive/Notebooks/Projects/202011_DACON_Summarization/PreSumm/data/json_data', save_path='/content/drive/MyDrive/Notebooks/Projects/202011_DACON_Summarization/PreSumm/data/bert_data', select_mode='greedy', shard_size=2000, use_bert_basic_tokenizer=False), '/content/drive/MyDrive/Notebooks/Projects/202011_DACON_Summarization/PreSumm/data/bert_data/test.3900_3999.bert.pt'), ('test', '/content/drive/MyDrive/Notebooks/Projects/202011_DACON_Summarization/PreSumm/data/json_data/test.4000_4099.json', Namespace(dataset='test', log_file='/content/drive/MyDrive/Notebooks/Projects/202011_DACON_Summarization/PreSumm/logs/ext_bert.log', lower=True, map_path='../../data/', max_src_nsents=100, max_src_ntokens_per_sent=200, max_tgt_ntokens=500, min_src_nsents=3, min_src_ntokens_per_sent=5, min_tgt_ntokens=5, mode='format_to_bert', n_cpus=1, pretrained_model='bert', raw_path='/content/drive/MyDrive/Notebooks/Projects/202011_DACON_Summarization/PreSumm/data/json_data', save_path='/content/drive/MyDrive/Notebooks/Projects/202011_DACON_Summarization/PreSumm/data/bert_data', select_mode='greedy', shard_size=2000, use_bert_basic_tokenizer=False), '/content/drive/MyDrive/Notebooks/Projects/202011_DACON_Summarization/PreSumm/data/bert_data/test.4000_4099.bert.pt'), ('test', '/content/drive/MyDrive/Notebooks/Projects/202011_DACON_Summarization/PreSumm/data/json_data/test.4100_4199.json', Namespace(dataset='test', log_file='/content/drive/MyDrive/Notebooks/Projects/202011_DACON_Summarization/PreSumm/logs/ext_bert.log', lower=True, map_path='../../data/', max_src_nsents=100, max_src_ntokens_per_sent=200, max_tgt_ntokens=500, min_src_nsents=3, min_src_ntokens_per_sent=5, min_tgt_ntokens=5, mode='format_to_bert', n_cpus=1, pretrained_model='bert', raw_path='/content/drive/MyDrive/Notebooks/Projects/202011_DACON_Summarization/PreSumm/data/json_data', save_path='/content/drive/MyDrive/Notebooks/Projects/202011_DACON_Summarization/PreSumm/data/bert_data', select_mode='greedy', shard_size=2000, use_bert_basic_tokenizer=False), '/content/drive/MyDrive/Notebooks/Projects/202011_DACON_Summarization/PreSumm/data/bert_data/test.4100_4199.bert.pt'), ('test', '/content/drive/MyDrive/Notebooks/Projects/202011_DACON_Summarization/PreSumm/data/json_data/test.4200_4299.json', Namespace(dataset='test', log_file='/content/drive/MyDrive/Notebooks/Projects/202011_DACON_Summarization/PreSumm/logs/ext_bert.log', lower=True, map_path='../../data/', max_src_nsents=100, max_src_ntokens_per_sent=200, max_tgt_ntokens=500, min_src_nsents=3, min_src_ntokens_per_sent=5, min_tgt_ntokens=5, mode='format_to_bert', n_cpus=1, pretrained_model='bert', raw_path='/content/drive/MyDrive/Notebooks/Projects/202011_DACON_Summarization/PreSumm/data/json_data', save_path='/content/drive/MyDrive/Notebooks/Projects/202011_DACON_Summarization/PreSumm/data/bert_data', select_mode='greedy', shard_size=2000, use_bert_basic_tokenizer=False), '/content/drive/MyDrive/Notebooks/Projects/202011_DACON_Summarization/PreSumm/data/bert_data/test.4200_4299.bert.pt'), ('test', '/content/drive/MyDrive/Notebooks/Projects/202011_DACON_Summarization/PreSumm/data/json_data/test.4300_4399.json', Namespace(dataset='test', log_file='/content/drive/MyDrive/Notebooks/Projects/202011_DACON_Summarization/PreSumm/logs/ext_bert.log', lower=True, map_path='../../data/', max_src_nsents=100, max_src_ntokens_per_sent=200, max_tgt_ntokens=500, min_src_nsents=3, min_src_ntokens_per_sent=5, min_tgt_ntokens=5, mode='format_to_bert', n_cpus=1, pretrained_model='bert', raw_path='/content/drive/MyDrive/Notebooks/Projects/202011_DACON_Summarization/PreSumm/data/json_data', save_path='/content/drive/MyDrive/Notebooks/Projects/202011_DACON_Summarization/PreSumm/data/bert_data', select_mode='greedy', shard_size=2000, use_bert_basic_tokenizer=False), '/content/drive/MyDrive/Notebooks/Projects/202011_DACON_Summarization/PreSumm/data/bert_data/test.4300_4399.bert.pt'), ('test', '/content/drive/MyDrive/Notebooks/Projects/202011_DACON_Summarization/PreSumm/data/json_data/test.4400_4499.json', Namespace(dataset='test', log_file='/content/drive/MyDrive/Notebooks/Projects/202011_DACON_Summarization/PreSumm/logs/ext_bert.log', lower=True, map_path='../../data/', max_src_nsents=100, max_src_ntokens_per_sent=200, max_tgt_ntokens=500, min_src_nsents=3, min_src_ntokens_per_sent=5, min_tgt_ntokens=5, mode='format_to_bert', n_cpus=1, pretrained_model='bert', raw_path='/content/drive/MyDrive/Notebooks/Projects/202011_DACON_Summarization/PreSumm/data/json_data', save_path='/content/drive/MyDrive/Notebooks/Projects/202011_DACON_Summarization/PreSumm/data/bert_data', select_mode='greedy', shard_size=2000, use_bert_basic_tokenizer=False), '/content/drive/MyDrive/Notebooks/Projects/202011_DACON_Summarization/PreSumm/data/bert_data/test.4400_4499.bert.pt'), ('test', '/content/drive/MyDrive/Notebooks/Projects/202011_DACON_Summarization/PreSumm/data/json_data/test.4500_4599.json', Namespace(dataset='test', log_file='/content/drive/MyDrive/Notebooks/Projects/202011_DACON_Summarization/PreSumm/logs/ext_bert.log', lower=True, map_path='../../data/', max_src_nsents=100, max_src_ntokens_per_sent=200, max_tgt_ntokens=500, min_src_nsents=3, min_src_ntokens_per_sent=5, min_tgt_ntokens=5, mode='format_to_bert', n_cpus=1, pretrained_model='bert', raw_path='/content/drive/MyDrive/Notebooks/Projects/202011_DACON_Summarization/PreSumm/data/json_data', save_path='/content/drive/MyDrive/Notebooks/Projects/202011_DACON_Summarization/PreSumm/data/bert_data', select_mode='greedy', shard_size=2000, use_bert_basic_tokenizer=False), '/content/drive/MyDrive/Notebooks/Projects/202011_DACON_Summarization/PreSumm/data/bert_data/test.4500_4599.bert.pt'), ('test', '/content/drive/MyDrive/Notebooks/Projects/202011_DACON_Summarization/PreSumm/data/json_data/test.4600_4699.json', Namespace(dataset='test', log_file='/content/drive/MyDrive/Notebooks/Projects/202011_DACON_Summarization/PreSumm/logs/ext_bert.log', lower=True, map_path='../../data/', max_src_nsents=100, max_src_ntokens_per_sent=200, max_tgt_ntokens=500, min_src_nsents=3, min_src_ntokens_per_sent=5, min_tgt_ntokens=5, mode='format_to_bert', n_cpus=1, pretrained_model='bert', raw_path='/content/drive/MyDrive/Notebooks/Projects/202011_DACON_Summarization/PreSumm/data/json_data', save_path='/content/drive/MyDrive/Notebooks/Projects/202011_DACON_Summarization/PreSumm/data/bert_data', select_mode='greedy', shard_size=2000, use_bert_basic_tokenizer=False), '/content/drive/MyDrive/Notebooks/Projects/202011_DACON_Summarization/PreSumm/data/bert_data/test.4600_4699.bert.pt'), ('test', '/content/drive/MyDrive/Notebooks/Projects/202011_DACON_Summarization/PreSumm/data/json_data/test.4700_4799.json', Namespace(dataset='test', log_file='/content/drive/MyDrive/Notebooks/Projects/202011_DACON_Summarization/PreSumm/logs/ext_bert.log', lower=True, map_path='../../data/', max_src_nsents=100, max_src_ntokens_per_sent=200, max_tgt_ntokens=500, min_src_nsents=3, min_src_ntokens_per_sent=5, min_tgt_ntokens=5, mode='format_to_bert', n_cpus=1, pretrained_model='bert', raw_path='/content/drive/MyDrive/Notebooks/Projects/202011_DACON_Summarization/PreSumm/data/json_data', save_path='/content/drive/MyDrive/Notebooks/Projects/202011_DACON_Summarization/PreSumm/data/bert_data', select_mode='greedy', shard_size=2000, use_bert_basic_tokenizer=False), '/content/drive/MyDrive/Notebooks/Projects/202011_DACON_Summarization/PreSumm/data/bert_data/test.4700_4799.bert.pt'), ('test', '/content/drive/MyDrive/Notebooks/Projects/202011_DACON_Summarization/PreSumm/data/json_data/test.4800_4899.json', Namespace(dataset='test', log_file='/content/drive/MyDrive/Notebooks/Projects/202011_DACON_Summarization/PreSumm/logs/ext_bert.log', lower=True, map_path='../../data/', max_src_nsents=100, max_src_ntokens_per_sent=200, max_tgt_ntokens=500, min_src_nsents=3, min_src_ntokens_per_sent=5, min_tgt_ntokens=5, mode='format_to_bert', n_cpus=1, pretrained_model='bert', raw_path='/content/drive/MyDrive/Notebooks/Projects/202011_DACON_Summarization/PreSumm/data/json_data', save_path='/content/drive/MyDrive/Notebooks/Projects/202011_DACON_Summarization/PreSumm/data/bert_data', select_mode='greedy', shard_size=2000, use_bert_basic_tokenizer=False), '/content/drive/MyDrive/Notebooks/Projects/202011_DACON_Summarization/PreSumm/data/bert_data/test.4800_4899.bert.pt'), ('test', '/content/drive/MyDrive/Notebooks/Projects/202011_DACON_Summarization/PreSumm/data/json_data/test.4900_4999.json', Namespace(dataset='test', log_file='/content/drive/MyDrive/Notebooks/Projects/202011_DACON_Summarization/PreSumm/logs/ext_bert.log', lower=True, map_path='../../data/', max_src_nsents=100, max_src_ntokens_per_sent=200, max_tgt_ntokens=500, min_src_nsents=3, min_src_ntokens_per_sent=5, min_tgt_ntokens=5, mode='format_to_bert', n_cpus=1, pretrained_model='bert', raw_path='/content/drive/MyDrive/Notebooks/Projects/202011_DACON_Summarization/PreSumm/data/json_data', save_path='/content/drive/MyDrive/Notebooks/Projects/202011_DACON_Summarization/PreSumm/data/bert_data', select_mode='greedy', shard_size=2000, use_bert_basic_tokenizer=False), '/content/drive/MyDrive/Notebooks/Projects/202011_DACON_Summarization/PreSumm/data/bert_data/test.4900_4999.bert.pt'), ('test', '/content/drive/MyDrive/Notebooks/Projects/202011_DACON_Summarization/PreSumm/data/json_data/test.5000_5099.json', Namespace(dataset='test', log_file='/content/drive/MyDrive/Notebooks/Projects/202011_DACON_Summarization/PreSumm/logs/ext_bert.log', lower=True, map_path='../../data/', max_src_nsents=100, max_src_ntokens_per_sent=200, max_tgt_ntokens=500, min_src_nsents=3, min_src_ntokens_per_sent=5, min_tgt_ntokens=5, mode='format_to_bert', n_cpus=1, pretrained_model='bert', raw_path='/content/drive/MyDrive/Notebooks/Projects/202011_DACON_Summarization/PreSumm/data/json_data', save_path='/content/drive/MyDrive/Notebooks/Projects/202011_DACON_Summarization/PreSumm/data/bert_data', select_mode='greedy', shard_size=2000, use_bert_basic_tokenizer=False), '/content/drive/MyDrive/Notebooks/Projects/202011_DACON_Summarization/PreSumm/data/bert_data/test.5000_5099.bert.pt'), ('test', '/content/drive/MyDrive/Notebooks/Projects/202011_DACON_Summarization/PreSumm/data/json_data/test.5100_5199.json', Namespace(dataset='test', log_file='/content/drive/MyDrive/Notebooks/Projects/202011_DACON_Summarization/PreSumm/logs/ext_bert.log', lower=True, map_path='../../data/', max_src_nsents=100, max_src_ntokens_per_sent=200, max_tgt_ntokens=500, min_src_nsents=3, min_src_ntokens_per_sent=5, min_tgt_ntokens=5, mode='format_to_bert', n_cpus=1, pretrained_model='bert', raw_path='/content/drive/MyDrive/Notebooks/Projects/202011_DACON_Summarization/PreSumm/data/json_data', save_path='/content/drive/MyDrive/Notebooks/Projects/202011_DACON_Summarization/PreSumm/data/bert_data', select_mode='greedy', shard_size=2000, use_bert_basic_tokenizer=False), '/content/drive/MyDrive/Notebooks/Projects/202011_DACON_Summarization/PreSumm/data/bert_data/test.5100_5199.bert.pt'), ('test', '/content/drive/MyDrive/Notebooks/Projects/202011_DACON_Summarization/PreSumm/data/json_data/test.5200_5299.json', Namespace(dataset='test', log_file='/content/drive/MyDrive/Notebooks/Projects/202011_DACON_Summarization/PreSumm/logs/ext_bert.log', lower=True, map_path='../../data/', max_src_nsents=100, max_src_ntokens_per_sent=200, max_tgt_ntokens=500, min_src_nsents=3, min_src_ntokens_per_sent=5, min_tgt_ntokens=5, mode='format_to_bert', n_cpus=1, pretrained_model='bert', raw_path='/content/drive/MyDrive/Notebooks/Projects/202011_DACON_Summarization/PreSumm/data/json_data', save_path='/content/drive/MyDrive/Notebooks/Projects/202011_DACON_Summarization/PreSumm/data/bert_data', select_mode='greedy', shard_size=2000, use_bert_basic_tokenizer=False), '/content/drive/MyDrive/Notebooks/Projects/202011_DACON_Summarization/PreSumm/data/bert_data/test.5200_5299.bert.pt'), ('test', '/content/drive/MyDrive/Notebooks/Projects/202011_DACON_Summarization/PreSumm/data/json_data/test.5300_5399.json', Namespace(dataset='test', log_file='/content/drive/MyDrive/Notebooks/Projects/202011_DACON_Summarization/PreSumm/logs/ext_bert.log', lower=True, map_path='../../data/', max_src_nsents=100, max_src_ntokens_per_sent=200, max_tgt_ntokens=500, min_src_nsents=3, min_src_ntokens_per_sent=5, min_tgt_ntokens=5, mode='format_to_bert', n_cpus=1, pretrained_model='bert', raw_path='/content/drive/MyDrive/Notebooks/Projects/202011_DACON_Summarization/PreSumm/data/json_data', save_path='/content/drive/MyDrive/Notebooks/Projects/202011_DACON_Summarization/PreSumm/data/bert_data', select_mode='greedy', shard_size=2000, use_bert_basic_tokenizer=False), '/content/drive/MyDrive/Notebooks/Projects/202011_DACON_Summarization/PreSumm/data/bert_data/test.5300_5399.bert.pt'), ('test', '/content/drive/MyDrive/Notebooks/Projects/202011_DACON_Summarization/PreSumm/data/json_data/test.5400_5499.json', Namespace(dataset='test', log_file='/content/drive/MyDrive/Notebooks/Projects/202011_DACON_Summarization/PreSumm/logs/ext_bert.log', lower=True, map_path='../../data/', max_src_nsents=100, max_src_ntokens_per_sent=200, max_tgt_ntokens=500, min_src_nsents=3, min_src_ntokens_per_sent=5, min_tgt_ntokens=5, mode='format_to_bert', n_cpus=1, pretrained_model='bert', raw_path='/content/drive/MyDrive/Notebooks/Projects/202011_DACON_Summarization/PreSumm/data/json_data', save_path='/content/drive/MyDrive/Notebooks/Projects/202011_DACON_Summarization/PreSumm/data/bert_data', select_mode='greedy', shard_size=2000, use_bert_basic_tokenizer=False), '/content/drive/MyDrive/Notebooks/Projects/202011_DACON_Summarization/PreSumm/data/bert_data/test.5400_5499.bert.pt'), ('test', '/content/drive/MyDrive/Notebooks/Projects/202011_DACON_Summarization/PreSumm/data/json_data/test.5500_5599.json', Namespace(dataset='test', log_file='/content/drive/MyDrive/Notebooks/Projects/202011_DACON_Summarization/PreSumm/logs/ext_bert.log', lower=True, map_path='../../data/', max_src_nsents=100, max_src_ntokens_per_sent=200, max_tgt_ntokens=500, min_src_nsents=3, min_src_ntokens_per_sent=5, min_tgt_ntokens=5, mode='format_to_bert', n_cpus=1, pretrained_model='bert', raw_path='/content/drive/MyDrive/Notebooks/Projects/202011_DACON_Summarization/PreSumm/data/json_data', save_path='/content/drive/MyDrive/Notebooks/Projects/202011_DACON_Summarization/PreSumm/data/bert_data', select_mode='greedy', shard_size=2000, use_bert_basic_tokenizer=False), '/content/drive/MyDrive/Notebooks/Projects/202011_DACON_Summarization/PreSumm/data/bert_data/test.5500_5599.bert.pt'), ('test', '/content/drive/MyDrive/Notebooks/Projects/202011_DACON_Summarization/PreSumm/data/json_data/test.5600_5699.json', Namespace(dataset='test', log_file='/content/drive/MyDrive/Notebooks/Projects/202011_DACON_Summarization/PreSumm/logs/ext_bert.log', lower=True, map_path='../../data/', max_src_nsents=100, max_src_ntokens_per_sent=200, max_tgt_ntokens=500, min_src_nsents=3, min_src_ntokens_per_sent=5, min_tgt_ntokens=5, mode='format_to_bert', n_cpus=1, pretrained_model='bert', raw_path='/content/drive/MyDrive/Notebooks/Projects/202011_DACON_Summarization/PreSumm/data/json_data', save_path='/content/drive/MyDrive/Notebooks/Projects/202011_DACON_Summarization/PreSumm/data/bert_data', select_mode='greedy', shard_size=2000, use_bert_basic_tokenizer=False), '/content/drive/MyDrive/Notebooks/Projects/202011_DACON_Summarization/PreSumm/data/bert_data/test.5600_5699.bert.pt'), ('test', '/content/drive/MyDrive/Notebooks/Projects/202011_DACON_Summarization/PreSumm/data/json_data/test.5700_5799.json', Namespace(dataset='test', log_file='/content/drive/MyDrive/Notebooks/Projects/202011_DACON_Summarization/PreSumm/logs/ext_bert.log', lower=True, map_path='../../data/', max_src_nsents=100, max_src_ntokens_per_sent=200, max_tgt_ntokens=500, min_src_nsents=3, min_src_ntokens_per_sent=5, min_tgt_ntokens=5, mode='format_to_bert', n_cpus=1, pretrained_model='bert', raw_path='/content/drive/MyDrive/Notebooks/Projects/202011_DACON_Summarization/PreSumm/data/json_data', save_path='/content/drive/MyDrive/Notebooks/Projects/202011_DACON_Summarization/PreSumm/data/bert_data', select_mode='greedy', shard_size=2000, use_bert_basic_tokenizer=False), '/content/drive/MyDrive/Notebooks/Projects/202011_DACON_Summarization/PreSumm/data/bert_data/test.5700_5799.bert.pt'), ('test', '/content/drive/MyDrive/Notebooks/Projects/202011_DACON_Summarization/PreSumm/data/json_data/test.5800_5899.json', Namespace(dataset='test', log_file='/content/drive/MyDrive/Notebooks/Projects/202011_DACON_Summarization/PreSumm/logs/ext_bert.log', lower=True, map_path='../../data/', max_src_nsents=100, max_src_ntokens_per_sent=200, max_tgt_ntokens=500, min_src_nsents=3, min_src_ntokens_per_sent=5, min_tgt_ntokens=5, mode='format_to_bert', n_cpus=1, pretrained_model='bert', raw_path='/content/drive/MyDrive/Notebooks/Projects/202011_DACON_Summarization/PreSumm/data/json_data', save_path='/content/drive/MyDrive/Notebooks/Projects/202011_DACON_Summarization/PreSumm/data/bert_data', select_mode='greedy', shard_size=2000, use_bert_basic_tokenizer=False), '/content/drive/MyDrive/Notebooks/Projects/202011_DACON_Summarization/PreSumm/data/bert_data/test.5800_5899.bert.pt'), ('test', '/content/drive/MyDrive/Notebooks/Projects/202011_DACON_Summarization/PreSumm/data/json_data/test.5900_5999.json', Namespace(dataset='test', log_file='/content/drive/MyDrive/Notebooks/Projects/202011_DACON_Summarization/PreSumm/logs/ext_bert.log', lower=True, map_path='../../data/', max_src_nsents=100, max_src_ntokens_per_sent=200, max_tgt_ntokens=500, min_src_nsents=3, min_src_ntokens_per_sent=5, min_tgt_ntokens=5, mode='format_to_bert', n_cpus=1, pretrained_model='bert', raw_path='/content/drive/MyDrive/Notebooks/Projects/202011_DACON_Summarization/PreSumm/data/json_data', save_path='/content/drive/MyDrive/Notebooks/Projects/202011_DACON_Summarization/PreSumm/data/bert_data', select_mode='greedy', shard_size=2000, use_bert_basic_tokenizer=False), '/content/drive/MyDrive/Notebooks/Projects/202011_DACON_Summarization/PreSumm/data/bert_data/test.5900_5999.bert.pt'), ('test', '/content/drive/MyDrive/Notebooks/Projects/202011_DACON_Summarization/PreSumm/data/json_data/test.6000_6099.json', Namespace(dataset='test', log_file='/content/drive/MyDrive/Notebooks/Projects/202011_DACON_Summarization/PreSumm/logs/ext_bert.log', lower=True, map_path='../../data/', max_src_nsents=100, max_src_ntokens_per_sent=200, max_tgt_ntokens=500, min_src_nsents=3, min_src_ntokens_per_sent=5, min_tgt_ntokens=5, mode='format_to_bert', n_cpus=1, pretrained_model='bert', raw_path='/content/drive/MyDrive/Notebooks/Projects/202011_DACON_Summarization/PreSumm/data/json_data', save_path='/content/drive/MyDrive/Notebooks/Projects/202011_DACON_Summarization/PreSumm/data/bert_data', select_mode='greedy', shard_size=2000, use_bert_basic_tokenizer=False), '/content/drive/MyDrive/Notebooks/Projects/202011_DACON_Summarization/PreSumm/data/bert_data/test.6000_6099.bert.pt'), ('test', '/content/drive/MyDrive/Notebooks/Projects/202011_DACON_Summarization/PreSumm/data/json_data/test.6100_6199.json', Namespace(dataset='test', log_file='/content/drive/MyDrive/Notebooks/Projects/202011_DACON_Summarization/PreSumm/logs/ext_bert.log', lower=True, map_path='../../data/', max_src_nsents=100, max_src_ntokens_per_sent=200, max_tgt_ntokens=500, min_src_nsents=3, min_src_ntokens_per_sent=5, min_tgt_ntokens=5, mode='format_to_bert', n_cpus=1, pretrained_model='bert', raw_path='/content/drive/MyDrive/Notebooks/Projects/202011_DACON_Summarization/PreSumm/data/json_data', save_path='/content/drive/MyDrive/Notebooks/Projects/202011_DACON_Summarization/PreSumm/data/bert_data', select_mode='greedy', shard_size=2000, use_bert_basic_tokenizer=False), '/content/drive/MyDrive/Notebooks/Projects/202011_DACON_Summarization/PreSumm/data/bert_data/test.6100_6199.bert.pt'), ('test', '/content/drive/MyDrive/Notebooks/Projects/202011_DACON_Summarization/PreSumm/data/json_data/test.6200_6299.json', Namespace(dataset='test', log_file='/content/drive/MyDrive/Notebooks/Projects/202011_DACON_Summarization/PreSumm/logs/ext_bert.log', lower=True, map_path='../../data/', max_src_nsents=100, max_src_ntokens_per_sent=200, max_tgt_ntokens=500, min_src_nsents=3, min_src_ntokens_per_sent=5, min_tgt_ntokens=5, mode='format_to_bert', n_cpus=1, pretrained_model='bert', raw_path='/content/drive/MyDrive/Notebooks/Projects/202011_DACON_Summarization/PreSumm/data/json_data', save_path='/content/drive/MyDrive/Notebooks/Projects/202011_DACON_Summarization/PreSumm/data/bert_data', select_mode='greedy', shard_size=2000, use_bert_basic_tokenizer=False), '/content/drive/MyDrive/Notebooks/Projects/202011_DACON_Summarization/PreSumm/data/bert_data/test.6200_6299.bert.pt'), ('test', '/content/drive/MyDrive/Notebooks/Projects/202011_DACON_Summarization/PreSumm/data/json_data/test.6300_6399.json', Namespace(dataset='test', log_file='/content/drive/MyDrive/Notebooks/Projects/202011_DACON_Summarization/PreSumm/logs/ext_bert.log', lower=True, map_path='../../data/', max_src_nsents=100, max_src_ntokens_per_sent=200, max_tgt_ntokens=500, min_src_nsents=3, min_src_ntokens_per_sent=5, min_tgt_ntokens=5, mode='format_to_bert', n_cpus=1, pretrained_model='bert', raw_path='/content/drive/MyDrive/Notebooks/Projects/202011_DACON_Summarization/PreSumm/data/json_data', save_path='/content/drive/MyDrive/Notebooks/Projects/202011_DACON_Summarization/PreSumm/data/bert_data', select_mode='greedy', shard_size=2000, use_bert_basic_tokenizer=False), '/content/drive/MyDrive/Notebooks/Projects/202011_DACON_Summarization/PreSumm/data/bert_data/test.6300_6399.bert.pt'), ('test', '/content/drive/MyDrive/Notebooks/Projects/202011_DACON_Summarization/PreSumm/data/json_data/test.6400_6499.json', Namespace(dataset='test', log_file='/content/drive/MyDrive/Notebooks/Projects/202011_DACON_Summarization/PreSumm/logs/ext_bert.log', lower=True, map_path='../../data/', max_src_nsents=100, max_src_ntokens_per_sent=200, max_tgt_ntokens=500, min_src_nsents=3, min_src_ntokens_per_sent=5, min_tgt_ntokens=5, mode='format_to_bert', n_cpus=1, pretrained_model='bert', raw_path='/content/drive/MyDrive/Notebooks/Projects/202011_DACON_Summarization/PreSumm/data/json_data', save_path='/content/drive/MyDrive/Notebooks/Projects/202011_DACON_Summarization/PreSumm/data/bert_data', select_mode='greedy', shard_size=2000, use_bert_basic_tokenizer=False), '/content/drive/MyDrive/Notebooks/Projects/202011_DACON_Summarization/PreSumm/data/bert_data/test.6400_6499.bert.pt'), ('test', '/content/drive/MyDrive/Notebooks/Projects/202011_DACON_Summarization/PreSumm/data/json_data/test.6500_6599.json', Namespace(dataset='test', log_file='/content/drive/MyDrive/Notebooks/Projects/202011_DACON_Summarization/PreSumm/logs/ext_bert.log', lower=True, map_path='../../data/', max_src_nsents=100, max_src_ntokens_per_sent=200, max_tgt_ntokens=500, min_src_nsents=3, min_src_ntokens_per_sent=5, min_tgt_ntokens=5, mode='format_to_bert', n_cpus=1, pretrained_model='bert', raw_path='/content/drive/MyDrive/Notebooks/Projects/202011_DACON_Summarization/PreSumm/data/json_data', save_path='/content/drive/MyDrive/Notebooks/Projects/202011_DACON_Summarization/PreSumm/data/bert_data', select_mode='greedy', shard_size=2000, use_bert_basic_tokenizer=False), '/content/drive/MyDrive/Notebooks/Projects/202011_DACON_Summarization/PreSumm/data/bert_data/test.6500_6599.bert.pt'), ('test', '/content/drive/MyDrive/Notebooks/Projects/202011_DACON_Summarization/PreSumm/data/json_data/test.6600_6699.json', Namespace(dataset='test', log_file='/content/drive/MyDrive/Notebooks/Projects/202011_DACON_Summarization/PreSumm/logs/ext_bert.log', lower=True, map_path='../../data/', max_src_nsents=100, max_src_ntokens_per_sent=200, max_tgt_ntokens=500, min_src_nsents=3, min_src_ntokens_per_sent=5, min_tgt_ntokens=5, mode='format_to_bert', n_cpus=1, pretrained_model='bert', raw_path='/content/drive/MyDrive/Notebooks/Projects/202011_DACON_Summarization/PreSumm/data/json_data', save_path='/content/drive/MyDrive/Notebooks/Projects/202011_DACON_Summarization/PreSumm/data/bert_data', select_mode='greedy', shard_size=2000, use_bert_basic_tokenizer=False), '/content/drive/MyDrive/Notebooks/Projects/202011_DACON_Summarization/PreSumm/data/bert_data/test.6600_6699.bert.pt'), ('test', '/content/drive/MyDrive/Notebooks/Projects/202011_DACON_Summarization/PreSumm/data/json_data/test.6700_6799.json', Namespace(dataset='test', log_file='/content/drive/MyDrive/Notebooks/Projects/202011_DACON_Summarization/PreSumm/logs/ext_bert.log', lower=True, map_path='../../data/', max_src_nsents=100, max_src_ntokens_per_sent=200, max_tgt_ntokens=500, min_src_nsents=3, min_src_ntokens_per_sent=5, min_tgt_ntokens=5, mode='format_to_bert', n_cpus=1, pretrained_model='bert', raw_path='/content/drive/MyDrive/Notebooks/Projects/202011_DACON_Summarization/PreSumm/data/json_data', save_path='/content/drive/MyDrive/Notebooks/Projects/202011_DACON_Summarization/PreSumm/data/bert_data', select_mode='greedy', shard_size=2000, use_bert_basic_tokenizer=False), '/content/drive/MyDrive/Notebooks/Projects/202011_DACON_Summarization/PreSumm/data/bert_data/test.6700_6799.bert.pt'), ('test', '/content/drive/MyDrive/Notebooks/Projects/202011_DACON_Summarization/PreSumm/data/json_data/test.6800_6899.json', Namespace(dataset='test', log_file='/content/drive/MyDrive/Notebooks/Projects/202011_DACON_Summarization/PreSumm/logs/ext_bert.log', lower=True, map_path='../../data/', max_src_nsents=100, max_src_ntokens_per_sent=200, max_tgt_ntokens=500, min_src_nsents=3, min_src_ntokens_per_sent=5, min_tgt_ntokens=5, mode='format_to_bert', n_cpus=1, pretrained_model='bert', raw_path='/content/drive/MyDrive/Notebooks/Projects/202011_DACON_Summarization/PreSumm/data/json_data', save_path='/content/drive/MyDrive/Notebooks/Projects/202011_DACON_Summarization/PreSumm/data/bert_data', select_mode='greedy', shard_size=2000, use_bert_basic_tokenizer=False), '/content/drive/MyDrive/Notebooks/Projects/202011_DACON_Summarization/PreSumm/data/bert_data/test.6800_6899.bert.pt'), ('test', '/content/drive/MyDrive/Notebooks/Projects/202011_DACON_Summarization/PreSumm/data/json_data/test.6900_6999.json', Namespace(dataset='test', log_file='/content/drive/MyDrive/Notebooks/Projects/202011_DACON_Summarization/PreSumm/logs/ext_bert.log', lower=True, map_path='../../data/', max_src_nsents=100, max_src_ntokens_per_sent=200, max_tgt_ntokens=500, min_src_nsents=3, min_src_ntokens_per_sent=5, min_tgt_ntokens=5, mode='format_to_bert', n_cpus=1, pretrained_model='bert', raw_path='/content/drive/MyDrive/Notebooks/Projects/202011_DACON_Summarization/PreSumm/data/json_data', save_path='/content/drive/MyDrive/Notebooks/Projects/202011_DACON_Summarization/PreSumm/data/bert_data', select_mode='greedy', shard_size=2000, use_bert_basic_tokenizer=False), '/content/drive/MyDrive/Notebooks/Projects/202011_DACON_Summarization/PreSumm/data/bert_data/test.6900_6999.bert.pt'), ('test', '/content/drive/MyDrive/Notebooks/Projects/202011_DACON_Summarization/PreSumm/data/json_data/test.7000_7099.json', Namespace(dataset='test', log_file='/content/drive/MyDrive/Notebooks/Projects/202011_DACON_Summarization/PreSumm/logs/ext_bert.log', lower=True, map_path='../../data/', max_src_nsents=100, max_src_ntokens_per_sent=200, max_tgt_ntokens=500, min_src_nsents=3, min_src_ntokens_per_sent=5, min_tgt_ntokens=5, mode='format_to_bert', n_cpus=1, pretrained_model='bert', raw_path='/content/drive/MyDrive/Notebooks/Projects/202011_DACON_Summarization/PreSumm/data/json_data', save_path='/content/drive/MyDrive/Notebooks/Projects/202011_DACON_Summarization/PreSumm/data/bert_data', select_mode='greedy', shard_size=2000, use_bert_basic_tokenizer=False), '/content/drive/MyDrive/Notebooks/Projects/202011_DACON_Summarization/PreSumm/data/bert_data/test.7000_7099.bert.pt'), ('test', '/content/drive/MyDrive/Notebooks/Projects/202011_DACON_Summarization/PreSumm/data/json_data/test.7100_7199.json', Namespace(dataset='test', log_file='/content/drive/MyDrive/Notebooks/Projects/202011_DACON_Summarization/PreSumm/logs/ext_bert.log', lower=True, map_path='../../data/', max_src_nsents=100, max_src_ntokens_per_sent=200, max_tgt_ntokens=500, min_src_nsents=3, min_src_ntokens_per_sent=5, min_tgt_ntokens=5, mode='format_to_bert', n_cpus=1, pretrained_model='bert', raw_path='/content/drive/MyDrive/Notebooks/Projects/202011_DACON_Summarization/PreSumm/data/json_data', save_path='/content/drive/MyDrive/Notebooks/Projects/202011_DACON_Summarization/PreSumm/data/bert_data', select_mode='greedy', shard_size=2000, use_bert_basic_tokenizer=False), '/content/drive/MyDrive/Notebooks/Projects/202011_DACON_Summarization/PreSumm/data/bert_data/test.7100_7199.bert.pt'), ('test', '/content/drive/MyDrive/Notebooks/Projects/202011_DACON_Summarization/PreSumm/data/json_data/test.7200_7299.json', Namespace(dataset='test', log_file='/content/drive/MyDrive/Notebooks/Projects/202011_DACON_Summarization/PreSumm/logs/ext_bert.log', lower=True, map_path='../../data/', max_src_nsents=100, max_src_ntokens_per_sent=200, max_tgt_ntokens=500, min_src_nsents=3, min_src_ntokens_per_sent=5, min_tgt_ntokens=5, mode='format_to_bert', n_cpus=1, pretrained_model='bert', raw_path='/content/drive/MyDrive/Notebooks/Projects/202011_DACON_Summarization/PreSumm/data/json_data', save_path='/content/drive/MyDrive/Notebooks/Projects/202011_DACON_Summarization/PreSumm/data/bert_data', select_mode='greedy', shard_size=2000, use_bert_basic_tokenizer=False), '/content/drive/MyDrive/Notebooks/Projects/202011_DACON_Summarization/PreSumm/data/bert_data/test.7200_7299.bert.pt'), ('test', '/content/drive/MyDrive/Notebooks/Projects/202011_DACON_Summarization/PreSumm/data/json_data/test.7300_7399.json', Namespace(dataset='test', log_file='/content/drive/MyDrive/Notebooks/Projects/202011_DACON_Summarization/PreSumm/logs/ext_bert.log', lower=True, map_path='../../data/', max_src_nsents=100, max_src_ntokens_per_sent=200, max_tgt_ntokens=500, min_src_nsents=3, min_src_ntokens_per_sent=5, min_tgt_ntokens=5, mode='format_to_bert', n_cpus=1, pretrained_model='bert', raw_path='/content/drive/MyDrive/Notebooks/Projects/202011_DACON_Summarization/PreSumm/data/json_data', save_path='/content/drive/MyDrive/Notebooks/Projects/202011_DACON_Summarization/PreSumm/data/bert_data', select_mode='greedy', shard_size=2000, use_bert_basic_tokenizer=False), '/content/drive/MyDrive/Notebooks/Projects/202011_DACON_Summarization/PreSumm/data/bert_data/test.7300_7399.bert.pt'), ('test', '/content/drive/MyDrive/Notebooks/Projects/202011_DACON_Summarization/PreSumm/data/json_data/test.7400_7499.json', Namespace(dataset='test', log_file='/content/drive/MyDrive/Notebooks/Projects/202011_DACON_Summarization/PreSumm/logs/ext_bert.log', lower=True, map_path='../../data/', max_src_nsents=100, max_src_ntokens_per_sent=200, max_tgt_ntokens=500, min_src_nsents=3, min_src_ntokens_per_sent=5, min_tgt_ntokens=5, mode='format_to_bert', n_cpus=1, pretrained_model='bert', raw_path='/content/drive/MyDrive/Notebooks/Projects/202011_DACON_Summarization/PreSumm/data/json_data', save_path='/content/drive/MyDrive/Notebooks/Projects/202011_DACON_Summarization/PreSumm/data/bert_data', select_mode='greedy', shard_size=2000, use_bert_basic_tokenizer=False), '/content/drive/MyDrive/Notebooks/Projects/202011_DACON_Summarization/PreSumm/data/bert_data/test.7400_7499.bert.pt'), ('test', '/content/drive/MyDrive/Notebooks/Projects/202011_DACON_Summarization/PreSumm/data/json_data/test.7500_7599.json', Namespace(dataset='test', log_file='/content/drive/MyDrive/Notebooks/Projects/202011_DACON_Summarization/PreSumm/logs/ext_bert.log', lower=True, map_path='../../data/', max_src_nsents=100, max_src_ntokens_per_sent=200, max_tgt_ntokens=500, min_src_nsents=3, min_src_ntokens_per_sent=5, min_tgt_ntokens=5, mode='format_to_bert', n_cpus=1, pretrained_model='bert', raw_path='/content/drive/MyDrive/Notebooks/Projects/202011_DACON_Summarization/PreSumm/data/json_data', save_path='/content/drive/MyDrive/Notebooks/Projects/202011_DACON_Summarization/PreSumm/data/bert_data', select_mode='greedy', shard_size=2000, use_bert_basic_tokenizer=False), '/content/drive/MyDrive/Notebooks/Projects/202011_DACON_Summarization/PreSumm/data/bert_data/test.7500_7599.bert.pt'), ('test', '/content/drive/MyDrive/Notebooks/Projects/202011_DACON_Summarization/PreSumm/data/json_data/test.7600_7699.json', Namespace(dataset='test', log_file='/content/drive/MyDrive/Notebooks/Projects/202011_DACON_Summarization/PreSumm/logs/ext_bert.log', lower=True, map_path='../../data/', max_src_nsents=100, max_src_ntokens_per_sent=200, max_tgt_ntokens=500, min_src_nsents=3, min_src_ntokens_per_sent=5, min_tgt_ntokens=5, mode='format_to_bert', n_cpus=1, pretrained_model='bert', raw_path='/content/drive/MyDrive/Notebooks/Projects/202011_DACON_Summarization/PreSumm/data/json_data', save_path='/content/drive/MyDrive/Notebooks/Projects/202011_DACON_Summarization/PreSumm/data/bert_data', select_mode='greedy', shard_size=2000, use_bert_basic_tokenizer=False), '/content/drive/MyDrive/Notebooks/Projects/202011_DACON_Summarization/PreSumm/data/bert_data/test.7600_7699.bert.pt'), ('test', '/content/drive/MyDrive/Notebooks/Projects/202011_DACON_Summarization/PreSumm/data/json_data/test.7700_7799.json', Namespace(dataset='test', log_file='/content/drive/MyDrive/Notebooks/Projects/202011_DACON_Summarization/PreSumm/logs/ext_bert.log', lower=True, map_path='../../data/', max_src_nsents=100, max_src_ntokens_per_sent=200, max_tgt_ntokens=500, min_src_nsents=3, min_src_ntokens_per_sent=5, min_tgt_ntokens=5, mode='format_to_bert', n_cpus=1, pretrained_model='bert', raw_path='/content/drive/MyDrive/Notebooks/Projects/202011_DACON_Summarization/PreSumm/data/json_data', save_path='/content/drive/MyDrive/Notebooks/Projects/202011_DACON_Summarization/PreSumm/data/bert_data', select_mode='greedy', shard_size=2000, use_bert_basic_tokenizer=False), '/content/drive/MyDrive/Notebooks/Projects/202011_DACON_Summarization/PreSumm/data/bert_data/test.7700_7799.bert.pt'), ('test', '/content/drive/MyDrive/Notebooks/Projects/202011_DACON_Summarization/PreSumm/data/json_data/test.7800_7899.json', Namespace(dataset='test', log_file='/content/drive/MyDrive/Notebooks/Projects/202011_DACON_Summarization/PreSumm/logs/ext_bert.log', lower=True, map_path='../../data/', max_src_nsents=100, max_src_ntokens_per_sent=200, max_tgt_ntokens=500, min_src_nsents=3, min_src_ntokens_per_sent=5, min_tgt_ntokens=5, mode='format_to_bert', n_cpus=1, pretrained_model='bert', raw_path='/content/drive/MyDrive/Notebooks/Projects/202011_DACON_Summarization/PreSumm/data/json_data', save_path='/content/drive/MyDrive/Notebooks/Projects/202011_DACON_Summarization/PreSumm/data/bert_data', select_mode='greedy', shard_size=2000, use_bert_basic_tokenizer=False), '/content/drive/MyDrive/Notebooks/Projects/202011_DACON_Summarization/PreSumm/data/bert_data/test.7800_7899.bert.pt'), ('test', '/content/drive/MyDrive/Notebooks/Projects/202011_DACON_Summarization/PreSumm/data/json_data/test.7900_7999.json', Namespace(dataset='test', log_file='/content/drive/MyDrive/Notebooks/Projects/202011_DACON_Summarization/PreSumm/logs/ext_bert.log', lower=True, map_path='../../data/', max_src_nsents=100, max_src_ntokens_per_sent=200, max_tgt_ntokens=500, min_src_nsents=3, min_src_ntokens_per_sent=5, min_tgt_ntokens=5, mode='format_to_bert', n_cpus=1, pretrained_model='bert', raw_path='/content/drive/MyDrive/Notebooks/Projects/202011_DACON_Summarization/PreSumm/data/json_data', save_path='/content/drive/MyDrive/Notebooks/Projects/202011_DACON_Summarization/PreSumm/data/bert_data', select_mode='greedy', shard_size=2000, use_bert_basic_tokenizer=False), '/content/drive/MyDrive/Notebooks/Projects/202011_DACON_Summarization/PreSumm/data/bert_data/test.7900_7999.bert.pt'), ('test', '/content/drive/MyDrive/Notebooks/Projects/202011_DACON_Summarization/PreSumm/data/json_data/test.8000_8099.json', Namespace(dataset='test', log_file='/content/drive/MyDrive/Notebooks/Projects/202011_DACON_Summarization/PreSumm/logs/ext_bert.log', lower=True, map_path='../../data/', max_src_nsents=100, max_src_ntokens_per_sent=200, max_tgt_ntokens=500, min_src_nsents=3, min_src_ntokens_per_sent=5, min_tgt_ntokens=5, mode='format_to_bert', n_cpus=1, pretrained_model='bert', raw_path='/content/drive/MyDrive/Notebooks/Projects/202011_DACON_Summarization/PreSumm/data/json_data', save_path='/content/drive/MyDrive/Notebooks/Projects/202011_DACON_Summarization/PreSumm/data/bert_data', select_mode='greedy', shard_size=2000, use_bert_basic_tokenizer=False), '/content/drive/MyDrive/Notebooks/Projects/202011_DACON_Summarization/PreSumm/data/bert_data/test.8000_8099.bert.pt'), ('test', '/content/drive/MyDrive/Notebooks/Projects/202011_DACON_Summarization/PreSumm/data/json_data/test.8100_8199.json', Namespace(dataset='test', log_file='/content/drive/MyDrive/Notebooks/Projects/202011_DACON_Summarization/PreSumm/logs/ext_bert.log', lower=True, map_path='../../data/', max_src_nsents=100, max_src_ntokens_per_sent=200, max_tgt_ntokens=500, min_src_nsents=3, min_src_ntokens_per_sent=5, min_tgt_ntokens=5, mode='format_to_bert', n_cpus=1, pretrained_model='bert', raw_path='/content/drive/MyDrive/Notebooks/Projects/202011_DACON_Summarization/PreSumm/data/json_data', save_path='/content/drive/MyDrive/Notebooks/Projects/202011_DACON_Summarization/PreSumm/data/bert_data', select_mode='greedy', shard_size=2000, use_bert_basic_tokenizer=False), '/content/drive/MyDrive/Notebooks/Projects/202011_DACON_Summarization/PreSumm/data/bert_data/test.8100_8199.bert.pt'), ('test', '/content/drive/MyDrive/Notebooks/Projects/202011_DACON_Summarization/PreSumm/data/json_data/test.8200_8299.json', Namespace(dataset='test', log_file='/content/drive/MyDrive/Notebooks/Projects/202011_DACON_Summarization/PreSumm/logs/ext_bert.log', lower=True, map_path='../../data/', max_src_nsents=100, max_src_ntokens_per_sent=200, max_tgt_ntokens=500, min_src_nsents=3, min_src_ntokens_per_sent=5, min_tgt_ntokens=5, mode='format_to_bert', n_cpus=1, pretrained_model='bert', raw_path='/content/drive/MyDrive/Notebooks/Projects/202011_DACON_Summarization/PreSumm/data/json_data', save_path='/content/drive/MyDrive/Notebooks/Projects/202011_DACON_Summarization/PreSumm/data/bert_data', select_mode='greedy', shard_size=2000, use_bert_basic_tokenizer=False), '/content/drive/MyDrive/Notebooks/Projects/202011_DACON_Summarization/PreSumm/data/bert_data/test.8200_8299.bert.pt'), ('test', '/content/drive/MyDrive/Notebooks/Projects/202011_DACON_Summarization/PreSumm/data/json_data/test.8300_8399.json', Namespace(dataset='test', log_file='/content/drive/MyDrive/Notebooks/Projects/202011_DACON_Summarization/PreSumm/logs/ext_bert.log', lower=True, map_path='../../data/', max_src_nsents=100, max_src_ntokens_per_sent=200, max_tgt_ntokens=500, min_src_nsents=3, min_src_ntokens_per_sent=5, min_tgt_ntokens=5, mode='format_to_bert', n_cpus=1, pretrained_model='bert', raw_path='/content/drive/MyDrive/Notebooks/Projects/202011_DACON_Summarization/PreSumm/data/json_data', save_path='/content/drive/MyDrive/Notebooks/Projects/202011_DACON_Summarization/PreSumm/data/bert_data', select_mode='greedy', shard_size=2000, use_bert_basic_tokenizer=False), '/content/drive/MyDrive/Notebooks/Projects/202011_DACON_Summarization/PreSumm/data/bert_data/test.8300_8399.bert.pt'), ('test', '/content/drive/MyDrive/Notebooks/Projects/202011_DACON_Summarization/PreSumm/data/json_data/test.8400_8499.json', Namespace(dataset='test', log_file='/content/drive/MyDrive/Notebooks/Projects/202011_DACON_Summarization/PreSumm/logs/ext_bert.log', lower=True, map_path='../../data/', max_src_nsents=100, max_src_ntokens_per_sent=200, max_tgt_ntokens=500, min_src_nsents=3, min_src_ntokens_per_sent=5, min_tgt_ntokens=5, mode='format_to_bert', n_cpus=1, pretrained_model='bert', raw_path='/content/drive/MyDrive/Notebooks/Projects/202011_DACON_Summarization/PreSumm/data/json_data', save_path='/content/drive/MyDrive/Notebooks/Projects/202011_DACON_Summarization/PreSumm/data/bert_data', select_mode='greedy', shard_size=2000, use_bert_basic_tokenizer=False), '/content/drive/MyDrive/Notebooks/Projects/202011_DACON_Summarization/PreSumm/data/bert_data/test.8400_8499.bert.pt'), ('test', '/content/drive/MyDrive/Notebooks/Projects/202011_DACON_Summarization/PreSumm/data/json_data/test.8500_8599.json', Namespace(dataset='test', log_file='/content/drive/MyDrive/Notebooks/Projects/202011_DACON_Summarization/PreSumm/logs/ext_bert.log', lower=True, map_path='../../data/', max_src_nsents=100, max_src_ntokens_per_sent=200, max_tgt_ntokens=500, min_src_nsents=3, min_src_ntokens_per_sent=5, min_tgt_ntokens=5, mode='format_to_bert', n_cpus=1, pretrained_model='bert', raw_path='/content/drive/MyDrive/Notebooks/Projects/202011_DACON_Summarization/PreSumm/data/json_data', save_path='/content/drive/MyDrive/Notebooks/Projects/202011_DACON_Summarization/PreSumm/data/bert_data', select_mode='greedy', shard_size=2000, use_bert_basic_tokenizer=False), '/content/drive/MyDrive/Notebooks/Projects/202011_DACON_Summarization/PreSumm/data/bert_data/test.8500_8599.bert.pt'), ('test', '/content/drive/MyDrive/Notebooks/Projects/202011_DACON_Summarization/PreSumm/data/json_data/test.8600_8699.json', Namespace(dataset='test', log_file='/content/drive/MyDrive/Notebooks/Projects/202011_DACON_Summarization/PreSumm/logs/ext_bert.log', lower=True, map_path='../../data/', max_src_nsents=100, max_src_ntokens_per_sent=200, max_tgt_ntokens=500, min_src_nsents=3, min_src_ntokens_per_sent=5, min_tgt_ntokens=5, mode='format_to_bert', n_cpus=1, pretrained_model='bert', raw_path='/content/drive/MyDrive/Notebooks/Projects/202011_DACON_Summarization/PreSumm/data/json_data', save_path='/content/drive/MyDrive/Notebooks/Projects/202011_DACON_Summarization/PreSumm/data/bert_data', select_mode='greedy', shard_size=2000, use_bert_basic_tokenizer=False), '/content/drive/MyDrive/Notebooks/Projects/202011_DACON_Summarization/PreSumm/data/bert_data/test.8600_8699.bert.pt'), ('test', '/content/drive/MyDrive/Notebooks/Projects/202011_DACON_Summarization/PreSumm/data/json_data/test.8700_8799.json', Namespace(dataset='test', log_file='/content/drive/MyDrive/Notebooks/Projects/202011_DACON_Summarization/PreSumm/logs/ext_bert.log', lower=True, map_path='../../data/', max_src_nsents=100, max_src_ntokens_per_sent=200, max_tgt_ntokens=500, min_src_nsents=3, min_src_ntokens_per_sent=5, min_tgt_ntokens=5, mode='format_to_bert', n_cpus=1, pretrained_model='bert', raw_path='/content/drive/MyDrive/Notebooks/Projects/202011_DACON_Summarization/PreSumm/data/json_data', save_path='/content/drive/MyDrive/Notebooks/Projects/202011_DACON_Summarization/PreSumm/data/bert_data', select_mode='greedy', shard_size=2000, use_bert_basic_tokenizer=False), '/content/drive/MyDrive/Notebooks/Projects/202011_DACON_Summarization/PreSumm/data/bert_data/test.8700_8799.bert.pt'), ('test', '/content/drive/MyDrive/Notebooks/Projects/202011_DACON_Summarization/PreSumm/data/json_data/test.8800_8899.json', Namespace(dataset='test', log_file='/content/drive/MyDrive/Notebooks/Projects/202011_DACON_Summarization/PreSumm/logs/ext_bert.log', lower=True, map_path='../../data/', max_src_nsents=100, max_src_ntokens_per_sent=200, max_tgt_ntokens=500, min_src_nsents=3, min_src_ntokens_per_sent=5, min_tgt_ntokens=5, mode='format_to_bert', n_cpus=1, pretrained_model='bert', raw_path='/content/drive/MyDrive/Notebooks/Projects/202011_DACON_Summarization/PreSumm/data/json_data', save_path='/content/drive/MyDrive/Notebooks/Projects/202011_DACON_Summarization/PreSumm/data/bert_data', select_mode='greedy', shard_size=2000, use_bert_basic_tokenizer=False), '/content/drive/MyDrive/Notebooks/Projects/202011_DACON_Summarization/PreSumm/data/bert_data/test.8800_8899.bert.pt'), ('test', '/content/drive/MyDrive/Notebooks/Projects/202011_DACON_Summarization/PreSumm/data/json_data/test.8900_8999.json', Namespace(dataset='test', log_file='/content/drive/MyDrive/Notebooks/Projects/202011_DACON_Summarization/PreSumm/logs/ext_bert.log', lower=True, map_path='../../data/', max_src_nsents=100, max_src_ntokens_per_sent=200, max_tgt_ntokens=500, min_src_nsents=3, min_src_ntokens_per_sent=5, min_tgt_ntokens=5, mode='format_to_bert', n_cpus=1, pretrained_model='bert', raw_path='/content/drive/MyDrive/Notebooks/Projects/202011_DACON_Summarization/PreSumm/data/json_data', save_path='/content/drive/MyDrive/Notebooks/Projects/202011_DACON_Summarization/PreSumm/data/bert_data', select_mode='greedy', shard_size=2000, use_bert_basic_tokenizer=False), '/content/drive/MyDrive/Notebooks/Projects/202011_DACON_Summarization/PreSumm/data/bert_data/test.8900_8999.bert.pt'), ('test', '/content/drive/MyDrive/Notebooks/Projects/202011_DACON_Summarization/PreSumm/data/json_data/test.9000_9099.json', Namespace(dataset='test', log_file='/content/drive/MyDrive/Notebooks/Projects/202011_DACON_Summarization/PreSumm/logs/ext_bert.log', lower=True, map_path='../../data/', max_src_nsents=100, max_src_ntokens_per_sent=200, max_tgt_ntokens=500, min_src_nsents=3, min_src_ntokens_per_sent=5, min_tgt_ntokens=5, mode='format_to_bert', n_cpus=1, pretrained_model='bert', raw_path='/content/drive/MyDrive/Notebooks/Projects/202011_DACON_Summarization/PreSumm/data/json_data', save_path='/content/drive/MyDrive/Notebooks/Projects/202011_DACON_Summarization/PreSumm/data/bert_data', select_mode='greedy', shard_size=2000, use_bert_basic_tokenizer=False), '/content/drive/MyDrive/Notebooks/Projects/202011_DACON_Summarization/PreSumm/data/bert_data/test.9000_9099.bert.pt'), ('test', '/content/drive/MyDrive/Notebooks/Projects/202011_DACON_Summarization/PreSumm/data/json_data/test.9100_9199.json', Namespace(dataset='test', log_file='/content/drive/MyDrive/Notebooks/Projects/202011_DACON_Summarization/PreSumm/logs/ext_bert.log', lower=True, map_path='../../data/', max_src_nsents=100, max_src_ntokens_per_sent=200, max_tgt_ntokens=500, min_src_nsents=3, min_src_ntokens_per_sent=5, min_tgt_ntokens=5, mode='format_to_bert', n_cpus=1, pretrained_model='bert', raw_path='/content/drive/MyDrive/Notebooks/Projects/202011_DACON_Summarization/PreSumm/data/json_data', save_path='/content/drive/MyDrive/Notebooks/Projects/202011_DACON_Summarization/PreSumm/data/bert_data', select_mode='greedy', shard_size=2000, use_bert_basic_tokenizer=False), '/content/drive/MyDrive/Notebooks/Projects/202011_DACON_Summarization/PreSumm/data/bert_data/test.9100_9199.bert.pt'), ('test', '/content/drive/MyDrive/Notebooks/Projects/202011_DACON_Summarization/PreSumm/data/json_data/test.9200_9299.json', Namespace(dataset='test', log_file='/content/drive/MyDrive/Notebooks/Projects/202011_DACON_Summarization/PreSumm/logs/ext_bert.log', lower=True, map_path='../../data/', max_src_nsents=100, max_src_ntokens_per_sent=200, max_tgt_ntokens=500, min_src_nsents=3, min_src_ntokens_per_sent=5, min_tgt_ntokens=5, mode='format_to_bert', n_cpus=1, pretrained_model='bert', raw_path='/content/drive/MyDrive/Notebooks/Projects/202011_DACON_Summarization/PreSumm/data/json_data', save_path='/content/drive/MyDrive/Notebooks/Projects/202011_DACON_Summarization/PreSumm/data/bert_data', select_mode='greedy', shard_size=2000, use_bert_basic_tokenizer=False), '/content/drive/MyDrive/Notebooks/Projects/202011_DACON_Summarization/PreSumm/data/bert_data/test.9200_9299.bert.pt'), ('test', '/content/drive/MyDrive/Notebooks/Projects/202011_DACON_Summarization/PreSumm/data/json_data/test.9300_9399.json', Namespace(dataset='test', log_file='/content/drive/MyDrive/Notebooks/Projects/202011_DACON_Summarization/PreSumm/logs/ext_bert.log', lower=True, map_path='../../data/', max_src_nsents=100, max_src_ntokens_per_sent=200, max_tgt_ntokens=500, min_src_nsents=3, min_src_ntokens_per_sent=5, min_tgt_ntokens=5, mode='format_to_bert', n_cpus=1, pretrained_model='bert', raw_path='/content/drive/MyDrive/Notebooks/Projects/202011_DACON_Summarization/PreSumm/data/json_data', save_path='/content/drive/MyDrive/Notebooks/Projects/202011_DACON_Summarization/PreSumm/data/bert_data', select_mode='greedy', shard_size=2000, use_bert_basic_tokenizer=False), '/content/drive/MyDrive/Notebooks/Projects/202011_DACON_Summarization/PreSumm/data/bert_data/test.9300_9399.bert.pt'), ('test', '/content/drive/MyDrive/Notebooks/Projects/202011_DACON_Summarization/PreSumm/data/json_data/test.9400_9499.json', Namespace(dataset='test', log_file='/content/drive/MyDrive/Notebooks/Projects/202011_DACON_Summarization/PreSumm/logs/ext_bert.log', lower=True, map_path='../../data/', max_src_nsents=100, max_src_ntokens_per_sent=200, max_tgt_ntokens=500, min_src_nsents=3, min_src_ntokens_per_sent=5, min_tgt_ntokens=5, mode='format_to_bert', n_cpus=1, pretrained_model='bert', raw_path='/content/drive/MyDrive/Notebooks/Projects/202011_DACON_Summarization/PreSumm/data/json_data', save_path='/content/drive/MyDrive/Notebooks/Projects/202011_DACON_Summarization/PreSumm/data/bert_data', select_mode='greedy', shard_size=2000, use_bert_basic_tokenizer=False), '/content/drive/MyDrive/Notebooks/Projects/202011_DACON_Summarization/PreSumm/data/bert_data/test.9400_9499.bert.pt'), ('test', '/content/drive/MyDrive/Notebooks/Projects/202011_DACON_Summarization/PreSumm/data/json_data/test.9500_9599.json', Namespace(dataset='test', log_file='/content/drive/MyDrive/Notebooks/Projects/202011_DACON_Summarization/PreSumm/logs/ext_bert.log', lower=True, map_path='../../data/', max_src_nsents=100, max_src_ntokens_per_sent=200, max_tgt_ntokens=500, min_src_nsents=3, min_src_ntokens_per_sent=5, min_tgt_ntokens=5, mode='format_to_bert', n_cpus=1, pretrained_model='bert', raw_path='/content/drive/MyDrive/Notebooks/Projects/202011_DACON_Summarization/PreSumm/data/json_data', save_path='/content/drive/MyDrive/Notebooks/Projects/202011_DACON_Summarization/PreSumm/data/bert_data', select_mode='greedy', shard_size=2000, use_bert_basic_tokenizer=False), '/content/drive/MyDrive/Notebooks/Projects/202011_DACON_Summarization/PreSumm/data/bert_data/test.9500_9599.bert.pt'), ('test', '/content/drive/MyDrive/Notebooks/Projects/202011_DACON_Summarization/PreSumm/data/json_data/test.9600_9699.json', Namespace(dataset='test', log_file='/content/drive/MyDrive/Notebooks/Projects/202011_DACON_Summarization/PreSumm/logs/ext_bert.log', lower=True, map_path='../../data/', max_src_nsents=100, max_src_ntokens_per_sent=200, max_tgt_ntokens=500, min_src_nsents=3, min_src_ntokens_per_sent=5, min_tgt_ntokens=5, mode='format_to_bert', n_cpus=1, pretrained_model='bert', raw_path='/content/drive/MyDrive/Notebooks/Projects/202011_DACON_Summarization/PreSumm/data/json_data', save_path='/content/drive/MyDrive/Notebooks/Projects/202011_DACON_Summarization/PreSumm/data/bert_data', select_mode='greedy', shard_size=2000, use_bert_basic_tokenizer=False), '/content/drive/MyDrive/Notebooks/Projects/202011_DACON_Summarization/PreSumm/data/bert_data/test.9600_9699.bert.pt'), ('test', '/content/drive/MyDrive/Notebooks/Projects/202011_DACON_Summarization/PreSumm/data/json_data/test.9700_9799.json', Namespace(dataset='test', log_file='/content/drive/MyDrive/Notebooks/Projects/202011_DACON_Summarization/PreSumm/logs/ext_bert.log', lower=True, map_path='../../data/', max_src_nsents=100, max_src_ntokens_per_sent=200, max_tgt_ntokens=500, min_src_nsents=3, min_src_ntokens_per_sent=5, min_tgt_ntokens=5, mode='format_to_bert', n_cpus=1, pretrained_model='bert', raw_path='/content/drive/MyDrive/Notebooks/Projects/202011_DACON_Summarization/PreSumm/data/json_data', save_path='/content/drive/MyDrive/Notebooks/Projects/202011_DACON_Summarization/PreSumm/data/bert_data', select_mode='greedy', shard_size=2000, use_bert_basic_tokenizer=False), '/content/drive/MyDrive/Notebooks/Projects/202011_DACON_Summarization/PreSumm/data/bert_data/test.9700_9799.bert.pt'), ('test', '/content/drive/MyDrive/Notebooks/Projects/202011_DACON_Summarization/PreSumm/data/json_data/test.9800_9899.json', Namespace(dataset='test', log_file='/content/drive/MyDrive/Notebooks/Projects/202011_DACON_Summarization/PreSumm/logs/ext_bert.log', lower=True, map_path='../../data/', max_src_nsents=100, max_src_ntokens_per_sent=200, max_tgt_ntokens=500, min_src_nsents=3, min_src_ntokens_per_sent=5, min_tgt_ntokens=5, mode='format_to_bert', n_cpus=1, pretrained_model='bert', raw_path='/content/drive/MyDrive/Notebooks/Projects/202011_DACON_Summarization/PreSumm/data/json_data', save_path='/content/drive/MyDrive/Notebooks/Projects/202011_DACON_Summarization/PreSumm/data/bert_data', select_mode='greedy', shard_size=2000, use_bert_basic_tokenizer=False), '/content/drive/MyDrive/Notebooks/Projects/202011_DACON_Summarization/PreSumm/data/bert_data/test.9800_9899.bert.pt'), ('test', '/content/drive/MyDrive/Notebooks/Projects/202011_DACON_Summarization/PreSumm/data/json_data/test.9900_9986.json', Namespace(dataset='test', log_file='/content/drive/MyDrive/Notebooks/Projects/202011_DACON_Summarization/PreSumm/logs/ext_bert.log', lower=True, map_path='../../data/', max_src_nsents=100, max_src_ntokens_per_sent=200, max_tgt_ntokens=500, min_src_nsents=3, min_src_ntokens_per_sent=5, min_tgt_ntokens=5, mode='format_to_bert', n_cpus=1, pretrained_model='bert', raw_path='/content/drive/MyDrive/Notebooks/Projects/202011_DACON_Summarization/PreSumm/data/json_data', save_path='/content/drive/MyDrive/Notebooks/Projects/202011_DACON_Summarization/PreSumm/data/bert_data', select_mode='greedy', shard_size=2000, use_bert_basic_tokenizer=False), '/content/drive/MyDrive/Notebooks/Projects/202011_DACON_Summarization/PreSumm/data/bert_data/test.9900_9986.bert.pt'), ('test', '/content/drive/MyDrive/Notebooks/Projects/202011_DACON_Summarization/PreSumm/data/json_data/test.0100_0199.json', Namespace(dataset='test', log_file='/content/drive/MyDrive/Notebooks/Projects/202011_DACON_Summarization/PreSumm/logs/ext_bert.log', lower=True, map_path='../../data/', max_src_nsents=100, max_src_ntokens_per_sent=200, max_tgt_ntokens=500, min_src_nsents=3, min_src_ntokens_per_sent=5, min_tgt_ntokens=5, mode='format_to_bert', n_cpus=1, pretrained_model='bert', raw_path='/content/drive/MyDrive/Notebooks/Projects/202011_DACON_Summarization/PreSumm/data/json_data', save_path='/content/drive/MyDrive/Notebooks/Projects/202011_DACON_Summarization/PreSumm/data/bert_data', select_mode='greedy', shard_size=2000, use_bert_basic_tokenizer=False), '/content/drive/MyDrive/Notebooks/Projects/202011_DACON_Summarization/PreSumm/data/bert_data/test.0100_0199.bert.pt'), ('test', '/content/drive/MyDrive/Notebooks/Projects/202011_DACON_Summarization/PreSumm/data/json_data/test.0200_0299.json', Namespace(dataset='test', log_file='/content/drive/MyDrive/Notebooks/Projects/202011_DACON_Summarization/PreSumm/logs/ext_bert.log', lower=True, map_path='../../data/', max_src_nsents=100, max_src_ntokens_per_sent=200, max_tgt_ntokens=500, min_src_nsents=3, min_src_ntokens_per_sent=5, min_tgt_ntokens=5, mode='format_to_bert', n_cpus=1, pretrained_model='bert', raw_path='/content/drive/MyDrive/Notebooks/Projects/202011_DACON_Summarization/PreSumm/data/json_data', save_path='/content/drive/MyDrive/Notebooks/Projects/202011_DACON_Summarization/PreSumm/data/bert_data', select_mode='greedy', shard_size=2000, use_bert_basic_tokenizer=False), '/content/drive/MyDrive/Notebooks/Projects/202011_DACON_Summarization/PreSumm/data/bert_data/test.0200_0299.bert.pt'), ('test', '/content/drive/MyDrive/Notebooks/Projects/202011_DACON_Summarization/PreSumm/data/json_data/test.0300_0399.json', Namespace(dataset='test', log_file='/content/drive/MyDrive/Notebooks/Projects/202011_DACON_Summarization/PreSumm/logs/ext_bert.log', lower=True, map_path='../../data/', max_src_nsents=100, max_src_ntokens_per_sent=200, max_tgt_ntokens=500, min_src_nsents=3, min_src_ntokens_per_sent=5, min_tgt_ntokens=5, mode='format_to_bert', n_cpus=1, pretrained_model='bert', raw_path='/content/drive/MyDrive/Notebooks/Projects/202011_DACON_Summarization/PreSumm/data/json_data', save_path='/content/drive/MyDrive/Notebooks/Projects/202011_DACON_Summarization/PreSumm/data/bert_data', select_mode='greedy', shard_size=2000, use_bert_basic_tokenizer=False), '/content/drive/MyDrive/Notebooks/Projects/202011_DACON_Summarization/PreSumm/data/bert_data/test.0300_0399.bert.pt'), ('test', '/content/drive/MyDrive/Notebooks/Projects/202011_DACON_Summarization/PreSumm/data/json_data/test.0400_0499.json', Namespace(dataset='test', log_file='/content/drive/MyDrive/Notebooks/Projects/202011_DACON_Summarization/PreSumm/logs/ext_bert.log', lower=True, map_path='../../data/', max_src_nsents=100, max_src_ntokens_per_sent=200, max_tgt_ntokens=500, min_src_nsents=3, min_src_ntokens_per_sent=5, min_tgt_ntokens=5, mode='format_to_bert', n_cpus=1, pretrained_model='bert', raw_path='/content/drive/MyDrive/Notebooks/Projects/202011_DACON_Summarization/PreSumm/data/json_data', save_path='/content/drive/MyDrive/Notebooks/Projects/202011_DACON_Summarization/PreSumm/data/bert_data', select_mode='greedy', shard_size=2000, use_bert_basic_tokenizer=False), '/content/drive/MyDrive/Notebooks/Projects/202011_DACON_Summarization/PreSumm/data/bert_data/test.0400_0499.bert.pt'), ('test', '/content/drive/MyDrive/Notebooks/Projects/202011_DACON_Summarization/PreSumm/data/json_data/test.0500_0599.json', Namespace(dataset='test', log_file='/content/drive/MyDrive/Notebooks/Projects/202011_DACON_Summarization/PreSumm/logs/ext_bert.log', lower=True, map_path='../../data/', max_src_nsents=100, max_src_ntokens_per_sent=200, max_tgt_ntokens=500, min_src_nsents=3, min_src_ntokens_per_sent=5, min_tgt_ntokens=5, mode='format_to_bert', n_cpus=1, pretrained_model='bert', raw_path='/content/drive/MyDrive/Notebooks/Projects/202011_DACON_Summarization/PreSumm/data/json_data', save_path='/content/drive/MyDrive/Notebooks/Projects/202011_DACON_Summarization/PreSumm/data/bert_data', select_mode='greedy', shard_size=2000, use_bert_basic_tokenizer=False), '/content/drive/MyDrive/Notebooks/Projects/202011_DACON_Summarization/PreSumm/data/bert_data/test.0500_0599.bert.pt'), ('test', '/content/drive/MyDrive/Notebooks/Projects/202011_DACON_Summarization/PreSumm/data/json_data/test.0600_0699.json', Namespace(dataset='test', log_file='/content/drive/MyDrive/Notebooks/Projects/202011_DACON_Summarization/PreSumm/logs/ext_bert.log', lower=True, map_path='../../data/', max_src_nsents=100, max_src_ntokens_per_sent=200, max_tgt_ntokens=500, min_src_nsents=3, min_src_ntokens_per_sent=5, min_tgt_ntokens=5, mode='format_to_bert', n_cpus=1, pretrained_model='bert', raw_path='/content/drive/MyDrive/Notebooks/Projects/202011_DACON_Summarization/PreSumm/data/json_data', save_path='/content/drive/MyDrive/Notebooks/Projects/202011_DACON_Summarization/PreSumm/data/bert_data', select_mode='greedy', shard_size=2000, use_bert_basic_tokenizer=False), '/content/drive/MyDrive/Notebooks/Projects/202011_DACON_Summarization/PreSumm/data/bert_data/test.0600_0699.bert.pt'), ('test', '/content/drive/MyDrive/Notebooks/Projects/202011_DACON_Summarization/PreSumm/data/json_data/test.0700_0799.json', Namespace(dataset='test', log_file='/content/drive/MyDrive/Notebooks/Projects/202011_DACON_Summarization/PreSumm/logs/ext_bert.log', lower=True, map_path='../../data/', max_src_nsents=100, max_src_ntokens_per_sent=200, max_tgt_ntokens=500, min_src_nsents=3, min_src_ntokens_per_sent=5, min_tgt_ntokens=5, mode='format_to_bert', n_cpus=1, pretrained_model='bert', raw_path='/content/drive/MyDrive/Notebooks/Projects/202011_DACON_Summarization/PreSumm/data/json_data', save_path='/content/drive/MyDrive/Notebooks/Projects/202011_DACON_Summarization/PreSumm/data/bert_data', select_mode='greedy', shard_size=2000, use_bert_basic_tokenizer=False), '/content/drive/MyDrive/Notebooks/Projects/202011_DACON_Summarization/PreSumm/data/bert_data/test.0700_0799.bert.pt')]\n",
      "[2020-11-30 05:25:07,163 INFO] Ignore /content/drive/MyDrive/Notebooks/Projects/202011_DACON_Summarization/PreSumm/data/bert_data/test.0000_0099.bert.pt\n",
      "[2020-11-30 05:25:07,410 INFO] Ignore /content/drive/MyDrive/Notebooks/Projects/202011_DACON_Summarization/PreSumm/data/bert_data/test.0800_0899.bert.pt\n",
      "[2020-11-30 05:25:07,411 INFO] Ignore /content/drive/MyDrive/Notebooks/Projects/202011_DACON_Summarization/PreSumm/data/bert_data/test.0900_0999.bert.pt\n",
      "[2020-11-30 05:25:07,412 INFO] Ignore /content/drive/MyDrive/Notebooks/Projects/202011_DACON_Summarization/PreSumm/data/bert_data/test.1000_1099.bert.pt\n",
      "[2020-11-30 05:25:07,413 INFO] Ignore /content/drive/MyDrive/Notebooks/Projects/202011_DACON_Summarization/PreSumm/data/bert_data/test.1100_1199.bert.pt\n",
      "[2020-11-30 05:25:07,413 INFO] Ignore /content/drive/MyDrive/Notebooks/Projects/202011_DACON_Summarization/PreSumm/data/bert_data/test.1200_1299.bert.pt\n",
      "[2020-11-30 05:25:07,414 INFO] Ignore /content/drive/MyDrive/Notebooks/Projects/202011_DACON_Summarization/PreSumm/data/bert_data/test.1300_1399.bert.pt\n",
      "[2020-11-30 05:25:07,415 INFO] Ignore /content/drive/MyDrive/Notebooks/Projects/202011_DACON_Summarization/PreSumm/data/bert_data/test.1400_1499.bert.pt\n",
      "[2020-11-30 05:25:07,416 INFO] Ignore /content/drive/MyDrive/Notebooks/Projects/202011_DACON_Summarization/PreSumm/data/bert_data/test.1500_1599.bert.pt\n",
      "[2020-11-30 05:25:07,416 INFO] Ignore /content/drive/MyDrive/Notebooks/Projects/202011_DACON_Summarization/PreSumm/data/bert_data/test.1600_1699.bert.pt\n",
      "[2020-11-30 05:25:07,417 INFO] Ignore /content/drive/MyDrive/Notebooks/Projects/202011_DACON_Summarization/PreSumm/data/bert_data/test.1700_1799.bert.pt\n",
      "[2020-11-30 05:25:07,418 INFO] Ignore /content/drive/MyDrive/Notebooks/Projects/202011_DACON_Summarization/PreSumm/data/bert_data/test.1800_1899.bert.pt\n",
      "[2020-11-30 05:25:07,419 INFO] Ignore /content/drive/MyDrive/Notebooks/Projects/202011_DACON_Summarization/PreSumm/data/bert_data/test.1900_1999.bert.pt\n",
      "[2020-11-30 05:25:07,419 INFO] Ignore /content/drive/MyDrive/Notebooks/Projects/202011_DACON_Summarization/PreSumm/data/bert_data/test.2000_2099.bert.pt\n",
      "[2020-11-30 05:25:07,420 INFO] Ignore /content/drive/MyDrive/Notebooks/Projects/202011_DACON_Summarization/PreSumm/data/bert_data/test.2100_2199.bert.pt\n",
      "[2020-11-30 05:25:07,421 INFO] Ignore /content/drive/MyDrive/Notebooks/Projects/202011_DACON_Summarization/PreSumm/data/bert_data/test.2200_2299.bert.pt\n",
      "[2020-11-30 05:25:07,422 INFO] Ignore /content/drive/MyDrive/Notebooks/Projects/202011_DACON_Summarization/PreSumm/data/bert_data/test.2300_2399.bert.pt\n",
      "[2020-11-30 05:25:07,423 INFO] Ignore /content/drive/MyDrive/Notebooks/Projects/202011_DACON_Summarization/PreSumm/data/bert_data/test.2400_2499.bert.pt\n",
      "[2020-11-30 05:25:07,424 INFO] Ignore /content/drive/MyDrive/Notebooks/Projects/202011_DACON_Summarization/PreSumm/data/bert_data/test.2500_2599.bert.pt\n",
      "[2020-11-30 05:25:07,425 INFO] Ignore /content/drive/MyDrive/Notebooks/Projects/202011_DACON_Summarization/PreSumm/data/bert_data/test.2600_2699.bert.pt\n",
      "[2020-11-30 05:25:07,426 INFO] Ignore /content/drive/MyDrive/Notebooks/Projects/202011_DACON_Summarization/PreSumm/data/bert_data/test.2700_2799.bert.pt\n",
      "[2020-11-30 05:25:07,427 INFO] Ignore /content/drive/MyDrive/Notebooks/Projects/202011_DACON_Summarization/PreSumm/data/bert_data/test.2800_2899.bert.pt\n",
      "[2020-11-30 05:25:07,428 INFO] Ignore /content/drive/MyDrive/Notebooks/Projects/202011_DACON_Summarization/PreSumm/data/bert_data/test.2900_2999.bert.pt\n",
      "[2020-11-30 05:25:07,428 INFO] Ignore /content/drive/MyDrive/Notebooks/Projects/202011_DACON_Summarization/PreSumm/data/bert_data/test.3000_3099.bert.pt\n",
      "[2020-11-30 05:25:07,430 INFO] Ignore /content/drive/MyDrive/Notebooks/Projects/202011_DACON_Summarization/PreSumm/data/bert_data/test.3100_3199.bert.pt\n",
      "[2020-11-30 05:25:07,431 INFO] Ignore /content/drive/MyDrive/Notebooks/Projects/202011_DACON_Summarization/PreSumm/data/bert_data/test.3200_3299.bert.pt\n",
      "[2020-11-30 05:25:07,431 INFO] Ignore /content/drive/MyDrive/Notebooks/Projects/202011_DACON_Summarization/PreSumm/data/bert_data/test.3300_3399.bert.pt\n",
      "[2020-11-30 05:25:07,433 INFO] Ignore /content/drive/MyDrive/Notebooks/Projects/202011_DACON_Summarization/PreSumm/data/bert_data/test.3400_3499.bert.pt\n",
      "[2020-11-30 05:25:07,434 INFO] Ignore /content/drive/MyDrive/Notebooks/Projects/202011_DACON_Summarization/PreSumm/data/bert_data/test.3500_3599.bert.pt\n",
      "[2020-11-30 05:25:07,434 INFO] Ignore /content/drive/MyDrive/Notebooks/Projects/202011_DACON_Summarization/PreSumm/data/bert_data/test.3600_3699.bert.pt\n",
      "[2020-11-30 05:25:07,435 INFO] Ignore /content/drive/MyDrive/Notebooks/Projects/202011_DACON_Summarization/PreSumm/data/bert_data/test.3700_3799.bert.pt\n",
      "[2020-11-30 05:25:07,436 INFO] Ignore /content/drive/MyDrive/Notebooks/Projects/202011_DACON_Summarization/PreSumm/data/bert_data/test.3800_3899.bert.pt\n",
      "[2020-11-30 05:25:07,437 INFO] Ignore /content/drive/MyDrive/Notebooks/Projects/202011_DACON_Summarization/PreSumm/data/bert_data/test.3900_3999.bert.pt\n",
      "[2020-11-30 05:25:07,438 INFO] Ignore /content/drive/MyDrive/Notebooks/Projects/202011_DACON_Summarization/PreSumm/data/bert_data/test.4000_4099.bert.pt\n",
      "[2020-11-30 05:25:07,439 INFO] Ignore /content/drive/MyDrive/Notebooks/Projects/202011_DACON_Summarization/PreSumm/data/bert_data/test.4100_4199.bert.pt\n",
      "[2020-11-30 05:25:07,439 INFO] Ignore /content/drive/MyDrive/Notebooks/Projects/202011_DACON_Summarization/PreSumm/data/bert_data/test.4200_4299.bert.pt\n",
      "[2020-11-30 05:25:07,441 INFO] Ignore /content/drive/MyDrive/Notebooks/Projects/202011_DACON_Summarization/PreSumm/data/bert_data/test.4300_4399.bert.pt\n",
      "[2020-11-30 05:25:07,442 INFO] Ignore /content/drive/MyDrive/Notebooks/Projects/202011_DACON_Summarization/PreSumm/data/bert_data/test.4400_4499.bert.pt\n",
      "[2020-11-30 05:25:07,442 INFO] Ignore /content/drive/MyDrive/Notebooks/Projects/202011_DACON_Summarization/PreSumm/data/bert_data/test.4500_4599.bert.pt\n",
      "[2020-11-30 05:25:07,447 INFO] Ignore /content/drive/MyDrive/Notebooks/Projects/202011_DACON_Summarization/PreSumm/data/bert_data/test.4600_4699.bert.pt\n",
      "[2020-11-30 05:25:07,448 INFO] Ignore /content/drive/MyDrive/Notebooks/Projects/202011_DACON_Summarization/PreSumm/data/bert_data/test.4700_4799.bert.pt\n",
      "[2020-11-30 05:25:07,448 INFO] Ignore /content/drive/MyDrive/Notebooks/Projects/202011_DACON_Summarization/PreSumm/data/bert_data/test.4800_4899.bert.pt\n",
      "[2020-11-30 05:25:07,450 INFO] Ignore /content/drive/MyDrive/Notebooks/Projects/202011_DACON_Summarization/PreSumm/data/bert_data/test.4900_4999.bert.pt\n",
      "[2020-11-30 05:25:07,451 INFO] Ignore /content/drive/MyDrive/Notebooks/Projects/202011_DACON_Summarization/PreSumm/data/bert_data/test.5000_5099.bert.pt\n",
      "[2020-11-30 05:25:07,452 INFO] Ignore /content/drive/MyDrive/Notebooks/Projects/202011_DACON_Summarization/PreSumm/data/bert_data/test.5100_5199.bert.pt\n",
      "[2020-11-30 05:25:07,455 INFO] Ignore /content/drive/MyDrive/Notebooks/Projects/202011_DACON_Summarization/PreSumm/data/bert_data/test.5200_5299.bert.pt\n",
      "[2020-11-30 05:25:07,455 INFO] Ignore /content/drive/MyDrive/Notebooks/Projects/202011_DACON_Summarization/PreSumm/data/bert_data/test.5300_5399.bert.pt\n",
      "[2020-11-30 05:25:07,456 INFO] Ignore /content/drive/MyDrive/Notebooks/Projects/202011_DACON_Summarization/PreSumm/data/bert_data/test.5400_5499.bert.pt\n",
      "[2020-11-30 05:25:07,457 INFO] Ignore /content/drive/MyDrive/Notebooks/Projects/202011_DACON_Summarization/PreSumm/data/bert_data/test.5500_5599.bert.pt\n",
      "[2020-11-30 05:25:07,458 INFO] Ignore /content/drive/MyDrive/Notebooks/Projects/202011_DACON_Summarization/PreSumm/data/bert_data/test.5600_5699.bert.pt\n",
      "[2020-11-30 05:25:07,459 INFO] Ignore /content/drive/MyDrive/Notebooks/Projects/202011_DACON_Summarization/PreSumm/data/bert_data/test.5700_5799.bert.pt\n",
      "[2020-11-30 05:25:07,460 INFO] Ignore /content/drive/MyDrive/Notebooks/Projects/202011_DACON_Summarization/PreSumm/data/bert_data/test.5800_5899.bert.pt\n",
      "[2020-11-30 05:25:07,461 INFO] Ignore /content/drive/MyDrive/Notebooks/Projects/202011_DACON_Summarization/PreSumm/data/bert_data/test.5900_5999.bert.pt\n",
      "[2020-11-30 05:25:07,461 INFO] Ignore /content/drive/MyDrive/Notebooks/Projects/202011_DACON_Summarization/PreSumm/data/bert_data/test.6000_6099.bert.pt\n",
      "[2020-11-30 05:25:07,462 INFO] Ignore /content/drive/MyDrive/Notebooks/Projects/202011_DACON_Summarization/PreSumm/data/bert_data/test.6100_6199.bert.pt\n",
      "[2020-11-30 05:25:07,462 INFO] Ignore /content/drive/MyDrive/Notebooks/Projects/202011_DACON_Summarization/PreSumm/data/bert_data/test.6200_6299.bert.pt\n",
      "[2020-11-30 05:25:07,463 INFO] Ignore /content/drive/MyDrive/Notebooks/Projects/202011_DACON_Summarization/PreSumm/data/bert_data/test.6300_6399.bert.pt\n",
      "[2020-11-30 05:25:07,464 INFO] Ignore /content/drive/MyDrive/Notebooks/Projects/202011_DACON_Summarization/PreSumm/data/bert_data/test.6400_6499.bert.pt\n",
      "[2020-11-30 05:25:07,464 INFO] Ignore /content/drive/MyDrive/Notebooks/Projects/202011_DACON_Summarization/PreSumm/data/bert_data/test.6500_6599.bert.pt\n",
      "[2020-11-30 05:25:07,465 INFO] Ignore /content/drive/MyDrive/Notebooks/Projects/202011_DACON_Summarization/PreSumm/data/bert_data/test.6600_6699.bert.pt\n",
      "[2020-11-30 05:25:07,466 INFO] Ignore /content/drive/MyDrive/Notebooks/Projects/202011_DACON_Summarization/PreSumm/data/bert_data/test.6700_6799.bert.pt\n",
      "[2020-11-30 05:25:07,467 INFO] Ignore /content/drive/MyDrive/Notebooks/Projects/202011_DACON_Summarization/PreSumm/data/bert_data/test.6800_6899.bert.pt\n",
      "[2020-11-30 05:25:07,467 INFO] Ignore /content/drive/MyDrive/Notebooks/Projects/202011_DACON_Summarization/PreSumm/data/bert_data/test.6900_6999.bert.pt\n",
      "[2020-11-30 05:25:07,468 INFO] Ignore /content/drive/MyDrive/Notebooks/Projects/202011_DACON_Summarization/PreSumm/data/bert_data/test.7000_7099.bert.pt\n",
      "[2020-11-30 05:25:07,469 INFO] Ignore /content/drive/MyDrive/Notebooks/Projects/202011_DACON_Summarization/PreSumm/data/bert_data/test.7100_7199.bert.pt\n",
      "[2020-11-30 05:25:07,469 INFO] Ignore /content/drive/MyDrive/Notebooks/Projects/202011_DACON_Summarization/PreSumm/data/bert_data/test.7200_7299.bert.pt\n",
      "[2020-11-30 05:25:07,470 INFO] Ignore /content/drive/MyDrive/Notebooks/Projects/202011_DACON_Summarization/PreSumm/data/bert_data/test.7300_7399.bert.pt\n",
      "[2020-11-30 05:25:07,471 INFO] Ignore /content/drive/MyDrive/Notebooks/Projects/202011_DACON_Summarization/PreSumm/data/bert_data/test.7400_7499.bert.pt\n",
      "[2020-11-30 05:25:07,471 INFO] Ignore /content/drive/MyDrive/Notebooks/Projects/202011_DACON_Summarization/PreSumm/data/bert_data/test.7500_7599.bert.pt\n",
      "[2020-11-30 05:25:07,472 INFO] Ignore /content/drive/MyDrive/Notebooks/Projects/202011_DACON_Summarization/PreSumm/data/bert_data/test.7600_7699.bert.pt\n",
      "[2020-11-30 05:25:07,473 INFO] Ignore /content/drive/MyDrive/Notebooks/Projects/202011_DACON_Summarization/PreSumm/data/bert_data/test.7700_7799.bert.pt\n",
      "[2020-11-30 05:25:07,473 INFO] Ignore /content/drive/MyDrive/Notebooks/Projects/202011_DACON_Summarization/PreSumm/data/bert_data/test.7800_7899.bert.pt\n",
      "[2020-11-30 05:25:07,474 INFO] Ignore /content/drive/MyDrive/Notebooks/Projects/202011_DACON_Summarization/PreSumm/data/bert_data/test.7900_7999.bert.pt\n",
      "[2020-11-30 05:25:07,474 INFO] Ignore /content/drive/MyDrive/Notebooks/Projects/202011_DACON_Summarization/PreSumm/data/bert_data/test.8000_8099.bert.pt\n",
      "[2020-11-30 05:25:07,475 INFO] Ignore /content/drive/MyDrive/Notebooks/Projects/202011_DACON_Summarization/PreSumm/data/bert_data/test.8100_8199.bert.pt\n",
      "[2020-11-30 05:25:07,476 INFO] Ignore /content/drive/MyDrive/Notebooks/Projects/202011_DACON_Summarization/PreSumm/data/bert_data/test.8200_8299.bert.pt\n",
      "[2020-11-30 05:25:07,476 INFO] Ignore /content/drive/MyDrive/Notebooks/Projects/202011_DACON_Summarization/PreSumm/data/bert_data/test.8300_8399.bert.pt\n",
      "[2020-11-30 05:25:07,477 INFO] Ignore /content/drive/MyDrive/Notebooks/Projects/202011_DACON_Summarization/PreSumm/data/bert_data/test.8400_8499.bert.pt\n",
      "[2020-11-30 05:25:07,478 INFO] Ignore /content/drive/MyDrive/Notebooks/Projects/202011_DACON_Summarization/PreSumm/data/bert_data/test.8500_8599.bert.pt\n",
      "[2020-11-30 05:25:07,479 INFO] Ignore /content/drive/MyDrive/Notebooks/Projects/202011_DACON_Summarization/PreSumm/data/bert_data/test.8600_8699.bert.pt\n",
      "[2020-11-30 05:25:07,479 INFO] Ignore /content/drive/MyDrive/Notebooks/Projects/202011_DACON_Summarization/PreSumm/data/bert_data/test.8700_8799.bert.pt\n",
      "[2020-11-30 05:25:07,480 INFO] Ignore /content/drive/MyDrive/Notebooks/Projects/202011_DACON_Summarization/PreSumm/data/bert_data/test.8800_8899.bert.pt\n",
      "[2020-11-30 05:25:07,481 INFO] Ignore /content/drive/MyDrive/Notebooks/Projects/202011_DACON_Summarization/PreSumm/data/bert_data/test.8900_8999.bert.pt\n",
      "[2020-11-30 05:25:07,482 INFO] Ignore /content/drive/MyDrive/Notebooks/Projects/202011_DACON_Summarization/PreSumm/data/bert_data/test.9000_9099.bert.pt\n",
      "[2020-11-30 05:25:07,482 INFO] Ignore /content/drive/MyDrive/Notebooks/Projects/202011_DACON_Summarization/PreSumm/data/bert_data/test.9100_9199.bert.pt\n",
      "[2020-11-30 05:25:07,483 INFO] Ignore /content/drive/MyDrive/Notebooks/Projects/202011_DACON_Summarization/PreSumm/data/bert_data/test.9200_9299.bert.pt\n",
      "[2020-11-30 05:25:07,484 INFO] Ignore /content/drive/MyDrive/Notebooks/Projects/202011_DACON_Summarization/PreSumm/data/bert_data/test.9300_9399.bert.pt\n",
      "[2020-11-30 05:25:07,484 INFO] Ignore /content/drive/MyDrive/Notebooks/Projects/202011_DACON_Summarization/PreSumm/data/bert_data/test.9400_9499.bert.pt\n",
      "[2020-11-30 05:25:07,485 INFO] Ignore /content/drive/MyDrive/Notebooks/Projects/202011_DACON_Summarization/PreSumm/data/bert_data/test.9500_9599.bert.pt\n",
      "[2020-11-30 05:25:07,486 INFO] Ignore /content/drive/MyDrive/Notebooks/Projects/202011_DACON_Summarization/PreSumm/data/bert_data/test.9600_9699.bert.pt\n",
      "[2020-11-30 05:25:07,487 INFO] Ignore /content/drive/MyDrive/Notebooks/Projects/202011_DACON_Summarization/PreSumm/data/bert_data/test.9700_9799.bert.pt\n",
      "[2020-11-30 05:25:07,488 INFO] Ignore /content/drive/MyDrive/Notebooks/Projects/202011_DACON_Summarization/PreSumm/data/bert_data/test.9800_9899.bert.pt\n",
      "[2020-11-30 05:25:07,488 INFO] Ignore /content/drive/MyDrive/Notebooks/Projects/202011_DACON_Summarization/PreSumm/data/bert_data/test.9900_9986.bert.pt\n",
      "[2020-11-30 05:25:07,561 INFO] Lock 139727921294248 acquired on /root/.cache/torch/transformers/1f871cf1d80a4c09742b5f2094cc7ab9163dfbcfb930d99fdc9149aebf6a13bb.7555cd8e0e341a4d19f33dcb20eaf8614c72f56827d1b28481046caabba18eb3.lock\n",
      "Downloading: 100% 371k/371k [00:00<00:00, 21.3MB/s]\n",
      "[2020-11-30 05:25:07,672 INFO] Lock 139727921294248 released on /root/.cache/torch/transformers/1f871cf1d80a4c09742b5f2094cc7ab9163dfbcfb930d99fdc9149aebf6a13bb.7555cd8e0e341a4d19f33dcb20eaf8614c72f56827d1b28481046caabba18eb3.lock\n",
      "[2020-11-30 05:25:07,697 INFO] Lock 139729397521040 acquired on /root/.cache/torch/transformers/c247d0225676d99ae7f3e6d39dba68b77756181415828f922c6393e4aecb53ce.5d8505da4be274704344000e8d9a798ff03b513f5053f98f7e97d719a9a9891b.lock\n",
      "Downloading: 100% 77.8k/77.8k [00:00<00:00, 20.1MB/s]\n",
      "[2020-11-30 05:25:07,765 INFO] Lock 139729397521040 released on /root/.cache/torch/transformers/c247d0225676d99ae7f3e6d39dba68b77756181415828f922c6393e4aecb53ce.5d8505da4be274704344000e8d9a798ff03b513f5053f98f7e97d719a9a9891b.lock\n",
      "[2020-11-30 05:25:07,801 INFO] Processing /content/drive/MyDrive/Notebooks/Projects/202011_DACON_Summarization/PreSumm/data/json_data/test.0100_0199.json\n",
      "[2020-11-30 05:25:08,210 INFO] Processed instances 100\n",
      "[2020-11-30 05:25:08,211 INFO] Saving to /content/drive/MyDrive/Notebooks/Projects/202011_DACON_Summarization/PreSumm/data/bert_data/test.0100_0199.bert.pt\n",
      "[2020-11-30 05:25:08,520 INFO] Processing /content/drive/MyDrive/Notebooks/Projects/202011_DACON_Summarization/PreSumm/data/json_data/test.0200_0299.json\n",
      "[2020-11-30 05:25:08,867 INFO] Processed instances 100\n",
      "[2020-11-30 05:25:08,868 INFO] Saving to /content/drive/MyDrive/Notebooks/Projects/202011_DACON_Summarization/PreSumm/data/bert_data/test.0200_0299.bert.pt\n",
      "[2020-11-30 05:25:09,108 INFO] Processing /content/drive/MyDrive/Notebooks/Projects/202011_DACON_Summarization/PreSumm/data/json_data/test.0300_0399.json\n",
      "[2020-11-30 05:25:09,449 INFO] Processed instances 100\n",
      "[2020-11-30 05:25:09,449 INFO] Saving to /content/drive/MyDrive/Notebooks/Projects/202011_DACON_Summarization/PreSumm/data/bert_data/test.0300_0399.bert.pt\n",
      "[2020-11-30 05:25:09,712 INFO] Processing /content/drive/MyDrive/Notebooks/Projects/202011_DACON_Summarization/PreSumm/data/json_data/test.0400_0499.json\n",
      "[2020-11-30 05:25:10,040 INFO] Processed instances 100\n",
      "[2020-11-30 05:25:10,041 INFO] Saving to /content/drive/MyDrive/Notebooks/Projects/202011_DACON_Summarization/PreSumm/data/bert_data/test.0400_0499.bert.pt\n",
      "[2020-11-30 05:25:10,289 INFO] Processing /content/drive/MyDrive/Notebooks/Projects/202011_DACON_Summarization/PreSumm/data/json_data/test.0500_0599.json\n",
      "[2020-11-30 05:25:10,626 INFO] Processed instances 100\n",
      "[2020-11-30 05:25:10,626 INFO] Saving to /content/drive/MyDrive/Notebooks/Projects/202011_DACON_Summarization/PreSumm/data/bert_data/test.0500_0599.bert.pt\n",
      "[2020-11-30 05:25:10,886 INFO] Processing /content/drive/MyDrive/Notebooks/Projects/202011_DACON_Summarization/PreSumm/data/json_data/test.0600_0699.json\n",
      "[2020-11-30 05:25:11,222 INFO] Processed instances 100\n",
      "[2020-11-30 05:25:11,222 INFO] Saving to /content/drive/MyDrive/Notebooks/Projects/202011_DACON_Summarization/PreSumm/data/bert_data/test.0600_0699.bert.pt\n",
      "[2020-11-30 05:25:11,463 INFO] Processing /content/drive/MyDrive/Notebooks/Projects/202011_DACON_Summarization/PreSumm/data/json_data/test.0700_0799.json\n",
      "[2020-11-30 05:25:11,777 INFO] Processed instances 100\n",
      "[2020-11-30 05:25:11,777 INFO] Saving to /content/drive/MyDrive/Notebooks/Projects/202011_DACON_Summarization/PreSumm/data/bert_data/test.0700_0799.bert.pt\n"
     ]
    }
   ],
   "source": [
    "import os\n",
    "os.chdir(PreSumm_DIR + '/src/')\n",
    "\n",
    "# 동일한 파일명 존재하면 덮어쓰는게 아니라 넘어감\n",
    "!python preprocess.py -mode format_to_bert \\\n",
    "                        -raw_path $JSON_DATA_DIR -save_path $BERT_DATA_DIR  -lower -n_cpus 1 -log_file $LOG_FILE \\\n",
    "                        -dataset test"
   ]
  },
  {
   "cell_type": "markdown",
   "metadata": {
    "id": "PLMC5VjNLCdD"
   },
   "source": [
    "#### (이전) sum -> .story data -> tokenized -> .json file\n"
   ]
  },
  {
   "cell_type": "code",
   "execution_count": null,
   "metadata": {
    "id": "2kDcp9yDvzkm"
   },
   "outputs": [],
   "source": [
    "# original_sents_list_sr = train_df['article_original']\n",
    "# abstractive_sents_sr = train_df['abstractive']\n",
    "# extractive_sents_list_sr = train_df['extractive_sents']"
   ]
  },
  {
   "cell_type": "markdown",
   "metadata": {
    "id": "nWjwlbp_w8L5"
   },
   "source": [
    "`temp_ext.raw_src`\n",
    "- insert [CLS] [SEP] as your sentence boundaries.\n",
    "- example   \n",
    "this Terry Jones had a love of the absurd that contributed much to the anarchic humour of Monty Python's Flying Circus. [CLS] [SEP] His style of visual comedy, leavened with a touch of the surreal, inspired many comedians who followed him. \n",
    "(CNN) An Iranian chess referee says she is frightened to return home after she was criticized online for not wearing the appropriate headscarf during an international tournament. [CLS] [SEP] CNN contacted the Iranian Chess Federation on Tuesday but has yet to receive a response.\n",
    "\n",
    "\n",
    "`temp.raw_tgt` \n",
    "- 순서에 맞춰서 한 줄씩"
   ]
  },
  {
   "cell_type": "code",
   "execution_count": null,
   "metadata": {
    "id": "ggcPGFRNyMCx"
   },
   "outputs": [],
   "source": [
    "# original_docs = ''\n",
    "\n",
    "# for original_sents_list in original_sents_list_sr:\n",
    "#     original_doc = ''\n",
    "#     for idx, original_sent in enumerate(original_sents_list):\n",
    "#         original_sent = str.strip(original_sent)\n",
    "#         if idx == len(original_sents_list)-1:\n",
    "#             original_doc += original_sent + '\\n'\n",
    "#         else:\n",
    "#             original_doc += original_sent + ' [CLS] [SEP] ' \n",
    "#     #print(original_doc)\n",
    "#     original_docs += original_doc\n",
    "# #original_docs\n",
    "\n",
    "\n",
    "# with open(PreSumm_DIR + '/raw_data/temp.raw_tgt', 'w') as file:\n",
    "#     file.write(original_docs)"
   ]
  },
  {
   "cell_type": "code",
   "execution_count": null,
   "metadata": {
    "id": "0XzW_eyGvlsg"
   },
   "outputs": [],
   "source": [
    "# abstractive_docs = ''\n",
    "# for abstractive_sents in abstractive_sents_sr:\n",
    "#     abstractive_docs += abstractive_sents + '\\n'\n",
    "\n",
    "# with open(PreSumm_DIR + '/raw_data/temp_ext.raw_src', 'w') as file:\n",
    "#     file.write(abstractive_docs)"
   ]
  },
  {
   "cell_type": "code",
   "execution_count": null,
   "metadata": {
    "colab": {
     "base_uri": "https://localhost:8080/",
     "height": 208
    },
    "id": "HR3eRwY2i84S",
    "outputId": "dc33dc6d-4cf8-4348-c511-bdc7c1dfc295"
   },
   "outputs": [
    {
     "ename": "NameError",
     "evalue": "ignored",
     "output_type": "error",
     "traceback": [
      "\u001b[0;31m---------------------------------------------------------------------------\u001b[0m",
      "\u001b[0;31mNameError\u001b[0m                                 Traceback (most recent call last)",
      "\u001b[0;32m<ipython-input-7-1201b7b06180>\u001b[0m in \u001b[0;36m<module>\u001b[0;34m()\u001b[0m\n\u001b[1;32m      7\u001b[0m             \u001b[0msummary\u001b[0m \u001b[0;34m+=\u001b[0m \u001b[0;34m'\\n\\n@highlight\\n\\n'\u001b[0m \u001b[0;34m+\u001b[0m \u001b[0msent\u001b[0m\u001b[0;34m\u001b[0m\u001b[0;34m\u001b[0m\u001b[0m\n\u001b[1;32m      8\u001b[0m         \u001b[0;32mreturn\u001b[0m \u001b[0msummary\u001b[0m\u001b[0;34m\u001b[0m\u001b[0;34m\u001b[0m\u001b[0m\n\u001b[0;32m----> 9\u001b[0;31m \u001b[0mjoiner\u001b[0m\u001b[0;34m(\u001b[0m\u001b[0mtrain_df\u001b[0m\u001b[0;34m[\u001b[0m\u001b[0;34m'extractive_sents'\u001b[0m\u001b[0;34m]\u001b[0m\u001b[0;34m[\u001b[0m\u001b[0;36m1\u001b[0m\u001b[0;34m]\u001b[0m\u001b[0;34m,\u001b[0m \u001b[0;34m'summary'\u001b[0m\u001b[0;34m)\u001b[0m\u001b[0;34m\u001b[0m\u001b[0;34m\u001b[0m\u001b[0m\n\u001b[0m",
      "\u001b[0;31mNameError\u001b[0m: name 'train_df' is not defined"
     ]
    }
   ],
   "source": [
    "def joiner(sents_list, sent_type='origin'):\n",
    "    if sent_type == 'origin':\n",
    "        return '\\n\\n'.join(sents_list)\n",
    "    else:  # summary\n",
    "        summary = ''\n",
    "        for sent in sents_list:\n",
    "            summary += '\\n\\n@highlight\\n\\n' + sent\n",
    "        return summary\n",
    "joiner(train_df['extractive_sents'][1], 'summary')"
   ]
  },
  {
   "cell_type": "code",
   "execution_count": null,
   "metadata": {
    "id": "qes4T7THfMT8"
   },
   "outputs": [],
   "source": [
    "\n",
    "def create_story_files(df,num_file=None,filename=None):\n",
    "    if num_file == None:\n",
    "        num_file = len(df)\n",
    "    for i in tqdm(range(num_file)):\n",
    "        doc = joiner(train_df['article_original'][i]) \\\n",
    "            +  joiner(train_df['extractive_sents'][i], 'summary')\n",
    "\n",
    "        file_name = os.path.join(filename,(str(i) + '.story'))\n",
    "        with open(file_name,'w') as story_file:\n",
    "            story_file.write(doc)"
   ]
  },
  {
   "cell_type": "code",
   "execution_count": null,
   "metadata": {
    "id": "h0jf2l9Ff_x-"
   },
   "outputs": [],
   "source": [
    "# create_story_files(train_df,filename=STORY_DIR)"
   ]
  },
  {
   "cell_type": "code",
   "execution_count": null,
   "metadata": {
    "id": "LHBZgCCIQ-vH"
   },
   "outputs": [],
   "source": [
    "# Download Stanford CoreNLP\n",
    "# We will need Stanford CoreNLP to tokenize the data. Download it here and unzip it. Then add the following command to your bash_profile:\n",
    "\n",
    "!export CLASSPATH=$PreSumm_DATA_DIR/stanford-corenlp-4.2.0/stanford-corenlp-4.2.0.jar"
   ]
  },
  {
   "cell_type": "code",
   "execution_count": null,
   "metadata": {
    "colab": {
     "base_uri": "https://localhost:8080/"
    },
    "id": "26Feitepf_5w",
    "outputId": "c2a960c1-26d9-45a5-834e-05250051d426"
   },
   "outputs": [
    {
     "name": "stdout",
     "output_type": "stream",
     "text": [
      "Preparing to tokenize /content/drive/MyDrive/Notebooks/Projects/202011_DACON_Summarization/PreSumm/data/raw_stories to /content/drive/MyDrive/Notebooks/Projects/202011_DACON_Summarization/PreSumm/data/merged_stories_tokenized...\n",
      "Making list of files to tokenize...\n",
      "Tokenizing 42803 files in /content/drive/MyDrive/Notebooks/Projects/202011_DACON_Summarization/PreSumm/data/raw_stories and saving in /content/drive/MyDrive/Notebooks/Projects/202011_DACON_Summarization/PreSumm/data/merged_stories_tokenized...\n",
      "Error: Could not find or load main class edu.stanford.nlp.pipeline.StanfordCoreNLP\n",
      "Caused by: java.lang.ClassNotFoundException: edu.stanford.nlp.pipeline.StanfordCoreNLP\n",
      "Stanford CoreNLP Tokenizer has finished.\n",
      "Traceback (most recent call last):\n",
      "  File \"preprocess.py\", line 73, in <module>\n",
      "    eval('data_builder.'+args.mode + '(args)')\n",
      "  File \"<string>\", line 1, in <module>\n",
      "  File \"/content/drive/MyDrive/Notebooks/Projects/202011_DACON_Summarization/PreSumm/src/prepro/data_builder.py\", line 137, in tokenize\n",
      "    tokenized_stories_dir, num_tokenized, stories_dir, num_orig))\n",
      "Exception: The tokenized stories directory /content/drive/MyDrive/Notebooks/Projects/202011_DACON_Summarization/PreSumm/data/merged_stories_tokenized contains 0 files, but it should contain the same number as /content/drive/MyDrive/Notebooks/Projects/202011_DACON_Summarization/PreSumm/data/raw_stories (which has 42803 files). Was there an error during tokenization?\n"
     ]
    }
   ],
   "source": [
    "import os\n",
    "os.chdir(PreSumm_DIR + '/src/')\n",
    "\n",
    "!python preprocess.py -mode tokenize -raw_path $STORY_DIR -save_path $MERGE_STORY_DIR  -log_file $LOG_FILE"
   ]
  },
  {
   "cell_type": "code",
   "execution_count": null,
   "metadata": {
    "colab": {
     "base_uri": "https://localhost:8080/"
    },
    "id": "DZKnKkwAvlxU",
    "outputId": "2fbfd09f-4d90-46d3-e9b2-fe3ffa84883c"
   },
   "outputs": [
    {
     "name": "stdout",
     "output_type": "stream",
     "text": [
      "Traceback (most recent call last):\n",
      "  File \"preprocess.py\", line 73, in <module>\n",
      "    eval('data_builder.'+args.mode + '(args)')\n",
      "  File \"<string>\", line 1, in <module>\n",
      "  File \"/content/drive/MyDrive/Notebooks/Projects/202011_DACON_Summarization/PreSumm/src/prepro/data_builder.py\", line 335, in format_to_lines\n",
      "    for line in open(pjoin(args.map_path, 'mapping_' + corpus_type + '.txt')):\n",
      "FileNotFoundError: [Errno 2] No such file or directory: '../../data/mapping_valid.txt'\n"
     ]
    }
   ],
   "source": [
    "# 3. Make tokenized data files as .json file\n",
    "!python preprocess.py -mode format_to_lines -raw_path $STORY_DIR -save_path $JSON_DATA_DIR -n_cpus 1 -use_bert_basic_tokenizer false -log_file $LOG_FILE\n"
   ]
  }
 ],
 "metadata": {
  "colab": {
   "collapsed_sections": [],
   "name": "PreSumm_preprocessing",
   "provenance": [],
   "toc_visible": true
  },
  "kernelspec": {
   "display_name": "Python 3",
   "language": "python",
   "name": "python3"
  },
  "language_info": {
   "codemirror_mode": {
    "name": "ipython",
    "version": 3
   },
   "file_extension": ".py",
   "mimetype": "text/x-python",
   "name": "python",
   "nbconvert_exporter": "python",
   "pygments_lexer": "ipython3",
   "version": "3.6.12"
  },
  "toc": {
   "base_numbering": 1,
   "nav_menu": {},
   "number_sections": true,
   "sideBar": true,
   "skip_h1_title": false,
   "title_cell": "Table of Contents",
   "title_sidebar": "Contents",
   "toc_cell": false,
   "toc_position": {
    "height": "calc(100% - 180px)",
    "left": "10px",
    "top": "150px",
    "width": "202px"
   },
   "toc_section_display": true,
   "toc_window_display": true
  },
  "varInspector": {
   "cols": {
    "lenName": 16,
    "lenType": 16,
    "lenVar": 40
   },
   "kernels_config": {
    "python": {
     "delete_cmd_postfix": "",
     "delete_cmd_prefix": "del ",
     "library": "var_list.py",
     "varRefreshCmd": "print(var_dic_list())"
    },
    "r": {
     "delete_cmd_postfix": ") ",
     "delete_cmd_prefix": "rm(",
     "library": "var_list.r",
     "varRefreshCmd": "cat(var_dic_list()) "
    }
   },
   "types_to_exclude": [
    "module",
    "function",
    "builtin_function_or_method",
    "instance",
    "_Feature"
   ],
   "window_display": false
  },
  "widgets": {
   "application/vnd.jupyter.widget-state+json": {
    "0f4b0508a7f04373a6fc02836cb396b1": {
     "model_module": "@jupyter-widgets/base",
     "model_name": "LayoutModel",
     "state": {
      "_model_module": "@jupyter-widgets/base",
      "_model_module_version": "1.2.0",
      "_model_name": "LayoutModel",
      "_view_count": null,
      "_view_module": "@jupyter-widgets/base",
      "_view_module_version": "1.2.0",
      "_view_name": "LayoutView",
      "align_content": null,
      "align_items": null,
      "align_self": null,
      "border": null,
      "bottom": null,
      "display": null,
      "flex": null,
      "flex_flow": null,
      "grid_area": null,
      "grid_auto_columns": null,
      "grid_auto_flow": null,
      "grid_auto_rows": null,
      "grid_column": null,
      "grid_gap": null,
      "grid_row": null,
      "grid_template_areas": null,
      "grid_template_columns": null,
      "grid_template_rows": null,
      "height": null,
      "justify_content": null,
      "justify_items": null,
      "left": null,
      "margin": null,
      "max_height": null,
      "max_width": null,
      "min_height": null,
      "min_width": null,
      "object_fit": null,
      "object_position": null,
      "order": null,
      "overflow": null,
      "overflow_x": null,
      "overflow_y": null,
      "padding": null,
      "right": null,
      "top": null,
      "visibility": null,
      "width": null
     }
    },
    "0fe3e903b7444103b7b4c898f180a726": {
     "model_module": "@jupyter-widgets/controls",
     "model_name": "FloatProgressModel",
     "state": {
      "_dom_classes": [],
      "_model_module": "@jupyter-widgets/controls",
      "_model_module_version": "1.5.0",
      "_model_name": "FloatProgressModel",
      "_view_count": null,
      "_view_module": "@jupyter-widgets/controls",
      "_view_module_version": "1.5.0",
      "_view_name": "ProgressView",
      "bar_style": "success",
      "description": "100%",
      "description_tooltip": null,
      "layout": "IPY_MODEL_2808901963654f7a83e5aedc1f65499d",
      "max": 100,
      "min": 0,
      "orientation": "horizontal",
      "style": "IPY_MODEL_8ad27d74b7ad445c8275f75cb03b2865",
      "value": 100
     }
    },
    "2808901963654f7a83e5aedc1f65499d": {
     "model_module": "@jupyter-widgets/base",
     "model_name": "LayoutModel",
     "state": {
      "_model_module": "@jupyter-widgets/base",
      "_model_module_version": "1.2.0",
      "_model_name": "LayoutModel",
      "_view_count": null,
      "_view_module": "@jupyter-widgets/base",
      "_view_module_version": "1.2.0",
      "_view_name": "LayoutView",
      "align_content": null,
      "align_items": null,
      "align_self": null,
      "border": null,
      "bottom": null,
      "display": null,
      "flex": null,
      "flex_flow": null,
      "grid_area": null,
      "grid_auto_columns": null,
      "grid_auto_flow": null,
      "grid_auto_rows": null,
      "grid_column": null,
      "grid_gap": null,
      "grid_row": null,
      "grid_template_areas": null,
      "grid_template_columns": null,
      "grid_template_rows": null,
      "height": null,
      "justify_content": null,
      "justify_items": null,
      "left": null,
      "margin": null,
      "max_height": null,
      "max_width": null,
      "min_height": null,
      "min_width": null,
      "object_fit": null,
      "object_position": null,
      "order": null,
      "overflow": null,
      "overflow_x": null,
      "overflow_y": null,
      "padding": null,
      "right": null,
      "top": null,
      "visibility": null,
      "width": null
     }
    },
    "2ff30341ad134b14943208129dbed0c9": {
     "model_module": "@jupyter-widgets/controls",
     "model_name": "DescriptionStyleModel",
     "state": {
      "_model_module": "@jupyter-widgets/controls",
      "_model_module_version": "1.5.0",
      "_model_name": "DescriptionStyleModel",
      "_view_count": null,
      "_view_module": "@jupyter-widgets/base",
      "_view_module_version": "1.2.0",
      "_view_name": "StyleView",
      "description_width": ""
     }
    },
    "3c7af6bcc9a84f1aa55262ad8648ec11": {
     "model_module": "@jupyter-widgets/controls",
     "model_name": "HTMLModel",
     "state": {
      "_dom_classes": [],
      "_model_module": "@jupyter-widgets/controls",
      "_model_module_version": "1.5.0",
      "_model_name": "HTMLModel",
      "_view_count": null,
      "_view_module": "@jupyter-widgets/controls",
      "_view_module_version": "1.5.0",
      "_view_name": "HTMLView",
      "description": "",
      "description_tooltip": null,
      "layout": "IPY_MODEL_0f4b0508a7f04373a6fc02836cb396b1",
      "placeholder": "​",
      "style": "IPY_MODEL_e122e8a746d54136984a75cafef002b4",
      "value": " 31/43 [09:10&lt;03:24, 17.04s/it]"
     }
    },
    "558af5b7265d48049c8479606d5d6e18": {
     "model_module": "@jupyter-widgets/controls",
     "model_name": "HBoxModel",
     "state": {
      "_dom_classes": [],
      "_model_module": "@jupyter-widgets/controls",
      "_model_module_version": "1.5.0",
      "_model_name": "HBoxModel",
      "_view_count": null,
      "_view_module": "@jupyter-widgets/controls",
      "_view_module_version": "1.5.0",
      "_view_name": "HBoxView",
      "box_style": "",
      "children": [
       "IPY_MODEL_0fe3e903b7444103b7b4c898f180a726",
       "IPY_MODEL_68ca9c976bfc4ed89da032cc05b09d88"
      ],
      "layout": "IPY_MODEL_eb5964b1f732474695afe69bf3a76005"
     }
    },
    "625c3207c3cd4bfdb026e843fe9cc96d": {
     "model_module": "@jupyter-widgets/base",
     "model_name": "LayoutModel",
     "state": {
      "_model_module": "@jupyter-widgets/base",
      "_model_module_version": "1.2.0",
      "_model_name": "LayoutModel",
      "_view_count": null,
      "_view_module": "@jupyter-widgets/base",
      "_view_module_version": "1.2.0",
      "_view_name": "LayoutView",
      "align_content": null,
      "align_items": null,
      "align_self": null,
      "border": null,
      "bottom": null,
      "display": null,
      "flex": null,
      "flex_flow": null,
      "grid_area": null,
      "grid_auto_columns": null,
      "grid_auto_flow": null,
      "grid_auto_rows": null,
      "grid_column": null,
      "grid_gap": null,
      "grid_row": null,
      "grid_template_areas": null,
      "grid_template_columns": null,
      "grid_template_rows": null,
      "height": null,
      "justify_content": null,
      "justify_items": null,
      "left": null,
      "margin": null,
      "max_height": null,
      "max_width": null,
      "min_height": null,
      "min_width": null,
      "object_fit": null,
      "object_position": null,
      "order": null,
      "overflow": null,
      "overflow_x": null,
      "overflow_y": null,
      "padding": null,
      "right": null,
      "top": null,
      "visibility": null,
      "width": null
     }
    },
    "6450ca5bbc474c30843e979beddd99ae": {
     "model_module": "@jupyter-widgets/controls",
     "model_name": "FloatProgressModel",
     "state": {
      "_dom_classes": [],
      "_model_module": "@jupyter-widgets/controls",
      "_model_module_version": "1.5.0",
      "_model_name": "FloatProgressModel",
      "_view_count": null,
      "_view_module": "@jupyter-widgets/controls",
      "_view_module_version": "1.5.0",
      "_view_name": "ProgressView",
      "bar_style": "danger",
      "description": " 72%",
      "description_tooltip": null,
      "layout": "IPY_MODEL_e0daf47f80d440de843dfde7ea1d6325",
      "max": 43,
      "min": 0,
      "orientation": "horizontal",
      "style": "IPY_MODEL_b0a1c4408e9a470886a60804be82644d",
      "value": 31
     }
    },
    "68ca9c976bfc4ed89da032cc05b09d88": {
     "model_module": "@jupyter-widgets/controls",
     "model_name": "HTMLModel",
     "state": {
      "_dom_classes": [],
      "_model_module": "@jupyter-widgets/controls",
      "_model_module_version": "1.5.0",
      "_model_name": "HTMLModel",
      "_view_count": null,
      "_view_module": "@jupyter-widgets/controls",
      "_view_module_version": "1.5.0",
      "_view_name": "HTMLView",
      "description": "",
      "description_tooltip": null,
      "layout": "IPY_MODEL_625c3207c3cd4bfdb026e843fe9cc96d",
      "placeholder": "​",
      "style": "IPY_MODEL_2ff30341ad134b14943208129dbed0c9",
      "value": " 100/100 [2:26:29&lt;00:00, 87.90s/it]"
     }
    },
    "8ad27d74b7ad445c8275f75cb03b2865": {
     "model_module": "@jupyter-widgets/controls",
     "model_name": "ProgressStyleModel",
     "state": {
      "_model_module": "@jupyter-widgets/controls",
      "_model_module_version": "1.5.0",
      "_model_name": "ProgressStyleModel",
      "_view_count": null,
      "_view_module": "@jupyter-widgets/base",
      "_view_module_version": "1.2.0",
      "_view_name": "StyleView",
      "bar_color": null,
      "description_width": "initial"
     }
    },
    "a3013828eff34d23abf29d44882609de": {
     "model_module": "@jupyter-widgets/controls",
     "model_name": "HBoxModel",
     "state": {
      "_dom_classes": [],
      "_model_module": "@jupyter-widgets/controls",
      "_model_module_version": "1.5.0",
      "_model_name": "HBoxModel",
      "_view_count": null,
      "_view_module": "@jupyter-widgets/controls",
      "_view_module_version": "1.5.0",
      "_view_name": "HBoxView",
      "box_style": "",
      "children": [
       "IPY_MODEL_6450ca5bbc474c30843e979beddd99ae",
       "IPY_MODEL_3c7af6bcc9a84f1aa55262ad8648ec11"
      ],
      "layout": "IPY_MODEL_f0abbe8002c44bc9b91b514eb19cae34"
     }
    },
    "b0a1c4408e9a470886a60804be82644d": {
     "model_module": "@jupyter-widgets/controls",
     "model_name": "ProgressStyleModel",
     "state": {
      "_model_module": "@jupyter-widgets/controls",
      "_model_module_version": "1.5.0",
      "_model_name": "ProgressStyleModel",
      "_view_count": null,
      "_view_module": "@jupyter-widgets/base",
      "_view_module_version": "1.2.0",
      "_view_name": "StyleView",
      "bar_color": null,
      "description_width": "initial"
     }
    },
    "e0daf47f80d440de843dfde7ea1d6325": {
     "model_module": "@jupyter-widgets/base",
     "model_name": "LayoutModel",
     "state": {
      "_model_module": "@jupyter-widgets/base",
      "_model_module_version": "1.2.0",
      "_model_name": "LayoutModel",
      "_view_count": null,
      "_view_module": "@jupyter-widgets/base",
      "_view_module_version": "1.2.0",
      "_view_name": "LayoutView",
      "align_content": null,
      "align_items": null,
      "align_self": null,
      "border": null,
      "bottom": null,
      "display": null,
      "flex": null,
      "flex_flow": null,
      "grid_area": null,
      "grid_auto_columns": null,
      "grid_auto_flow": null,
      "grid_auto_rows": null,
      "grid_column": null,
      "grid_gap": null,
      "grid_row": null,
      "grid_template_areas": null,
      "grid_template_columns": null,
      "grid_template_rows": null,
      "height": null,
      "justify_content": null,
      "justify_items": null,
      "left": null,
      "margin": null,
      "max_height": null,
      "max_width": null,
      "min_height": null,
      "min_width": null,
      "object_fit": null,
      "object_position": null,
      "order": null,
      "overflow": null,
      "overflow_x": null,
      "overflow_y": null,
      "padding": null,
      "right": null,
      "top": null,
      "visibility": null,
      "width": null
     }
    },
    "e122e8a746d54136984a75cafef002b4": {
     "model_module": "@jupyter-widgets/controls",
     "model_name": "DescriptionStyleModel",
     "state": {
      "_model_module": "@jupyter-widgets/controls",
      "_model_module_version": "1.5.0",
      "_model_name": "DescriptionStyleModel",
      "_view_count": null,
      "_view_module": "@jupyter-widgets/base",
      "_view_module_version": "1.2.0",
      "_view_name": "StyleView",
      "description_width": ""
     }
    },
    "eb5964b1f732474695afe69bf3a76005": {
     "model_module": "@jupyter-widgets/base",
     "model_name": "LayoutModel",
     "state": {
      "_model_module": "@jupyter-widgets/base",
      "_model_module_version": "1.2.0",
      "_model_name": "LayoutModel",
      "_view_count": null,
      "_view_module": "@jupyter-widgets/base",
      "_view_module_version": "1.2.0",
      "_view_name": "LayoutView",
      "align_content": null,
      "align_items": null,
      "align_self": null,
      "border": null,
      "bottom": null,
      "display": null,
      "flex": null,
      "flex_flow": null,
      "grid_area": null,
      "grid_auto_columns": null,
      "grid_auto_flow": null,
      "grid_auto_rows": null,
      "grid_column": null,
      "grid_gap": null,
      "grid_row": null,
      "grid_template_areas": null,
      "grid_template_columns": null,
      "grid_template_rows": null,
      "height": null,
      "justify_content": null,
      "justify_items": null,
      "left": null,
      "margin": null,
      "max_height": null,
      "max_width": null,
      "min_height": null,
      "min_width": null,
      "object_fit": null,
      "object_position": null,
      "order": null,
      "overflow": null,
      "overflow_x": null,
      "overflow_y": null,
      "padding": null,
      "right": null,
      "top": null,
      "visibility": null,
      "width": null
     }
    },
    "f0abbe8002c44bc9b91b514eb19cae34": {
     "model_module": "@jupyter-widgets/base",
     "model_name": "LayoutModel",
     "state": {
      "_model_module": "@jupyter-widgets/base",
      "_model_module_version": "1.2.0",
      "_model_name": "LayoutModel",
      "_view_count": null,
      "_view_module": "@jupyter-widgets/base",
      "_view_module_version": "1.2.0",
      "_view_name": "LayoutView",
      "align_content": null,
      "align_items": null,
      "align_self": null,
      "border": null,
      "bottom": null,
      "display": null,
      "flex": null,
      "flex_flow": null,
      "grid_area": null,
      "grid_auto_columns": null,
      "grid_auto_flow": null,
      "grid_auto_rows": null,
      "grid_column": null,
      "grid_gap": null,
      "grid_row": null,
      "grid_template_areas": null,
      "grid_template_columns": null,
      "grid_template_rows": null,
      "height": null,
      "justify_content": null,
      "justify_items": null,
      "left": null,
      "margin": null,
      "max_height": null,
      "max_width": null,
      "min_height": null,
      "min_width": null,
      "object_fit": null,
      "object_position": null,
      "order": null,
      "overflow": null,
      "overflow_x": null,
      "overflow_y": null,
      "padding": null,
      "right": null,
      "top": null,
      "visibility": null,
      "width": null
     }
    }
   }
  }
 },
 "nbformat": 4,
 "nbformat_minor": 1
}
