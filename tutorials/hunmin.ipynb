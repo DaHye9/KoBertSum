{
 "cells": [
  {
   "cell_type": "code",
   "execution_count": 1,
   "source": [
    "%load_ext autoreload\n",
    "%autoreload"
   ],
   "outputs": [],
   "metadata": {}
  },
  {
   "cell_type": "code",
   "execution_count": 2,
   "source": [
    "import os\n",
    "# os.environ[\"CUDA_VISIBLE_DEVICES\"]=\"2\""
   ],
   "outputs": [],
   "metadata": {}
  },
  {
   "cell_type": "code",
   "execution_count": 3,
   "source": [
    "import pandas as pd\n",
    "import numpy as np\n",
    "import os\n",
    "\n",
    "from glob import glob\n",
    "import json\n",
    "from tqdm import tqdm\n",
    "\n",
    "sys.path.append('/home/link/Project/KoBertSum_1')\n",
    "sys.path.append('/home/link/Project/KoBertSum_1/src')\n",
    "tqdm.pandas()"
   ],
   "outputs": [],
   "metadata": {}
  },
  {
   "cell_type": "code",
   "execution_count": 4,
   "source": [
    "import os\n",
    "import pickle\n",
    "from typing import Collection\n",
    "\n",
    "def save_obj(collection: Collection, file_path: str, proc_type: str = \"pickle\"):\n",
    "    # file_name, file_extension = os.path.splitext(os.path.basename(file_path))\n",
    "    # dir_path = os.path.dirname(os.path.abspath(file_path))\n",
    "\n",
    "    if proc_type == \"pickle\":\n",
    "        with open(file_path, \"wb\") as f:\n",
    "            pickle.dump(collection, f)\n",
    "\n",
    "    elif proc_type == \"plain\":\n",
    "        with open(file_path, \"w\") as f:\n",
    "            f.write(\"\\n\".join(collection))\n",
    "\n",
    "\n",
    "def load_obj(file_path: str, proc_type: str = \"pickle\"):\n",
    "    # file_name, file_extension = os.path.splitext(os.path.basename(file_path))\n",
    "    # dir_path = os.path.dirname(os.path.abspath(file_path))\n",
    "\n",
    "    if proc_type == \"pickle\":\n",
    "        try:\n",
    "            with open(file_path, \"rb\") as f:\n",
    "                return pickle.load(f)\n",
    "        except Exception as expt:\n",
    "            print(f\"ERROR: {expt}\")\n",
    "            print(\"This file is not for pickle. Load it as plain load method\")\n",
    "            proc_type = \"plain\"\n",
    "\n",
    "    if proc_type == \"plain\":\n",
    "        with open(file_path, \"r\") as f:\n",
    "            lines = f.read().splitlines()\n",
    "            return lines\n"
   ],
   "outputs": [],
   "metadata": {}
  },
  {
   "cell_type": "markdown",
   "source": [
    "# 데이터 로드"
   ],
   "metadata": {}
  },
  {
   "cell_type": "code",
   "execution_count": 5,
   "source": [
    "DATA_PATH = \"/home/link/Project/KoBertSum_1/datasets/hunmin_ko\"\n",
    "train_orig_df = pd.read_csv(f\"{DATA_PATH}/orig/train_data.csv\")\n",
    "test_orig_df = pd.read_csv(f\"{DATA_PATH}/orig/test_data.csv\")\n",
    "sample_submission_df = pd.read_csv(f\"{DATA_PATH}/orig/sample_submission.csv\")"
   ],
   "outputs": [],
   "metadata": {}
  },
  {
   "cell_type": "code",
   "execution_count": 7,
   "source": [
    "train_orig_df"
   ],
   "outputs": [
    {
     "output_type": "execute_result",
     "data": {
      "text/html": [
       "<div>\n",
       "<style scoped>\n",
       "    .dataframe tbody tr th:only-of-type {\n",
       "        vertical-align: middle;\n",
       "    }\n",
       "\n",
       "    .dataframe tbody tr th {\n",
       "        vertical-align: top;\n",
       "    }\n",
       "\n",
       "    .dataframe thead th {\n",
       "        text-align: right;\n",
       "    }\n",
       "</style>\n",
       "<table border=\"1\" class=\"dataframe\">\n",
       "  <thead>\n",
       "    <tr style=\"text-align: right;\">\n",
       "      <th></th>\n",
       "      <th>id</th>\n",
       "      <th>text</th>\n",
       "      <th>summary</th>\n",
       "    </tr>\n",
       "  </thead>\n",
       "  <tbody>\n",
       "    <tr>\n",
       "      <th>0</th>\n",
       "      <td>0</td>\n",
       "      <td>원고가 소속회사의 노동조합에서 분규가 발생하자 노조활동을 구실로 정상적인 근무를 해...</td>\n",
       "      <td>원고가  주동하여 회사업무능률을 저해하고 회사업무상의 지휘명령에 위반하였다면 이에 ...</td>\n",
       "    </tr>\n",
       "    <tr>\n",
       "      <th>1</th>\n",
       "      <td>1</td>\n",
       "      <td>수출입업체인 원고가 의류제품을 제조ㆍ수출함에 있어 같은 그룹내 종합무역상사인 소외 ...</td>\n",
       "      <td>수출입업체인 원고가 의류제품을 제조ㆍ수출함에 있어 소외 회사의 직수출실적을 지원하기...</td>\n",
       "    </tr>\n",
       "    <tr>\n",
       "      <th>2</th>\n",
       "      <td>2</td>\n",
       "      <td>가등기담보권자가 제소전 화해조항에 따라 자기 명의로 소유권이전의 본등기를 경료한 후...</td>\n",
       "      <td>가등기담보권자가 제소전 화해조항에 의해 자기 명의로 소유권이전의 본등기를 경료하고 ...</td>\n",
       "    </tr>\n",
       "    <tr>\n",
       "      <th>3</th>\n",
       "      <td>3</td>\n",
       "      <td>가. 부가가치세법 제22조 제3항 단서에 제1호와 제2호가 동시에 해당한다는 뜻은 ...</td>\n",
       "      <td>부가가치세법 제22조 제3항 단서에 제1호와 제2호가 동시에 해당한다는 의미는 제1...</td>\n",
       "    </tr>\n",
       "    <tr>\n",
       "      <th>4</th>\n",
       "      <td>4</td>\n",
       "      <td>소득세법 제116조 제1항의 규정에 의하면 정부는 과세표준확정신고를 하여야 할 자에...</td>\n",
       "      <td>소득세법 제116조 제1항에 따르면 정부는 과세표준확정신고를 해야 할 자에 대해 당...</td>\n",
       "    </tr>\n",
       "    <tr>\n",
       "      <th>...</th>\n",
       "      <td>...</td>\n",
       "      <td>...</td>\n",
       "      <td>...</td>\n",
       "    </tr>\n",
       "    <tr>\n",
       "      <th>271660</th>\n",
       "      <td>271660</td>\n",
       "      <td>KCGI는 지분 늘려 13.47%로 국민연금과 합치면 20% 넘어 '백기사' 확보 ...</td>\n",
       "      <td>8일 IB업계 관계자는 상속세 납부 과정에서 조 회장 일가의 한진칼 지배구조 약화 ...</td>\n",
       "    </tr>\n",
       "    <tr>\n",
       "      <th>271661</th>\n",
       "      <td>271661</td>\n",
       "      <td>[ 노유정 기자 ] 조양호 한진그룹 회장의 갑작스런 타계 소식이 전해진 8일 오전,...</td>\n",
       "      <td>8일 미국에서 들려온 조양호 한진그룹 회장의 사망 소식에 서울 공항동 대한항공 본사...</td>\n",
       "    </tr>\n",
       "    <tr>\n",
       "      <th>271662</th>\n",
       "      <td>271662</td>\n",
       "      <td>[ 김익환 기자 ] 조양호 한진그룹 회장이 타계하면서 그의 재산을 물려받을 장남 조...</td>\n",
       "      <td>고 조 회장의 한진칼, 한진 등 상장회사의 주식가격 총합은 약 3560억 정도 되며...</td>\n",
       "    </tr>\n",
       "    <tr>\n",
       "      <th>271663</th>\n",
       "      <td>271663</td>\n",
       "      <td>[ 김보형 기자 ] 조양호 한진그룹 회장이 8일 타계하면서 그의 장남인 조원태 대한...</td>\n",
       "      <td>지난 8일 조양호 한진그룹 회장이 별세하면서 한진그룹은 비상경영체제에 돌입했고, 그...</td>\n",
       "    </tr>\n",
       "    <tr>\n",
       "      <th>271664</th>\n",
       "      <td>271664</td>\n",
       "      <td>[ 박동휘 기자 ] 국방부가 8일 상반기 군 장성 인사를 단행했다. 한국군 주도의 ...</td>\n",
       "      <td>국방부는 8일 신임 육군참모총장에 '서욱' 합동참모본부 작전본부장, 신임 공군참모총...</td>\n",
       "    </tr>\n",
       "  </tbody>\n",
       "</table>\n",
       "<p>271665 rows × 3 columns</p>\n",
       "</div>"
      ],
      "text/plain": [
       "            id                                               text  \\\n",
       "0            0  원고가 소속회사의 노동조합에서 분규가 발생하자 노조활동을 구실로 정상적인 근무를 해...   \n",
       "1            1  수출입업체인 원고가 의류제품을 제조ㆍ수출함에 있어 같은 그룹내 종합무역상사인 소외 ...   \n",
       "2            2  가등기담보권자가 제소전 화해조항에 따라 자기 명의로 소유권이전의 본등기를 경료한 후...   \n",
       "3            3  가. 부가가치세법 제22조 제3항 단서에 제1호와 제2호가 동시에 해당한다는 뜻은 ...   \n",
       "4            4  소득세법 제116조 제1항의 규정에 의하면 정부는 과세표준확정신고를 하여야 할 자에...   \n",
       "...        ...                                                ...   \n",
       "271660  271660  KCGI는 지분 늘려 13.47%로 국민연금과 합치면 20% 넘어 '백기사' 확보 ...   \n",
       "271661  271661  [ 노유정 기자 ] 조양호 한진그룹 회장의 갑작스런 타계 소식이 전해진 8일 오전,...   \n",
       "271662  271662  [ 김익환 기자 ] 조양호 한진그룹 회장이 타계하면서 그의 재산을 물려받을 장남 조...   \n",
       "271663  271663  [ 김보형 기자 ] 조양호 한진그룹 회장이 8일 타계하면서 그의 장남인 조원태 대한...   \n",
       "271664  271664  [ 박동휘 기자 ] 국방부가 8일 상반기 군 장성 인사를 단행했다. 한국군 주도의 ...   \n",
       "\n",
       "                                                  summary  \n",
       "0       원고가  주동하여 회사업무능률을 저해하고 회사업무상의 지휘명령에 위반하였다면 이에 ...  \n",
       "1       수출입업체인 원고가 의류제품을 제조ㆍ수출함에 있어 소외 회사의 직수출실적을 지원하기...  \n",
       "2       가등기담보권자가 제소전 화해조항에 의해 자기 명의로 소유권이전의 본등기를 경료하고 ...  \n",
       "3       부가가치세법 제22조 제3항 단서에 제1호와 제2호가 동시에 해당한다는 의미는 제1...  \n",
       "4       소득세법 제116조 제1항에 따르면 정부는 과세표준확정신고를 해야 할 자에 대해 당...  \n",
       "...                                                   ...  \n",
       "271660  8일 IB업계 관계자는 상속세 납부 과정에서 조 회장 일가의 한진칼 지배구조 약화 ...  \n",
       "271661  8일 미국에서 들려온 조양호 한진그룹 회장의 사망 소식에 서울 공항동 대한항공 본사...  \n",
       "271662  고 조 회장의 한진칼, 한진 등 상장회사의 주식가격 총합은 약 3560억 정도 되며...  \n",
       "271663  지난 8일 조양호 한진그룹 회장이 별세하면서 한진그룹은 비상경영체제에 돌입했고, 그...  \n",
       "271664  국방부는 8일 신임 육군참모총장에 '서욱' 합동참모본부 작전본부장, 신임 공군참모총...  \n",
       "\n",
       "[271665 rows x 3 columns]"
      ]
     },
     "metadata": {},
     "execution_count": 7
    }
   ],
   "metadata": {}
  },
  {
   "cell_type": "code",
   "execution_count": 10,
   "source": [
    "test_orig_df.head()"
   ],
   "outputs": [
    {
     "output_type": "execute_result",
     "data": {
      "text/html": [
       "<div>\n",
       "<style scoped>\n",
       "    .dataframe tbody tr th:only-of-type {\n",
       "        vertical-align: middle;\n",
       "    }\n",
       "\n",
       "    .dataframe tbody tr th {\n",
       "        vertical-align: top;\n",
       "    }\n",
       "\n",
       "    .dataframe thead th {\n",
       "        text-align: right;\n",
       "    }\n",
       "</style>\n",
       "<table border=\"1\" class=\"dataframe\">\n",
       "  <thead>\n",
       "    <tr style=\"text-align: right;\">\n",
       "      <th></th>\n",
       "      <th>id</th>\n",
       "      <th>text</th>\n",
       "      <th>summary</th>\n",
       "    </tr>\n",
       "  </thead>\n",
       "  <tbody>\n",
       "    <tr>\n",
       "      <th>0</th>\n",
       "      <td>1</td>\n",
       "      <td>[경주=환경일보] 강광태 기자 = 경주시는 창의적 아이디어를 적극 수렴함으로써 소통...</td>\n",
       "      <td>생성요약문</td>\n",
       "    </tr>\n",
       "    <tr>\n",
       "      <th>1</th>\n",
       "      <td>2</td>\n",
       "      <td>황영민 시장·군수·구청장 직접 제출… 경기도, 복지부·국회에 개선 요구 경기도가 장...</td>\n",
       "      <td>생성요약문</td>\n",
       "    </tr>\n",
       "    <tr>\n",
       "      <th>2</th>\n",
       "      <td>3</td>\n",
       "      <td>김대연 기자l saint-jj@hanmail.net 전북도의회는 올해 의회운영의 전...</td>\n",
       "      <td>생성요약문</td>\n",
       "    </tr>\n",
       "    <tr>\n",
       "      <th>3</th>\n",
       "      <td>4</td>\n",
       "      <td>대법원 2부(주심 안철상)는 스타 강사 우모씨를 상대로 인터넷 강의 업체 이투스교육...</td>\n",
       "      <td>생성요약문</td>\n",
       "    </tr>\n",
       "    <tr>\n",
       "      <th>4</th>\n",
       "      <td>5</td>\n",
       "      <td>사설 보호무역 확산, G20회의 철저한 준비를 1월 수출이 월별 수출입 동향을 집계...</td>\n",
       "      <td>생성요약문</td>\n",
       "    </tr>\n",
       "  </tbody>\n",
       "</table>\n",
       "</div>"
      ],
      "text/plain": [
       "   id                                               text summary\n",
       "0   1  [경주=환경일보] 강광태 기자 = 경주시는 창의적 아이디어를 적극 수렴함으로써 소통...   생성요약문\n",
       "1   2  황영민 시장·군수·구청장 직접 제출… 경기도, 복지부·국회에 개선 요구 경기도가 장...   생성요약문\n",
       "2   3  김대연 기자l saint-jj@hanmail.net 전북도의회는 올해 의회운영의 전...   생성요약문\n",
       "3   4  대법원 2부(주심 안철상)는 스타 강사 우모씨를 상대로 인터넷 강의 업체 이투스교육...   생성요약문\n",
       "4   5  사설 보호무역 확산, G20회의 철저한 준비를 1월 수출이 월별 수출입 동향을 집계...   생성요약문"
      ]
     },
     "metadata": {},
     "execution_count": 10
    }
   ],
   "metadata": {}
  },
  {
   "cell_type": "code",
   "execution_count": 12,
   "source": [
    "test_orig_df.shape"
   ],
   "outputs": [
    {
     "output_type": "execute_result",
     "data": {
      "text/plain": [
       "(10000, 3)"
      ]
     },
     "metadata": {},
     "execution_count": 12
    }
   ],
   "metadata": {}
  },
  {
   "cell_type": "code",
   "execution_count": 15,
   "source": [
    "sample_submission_df.head()"
   ],
   "outputs": [
    {
     "output_type": "execute_result",
     "data": {
      "text/html": [
       "<div>\n",
       "<style scoped>\n",
       "    .dataframe tbody tr th:only-of-type {\n",
       "        vertical-align: middle;\n",
       "    }\n",
       "\n",
       "    .dataframe tbody tr th {\n",
       "        vertical-align: top;\n",
       "    }\n",
       "\n",
       "    .dataframe thead th {\n",
       "        text-align: right;\n",
       "    }\n",
       "</style>\n",
       "<table border=\"1\" class=\"dataframe\">\n",
       "  <thead>\n",
       "    <tr style=\"text-align: right;\">\n",
       "      <th></th>\n",
       "      <th>id</th>\n",
       "      <th>summary</th>\n",
       "    </tr>\n",
       "  </thead>\n",
       "  <tbody>\n",
       "    <tr>\n",
       "      <th>0</th>\n",
       "      <td>1</td>\n",
       "      <td>생성요약문</td>\n",
       "    </tr>\n",
       "    <tr>\n",
       "      <th>1</th>\n",
       "      <td>2</td>\n",
       "      <td>생성요약문</td>\n",
       "    </tr>\n",
       "    <tr>\n",
       "      <th>2</th>\n",
       "      <td>3</td>\n",
       "      <td>생성요약문</td>\n",
       "    </tr>\n",
       "    <tr>\n",
       "      <th>3</th>\n",
       "      <td>4</td>\n",
       "      <td>생성요약문</td>\n",
       "    </tr>\n",
       "    <tr>\n",
       "      <th>4</th>\n",
       "      <td>5</td>\n",
       "      <td>생성요약문</td>\n",
       "    </tr>\n",
       "  </tbody>\n",
       "</table>\n",
       "</div>"
      ],
      "text/plain": [
       "   id summary\n",
       "0   1   생성요약문\n",
       "1   2   생성요약문\n",
       "2   3   생성요약문\n",
       "3   4   생성요약문\n",
       "4   5   생성요약문"
      ]
     },
     "metadata": {},
     "execution_count": 15
    }
   ],
   "metadata": {}
  },
  {
   "cell_type": "code",
   "execution_count": 16,
   "source": [
    "sample_submission_df.shape"
   ],
   "outputs": [
    {
     "output_type": "execute_result",
     "data": {
      "text/plain": [
       "(10000, 2)"
      ]
     },
     "metadata": {},
     "execution_count": 16
    }
   ],
   "metadata": {}
  },
  {
   "cell_type": "markdown",
   "source": [
    "# 데이터 전처리"
   ],
   "metadata": {}
  },
  {
   "cell_type": "code",
   "execution_count": 6,
   "source": [
    "train_df = train_orig_df.copy()\n",
    "test_df = test_orig_df.copy()"
   ],
   "outputs": [],
   "metadata": {}
  },
  {
   "cell_type": "markdown",
   "source": [
    "### 클리닝1"
   ],
   "metadata": {}
  },
  {
   "cell_type": "code",
   "execution_count": 7,
   "source": [
    "#결측치 제거\n",
    "nan_list = [27556, 34092, 34201, 66897, 133273, 216203]\n",
    "train_df = train_df[~train_df[\"id\"].isin(nan_list)].reset_index(drop = True)"
   ],
   "outputs": [],
   "metadata": {}
  },
  {
   "cell_type": "code",
   "execution_count": 8,
   "source": [
    "train_df[train_df[\"summary\"].isna()]\n",
    "# train_data[train_data['text'].apply(lambda x : type(x) is not str)]"
   ],
   "outputs": [
    {
     "output_type": "execute_result",
     "data": {
      "text/html": [
       "<div>\n",
       "<style scoped>\n",
       "    .dataframe tbody tr th:only-of-type {\n",
       "        vertical-align: middle;\n",
       "    }\n",
       "\n",
       "    .dataframe tbody tr th {\n",
       "        vertical-align: top;\n",
       "    }\n",
       "\n",
       "    .dataframe thead th {\n",
       "        text-align: right;\n",
       "    }\n",
       "</style>\n",
       "<table border=\"1\" class=\"dataframe\">\n",
       "  <thead>\n",
       "    <tr style=\"text-align: right;\">\n",
       "      <th></th>\n",
       "      <th>id</th>\n",
       "      <th>text</th>\n",
       "      <th>summary</th>\n",
       "    </tr>\n",
       "  </thead>\n",
       "  <tbody>\n",
       "  </tbody>\n",
       "</table>\n",
       "</div>"
      ],
      "text/plain": [
       "Empty DataFrame\n",
       "Columns: [id, text, summary]\n",
       "Index: []"
      ]
     },
     "metadata": {},
     "execution_count": 8
    }
   ],
   "metadata": {}
  },
  {
   "cell_type": "code",
   "execution_count": 9,
   "source": [
    "train_df[train_df[\"summary\"].str.len() < 10]"
   ],
   "outputs": [
    {
     "output_type": "execute_result",
     "data": {
      "text/html": [
       "<div>\n",
       "<style scoped>\n",
       "    .dataframe tbody tr th:only-of-type {\n",
       "        vertical-align: middle;\n",
       "    }\n",
       "\n",
       "    .dataframe tbody tr th {\n",
       "        vertical-align: top;\n",
       "    }\n",
       "\n",
       "    .dataframe thead th {\n",
       "        text-align: right;\n",
       "    }\n",
       "</style>\n",
       "<table border=\"1\" class=\"dataframe\">\n",
       "  <thead>\n",
       "    <tr style=\"text-align: right;\">\n",
       "      <th></th>\n",
       "      <th>id</th>\n",
       "      <th>text</th>\n",
       "      <th>summary</th>\n",
       "    </tr>\n",
       "  </thead>\n",
       "  <tbody>\n",
       "  </tbody>\n",
       "</table>\n",
       "</div>"
      ],
      "text/plain": [
       "Empty DataFrame\n",
       "Columns: [id, text, summary]\n",
       "Index: []"
      ]
     },
     "metadata": {},
     "execution_count": 9
    }
   ],
   "metadata": {}
  },
  {
   "cell_type": "code",
   "execution_count": 12,
   "source": [
    "save_obj(train_df, f\"{DATA_PATH}/df_tmp/train_df.pickle\")\n",
    "save_obj(test_df, f\"{DATA_PATH}/df_tmp/test_df.pickle\")"
   ],
   "outputs": [],
   "metadata": {}
  },
  {
   "cell_type": "markdown",
   "source": [
    "### 클리닝2"
   ],
   "metadata": {}
  },
  {
   "cell_type": "code",
   "execution_count": 41,
   "source": [
    "train_cleand = train_df.copy()\n",
    "test_cleand = test_df.copy()\n",
    "\n",
    "train_df[train_df['id']==271567]['text'].values"
   ],
   "outputs": [
    {
     "output_type": "execute_result",
     "data": {
      "text/plain": [
       "array(['[ 김보라 기자 ] 본죽을 운영하는 본아이에프 연간 매출이 2000억원을 돌파했다. 최저임금 인상, 가정간편식(HMR) 공세, 각종 식재료 가격 상승 프랜차이즈업계를 덮친 악재 속에 거둔 성과다. 2002년 9월 대학로에서 5000만원짜리 가게로 시작한 죽집은 \"아픈 사람이 먹는 죽이 돈이 되겠냐\"는 고정관념을 깨고 종합식품기업으로 성장하고 있다.'],\n",
       "      dtype=object)"
      ]
     },
     "metadata": {},
     "execution_count": 41
    }
   ],
   "metadata": {}
  },
  {
   "cell_type": "code",
   "execution_count": 42,
   "source": [
    "from prepro.preprocessor_kr import noise_remove\n",
    "\n",
    "train_cleand['text'] = train_cleand['text'].progress_apply(noise_remove)\n",
    "test_cleand['text'] = test_cleand['text'].progress_apply(noise_remove)\n",
    "\n",
    "train_cleand[train_cleand['id']==271567]['text'].values"
   ],
   "outputs": [
    {
     "output_type": "stream",
     "name": "stderr",
     "text": [
      "100%|██████████| 271659/271659 [01:07<00:00, 4027.18it/s]\n",
      "100%|██████████| 10000/10000 [00:10<00:00, 957.45it/s]\n"
     ]
    },
    {
     "output_type": "execute_result",
     "data": {
      "text/plain": [
       "array(['본죽을 운영하는 본아이에프 연간 매출이 2000억원을 돌파했다. 최저임금 인상, 가정간편식 공세, 각종 식재료 가격 상승 프랜차이즈업계를 덮친 악재 속에 거둔 성과다. 2002년 9월 대학로에서 5000만원짜리 가게로 시작한 죽집은 \"아픈 사람이 먹는 죽이 돈이 되겠냐\"는 고정관념을 깨고 종합식품기업으로 성장하고 있다.'],\n",
       "      dtype=object)"
      ]
     },
     "metadata": {},
     "execution_count": 42
    }
   ],
   "metadata": {}
  },
  {
   "cell_type": "code",
   "execution_count": 43,
   "source": [
    "print(train_cleand['text'][271567])"
   ],
   "outputs": [
    {
     "output_type": "stream",
     "name": "stdout",
     "text": [
      "] 액정표시장치 업황 부진에 유가증권시장에서 추락을 거듭하던 LG디스플레이가 최근 회복세를 보여 눈길을 끌고 있다. LCD 패널 가격 하락세가 잦아든 데다 미래 먹거리인 유기발광다이오드 사업의 성장성이 부각된 점이 투자심리 개선으로 이어졌다는 분석이다.\n"
     ]
    }
   ],
   "metadata": {}
  },
  {
   "cell_type": "code",
   "execution_count": null,
   "source": [
    "save_obj(train_cleand, f\"{DATA_PATH}/df_tmp/train_cleand.pickle\")\n",
    "save_obj(test_cleand, f\"{DATA_PATH}/df_tmp/test_cleand.pickle\")"
   ],
   "outputs": [],
   "metadata": {}
  },
  {
   "cell_type": "markdown",
   "source": [
    "## 문장 나누기"
   ],
   "metadata": {}
  },
  {
   "cell_type": "code",
   "execution_count": 46,
   "source": [
    "train_cleand_splited = train_cleand.copy()\n",
    "test_cleand_splited = test_cleand.copy()"
   ],
   "outputs": [],
   "metadata": {}
  },
  {
   "cell_type": "code",
   "execution_count": 44,
   "source": [
    "import functools\n",
    "from kss import split_sentences\n",
    "kss_split_sent = functools.partial(\n",
    "    split_sentences,\n",
    "    use_heuristic=False,\n",
    "    use_quotes_brackets_processing=False,\n",
    "    max_recover_step=3,\n",
    "    max_recover_length=1000,\n",
    "    backend=\"mecab\",\n",
    "    num_workers=28,\n",
    "    disable_gc=True,\n",
    ")"
   ],
   "outputs": [],
   "metadata": {}
  },
  {
   "cell_type": "code",
   "execution_count": 33,
   "source": [
    "print(train_cleand_splited['text'][18804])\n",
    "# print(kss_split_sent(train_data['text'][18804]))  # 오류남 쌍 quate 안에 짝이 안맞는 quate가 들어가있는 경우\n",
    "kss_split_sent(train_cleand_splited['text'][18804].replace(\"McDONALD'S\", r\"McDONALD'''\"))"
   ],
   "outputs": [
    {
     "output_type": "stream",
     "name": "stdout",
     "text": [
      "가. 등록서비스표 는 문자의 서체나 구성상 첫 글자보다 다음 글자가 점점 작게 표기되어 있어 그 구성상 일련 불가분적으로 결합된 조어로 인식되므로 인용서비스표 인 \"맥도날드\", \"McDONALD'S\"와 사이에 그 식별력을 부인할 수 없고, 칭호에 있어서 등록서비스표 는 \"맥코리아\"로 호칭되나 인용서비스표 는 \"맥도날드\"로 호칭될 것이어서 양 서비스표 는 외관, 칭호, 관념이 상이한 것이어서 객관적, 전체적, 이격적으로 관찰할 때 유사한 서비스표 라고 할 수 없다.\n"
     ]
    },
    {
     "output_type": "execute_result",
     "data": {
      "text/plain": [
       "['가.',\n",
       " '등록서비스표 는 문자의 서체나 구성상 첫 글자보다 다음 글자가 점점 작게 표기되어 있어 그 구성상 일련 불가분적으로 결합된 조어로 인식되므로 인용서비스표 인 \"맥도날드\", \"McDONALD\\'\\'\\'\"와 사이에 그 식별력을 부인할 수 없고, 칭호에 있어서 등록서비스표 는 \"맥코리아\"로 호칭되나 인용서비스표 는 \"맥도날드\"로 호칭될 것이어서 양 서비스표 는 외관, 칭호, 관념이 상이한 것이어서 객관적, 전체적, 이격적으로 관찰할 때 유사한 서비스표 라고 할 수 없다.']"
      ]
     },
     "metadata": {},
     "execution_count": 33
    }
   ],
   "metadata": {}
  },
  {
   "cell_type": "code",
   "execution_count": 45,
   "source": [
    "import re\n",
    "single_quate_not_pair_rpat = re.compile(r\"(\\\"[^'\\\"]*)'([^'\\\"]*\\\")\")\n",
    "double_quate_not_pair_rpat = re.compile(r\"(\\'[^'\\\"]*)\\\"([^'\\\"]*\\')\")\n",
    "\n",
    "def cleaner(text):\n",
    "    text = single_quate_not_pair_rpat.sub(r\"\\1 \\2\", text)\n",
    "    text = double_quate_not_pair_rpat.sub(r\"\\1 \\2\", text)\n",
    "    return text"
   ],
   "outputs": [],
   "metadata": {}
  },
  {
   "cell_type": "code",
   "execution_count": 47,
   "source": [
    "train_cleand_splited['text'] = train_cleand_splited['text'].apply(cleaner)\n",
    "train_cleand_splited['summary'] = train_cleand_splited['summary'].apply(cleaner)\n",
    "test_cleand_splited['text'] = test_cleand_splited['text'].apply(cleaner)"
   ],
   "outputs": [],
   "metadata": {}
  },
  {
   "cell_type": "code",
   "execution_count": 48,
   "source": [
    "train_cleand_splited"
   ],
   "outputs": [
    {
     "output_type": "execute_result",
     "data": {
      "text/html": [
       "<div>\n",
       "<style scoped>\n",
       "    .dataframe tbody tr th:only-of-type {\n",
       "        vertical-align: middle;\n",
       "    }\n",
       "\n",
       "    .dataframe tbody tr th {\n",
       "        vertical-align: top;\n",
       "    }\n",
       "\n",
       "    .dataframe thead th {\n",
       "        text-align: right;\n",
       "    }\n",
       "</style>\n",
       "<table border=\"1\" class=\"dataframe\">\n",
       "  <thead>\n",
       "    <tr style=\"text-align: right;\">\n",
       "      <th></th>\n",
       "      <th>id</th>\n",
       "      <th>text</th>\n",
       "      <th>summary</th>\n",
       "    </tr>\n",
       "  </thead>\n",
       "  <tbody>\n",
       "    <tr>\n",
       "      <th>0</th>\n",
       "      <td>0</td>\n",
       "      <td>원고가 소속회사의 노동조합에서 분규가 발생하자 노조활동을 구실로 정상적인 근무를 해...</td>\n",
       "      <td>원고가  주동하여 회사업무능률을 저해하고 회사업무상의 지휘명령에 위반하였다면 이에 ...</td>\n",
       "    </tr>\n",
       "    <tr>\n",
       "      <th>1</th>\n",
       "      <td>1</td>\n",
       "      <td>수출입업체인 원고가 의류제품을 제조ㆍ수출함에 있어 같은 그룹내 종합무역상사인 소외 ...</td>\n",
       "      <td>수출입업체인 원고가 의류제품을 제조ㆍ수출함에 있어 소외 회사의 직수출실적을 지원하기...</td>\n",
       "    </tr>\n",
       "    <tr>\n",
       "      <th>2</th>\n",
       "      <td>2</td>\n",
       "      <td>가등기담보권자가 제소전 화해조항에 따라 자기 명의로 소유권이전의 본등기를 경료한 후...</td>\n",
       "      <td>가등기담보권자가 제소전 화해조항에 의해 자기 명의로 소유권이전의 본등기를 경료하고 ...</td>\n",
       "    </tr>\n",
       "    <tr>\n",
       "      <th>3</th>\n",
       "      <td>3</td>\n",
       "      <td>가. 부가가치세법 제22조 제3항 단서에 제1호와 제2호가 동시에 해당한다는 뜻은 ...</td>\n",
       "      <td>부가가치세법 제22조 제3항 단서에 제1호와 제2호가 동시에 해당한다는 의미는 제1...</td>\n",
       "    </tr>\n",
       "    <tr>\n",
       "      <th>4</th>\n",
       "      <td>4</td>\n",
       "      <td>소득세법 제116조 제1항의 규정에 의하면 정부는 과세표준확정신고를 하여야 할 자에...</td>\n",
       "      <td>소득세법 제116조 제1항에 따르면 정부는 과세표준확정신고를 해야 할 자에 대해 당...</td>\n",
       "    </tr>\n",
       "    <tr>\n",
       "      <th>...</th>\n",
       "      <td>...</td>\n",
       "      <td>...</td>\n",
       "      <td>...</td>\n",
       "    </tr>\n",
       "    <tr>\n",
       "      <th>271654</th>\n",
       "      <td>271660</td>\n",
       "      <td>KCGI는 지분 늘려 13.47%로 국민연금과 합치면 20% 넘어 '백기사' 확보 ...</td>\n",
       "      <td>8일 IB업계 관계자는 상속세 납부 과정에서 조 회장 일가의 한진칼 지배구조 약화 ...</td>\n",
       "    </tr>\n",
       "    <tr>\n",
       "      <th>271655</th>\n",
       "      <td>271661</td>\n",
       "      <td>조양호 한진그룹 회장의 갑작스런 타계 소식이 전해진 8일 오전, 서울 공항동 대한항...</td>\n",
       "      <td>8일 미국에서 들려온 조양호 한진그룹 회장의 사망 소식에 서울 공항동 대한항공 본사...</td>\n",
       "    </tr>\n",
       "    <tr>\n",
       "      <th>271656</th>\n",
       "      <td>271662</td>\n",
       "      <td>조양호 한진그룹 회장이 타계하면서 그의 재산을 물려받을 장남 조원태 대한항공 사장 ...</td>\n",
       "      <td>고 조 회장의 한진칼, 한진 등 상장회사의 주식가격 총합은 약 3560억 정도 되며...</td>\n",
       "    </tr>\n",
       "    <tr>\n",
       "      <th>271657</th>\n",
       "      <td>271663</td>\n",
       "      <td>조양호 한진그룹 회장이 8일 타계하면서 그의 장남인 조원태 대한항공 사장 의 '3세...</td>\n",
       "      <td>지난 8일 조양호 한진그룹 회장이 별세하면서 한진그룹은 비상경영체제에 돌입했고, 그...</td>\n",
       "    </tr>\n",
       "    <tr>\n",
       "      <th>271658</th>\n",
       "      <td>271664</td>\n",
       "      <td>국방부가 8일 상반기 군 장성 인사를 단행했다. 한국군 주도의 한·미 연합작전 수행...</td>\n",
       "      <td>국방부는 8일 신임 육군참모총장에 '서욱' 합동참모본부 작전본부장, 신임 공군참모총...</td>\n",
       "    </tr>\n",
       "  </tbody>\n",
       "</table>\n",
       "<p>271659 rows × 3 columns</p>\n",
       "</div>"
      ],
      "text/plain": [
       "            id                                               text  \\\n",
       "0            0  원고가 소속회사의 노동조합에서 분규가 발생하자 노조활동을 구실로 정상적인 근무를 해...   \n",
       "1            1  수출입업체인 원고가 의류제품을 제조ㆍ수출함에 있어 같은 그룹내 종합무역상사인 소외 ...   \n",
       "2            2  가등기담보권자가 제소전 화해조항에 따라 자기 명의로 소유권이전의 본등기를 경료한 후...   \n",
       "3            3  가. 부가가치세법 제22조 제3항 단서에 제1호와 제2호가 동시에 해당한다는 뜻은 ...   \n",
       "4            4  소득세법 제116조 제1항의 규정에 의하면 정부는 과세표준확정신고를 하여야 할 자에...   \n",
       "...        ...                                                ...   \n",
       "271654  271660  KCGI는 지분 늘려 13.47%로 국민연금과 합치면 20% 넘어 '백기사' 확보 ...   \n",
       "271655  271661  조양호 한진그룹 회장의 갑작스런 타계 소식이 전해진 8일 오전, 서울 공항동 대한항...   \n",
       "271656  271662  조양호 한진그룹 회장이 타계하면서 그의 재산을 물려받을 장남 조원태 대한항공 사장 ...   \n",
       "271657  271663  조양호 한진그룹 회장이 8일 타계하면서 그의 장남인 조원태 대한항공 사장 의 '3세...   \n",
       "271658  271664  국방부가 8일 상반기 군 장성 인사를 단행했다. 한국군 주도의 한·미 연합작전 수행...   \n",
       "\n",
       "                                                  summary  \n",
       "0       원고가  주동하여 회사업무능률을 저해하고 회사업무상의 지휘명령에 위반하였다면 이에 ...  \n",
       "1       수출입업체인 원고가 의류제품을 제조ㆍ수출함에 있어 소외 회사의 직수출실적을 지원하기...  \n",
       "2       가등기담보권자가 제소전 화해조항에 의해 자기 명의로 소유권이전의 본등기를 경료하고 ...  \n",
       "3       부가가치세법 제22조 제3항 단서에 제1호와 제2호가 동시에 해당한다는 의미는 제1...  \n",
       "4       소득세법 제116조 제1항에 따르면 정부는 과세표준확정신고를 해야 할 자에 대해 당...  \n",
       "...                                                   ...  \n",
       "271654  8일 IB업계 관계자는 상속세 납부 과정에서 조 회장 일가의 한진칼 지배구조 약화 ...  \n",
       "271655  8일 미국에서 들려온 조양호 한진그룹 회장의 사망 소식에 서울 공항동 대한항공 본사...  \n",
       "271656  고 조 회장의 한진칼, 한진 등 상장회사의 주식가격 총합은 약 3560억 정도 되며...  \n",
       "271657  지난 8일 조양호 한진그룹 회장이 별세하면서 한진그룹은 비상경영체제에 돌입했고, 그...  \n",
       "271658  국방부는 8일 신임 육군참모총장에 '서욱' 합동참모본부 작전본부장, 신임 공군참모총...  \n",
       "\n",
       "[271659 rows x 3 columns]"
      ]
     },
     "metadata": {},
     "execution_count": 48
    }
   ],
   "metadata": {}
  },
  {
   "cell_type": "code",
   "execution_count": 50,
   "source": [
    "print(len(train_cleand_splited))\n",
    "print(len(test_cleand_splited))"
   ],
   "outputs": [
    {
     "output_type": "stream",
     "name": "stdout",
     "text": [
      "271659\n",
      "10000\n"
     ]
    }
   ],
   "metadata": {}
  },
  {
   "cell_type": "code",
   "execution_count": null,
   "source": [
    "for df_total in [train_cleand_splited, test_cleand_splited]\n",
    "    dfs_split = np.array_split(df_total, 100)\n",
    "    srs = []\n",
    "    for df in tqdm(dfs_split):\n",
    "        part_sr = pd.Series()\n",
    "        ids = df['id'].values\n",
    "        print(ids[0], ids[-1])\n",
    "        # print(list(df['text'].values))\n",
    "        part_text_sr = pd.Series(kss_split_sent(list(df['text'].values)))\n",
    "        assert len(part_text_sr) == len(df['text'])\n",
    "        part_summary_sr = pd.Series(kss_split_sent(list(df['summary'].values)))\n",
    "        # print(len(part_summary_sr))\n",
    "        assert len(part_summary_sr) == len(df['summary'])\n",
    "        \n",
    "        part_sr['text'] = df['text']\n",
    "        part_sr['summary'] = part_summary_sr\n",
    "        srs.append(part_sr)\n",
    "        \n",
    "    result_sr = pd.concat([sr['summary'] for sr in srs], axis=0)\n",
    "    result_sr.reset_index(drop=True, inplace=True)\n",
    "    result_sr"
   ],
   "outputs": [],
   "metadata": {}
  },
  {
   "cell_type": "code",
   "execution_count": null,
   "source": [
    "\n",
    "len(kss_split_sent(list(train_data['text'][18800:18900].apply(cleaner))))"
   ],
   "outputs": [
    {
     "output_type": "display_data",
     "data": {
      "text/plain": [
       "100"
      ]
     },
     "metadata": {}
    }
   ],
   "metadata": {}
  },
  {
   "cell_type": "code",
   "execution_count": null,
   "source": [
    "print(texts[18804])\n",
    "print(texts[18804].replace(\"'\", \" \"))\n",
    "kss_split_sent(texts[18804].replace(\"McDONALD'S\", r\"McDONALD'''\"))"
   ],
   "outputs": [
    {
     "output_type": "stream",
     "name": "stdout",
     "text": [
      "가. 등록서비스표 는 문자의 서체나 구성상 첫 글자보다 다음 글자가 점점 작게 표기되어 있어 그 구성상 일련 불가분적으로 결합된 조어로 인식되므로 인용서비스표 인 \"맥도날드\", \"McDONALD'S\"와 사이에 그 식별력을 부인할 수 없고, 칭호에 있어서 등록서비스표 는 \"맥코리아\"로 호칭되나 인용서비스표 는 \"맥도날드\"로 호칭될 것이어서 양 서비스표 는 외관, 칭호, 관념이 상이한 것이어서 객관적, 전체적, 이격적으로 관찰할 때 유사한 서비스표 라고 할 수 없다.\n",
      "가. 등록서비스표 는 문자의 서체나 구성상 첫 글자보다 다음 글자가 점점 작게 표기되어 있어 그 구성상 일련 불가분적으로 결합된 조어로 인식되므로 인용서비스표 인 \"맥도날드\", \"McDONALD S\"와 사이에 그 식별력을 부인할 수 없고, 칭호에 있어서 등록서비스표 는 \"맥코리아\"로 호칭되나 인용서비스표 는 \"맥도날드\"로 호칭될 것이어서 양 서비스표 는 외관, 칭호, 관념이 상이한 것이어서 객관적, 전체적, 이격적으로 관찰할 때 유사한 서비스표 라고 할 수 없다.\n"
     ]
    },
    {
     "output_type": "display_data",
     "data": {
      "text/plain": [
       "['가.',\n",
       " '등록서비스표 는 문자의 서체나 구성상 첫 글자보다 다음 글자가 점점 작게 표기되어 있어 그 구성상 일련 불가분적으로 결합된 조어로 인식되므로 인용서비스표 인 \"맥도날드\", \"McDONALD\\'\\'\\'\"와 사이에 그 식별력을 부인할 수 없고, 칭호에 있어서 등록서비스표 는 \"맥코리아\"로 호칭되나 인용서비스표 는 \"맥도날드\"로 호칭될 것이어서 양 서비스표 는 외관, 칭호, 관념이 상이한 것이어서 객관적, 전체적, 이격적으로 관찰할 때 유사한 서비스표 라고 할 수 없다.']"
      ]
     },
     "metadata": {}
    }
   ],
   "metadata": {}
  },
  {
   "cell_type": "code",
   "execution_count": null,
   "source": [
    "import re\n",
    "single_quate_not_pair_rpat = re.compile(r\"(\\\"[^'\\\"]*)'([^'\\\"]*\\\")\")\n",
    "double_quate_not_pair_rpat = re.compile(r\"(\\'[^'\\\"]*)\\\"([^'\\\"]*\\')\")\n",
    "\n",
    "def cleaner(text):\n",
    "    text = single_quate_not_pair_rpat.sub(r\"\\1 \\2\", text)\n",
    "    text = double_quate_not_pair_rpat.sub(r\"\\1 \\2\", text)\n",
    "    return text"
   ],
   "outputs": [],
   "metadata": {}
  },
  {
   "cell_type": "code",
   "execution_count": 152,
   "source": [
    "train_data"
   ],
   "outputs": [
    {
     "output_type": "execute_result",
     "data": {
      "text/html": [
       "<div>\n",
       "<style scoped>\n",
       "    .dataframe tbody tr th:only-of-type {\n",
       "        vertical-align: middle;\n",
       "    }\n",
       "\n",
       "    .dataframe tbody tr th {\n",
       "        vertical-align: top;\n",
       "    }\n",
       "\n",
       "    .dataframe thead th {\n",
       "        text-align: right;\n",
       "    }\n",
       "</style>\n",
       "<table border=\"1\" class=\"dataframe\">\n",
       "  <thead>\n",
       "    <tr style=\"text-align: right;\">\n",
       "      <th></th>\n",
       "      <th>id</th>\n",
       "      <th>text</th>\n",
       "      <th>summary</th>\n",
       "    </tr>\n",
       "  </thead>\n",
       "  <tbody>\n",
       "    <tr>\n",
       "      <th>0</th>\n",
       "      <td>0</td>\n",
       "      <td>[원고가 소속회사의 노동조합에서 분규가 발생하자 노조활동을 구실로 정상적인 근무를 ...</td>\n",
       "      <td>원고가  주동하여 회사업무능률을 저해하고 회사업무상의 지휘명령에 위반하였다면 이에 ...</td>\n",
       "    </tr>\n",
       "    <tr>\n",
       "      <th>1</th>\n",
       "      <td>1</td>\n",
       "      <td>[수출입업체인 원고가 의류제품을 제조ㆍ수출함에 있어 같은 그룹내 종합무역상사인 소외...</td>\n",
       "      <td>수출입업체인 원고가 의류제품을 제조ㆍ수출함에 있어 소외 회사의 직수출실적을 지원하기...</td>\n",
       "    </tr>\n",
       "    <tr>\n",
       "      <th>2</th>\n",
       "      <td>2</td>\n",
       "      <td>[가등기담보권자가 제소전 화해조항에 따라 자기 명의로 소유권이전의 본등기를 경료한 ...</td>\n",
       "      <td>가등기담보권자가 제소전 화해조항에 의해 자기 명의로 소유권이전의 본등기를 경료하고 ...</td>\n",
       "    </tr>\n",
       "    <tr>\n",
       "      <th>3</th>\n",
       "      <td>3</td>\n",
       "      <td>[가., 부가가치세법 제22조 제3항 단서에 제1호와 제2호가 동시에 해당한다는 뜻...</td>\n",
       "      <td>부가가치세법 제22조 제3항 단서에 제1호와 제2호가 동시에 해당한다는 의미는 제1...</td>\n",
       "    </tr>\n",
       "    <tr>\n",
       "      <th>4</th>\n",
       "      <td>4</td>\n",
       "      <td>[소득세법 제116조 제1항의 규정에 의하면 정부는 과세표준확정신고를 하여야 할 자...</td>\n",
       "      <td>소득세법 제116조 제1항에 따르면 정부는 과세표준확정신고를 해야 할 자에 대해 당...</td>\n",
       "    </tr>\n",
       "    <tr>\n",
       "      <th>...</th>\n",
       "      <td>...</td>\n",
       "      <td>...</td>\n",
       "      <td>...</td>\n",
       "    </tr>\n",
       "    <tr>\n",
       "      <th>271654</th>\n",
       "      <td>271660</td>\n",
       "      <td>[KCGI는 지분 늘려 13.47%로 국민연금과 합치면 20% 넘어 '백기사' 확보...</td>\n",
       "      <td>8일 IB업계 관계자는 상속세 납부 과정에서 조 회장 일가의 한진칼 지배구조 약화 ...</td>\n",
       "    </tr>\n",
       "    <tr>\n",
       "      <th>271655</th>\n",
       "      <td>271661</td>\n",
       "      <td>[[ 노유정 기자 ] 조양호 한진그룹 회장의 갑작스런 타계 소식이 전해진 8일 오전...</td>\n",
       "      <td>8일 미국에서 들려온 조양호 한진그룹 회장의 사망 소식에 서울 공항동 대한항공 본사...</td>\n",
       "    </tr>\n",
       "    <tr>\n",
       "      <th>271656</th>\n",
       "      <td>271662</td>\n",
       "      <td>[[ 김익환 기자 ] 조양호 한진그룹 회장이 타계하면서 그의 재산을 물려받을 장남 ...</td>\n",
       "      <td>고 조 회장의 한진칼, 한진 등 상장회사의 주식가격 총합은 약 3560억 정도 되며...</td>\n",
       "    </tr>\n",
       "    <tr>\n",
       "      <th>271657</th>\n",
       "      <td>271663</td>\n",
       "      <td>[[ 김보형 기자 ] 조양호 한진그룹 회장이 8일 타계하면서 그의 장남인 조원태 대...</td>\n",
       "      <td>지난 8일 조양호 한진그룹 회장이 별세하면서 한진그룹은 비상경영체제에 돌입했고, 그...</td>\n",
       "    </tr>\n",
       "    <tr>\n",
       "      <th>271658</th>\n",
       "      <td>271664</td>\n",
       "      <td>[[ 박동휘 기자 ] 국방부가 8일 상반기 군 장성 인사를 단행했다., 한국군 주도...</td>\n",
       "      <td>국방부는 8일 신임 육군참모총장에 '서욱' 합동참모본부 작전본부장, 신임 공군참모총...</td>\n",
       "    </tr>\n",
       "  </tbody>\n",
       "</table>\n",
       "<p>271659 rows × 3 columns</p>\n",
       "</div>"
      ],
      "text/plain": [
       "            id                                               text  \\\n",
       "0            0  [원고가 소속회사의 노동조합에서 분규가 발생하자 노조활동을 구실로 정상적인 근무를 ...   \n",
       "1            1  [수출입업체인 원고가 의류제품을 제조ㆍ수출함에 있어 같은 그룹내 종합무역상사인 소외...   \n",
       "2            2  [가등기담보권자가 제소전 화해조항에 따라 자기 명의로 소유권이전의 본등기를 경료한 ...   \n",
       "3            3  [가., 부가가치세법 제22조 제3항 단서에 제1호와 제2호가 동시에 해당한다는 뜻...   \n",
       "4            4  [소득세법 제116조 제1항의 규정에 의하면 정부는 과세표준확정신고를 하여야 할 자...   \n",
       "...        ...                                                ...   \n",
       "271654  271660  [KCGI는 지분 늘려 13.47%로 국민연금과 합치면 20% 넘어 '백기사' 확보...   \n",
       "271655  271661  [[ 노유정 기자 ] 조양호 한진그룹 회장의 갑작스런 타계 소식이 전해진 8일 오전...   \n",
       "271656  271662  [[ 김익환 기자 ] 조양호 한진그룹 회장이 타계하면서 그의 재산을 물려받을 장남 ...   \n",
       "271657  271663  [[ 김보형 기자 ] 조양호 한진그룹 회장이 8일 타계하면서 그의 장남인 조원태 대...   \n",
       "271658  271664  [[ 박동휘 기자 ] 국방부가 8일 상반기 군 장성 인사를 단행했다., 한국군 주도...   \n",
       "\n",
       "                                                  summary  \n",
       "0       원고가  주동하여 회사업무능률을 저해하고 회사업무상의 지휘명령에 위반하였다면 이에 ...  \n",
       "1       수출입업체인 원고가 의류제품을 제조ㆍ수출함에 있어 소외 회사의 직수출실적을 지원하기...  \n",
       "2       가등기담보권자가 제소전 화해조항에 의해 자기 명의로 소유권이전의 본등기를 경료하고 ...  \n",
       "3       부가가치세법 제22조 제3항 단서에 제1호와 제2호가 동시에 해당한다는 의미는 제1...  \n",
       "4       소득세법 제116조 제1항에 따르면 정부는 과세표준확정신고를 해야 할 자에 대해 당...  \n",
       "...                                                   ...  \n",
       "271654  8일 IB업계 관계자는 상속세 납부 과정에서 조 회장 일가의 한진칼 지배구조 약화 ...  \n",
       "271655  8일 미국에서 들려온 조양호 한진그룹 회장의 사망 소식에 서울 공항동 대한항공 본사...  \n",
       "271656  고 조 회장의 한진칼, 한진 등 상장회사의 주식가격 총합은 약 3560억 정도 되며...  \n",
       "271657  지난 8일 조양호 한진그룹 회장이 별세하면서 한진그룹은 비상경영체제에 돌입했고, 그...  \n",
       "271658  국방부는 8일 신임 육군참모총장에 '서욱' 합동참모본부 작전본부장, 신임 공군참모총...  \n",
       "\n",
       "[271659 rows x 3 columns]"
      ]
     },
     "metadata": {},
     "execution_count": 152
    }
   ],
   "metadata": {}
  },
  {
   "cell_type": "code",
   "execution_count": 154,
   "source": [
    "train_data['summary'] = result_sr\n",
    "train_data"
   ],
   "outputs": [
    {
     "output_type": "execute_result",
     "data": {
      "text/html": [
       "<div>\n",
       "<style scoped>\n",
       "    .dataframe tbody tr th:only-of-type {\n",
       "        vertical-align: middle;\n",
       "    }\n",
       "\n",
       "    .dataframe tbody tr th {\n",
       "        vertical-align: top;\n",
       "    }\n",
       "\n",
       "    .dataframe thead th {\n",
       "        text-align: right;\n",
       "    }\n",
       "</style>\n",
       "<table border=\"1\" class=\"dataframe\">\n",
       "  <thead>\n",
       "    <tr style=\"text-align: right;\">\n",
       "      <th></th>\n",
       "      <th>id</th>\n",
       "      <th>text</th>\n",
       "      <th>summary</th>\n",
       "    </tr>\n",
       "  </thead>\n",
       "  <tbody>\n",
       "    <tr>\n",
       "      <th>0</th>\n",
       "      <td>0</td>\n",
       "      <td>[원고가 소속회사의 노동조합에서 분규가 발생하자 노조활동을 구실로 정상적인 근무를 ...</td>\n",
       "      <td>[원고가 주동하여 회사업무능률을 저해하고 회사업무상의 지휘명령에 위반하였다면 이에 ...</td>\n",
       "    </tr>\n",
       "    <tr>\n",
       "      <th>1</th>\n",
       "      <td>1</td>\n",
       "      <td>[수출입업체인 원고가 의류제품을 제조ㆍ수출함에 있어 같은 그룹내 종합무역상사인 소외...</td>\n",
       "      <td>[수출입업체인 원고가 의류제품을 제조ㆍ수출함에 있어 소외 회사의 직수출실적을 지원하...</td>\n",
       "    </tr>\n",
       "    <tr>\n",
       "      <th>2</th>\n",
       "      <td>2</td>\n",
       "      <td>[가등기담보권자가 제소전 화해조항에 따라 자기 명의로 소유권이전의 본등기를 경료한 ...</td>\n",
       "      <td>[가등기담보권자가 제소전 화해조항에 의해 자기 명의로 소유권이전의 본등기를 경료하고...</td>\n",
       "    </tr>\n",
       "    <tr>\n",
       "      <th>3</th>\n",
       "      <td>3</td>\n",
       "      <td>[가., 부가가치세법 제22조 제3항 단서에 제1호와 제2호가 동시에 해당한다는 뜻...</td>\n",
       "      <td>[부가가치세법 제22조 제3항 단서에 제1호와 제2호가 동시에 해당한다는 의미는 제...</td>\n",
       "    </tr>\n",
       "    <tr>\n",
       "      <th>4</th>\n",
       "      <td>4</td>\n",
       "      <td>[소득세법 제116조 제1항의 규정에 의하면 정부는 과세표준확정신고를 하여야 할 자...</td>\n",
       "      <td>[소득세법 제116조 제1항에 따르면 정부는 과세표준확정신고를 해야 할 자에 대해 ...</td>\n",
       "    </tr>\n",
       "    <tr>\n",
       "      <th>...</th>\n",
       "      <td>...</td>\n",
       "      <td>...</td>\n",
       "      <td>...</td>\n",
       "    </tr>\n",
       "    <tr>\n",
       "      <th>271654</th>\n",
       "      <td>271660</td>\n",
       "      <td>[KCGI는 지분 늘려 13.47%로 국민연금과 합치면 20% 넘어 '백기사' 확보...</td>\n",
       "      <td>[8일 IB업계 관계자는 상속세 납부 과정에서 조 회장 일가의 한진칼 지배구조 약화...</td>\n",
       "    </tr>\n",
       "    <tr>\n",
       "      <th>271655</th>\n",
       "      <td>271661</td>\n",
       "      <td>[[ 노유정 기자 ] 조양호 한진그룹 회장의 갑작스런 타계 소식이 전해진 8일 오전...</td>\n",
       "      <td>[8일 미국에서 들려온 조양호 한진그룹 회장의 사망 소식에 서울 공항동 대한항공 본...</td>\n",
       "    </tr>\n",
       "    <tr>\n",
       "      <th>271656</th>\n",
       "      <td>271662</td>\n",
       "      <td>[[ 김익환 기자 ] 조양호 한진그룹 회장이 타계하면서 그의 재산을 물려받을 장남 ...</td>\n",
       "      <td>[고 조 회장의 한진칼, 한진 등 상장회사의 주식가격 총합은 약 3560억 정도 되...</td>\n",
       "    </tr>\n",
       "    <tr>\n",
       "      <th>271657</th>\n",
       "      <td>271663</td>\n",
       "      <td>[[ 김보형 기자 ] 조양호 한진그룹 회장이 8일 타계하면서 그의 장남인 조원태 대...</td>\n",
       "      <td>[지난 8일 조양호 한진그룹 회장이 별세하면서 한진그룹은 비상경영체제에 돌입했고, ...</td>\n",
       "    </tr>\n",
       "    <tr>\n",
       "      <th>271658</th>\n",
       "      <td>271664</td>\n",
       "      <td>[[ 박동휘 기자 ] 국방부가 8일 상반기 군 장성 인사를 단행했다., 한국군 주도...</td>\n",
       "      <td>[국방부는 8일 신임 육군참모총장에 '서욱' 합동참모본부 작전본부장, 신임 공군참모...</td>\n",
       "    </tr>\n",
       "  </tbody>\n",
       "</table>\n",
       "<p>271659 rows × 3 columns</p>\n",
       "</div>"
      ],
      "text/plain": [
       "            id                                               text  \\\n",
       "0            0  [원고가 소속회사의 노동조합에서 분규가 발생하자 노조활동을 구실로 정상적인 근무를 ...   \n",
       "1            1  [수출입업체인 원고가 의류제품을 제조ㆍ수출함에 있어 같은 그룹내 종합무역상사인 소외...   \n",
       "2            2  [가등기담보권자가 제소전 화해조항에 따라 자기 명의로 소유권이전의 본등기를 경료한 ...   \n",
       "3            3  [가., 부가가치세법 제22조 제3항 단서에 제1호와 제2호가 동시에 해당한다는 뜻...   \n",
       "4            4  [소득세법 제116조 제1항의 규정에 의하면 정부는 과세표준확정신고를 하여야 할 자...   \n",
       "...        ...                                                ...   \n",
       "271654  271660  [KCGI는 지분 늘려 13.47%로 국민연금과 합치면 20% 넘어 '백기사' 확보...   \n",
       "271655  271661  [[ 노유정 기자 ] 조양호 한진그룹 회장의 갑작스런 타계 소식이 전해진 8일 오전...   \n",
       "271656  271662  [[ 김익환 기자 ] 조양호 한진그룹 회장이 타계하면서 그의 재산을 물려받을 장남 ...   \n",
       "271657  271663  [[ 김보형 기자 ] 조양호 한진그룹 회장이 8일 타계하면서 그의 장남인 조원태 대...   \n",
       "271658  271664  [[ 박동휘 기자 ] 국방부가 8일 상반기 군 장성 인사를 단행했다., 한국군 주도...   \n",
       "\n",
       "                                                  summary  \n",
       "0       [원고가 주동하여 회사업무능률을 저해하고 회사업무상의 지휘명령에 위반하였다면 이에 ...  \n",
       "1       [수출입업체인 원고가 의류제품을 제조ㆍ수출함에 있어 소외 회사의 직수출실적을 지원하...  \n",
       "2       [가등기담보권자가 제소전 화해조항에 의해 자기 명의로 소유권이전의 본등기를 경료하고...  \n",
       "3       [부가가치세법 제22조 제3항 단서에 제1호와 제2호가 동시에 해당한다는 의미는 제...  \n",
       "4       [소득세법 제116조 제1항에 따르면 정부는 과세표준확정신고를 해야 할 자에 대해 ...  \n",
       "...                                                   ...  \n",
       "271654  [8일 IB업계 관계자는 상속세 납부 과정에서 조 회장 일가의 한진칼 지배구조 약화...  \n",
       "271655  [8일 미국에서 들려온 조양호 한진그룹 회장의 사망 소식에 서울 공항동 대한항공 본...  \n",
       "271656  [고 조 회장의 한진칼, 한진 등 상장회사의 주식가격 총합은 약 3560억 정도 되...  \n",
       "271657  [지난 8일 조양호 한진그룹 회장이 별세하면서 한진그룹은 비상경영체제에 돌입했고, ...  \n",
       "271658  [국방부는 8일 신임 육군참모총장에 '서욱' 합동참모본부 작전본부장, 신임 공군참모...  \n",
       "\n",
       "[271659 rows x 3 columns]"
      ]
     },
     "metadata": {},
     "execution_count": 154
    }
   ],
   "metadata": {}
  },
  {
   "cell_type": "code",
   "execution_count": null,
   "source": [
    "train_data['text'][train_data['text'].str.contains(r'(\\(|\\[)(?!이하).{,30}(\\)|\\])', regex= True)]"
   ],
   "outputs": [],
   "metadata": {}
  },
  {
   "cell_type": "code",
   "execution_count": null,
   "source": [],
   "outputs": [],
   "metadata": {}
  },
  {
   "cell_type": "code",
   "execution_count": null,
   "source": [],
   "outputs": [],
   "metadata": {}
  },
  {
   "cell_type": "code",
   "execution_count": null,
   "source": [],
   "outputs": [],
   "metadata": {}
  },
  {
   "cell_type": "code",
   "execution_count": null,
   "source": [
    "# text보다 summary가 짧은 경우 제외\n",
    "train_df[train_df['text'].str.len() < train_df['summary'].str.len()]"
   ],
   "outputs": [
    {
     "output_type": "display_data",
     "data": {
      "text/html": [
       "<div>\n",
       "<style scoped>\n",
       "    .dataframe tbody tr th:only-of-type {\n",
       "        vertical-align: middle;\n",
       "    }\n",
       "\n",
       "    .dataframe tbody tr th {\n",
       "        vertical-align: top;\n",
       "    }\n",
       "\n",
       "    .dataframe thead th {\n",
       "        text-align: right;\n",
       "    }\n",
       "</style>\n",
       "<table border=\"1\" class=\"dataframe\">\n",
       "  <thead>\n",
       "    <tr style=\"text-align: right;\">\n",
       "      <th></th>\n",
       "      <th>id</th>\n",
       "      <th>text</th>\n",
       "      <th>summary</th>\n",
       "    </tr>\n",
       "  </thead>\n",
       "  <tbody>\n",
       "    <tr>\n",
       "      <th>3</th>\n",
       "      <td>3</td>\n",
       "      <td>가. 부가가치세법 제22조 제3항 단서에 제1호와 제2호가 동시에 해당한다는 뜻은 ...</td>\n",
       "      <td>부가가치세법 제22조 제3항 단서에 제1호와 제2호가 동시에 해당한다는 의미는 제1...</td>\n",
       "    </tr>\n",
       "    <tr>\n",
       "      <th>18</th>\n",
       "      <td>18</td>\n",
       "      <td>가. 군사시설보호법에 의한 군사시설보호구역의 설정, 변경 또는 해제와 같은 행위는 ...</td>\n",
       "      <td>군사시설보호법에 의한 군사시설보호구역의 설정, 변경 또는 해제는 대외적인 공고,\\n...</td>\n",
       "    </tr>\n",
       "    <tr>\n",
       "      <th>20</th>\n",
       "      <td>20</td>\n",
       "      <td>가. 세무공무원이 치안본부에서 통보해온 진술서 등 수사서류에 대한 진부를 확인하는 ...</td>\n",
       "      <td>국세기본법 제27조 제1항에 따라 5년간 행사되지 않은 권리는 소멸하고 이는 국세징...</td>\n",
       "    </tr>\n",
       "    <tr>\n",
       "      <th>21</th>\n",
       "      <td>21</td>\n",
       "      <td>가. 부과납세방식의 국세에 있어서는 과세관청이 조사확인한 과세표준과 세액을 부과결정...</td>\n",
       "      <td>부과세납부방식의 국세에 있어 과세관청의 조사확인한 과세표준과 세약을 부과결정한 때 ...</td>\n",
       "    </tr>\n",
       "    <tr>\n",
       "      <th>34</th>\n",
       "      <td>34</td>\n",
       "      <td>가. 이 사건 등록상표가 그 등록 이전부터 피심판청구인의 상표로서 일반에게 주지되어...</td>\n",
       "      <td>이 사건 등록상표가 등록 이전부터 주지성이 있었다면, 주지상표로서 인용상표 등의 등...</td>\n",
       "    </tr>\n",
       "    <tr>\n",
       "      <th>...</th>\n",
       "      <td>...</td>\n",
       "      <td>...</td>\n",
       "      <td>...</td>\n",
       "    </tr>\n",
       "    <tr>\n",
       "      <th>271653</th>\n",
       "      <td>271653</td>\n",
       "      <td>[ 성수영 기자 ] 홍남기 부총리 겸 기획재정부 장관은 8일 정부세종청사 법제처 대...</td>\n",
       "      <td>지난 8일 홍남기 부총리의 주재로 정부세종청사에서 대외경제장관회의가 진행었으나 각 ...</td>\n",
       "    </tr>\n",
       "    <tr>\n",
       "      <th>271654</th>\n",
       "      <td>271654</td>\n",
       "      <td>] 네이버 쇼핑몰 '네이버스토어'의 판매자가 판매대금을 미리 받을 수 있는 프로그램...</td>\n",
       "      <td>네이버는 네이버스토어에 판매대금 80%를 최대 11일 이상 빨리 받을 수 있어 비용...</td>\n",
       "    </tr>\n",
       "    <tr>\n",
       "      <th>271657</th>\n",
       "      <td>271657</td>\n",
       "      <td>] 렌털 사업을 하는 AJ그룹의 지주회사인 AJ네트웍스 주가가 이달 들어 20% 넘...</td>\n",
       "      <td>렌털 사업을 하는 AJ그룹의 지주회사인 AJ네트웍스 주가가 이달 들어 20% 넘게 ...</td>\n",
       "    </tr>\n",
       "    <tr>\n",
       "      <th>271658</th>\n",
       "      <td>271658</td>\n",
       "      <td>김광수 농협금융지주 회장은 8일 \"인공지능(AI), 클라우드 등 신기술을 활용한 혁...</td>\n",
       "      <td>농협금융이 디지털 금융그룹이 되겠다는 포부로 조성한 디지털 특구 'NH디지털혁신캠퍼...</td>\n",
       "    </tr>\n",
       "    <tr>\n",
       "      <th>271660</th>\n",
       "      <td>271660</td>\n",
       "      <td>KCGI는 지분 늘려 13.47%로 국민연금과 합치면 20% 넘어 '백기사' 확보 ...</td>\n",
       "      <td>8일 IB업계 관계자는 상속세 납부 과정에서 조 회장 일가의 한진칼 지배구조 약화 ...</td>\n",
       "    </tr>\n",
       "  </tbody>\n",
       "</table>\n",
       "<p>138063 rows × 3 columns</p>\n",
       "</div>"
      ],
      "text/plain": [
       "            id                                               text  \\\n",
       "3            3  가. 부가가치세법 제22조 제3항 단서에 제1호와 제2호가 동시에 해당한다는 뜻은 ...   \n",
       "18          18  가. 군사시설보호법에 의한 군사시설보호구역의 설정, 변경 또는 해제와 같은 행위는 ...   \n",
       "20          20  가. 세무공무원이 치안본부에서 통보해온 진술서 등 수사서류에 대한 진부를 확인하는 ...   \n",
       "21          21  가. 부과납세방식의 국세에 있어서는 과세관청이 조사확인한 과세표준과 세액을 부과결정...   \n",
       "34          34  가. 이 사건 등록상표가 그 등록 이전부터 피심판청구인의 상표로서 일반에게 주지되어...   \n",
       "...        ...                                                ...   \n",
       "271653  271653  [ 성수영 기자 ] 홍남기 부총리 겸 기획재정부 장관은 8일 정부세종청사 법제처 대...   \n",
       "271654  271654  ] 네이버 쇼핑몰 '네이버스토어'의 판매자가 판매대금을 미리 받을 수 있는 프로그램...   \n",
       "271657  271657  ] 렌털 사업을 하는 AJ그룹의 지주회사인 AJ네트웍스 주가가 이달 들어 20% 넘...   \n",
       "271658  271658  김광수 농협금융지주 회장은 8일 \"인공지능(AI), 클라우드 등 신기술을 활용한 혁...   \n",
       "271660  271660  KCGI는 지분 늘려 13.47%로 국민연금과 합치면 20% 넘어 '백기사' 확보 ...   \n",
       "\n",
       "                                                  summary  \n",
       "3       부가가치세법 제22조 제3항 단서에 제1호와 제2호가 동시에 해당한다는 의미는 제1...  \n",
       "18      군사시설보호법에 의한 군사시설보호구역의 설정, 변경 또는 해제는 대외적인 공고,\\n...  \n",
       "20      국세기본법 제27조 제1항에 따라 5년간 행사되지 않은 권리는 소멸하고 이는 국세징...  \n",
       "21      부과세납부방식의 국세에 있어 과세관청의 조사확인한 과세표준과 세약을 부과결정한 때 ...  \n",
       "34      이 사건 등록상표가 등록 이전부터 주지성이 있었다면, 주지상표로서 인용상표 등의 등...  \n",
       "...                                                   ...  \n",
       "271653  지난 8일 홍남기 부총리의 주재로 정부세종청사에서 대외경제장관회의가 진행었으나 각 ...  \n",
       "271654  네이버는 네이버스토어에 판매대금 80%를 최대 11일 이상 빨리 받을 수 있어 비용...  \n",
       "271657  렌털 사업을 하는 AJ그룹의 지주회사인 AJ네트웍스 주가가 이달 들어 20% 넘게 ...  \n",
       "271658  농협금융이 디지털 금융그룹이 되겠다는 포부로 조성한 디지털 특구 'NH디지털혁신캠퍼...  \n",
       "271660  8일 IB업계 관계자는 상속세 납부 과정에서 조 회장 일가의 한진칼 지배구조 약화 ...  \n",
       "\n",
       "[138063 rows x 3 columns]"
      ]
     },
     "metadata": {}
    }
   ],
   "metadata": {}
  },
  {
   "cell_type": "code",
   "execution_count": null,
   "source": [
    "list(train_df[train_df['text'].str.len() < train_df['summary'].str.len()]['id'].values)"
   ],
   "outputs": [],
   "metadata": {}
  },
  {
   "cell_type": "code",
   "execution_count": null,
   "source": [],
   "outputs": [],
   "metadata": {}
  },
  {
   "cell_type": "code",
   "execution_count": null,
   "source": [],
   "outputs": [],
   "metadata": {}
  },
  {
   "cell_type": "code",
   "execution_count": 234,
   "source": [
    "save_obj(train_data, f\"{DATA_PATH}/df/train_list_df.pickle\")\n",
    "save_obj(test_data, f\"{DATA_PATH}/df/test_df.pickle\")\n",
    "# save_obj(sample_submission, f\"{DATA_PATH}/df\")"
   ],
   "outputs": [],
   "metadata": {}
  },
  {
   "cell_type": "code",
   "execution_count": null,
   "source": [],
   "outputs": [],
   "metadata": {}
  },
  {
   "cell_type": "markdown",
   "source": [
    "## EDA"
   ],
   "metadata": {}
  },
  {
   "cell_type": "code",
   "execution_count": null,
   "source": [
    "import matplotlib.pyplot as plt\n",
    "%matplotlib inline\n",
    "import seaborn as sns"
   ],
   "outputs": [],
   "metadata": {}
  },
  {
   "cell_type": "code",
   "execution_count": null,
   "source": [
    "\n",
    "original_sent_counts = train_data['text'].apply(lambda x: len(x.split(' ')))\n",
    "\n",
    "fig, axs = plt.subplots(1, 2, figsize=(16, 6), gridspec_kw=dict(width_ratios=[4, 3]))\n",
    "sns.histplot(original_sent_counts, binwidth=1, ax=axs[0])\n",
    "sns.boxplot(original_sent_counts, ax=axs[1])"
   ],
   "outputs": [
    {
     "output_type": "stream",
     "name": "stderr",
     "text": [
      "/home/link/miniconda3/envs/kobertsum/lib/python3.8/site-packages/seaborn/_decorators.py:36: FutureWarning: Pass the following variable as a keyword arg: x. From version 0.12, the only valid positional argument will be `data`, and passing other arguments without an explicit keyword will result in an error or misinterpretation.\n",
      "  warnings.warn(\n"
     ]
    },
    {
     "output_type": "display_data",
     "data": {
      "text/plain": [
       "<AxesSubplot:xlabel='text'>"
      ]
     },
     "metadata": {}
    },
    {
     "output_type": "display_data",
     "data": {
      "image/png": "[encoded data removed]",
      "text/plain": [
       "<Figure size 1152x432 with 2 Axes>"
      ]
     },
     "metadata": {}
    }
   ],
   "metadata": {}
  },
  {
   "cell_type": "code",
   "execution_count": null,
   "source": [
    "# sentence\n",
    "original_sent_counts = train_data['summary'].apply(lambda x: len(x.split(' ')))\n",
    "\n",
    "fig, axs = plt.subplots(1, 2, figsize=(16, 6), gridspec_kw=dict(width_ratios=[4, 3]))\n",
    "sns.histplot(original_sent_counts, binwidth=1, ax=axs[0])\n",
    "sns.boxplot(original_sent_counts, ax=axs[1])"
   ],
   "outputs": [
    {
     "output_type": "stream",
     "name": "stderr",
     "text": [
      "/home/link/miniconda3/envs/kobertsum/lib/python3.8/site-packages/seaborn/_decorators.py:36: FutureWarning: Pass the following variable as a keyword arg: x. From version 0.12, the only valid positional argument will be `data`, and passing other arguments without an explicit keyword will result in an error or misinterpretation.\n",
      "  warnings.warn(\n"
     ]
    },
    {
     "output_type": "display_data",
     "data": {
      "text/plain": [
       "<AxesSubplot:xlabel='summary'>"
      ]
     },
     "metadata": {}
    },
    {
     "output_type": "display_data",
     "data": {
      "image/png": "[encoded data removed]",
      "text/plain": [
       "<Figure size 1152x432 with 2 Axes>"
      ]
     },
     "metadata": {}
    }
   ],
   "metadata": {}
  },
  {
   "cell_type": "markdown",
   "source": [
    "# training"
   ],
   "metadata": {}
  },
  {
   "cell_type": "code",
   "execution_count": null,
   "source": [
    "ROOT_DIR = \"/home/link/Project\"\n",
    "PROJECT_DIR = ROOT_DIR + '/KoBertSum_1'\n",
    "DATA_DIR = PROJECT_DIR + '/datasets/bflysoft_ko'\n",
    "RAW_DATA_DIR = DATA_DIR + '/raw'\n",
    "JSON_DATA_DIR = DATA_DIR + '/json'\n",
    "BERT_DATA_DIR = DATA_DIR + '/bert' \n",
    "\n",
    "MODEL_DIR = PROJECT_DIR + '/abs/models'  \n",
    "LOG_DIR = PROJECT_DIR + '/abs/logs' # logs -> for storing logs information during preprocess and finetuning\n",
    "RESULT_DIR = PROJECT_DIR + '/abs/result' \n",
    "\n",
    "# MERGE_STORY_DIR = PreSumm_DATA_DIR + '/merged_stories_tokenized'  #  tokenized data  \n",
    "# * **json_data** ->  json files\n",
    "# * **bert_data** ->  .pt files\n",
    "# * **logs** ->  for storing logs information during preprocess and finetuning\n",
    "# * **temp** -> cache model config data\n",
    "# * **bertsumextabs** ->  save finetuning model weights****"
   ],
   "outputs": [],
   "metadata": {}
  },
  {
   "cell_type": "code",
   "execution_count": null,
   "source": [
    "!python /home/link/Project/KoBertSum_1/src/train.py \\\n",
    "    -task abs -mode train -bert_data_path '/home/link/Project/KoBertSum_1/datasets/bflysoft_ko/bert' \\\n",
    "    -model_path '/home/link/Project/KoBertSum_1/abs/models/kykim_bert_0929_13' \\\n",
    "    -log_file '/home/link/Project/KoBertSum_1/abs/logs'\\\n",
    "    -model_name 'kykim/bert-kor-base' \\\n",
    "    -load_from_extractive '/home/link/Project/KoBertSum_1/ext/models/kykim_bert_0702_13/model_step_2100.pt' \\\n",
    "    -dec_dropout 0.2   -sep_optim true -lr_bert 0.002 -lr_dec 0.2 -save_checkpoint_steps 2000 -batch_size 140 -train_steps 200000 -report_every 50 -accum_count 5 -use_bert_emb true -use_interval true -warmup_steps_bert 20000 -warmup_steps_dec 10000 -max_pos 512 -visible_gpus 0,1 "
   ],
   "outputs": [],
   "metadata": {}
  },
  {
   "cell_type": "code",
   "execution_count": null,
   "source": [],
   "outputs": [],
   "metadata": {}
  },
  {
   "cell_type": "code",
   "execution_count": 31,
   "source": [
    "import os\n",
    "import re\n",
    "import json\n",
    "from typing import Iterable, List\n",
    "from tqdm import tqdm\n",
    "from collections.abc import Iterable as itr\n",
    "import multiprocessing as mp\n",
    "import functools\n",
    "\n",
    "import numpy as np\n",
    "import pandas as pd\n",
    "\n",
    "def get_n_workers(n_workers, data_len=None):\n",
    "    if n_workers is None:\n",
    "        n_cores = mp.cpu_count()\n",
    "        n_workers = n_cores - 2\n",
    "    if data_len:  # 최소한 data_len보다 많게 할당하지는 않도록\n",
    "        n_workers = min(n_workers, data_len)\n",
    "\n",
    "    # print(f\"# Cores to Use: {n_workers}\")\n",
    "    return n_workers\n",
    "\n",
    "\n",
    "def apply_df_by_row(df, func):\n",
    "    df = df.apply(lambda row: func(row))\n",
    "    return df\n",
    "\n",
    "\n",
    "def mp_df(df, func, by_row=False, n_workers=None):\n",
    "    n_workers = get_n_workers(n_workers, data_len=len(df))\n",
    "\n",
    "    df_split = np.array_split(df, n_workers)\n",
    "    pool = mp.Pool(n_workers)\n",
    "    if by_row:\n",
    "        func = functools.partial(\n",
    "            apply_df_by_row,\n",
    "            func=func,\n",
    "        )\n",
    "\n",
    "    result_df = pd.concat(pool.map(func, df_split))\n",
    "    pool.close()\n",
    "    pool.join()\n",
    "\n",
    "    # # Use Pandaral·lel(https://github.com/nalepae/pandarallel#pandarallel)\n",
    "    # from pandarallel import pandarallel\n",
    "    # pandarallel.initialize(nb_workers=n_workers)\n",
    "    # result_df = df.parallel_apply(func)\n",
    "\n",
    "    return result_df\n",
    "\n",
    "def mp_iterable(iterable_data, func, n_workers=None):\n",
    "    \"\"\"iterable한 데이터에 대해 element 각각에 func을 적용하는 함수\n",
    "    df일 경우에는 df를 리턴하고, 다른 iterable type에 대해서는 list를 리턴함\n",
    "    \"\"\"\n",
    "    try:\n",
    "        iter(iterable_data)\n",
    "    except TypeError:\n",
    "        print(\"The data is not iterable\")\n",
    "\n",
    "    # If iterable_data is df type\n",
    "    if isinstance(iterable_data, pd.Series):\n",
    "        result_df = mp_df(iterable_data, func, by_row=True, n_workers=n_workers)\n",
    "        return result_df\n",
    "\n",
    "    # If iterable_data is other iterable type\n",
    "    n_workers = get_n_workers(n_workers, data_len=len(iterable_data))\n",
    "\n",
    "    pool = mp.Pool(n_workers)\n",
    "    result_list = pool.map(func, iterable_data)\n",
    "    pool.close()\n",
    "    pool.join()\n",
    "\n",
    "    return result_list"
   ],
   "outputs": [],
   "metadata": {}
  },
  {
   "cell_type": "code",
   "execution_count": 28,
   "source": [
    "train_data['text'][271000:].values"
   ],
   "outputs": [
    {
     "output_type": "execute_result",
     "data": {
      "text/plain": [
       "array(['글로벌 그룹 아이즈원(IZ*ONE)이 사랑과 진심을 가득 담은 새 앨범을 들고 돌아왔다.',\n",
       "       \"키움증권은 1일 효성첨단소재에 대해 '올해 1분기 영업이익이 470억원으로 전 분기 대비 356% 증가할 전망'이라고 분석했다. 투자의견 '매수'와 목표주가 19만원은 유지했다.\",\n",
       "       \"하이투자증권은 1일 미국의 장단기 국채금리 역전으로 'R(recession·경기 침체)의 공포'가 확산되고 있지만 현 시점에서는 국내 경기 차별화 현상 심화가 더욱 큰 문제라고 진단했다.\",\n",
       "       '배우 윤지오가 만우절을 빙자해 자신과 가족을 우롱하는 방송과 악플을 올린 누리꾼에 분노했다.',\n",
       "       '중국의 경기 부양 효과가 심리지표에 반영되기 시작했다. 중국 통계국이 발표하는 제조업 구매자관리지수(PMI)가 반등했다. 대외수요가 여전히 불확실하다는 점에서 최소 7월까지 완화적 정책방향을 유지할 것이라는 전망이 나온다.',\n",
       "       \"실내 공기질 관리 전문 기업 ㈜하츠(Haatz)가 창문을 열 수 없을 때에도 사계절 24시간 자연이 만든 건강한 산소를 공급하는 신개념 청공조기 '에어프레셔(AIR FRESHER)'를 출시했다.\",\n",
       "       \"편의점 CU(씨유)가 배달앱 '요기요', 메쉬코리아 '부릉'과 손잡고 배달서비스를 시작한다고 1일 밝혔다.\",\n",
       "       '인공지능(AI) 플랫폼 업체 마인즈랩이 180억원 규모의 상장 전 지분투자(프리IPO) 유치에 성공했다. 이 회사는 내년을 목표로 기업공개(IPO) 절차도 진행한다.',\n",
       "       '가톨릭혈액병원이 서울성모병원과 여의도성모병원, 은평성모병원을 하나로 잇는 통합 진료 네트워크를 구축한다. 세 병원 340여개 병상을 통합해 운영할 계획이다.',\n",
       "       \"동서대학교(총장 장제국)는 여성가족부와 한국청소년활동진흥원이 주관하는 '2019년 국제청소년리더 교류지원사업' 운영기관으로 최종 선정됐다고 1일 밝혔다.\",\n",
       "       \"부산구치소 교정협의회(회장 김진영)는 지난 28일 부산 서면에 위치한 터존뷔페에서 교정위원 100여명이 참석한 가운데 '2019년도 교정협의회 정기총회'를 열었다.\",\n",
       "       \"교보생명이 지난해 하반기 출시한 디지털 캐릭터 '교보러버스'의 본격적인 마케팅 활동에 시동을 건다.\",\n",
       "       \"부동산 분양 시장에서 '청약 절벽'이 현실화되고 있다. 더불어 지역별 단지별 차별화도 가속화되고 있다.\",\n",
       "       \"한국남부발전(사장 신정식, 상임감사위원 손성학)이 '더 정의로운 에너지를 위한 포용적 감사문화 정립'의 감사목표 달성을 위해 3대 감사방침과 4대 전략을 선포했다. 소통 중심 공정감사활동의 강화는 물론, 사회적가치 창출에도 기여하겠다는 포석으로 풀이된다.\",\n",
       "       \"셀트리온은 미국식품의약국(FDA)에 자가면역질환 치료용 항체 바이오시밀러 램시마(성분명 인플릭시맙)의 피하주사(Subcutaneous) 제제인 '램시마SC(CT-P13 SC)' 임상 신청(IND)을 완료했다고 1일 밝혔다.\",\n",
       "       \"기업용 인사관리 및 급여계산 서비스 '알밤'을 운영하는 스타트업(신생 벤처기업) 푸른밤이 유료로 제공하던 '주 52시간 근태관리 기능'을 무료로 제공한다고 1일 발표했다.\",\n",
       "       '국내 연구팀이 폐 결정뿐 아니라 폐결핵 기흉 등 4대 흉부 질환을 모두 찾을 수 있는 인공지능 보조진단 시스템을 개발했다. 인공지능 기반 의료영상 판독시스템이 진일보했다는 평가다.',\n",
       "       '중소기업중앙회는 지난달 25~31일까지 7일간 미국 뉴욕과 로스앤젤레스에 중소기업 12개사로 구성된 시장개척단을 파견,현지 유력바이어와 1대 1 수출상담회를 진행했다고 1일 밝혔다.',\n",
       "       '중소기업 전용 공영쇼핑이 봄을 맞아 중소벤처기업 상품과 농축수산물을 구매하는 고객을 대상으로 적립 및 할인 이벤트를 진행한다.',\n",
       "       \"SBI저축은행은 저축은행 업계 최초로 블록체인 기반의 간편로그인·이체 기능을 탑재한 'SBI간편인증' 서비스를 출시했다고 1일 밝혔다.\",\n",
       "       \"] 셀트리온은 미국 식품의약국(FDA)에 자가면역질환 치료용 항체 바이오시밀러(바이오의약품 복제약) 램시마(성분명 인플릭시맙)의 피하주사 제제인 '램시마SC'의 임상시험을 신청했다고 1일 밝혔다.\",\n",
       "       '블랙핑크 새 EP 앨범의 전곡 트랙리스트를 공개하며 오는 4월 5일 0시 전세계 동시 발매를 확정했다.',\n",
       "       \"은행권이 이달부터 대출 고객에게 '대출금리 산정내역서'를 제공한다. 대출자들이 금리인하요구권을 실질적으로 행사할 수 있도록 관련 내용을 산정내역서에 포함했다.\",\n",
       "       '대신증권이 커버드콜 전략으로 금 시장 변동성을 방어하는 상장지수증권(ETN)을 선보인다.',\n",
       "       '원자력정책연대는 4·3 창원 보궐선거를 앞두고 입후보자들에게 탈원전 정책에 대한 공개 질의와 함께 1인 시위를 1일 개시했다.',\n",
       "       \"하태경 바른미래당 최고위원은 황교안 자유한국당 대표가 경기장 선거운동을 한 것에 대해 '한국프로축구연맹은 경남FC를 징계해서는 안된다'라고 밝혔다.\",\n",
       "       'BNK부산은행(은행장 빈대인) 창구에서 신분증 없이 손가락만 대면 현금 지급이 가능해진다.',\n",
       "       '대우건설이 새로운 푸르지오 브랜드를 알리기 위한 TV-CF를 1일 선보였다. 최근 몇년 동안 지상파에 아파트 브랜드 광고가 등장한 적은 거의 없었다. 케이블TV를 통해 특정 지역의 아파트 분양 광고나 유튜브 채널을 통한 광고 정도만 있었다.',\n",
       "       '지난해 국내 금융지주회사 순이익(연결기준)이 11조원을 넘어 2011년 이후 최대치를 기록했다.',\n",
       "       '유럽 최초의 증권형 토큰(가상화폐의 일종) 거래소로 알려진 스마트 밸러(Smart Valor)가 국내 시장 문을 두드린다. 한국 기술 스타트업(초기기업)들이 증권형 토큰 공개(STO)로 자금조달하기에 적합하다는 판단에서다.',\n",
       "       '경찰이 윤지오씨에게 사과하고 신변 보호를 위한 특별팀을 구성해 24시간 경호에 나서기로 했다.',\n",
       "       'YG엔터테인먼트 그룹 빅뱅 전 멤버 승리(본명 이승현·29)의 성접대 의혹을 수사하는 경찰이 성접대 정황을 확보하며 수사에 속도를 내고 있다.',\n",
       "       '중소벤처기업진흥공단이 1분기 정책자금 예산의 43%를 집행,어려움을 겪는 중소벤처기업 지원에 적극 나서고 있다.',\n",
       "       '동남권의 자영업자가 지역 주력산업 부진과 소비심리 위축으로 최근 5년 동안 3만1000명이나 줄어든 것으로 나타났다. 특히 부산은 같은 기간 6만4000명, 울산은 1만1000명이 감소했다. 반면 경남은 4만2000명 늘어났다.',\n",
       "       '가수 승리 등 유명 연예인들과 유착 혐의를 받고 있는 윤모 총경이 승리에게 빅뱅 콘서트 티켓을 건네 받은 혐의로 입건됐다.',\n",
       "       \"경기도는 도청 북부청사 상황실에서 '제2차 지역균형발전사업 추진 관련 도의원 및 시군 소통 간담회'를 개최했다고 1일 발표했다.\",\n",
       "       '지난 20여년간 영어교육 전문 기업으로 잘 알려진 지앤비교육 주식회사(이하 지앤비교육)이 수학과 인문학까지 교육 영역을 확장해 나간다고 밝혔다.',\n",
       "       \"해외 고급건축 시공실적 1위 기업으로 손꼽히는 쌍용건설(MOU체결)이 서구 암남동 279번지 일원에 공급하는 아파트 '송도 쌍용 디오션'이 뛰어난 교통환경과 입지환경으로 눈길을 끌고 있다.\",\n",
       "       '일명 국민샴푸로 유명한 TS샴푸의 새로운 홍보모델로 축구국가대표 손흥민선수가 발탁되었다고 TS트릴리온(대표 장기영)은 1일 밝혔다.',\n",
       "       '남양유업 오너 일가이자 JYJ 박유천과의 약혼설로 유명세를 탄 블로거 황하나 씨가 마약 투약에 연루됐으나 관련해 조사를 받지 않았다는 의혹이 제기됐다.',\n",
       "       '글로벌 의료기기업체 바슈롬싸우스아시아인크(솔타메디칼, 대표이사 김형준)는 \"지난 8월 식약처 수입 허가를 받은 \\'써마지FLX\\'가 높은 판매량을 보이며 시장에 성공적으로 안착하고 있다\"고 밝혔다.',\n",
       "       '경기도는 문화콘텐츠 창업지원 플랫폼인 도내 여섯 번째 경기문화창조허브를 광명시에 조성한다. 문화창조허브는 시·군의 지역특화산업을 활용한 융·복합콘텐츠 발굴과 창작·창업생태계 활성화를 통한 일자리창출을 목적으로 도가 설립했다.',\n",
       "       '신한은행은 서울 중구 소재 신한은행 본점 15층에 위치한 카페 두드림에서 진옥동 은행장을 비롯한 임직원등 130여명이 참석한 가운데 2019년 창립기념식을 개최했다고 1일 밝혔다.',\n",
       "       '이우석 코오롱생명과학 대표(사진)는 1일 긴급 기자간담회를 열고 인보사케이주 판매 중단 사태에 대해 고개를 숙였다. 인보사를 생산하는 세포주는 전임상부터 상업용 제품까지 모두 동일한 것이며 임상 등을 통해 입증된 안전성과 효과는 문제가 없다는 점도 강조했다.',\n",
       "       '케이뱅크는 계좌개설 시 증권계좌까지 동시에 개설할 수 있는 증권계좌 동시 개설 서비스를 1일 출시했다.',\n",
       "       '카이노스메드는 신경퇴행성 질환 연구의 세계적 권위자인 케롤리 발로우 박사를 과학자문위원회(SAB) 위원으로 영입했다고 1일 밝혔다.',\n",
       "       '배달의민족은 업계에서는 처음으로 음식점 점주에게 소비자가 지불한 음식대금을 매일 정산한다고 1일 밝혔다.',\n",
       "       \"사단법인 하늬바람 태권도회가 경남 진주 공군교육사령부내 실내 체육관에서 열린 '제9회 공군교육사령관배 태권도 대회' 개막식에서 시범단 공연을 선보였다.\",\n",
       "       \"신라젠은 '암살상 백시니아 바이러스의 항암 메커니즘'이라는 주제로 캘리포니아대학교 샌프란시스코(UCSF)의 도날드 맥도날드 교수(사진)가 '2019 미국암학회'(AACR 2019)에서 발표했다고 1일 밝혔다.\",\n",
       "       \"'슈퍼루키' 임성재(21)가 올해 첫 메이저대회 마스터스 토너먼트 출전권을 눈앞에서 놓쳤다. 미국프로골프(PGA)투어 첫 승을 '노크'했지만 최종라운드에서 퍼트 난조로 타수를 줄이지 못했다.\",\n",
       "       '] 경기 성남시가 시청 온누리에서 특례시 지정을 위한 전문가 토론회를 개최했다고 1일 발표했다. 토론회에서 시는 특례시 지정기준에 인구 뿐 아니라 행정수요도 반영해 줄 것을 건의했다.',\n",
       "       \"이주열 한국은행 총재는 1일 'R(recession·경기 침체)의 공포' 확산에 대해 '글로벌 경기가 다소 둔화되겠지만 침체까지는 이어지지 않을 것이라는 견해가 지배적'이라고 밝혔다. 이에 4월 금융통화위원회를 앞두고 기준금리를 연 1.75%로 유지할 가능성이 높다는 점을 시사했다.\",\n",
       "       '신흥국 증시가 \\'안갯속\\'에 놓였다. 세계 최대 수요처인 미국과 중국 등의 경기가 둔화하면서 신흥국 경기의 앞날도 장담할 수 없게 됐기 때문이다. 중국 상하이종합지수와 한국 코스피지수는 연초 급반등 이후 숨을 고르는 모습이다. 연초 강세장에서 소외됐던 인도 증시는 이달 열릴 총선을 앞두고 지난달에서야 급등했다. 지난해 하반기부터 상승세를 이어온 브라질 보베스파 지수는 연금개혁을 둘러싼 행정부와 의회의 대립에 최근 약세를 보이고 있다. 신흥국 증시를 보는 투자자들의 시선에 기대와 불안이 뒤엉킨다. 이런 가운데 \\'역발상 투자\\'를 강조하는 전문가들이 있다. 이상훈 이스트스프링 인베스트먼트 글로벌 이머징마켓 주식 포트폴리오 매니저도 그 중 하나다. 이 매니저는 \"신흥국에 대한 우려가 투자심리를 위축시키고 있지만 장기보유할 만한 우량주를 싸게 사려는 투자자에겐 절호의 기회\"라고 강조했다. 이 매니저는 싱가포르에 있는 이스트스프링 인베스트먼트에서 신흥아시아 주식 전략을 맡고 있다. 이 매니저는 \"지난 10년간 신흥시장 가치주가 성장주나 모멘텀주, 퀄리티주에 비해 성과가 좋지 않았다\"면서 \"시장의 흐름과 증시 스타일이 바뀌는 사이클을 고려할 때 지금은 신흥국 가치주에 관심을 가져야 할 시기\"라고 말했다. 그는 국내에 설정된 \\'이스트스프링 글로벌 이머징 펀드\\'가 자산 대부분을 투자하는 \\'이스트스프링 GEM 다이나믹 에쿼티 펀드\\'를 운용한다. 신흥시장에서 밸류에이션(실적 대비 주가수준)이 낮다고 평가한 가치주에 투자하는 펀드다. 그는 중국 증시가 역사상 유례 없던 양극화 상태에 있다고 보고 있다. \\'BATJ\\'(바이두·알리바바·텐센트·징둥)로 대표되는 인터넷 관련 종목과 헬스케어 관련 종목은 매우 고평가된 반면 이외 대부분의 종목들은 극심한 저평가 상태에 있다는 분석이다. 경기민감 산업재, 에너지, 금융, 자동차·가전 등 임의소비재 등에 밸류에이션 매력이 높은 종목이 많다고 진단했다.',\n",
       "       '자금난을 겪는 수출기업들이 이달부터 은행 돈 쓰기가 한결 수월해질 전망이다. 넉 달째 고꾸라진 수출 활력을 되찾기 위해 정부가 전방위 대책 마련에 나선 결과다.',\n",
       "       '블로거 황하나 씨를 둘러싼 마약 투약에 연루 의혹이 제기된 가운데 그의 SNS계정에는 김치 판매 공지가 게재돼 눈길을 끈다.',\n",
       "       '올 1분기 국내 완성차 5개사의 판매 실적 명암이 엇갈렸다. 현대자동차와 쌍용자동차는 판매량이 크게 증가했다. 반면 기아자동차와 한국GM, 르노삼성자동차는 아쉬운 성적표를 받아 들었다.',\n",
       "       '경기 광주시는 행정안전부로부터 상반기 특별교부세 28억원(지역현안 분야 3건 22억원, 재난안전분야 3건 6억원)을 확보했다고 1일 발표했다. 이들 예산을 시민의 안전과 재난에 대비할 수 있는 현안사업에 투입한다.',\n",
       "       \"선진국 기업 중 벌어들인 수익으로 대출 이자를 감당할 수 없는데도 시장에서 퇴출되지 않고 명맥을 유지하는 '좀비 기업'이 13%에 이른다는 분석이 나왔다.\",\n",
       "       '기술보증기금(이사장 정윤모)이 1일 서른 번째 생일을 맞이해 부산 벡스코에서 창립기념행사를 개최하고 새로운 비전을 선포했다. 이날 행사에는 정윤모 이사장을 비롯해 기보 30년을 함께해온 전·현직 임직원과 중소벤처기업인, 오거돈 부산시장, 국회 최인호 의원, 김학도 중소벤처기업부 차관 등 350여명이 참석했다.',\n",
       "       \"경기도교육청은 남부청사에서 한국공인회계사회, 경기도건축사회, 경기중앙지방변호사회 등과 '학교주도형 종합감사 외부전문가 지원협약'을 체결했다고 1일 발표했다.\",\n",
       "       '올 1분기 오피스 빌딩 거래액이 2조원을 돌파한 것으로 나타났다. 위워크 등 공유 오피스 시장이 급성장한 영향으로 풀이된다.',\n",
       "       '지난 2월 22일 발생한 스페인 주재 북한 대사관 침입 사건 당시 도난당한 북측 기밀자료가 이미 미국 연방수사국(FBI)에 넘겨진 사실이 확인됐다고 NBC방송이 30일(현지시간) 보도했다.',\n",
       "       '박유천의 전 피앙세, 남양유업 오너 일가의 딸로 알려진 황하나의 마약 투약 의혹이 제기돼 논란이 되고 있다.',\n",
       "       \"'오늘도 평화로운'이 만우절을 기념해 백승기 감독의 절절한 사연과 진심이 담긴 '사기꾼님에게 보내는 영상편지' 영상을 전격 공개했다.\",\n",
       "       '승리(본명 이승현·29) 등의 성매매 알선 의혹을 수사 중인 경찰이 관련자들로부터 \"성접대가 이뤄졌다\"는 진술을 확보한 가운데 법인 자금 수천만원을 빼돌린 사실도 적발돼 승리는 업무상 횡령 혐의로 추가 입건됐다.',\n",
       "       '골프 클럽의 호젤(헤드와 샤프트가 연결되는 부분)에 공이 맞아 오른쪽으로 크게 휘며 날아가는 \\'생크(shank)\\'는 프로 골퍼에게도 공포의 대상이다. 미국프로골프(PGA)투어 9년차 케빈 키스너(미국)도 투어에 데뷔한 지 얼마 안된 2013년 이 수렁에 빠져 골프를 접으려 했다. 그는 \"동료들과 연습라운드를 나가는 게 무서웠다. 공으로 사람들을 맞힐 것 같다는 두려움 때문이었다\"고 말했다.',\n",
       "       '서울 자율형 사립고 13곳의 재지정평가 \\'보이콧\\'으로 자료제출 기한이 오는 5일까지로 연장된 가운데 서울교육청이 \"평가가 정상적으로 진행되지 않으면 자사고의 법적 지위를 유지하기 힘들 것\"이라고 경고했다. 자사고 교장들은 같은 날 \\'맞불\\' 기자회견을 열고 \"평가지표 개선 없이는 평가를 받을 수 없다\"는 입장을 재확인했다.',\n",
       "       '조봉환 전 중소벤처기업부 중소기업정책실장(사진)이 1일 제3대 소상공인시장진흥공단(소진공) 이사장에 취임했다. 조 이사장은 이날 오전 11시 대전 중구 소진공 본부 대강당에서 취임식을 하고 \"소진공이 존재하는 이유는 소상공인·자영업자와 전통시장이 있기 때문\"이라며 \"이들과 소통하고 어려움을 해결하는 데 최선을 다하겠다\"고 밝혔다. 취임식 후 곧바로 인근 한민시장을 방문해 상인들로부터 애로 사항을 들었다. 소진공 관계자는 \"소상공인의 어려움을 청취하는 것으로 업무를 시작했다\"고 설명했다.',\n",
       "       '] 수출 회복의 관건은 1위 품목인 반도체다. 지난해 수출 호조를 이끌어온 반도체가 작년 12월부터 고꾸라지면서 수출 전체가 부진을 겪고 있기 때문이다. 전망은 그리 밝지 않다. 올 하반기에도 크게 나아지지 않을 것이란 게 대다수 전문가의 전망이다. 반도체 수출 물량이 다소 늘더라도 단가 하락 추세를 막기엔 역부족일 것이란 판단에서다.',\n",
       "       '[ 이태호 기자 ] 대형 증권사들이 공격적으로 확대해온 부동산 금융 대상 사업장 가운데 40% 가까이가 지방에 있는 것으로 나타났다. 지방 부동산 시장이 2016년 이후 뚜렷한 침체 국면에 들어갔다는 점을 고려하면, 손실 가능성에 대한 심층 분석이 필요하다는 지적이다. 글로벌 금융위기 이전 건설사들이 주로 담당하던 부동산 프로젝트파이낸스(PF)를 최근 들어 증권사들이 공격적으로 확대하면서 부동산 경기가 증권산업의 주요 위험 요인으로 떠올랐기 때문이다.',\n",
       "       '] 파산 위기에 몰린 광물자원공사가 4억달러(약 4500억원)어치 해외 채권 발행에 나선다. 투자자들이 한국 정부의 공기업 지원능력을 얼마나 신뢰하느냐가 채권 발행의 성패를 가를 전망이다.',\n",
       "       '효성은 지난달 15일 주주총회를 통해 주당 5000원의 배당을 확정했다. 이익을 주주에게 환원하고 주주 권익을 확대하기 위해서다. 배당 수익률도 8%대로 유가증권시장 상장사 중 최고 수준에 이른다. 향후에도 주주 친화적인 배당을 이어가며 주주가치 제고에 노력한다는 방침이다.',\n",
       "       '현대백화점그룹의 올해 중요한 경영화두 중 하나는 경영투명성 강화와 주주가치 제고다. 안정적인 현금 창출력을 기반으로 배당 규모를 늘리면서도 신사업 진출과 성장동력을 발굴하는 데 자금과 인력을 집중하고 있다. 4차 산업혁명, 글로벌 경기 둔화 등 날로 불확실해지는 경영 환경을 고려해 오너 일가의 책임 경영도 강화하는 추세다.',\n",
       "       '현대모비스가 투명하고 신속한 의사결정 체계를 구축하고, 기업가치와 주주가치를 동시에 높여간다는 계획을 세웠다. 4차 산업혁명 시대, 급변하는 경영환경에 효과적으로 대응하기 위해서다.',\n",
       "       '두산그룹은 주주 권익을 보호하고 주주들의 이익을 높이기 위해 다양한 노력을 하고 있다. 자사주를 소각하고 분기배당을 도입한 게 대표적이다. 전자투표제도 도입했다.',\n",
       "       '롯데지주는 지난 2월 2018년 결산배당으로 보통주 1주당 800원의 현금배당을 결정했다고 공시했다. 배당금 총액은 약 572억원으로 2017년 10월 롯데지주 출범 이후 시행하는 첫 배당이다. 배당 여력을 살펴볼 수 있는 당기순이익은 2017년(4953억원)보다 30% 이상 감소했지만 주주가치 제고 차원에서 결산배당을 결정했다.',\n",
       "       \"LS는 올해 주요 계열사를 중심으로 '슈퍼 주총데이'가 될 것으로 예상되는 날짜를 피해 주주총회를 나눠서 열었다. 특정일에 날짜가 겹쳐 주총에 참석하지 못하거나 주주권을 행사할 수 없었던 소액주주들의 권익을 보호하기 위해서다. 가온전선은 3월 21일, LS전선은 22일, LS산전은 26일, (주)LS는 27일, 니꼬동제련은 29일 주주총회를 열었다.\",\n",
       "       '김승연 한화그룹 회장은 모든 임직원이 기업활동에서 준법경영, 정도경영을 근간으로 삼고 \\'함께 멀리\\'의 동반성장 철학을 적극 실천해 나갈 것을 당부하고 있다. 김 회장은 \"시장에서 공정한 경쟁을 통해 얻은 이익만이 그 가치를 평가받을 것\"이라며 \"손쉽게 이윤을 얻는 행위는 단기적으로 재무적 이익으로 포장될 수 있지만, 결코 지속가능한 시장 경쟁력이 될 순 없다\"고 강조한다.',\n",
       "       '포스코는 올해 주주총회부터 전자투표제를 도입했다. 전자투표제는 주주총회 의안 등을 전자투표시스템에 등록해 주주가 주총에 직접 참석하지 않고도 온라인으로 의결권을 행사할 수 있도록 하는 제도다. 포스코는 주주 권익 보호 및 강화를 위해 집중투표제와 서면투표제 등도 도입해 시행 중이다.',\n",
       "       \"[ 고재연 기자 ] 국내 반도체 기업의 주력 제품인 D램과 낸드플래시 가격이 올 들어 3개월 연속 동반 급락했다. 가격 하락세는 연말까지 지속될 전망이다. 기업 실적에도 부정적 영향을 끼칠 것으로 예상된다. 반도체 수요가 적은 상반기에는 실적이 부진하겠지만 하반기가 되면 서버용 D램 수요가 회복될 것이라는 기존 전망에도 '빨간불'이 켜졌다.\",\n",
       "       '구광모 회장을 포함한 LG그룹 오너 일가는 지난해 말 그룹 물류 계열사 판토스 지분 19.9%를 전량 매각했다. 공정거래법상 일감몰아주기 규제 대상(상장사 30%, 비상장사 20%)은 아니지만 오너에 대한 사회적 역할과 의무가 강화되고 있는 추세를 고려해 매각을 결단했다. 매각 대금은 구 회장이 고(故) 구본무 회장으로부터 물려받은 (주)LG 주식(8.8%)에 대한 상속세금(7200억원)을 내는 데 쓰였다. 역대 최고액이다. 일부 지분의 공익재단 출연 등 상속세를 줄일 수 있는 다양한 방안이 거론됐지만 \"주주들로부터 신뢰를 받고 투명한 지배구조를 확립하기 위해 정공법을 택했다\"고 회사 측은 설명했다.',\n",
       "       '[ 박상익 기자 ] LG화학이 첨단소재사업본부를 신설해 새로운 성장축으로 육성한다. 지난 1월부터 LG화학을 이끌고 있는 신학철 부회장(사진)이 본격적인 자기 색깔 내기에 나섰다는 분석이 나온다.',\n",
       "       '] (주)GS는 수년째 배당금을 올리고 있다. 올해는 작년(보통주 1800원, 우선주 1850원)보다 늘어난 보통주 1900원, 우선주 1950원으로 정했다. 실적에 따라 배당을 점진적으로 올린다는 계획이다. (주)GS 관계자는 \"주주가치 제고를 위해 매년 배당을 늘려왔다\"며 \"회사와 주주들의 동반 성장을 위해 노력하겠다\"고 말했다.',\n",
       "       '현대자동차는 지난 2월 앞으로 5년간 연구개발(R&D)과 미래 기술 확보 등에 45조3000억원을 투자한다는 계획을 내놨다. 2022년까지 자동차 부문에서 영업이익률 7%, 자기자본이익률(ROE) 9%를 달성한다는 목표도 공개했다.',\n",
       "       '삼성전자는 주주가치를 끌어올리기 위해 다양한 주주환원 정책을 시행하고 있다. 지난해 9조6000억원을 배당에 썼고, 보유하고 있던 자사주도 모두 팔았다. 삼성전자는 향후 3년 동안의 잉여현금흐름(FCF·Free Cash Flow) 규모를 파악한 뒤 7월께 향후 3개년 주주환원 방안을 내놓을 계획이다.',\n",
       "       'SK그룹은 지속가능한 성장을 위해선 대내외 이해관계자의 신뢰를 받고 행복을 함께 추구하는 것이 중요하다고 보고 있다. 주주친화정책 또한 이 같은 경영철학의 연장선이다. SK그룹은 중복됐던 계열사의 정기 주주총회를 분산 개최하고, 전자투표제도를 적극적으로 도입하는 등 주주친화경영에 앞서고 있다.',\n",
       "       '] 벤처업계가 주 52시간 근로제와 관련, 탄력적 근로시간 정산 기간을 기존 3개월에서 1년으로 연장해달라고 공식 요구했다. 또 소프트웨어 업체들의 경쟁력을 떨어뜨리는 선택적 근로시간제 정산기간은 3개월로 확대해야 한다고 밝혔다. 지난해 7월 도입된 주 52시간 근로제의 처벌을 유예하는 계도기간은 지난달 종료됐다.',\n",
       "       '[ 백승현 기자 ] 류장수 최저임금위원회 위원장(사진)이 \"최저임금 결정체계 개편이 지난해에 공식화된 마당에 국회가 아직까지 입법하지 않은 것은 문제가 있다\"며 \"2월 말, 늦어도 3월 초에는 정리를 했어야 했다\"고 1일 말했다. 정부의 제도 개편 방침에 따라 최저임금위원회 공익위원들이 전원 사의를 밝힌 상황에서 국회가 사실상 \\'직무유기\\'를 하면서 최저임금 결정을 둘러싼 혼란을 부추기고 있다는 지적이다. 국회 환경노동위원회는 3일 보궐선거를 앞두고 당초 예정됐던 1일과 2일 고용노동소위원회를 취소했다. 3일 소위와 전체회의를 재개하지만 오는 5일(본회의)로 끝나는 3월 임시국회에서 탄력근로제 확대법안은 물론 최저임금법 개정이 이뤄질 가능성은 낮다.',\n",
       "       '르노삼성자동차 직원 사이에서 이런 탄식이 이어지고 있다. 직원들의 우려대로 르노삼성은 올해 1분기(1~3월)에 2015년 이후 최악의 성적표를 받았다. 2014년 9월 일본 닛산의 스포츠유틸리티차량(SUV) 로그를 수탁생산한 이후 처음으로 분기 판매량이 4만 대 밑으로 떨어졌다. 르노삼성은 지난 1분기 국내외에 3만9210대의 차량을 팔았다. 로그를 수탁생산하기 직전인 2014년 2분기(3만7545대)와 비슷한 수준이다.',\n",
       "       \"] 기획재정부가 1일 세종정부청사에서 보고 간소화, 주말근무 최소화 등을 담은 '일하는 방식 개선 6개 과제'를 선포했다.\",\n",
       "       '] 지난달 8일 산업은행과 대우조선해양 인수 본계약을 맺은 현대중공업이 이번주부터 대우조선 실사에 들어갔다. 해양플랜트(원유·가스 시추설비) 등에서 대우조선의 숨겨진 부실이 없는지 확인하는 과정이다.',\n",
       "       \"] 현대제철이 연말까지 충남 당진제철소 환경개선 사업에 5300억원을 투자한다. 미세먼지가 국가적인 문제로 떠오른 가운데 안동일 현대제철 사장(사진)이 '친환경 경영'에 시동을 걸었다는 분석이다.\",\n",
       "       '] 금융위원회가 1일 선정한 금융 규제 샌드박스 후보 19건 중 소비자의 편의를 높이는 이색 서비스도 적지 않다.',\n",
       "       '] 국회에 계류 중인 개인정보 관련법 개정안엔 가명정보, 익명정보 등 생소한 개념이 등장한다. 개인을 특정하기 어렵게 가공한다는 점은 동일하지만 어떻게 분류하느냐에 따라 활용 방식이 제각각이다.',\n",
       "       \"[ 배태웅 기자 ] 미국에서 헬스베리티, 베릴리 같은 업체가 나올 수 있는 배경은 개인정보보호 제도의 기본 원칙이 '사후 동의'기 때문이다. 미국은 개인정보 활용에 관한 연방정부 차원의 법률이 존재하지 않는다. 대신 산업별로 개인정보 활용에 대한 법률을 갖추고 있다. 의료정보, 신용 보고서, 정확한 위치정보 등의 민감한 정보에만 사전 동의 방식이 적용된다.\",\n",
       "       \"박용만 대한상공회의소 회장(사진)은 1일 서울 태평로 한국프레스센터에서 열린 여기자 포럼 '최근 경제진단과 양대 현안' 강연에서 '규제 완화'의 필요성을 언급하며 이렇게 말했다. 20대 국회 들어 국회를 11번 방문했고, 의원회관을 하루에 6㎞ 걸은 적도 있지만 규제개혁 성과가 크지 않았다는 얘기를 하면서다. 규제 완화를 통해 기업이 느끼는 '불확실성'을 줄여달라는 의미였다.\",\n",
       "       '] 국내 병원들의 인공지능(AI) 활용범위가 점차 넓어지고 있다. 서울대병원 의료진이 AI로 폐암 폐결핵 폐렴 기흉 등 4대 흉부질환을 모두 찾는 시스템을 개발했다. 의사 진료를 돕는 시스템인데, 영상의학과 전문의보다 진단 정확도가 높았다.',\n",
       "       \"] 아시아나항공이 '회계 파문'으로 불거진 경영 위기를 타개하기 위해 자산 매각과 비(非)수익 노선 정리, 조직 개편 등에 나선다. 오는 6일 주채권은행인 산업은행과 '재무구조 개선약정(MOU)' 갱신을 앞두고 강도 높은 구조조정에 들어갔다는 분석이 나온다. 박삼구 금호아시아나그룹 회장은 이번 사태에 책임을 지고 지난달 28일 경영 일선에서 퇴진했다.\",\n",
       "       '[ 임유 기자 ] 지난해 국내에서 응급임상에 가장 많이 사용된 치료제는 젬백스앤카엘의 면역항암제 \\'리아백스(GV1001)\\'다. 전체 685건 중 207건(30%)이었다. 응급임상은 생명이 위독하지만 치료 대안이 없는 환자가 개발 중인 의약품을 처방받을 수 있게 허용하는 제도다. 주로 췌장암, 유방암 말기 환자가 리아백스를 처방받았다. 송형곤 젬백스 대표는 \"올해 국내에서 췌장암 임상 3상을 마치고 이르면 내년 상반기께 정식 허가 신청을 할 것\"이라고 말했다.',\n",
       "       '] 배달 앱(응용프로그램) 1위 배달의민족을 이용하는 외식업장은 앞으로 판매한 음식값을 매일 입금받는다. 배달의민족, 요기요 등 주요 배달 앱은 지금까지 1주일 단위로 정산해왔다.',\n",
       "       \"] 주 52시간 근로제 부작용을 줄이기 위한 '탄력근로제 단위기간 확대'의 3월 임시국회 처리가 사실상 무산됐다. 주 52시간 근로제 위반 시 사업주 처벌을 유예하는 계도기간이 3월 말로 끝났지만 보완 입법이 이뤄지지 않아 이 제도를 적용받는 300명 이상 대형 사업장에 극심한 혼란이 예상된다.\",\n",
       "       '] 더불어민주당과 정부가 기사 월급제 전면 도입에 따른 택시회사의 부담을 줄여주기 위해 2021년까지 단계적으로 월급제를 도입하는 방안을 추진한다. 이 같은 당·정의 수정안에 자유한국당은 \"택시회사들이 늘어날 인건비를 감당하지 못할 것\"이라며 월급제 3년 유예로 맞서고 있어 논의 과정에서 진통이 예상된다.',\n",
       "       \"] '2019 한경 머니로드쇼' 설문 응답자(1188명)들은 선진국 대비 한국 정부의 경쟁력에 대해 'C학점'을 매겼다. 반면 기업 경쟁력에는 'A학점'을 줬다.\",\n",
       "       \"[ 민지혜 기자 ] 프랑스 명품 브랜드 루이비통이 서울 이태원에 '트위스트백'(사진)을 전시·판매하는 팝업스토어(임시매장)를 연다. 루이비통이 핸드백 임시매장을 여는 것은 세계적으로 이번이 처음이다.\",\n",
       "       \"여야는 인사청문보고서 채택 1차 시한인 1일 남은 5명의 장관 후보자를 둘러싸고 치열한 기싸움을 벌였다. 더불어민주당은 최정호 국토교통부·조동호 과학기술정보통신부 장관 후보자가 낙마한 만큼 남은 후보자에 대해서는 '절대 사수' 입장을 밝히고 방어선 구축에 나섰다. 자유한국당과 바른미래당 등 보수야당은 박영선 중소벤처기업부·김연철 통일부 장관 후보자를 추가 낙마 대상으로 지목하고 공세를 퍼부었다.\",\n",
       "       '] 수출 엔진이 급격히 식고 있다. 수출의 20%를 책임지는 반도체의 부진이 예상보다 깊어지고 있고, 최대 수출시장인 중국의 경기 둔화 여파로 상대적으로 양호하던 품목의 수출까지 줄줄이 감소하고 있다. 반도체·중국 쇼크가 쉽사리 가시지 않아 하반기에도 수출 회복은 어려울 것이란 전망이 많다.',\n",
       "       '] 금융위원회가 1일 금융 규제 샌드박스에 넣을 우선심사대상으로 서비스 19건을 선정했다. 이 가운데 가장 많이 눈에 띄는 것은 5건이 꼽힌 대출 분야다. 모바일 앱(응용프로그램)을 통해 금융회사별 대출상품을 비교할 수 있는 이 같은 새 서비스가 도입되면 앞으로 금융권에 미칠 파급력이 상당할 전망이다. 다만 금융회사가 보유한 개인정보가 보안 인프라가 상대적으로 취약한 핀테크(금융기술) 업체에 대거 넘어갈 경우 정보 유출을 우려하는 목소리도 일각에서 제기된다.',\n",
       "       '[ 고재연 기자 ] 글로벌 올레드TV 판매량이 4년 안에 세 배로 불어날 것이란 전망이 나왔다. 전통적인 프리미엄 TV 시장인 미국 유럽 일본의 약진이 두드러질 것으로 예상됐다. 중국도 저가 제품 위주에서 탈피해 올레드 시장의 폭발적인 성장세에 힘을 보탤 지역으로 꼽혔다. 권봉석 LG전자 MC·HE사업본부장(사장·사진)은 \"지난해 전체 TV사업에서 올레드 TV 판매량은 20% 정도를 차지했다\"며 \"올해는 전체 매출 중 25%를 달성하는 것이 목표\"라고 말했다.',\n",
       "       \"] 기업의 1분기 장사가 마무리된 가운데 1일 증권업계에선 주요 업종 '간판 기업'들의 실적쇼크를 예상한 보고서들이 쏟아졌다. 글로벌 경기둔화, 유가 변동성 확대 등의 영향으로 주로 석유화학, 정유, 에너지 관련 기업의 실적이 크게 둔화될 것으로 분석됐다. 대표적 고속성장 업종으로 꼽히는 2차전지 기업도 실적쇼크 후보군에 이름을 올렸다.\",\n",
       "       '] 올 들어 시장의 관심이 쏠린 우선주의 강세가 장기적으로 이어질 수 있다는 분석이 나왔다. 보통주보다 싸고, 최근 미국 중앙은행(Fed)의 통화정책 완화와 국내 경기 둔화 우려로 배당 매력이 높아진 우선주를 주목할 만하다는 평가다.',\n",
       "       \"원 사장은 2017년에도 30억7700만원의 보수를 받아 금융권 현직 CEO 중 '연봉킹'을 차지했었다.\",\n",
       "       \"[ 최만수 기자 ] 반도체 수출이 지난달 전년 동기 대비 16.6% 급감했다. 삼성전자는 지난주 1분기 '어닝쇼크'를 예고했다. D램 가격마저 뚝뚝 떨어지고 있다. 반도체와 관련해 온통 암울한 소식뿐인데 삼성전자와 SK하이닉스의 주가는 상승세다. 하반기부터는 업황이 개선될 것이란 기대에 '한발 앞서 움직이는' 투자금이 몰리고 있다는 분석이 나온다.\",\n",
       "       '] 소비자 10명 중 6명은 5세대(5G) 이동통신을 이용할 의향이 있는 것으로 나타났다.',\n",
       "       '] 부동산정보서비스 직방은 이달 전국에서 44개 단지, 3만7373가구가 공급될 예정이라고 1일 발표했다. 전체 공급 물량 중 일반분양은 2만7708가구다. 지난해 동기 대비 11개 단지, 총 1만1314가구 더 많다. 일반분양 물량은 지난해 4월(2만974가구)보다 6734가구 늘었다.',\n",
       "       \"] 약 1만 가구가 한꺼번에 입주해 '잔금 대란' 우려를 샀던 서울 송파구 가락동 '헬리오시티'(사진) 계약자의 약 92.5%가 잔금을 완납한 것으로 나타났다.\",\n",
       "       \"그룹 아이즈원(IZ*ONE)이 신곡 '비올레타'에 자신들을 사랑해준 대중들을 향한 고마움을 담았다고 밝혔다.\",\n",
       "       \"] 서울 강남구 대치동 일대 노른자 땅으로 꼽히는 대치 구마을 정비사업지 내 3지구에서 시공사 선정 구역이 나왔다. 1일 정비업계에 따르면 구마을 3지구 재건축조합은 지난달 30일 조합원 총회를 열고 현대건설을 재건축 시공 우선협상대상자로 선정했다. 현대건설은 이 일대에 자사 프리미엄 아파트 브랜드인 '디에이치'를 적용하기로 했다.\",\n",
       "       \"] 5세대(5G) 이동통신을 지원하는 삼성전자의 스마트폰 '갤럭시S10 5G'(사진)가 오는 5일 한국 시장에 출시된다.\",\n",
       "       '코넥스시장 시가총액 2위인 신약 개발기업 노브메타파마가 코스닥 이전상장 계획을 접었다. 툴젠, 엔에스컴퍼니 등에 이어 코넥스의 대표 상장사들이 연달아 코스닥시장 입성에 실패하고 있다.',\n",
       "       'SK하이닉스, 포스코 등 국내 간판 기업 임원들의 평균 연봉은 5억원 이상인 것으로 나타났다. 지난해 실적이 좋은 반도체, 정보기술(IT)업계 임직원들은 두둑한 연봉을 받았다. 반면 불황의 늪에 빠진 자동차, 조선, 중공업 업체 경영진의 성과급은 눈에 띄게 줄어들었다.',\n",
       "       \"[ 마지혜 기자 ] 신흥국 증시가 '안갯속'에 놓였다. 세계 최대 수요처인 미국과 중국 등의 경기가 둔화하면서 신흥국 경기의 앞날도 장담할 수 없게 됐기 때문이다. 각국 증시는 거시경제 지표와 정치적 상황, 외국인 매수세 등에 따라 오르내리고 있다. 신흥국 증시를 보는 투자자들의 시선에 기대와 불안이 교차하고 있다.\",\n",
       "       \"] '13억의 입' 중국 식품 시장을 공략할 국내 식품업체를 찾기 위한 증권가의 발걸음이 분주하다. 국내 식품 시장이 포화 상태에 이른 만큼 성장성이 돋보이는 중국 시장의 트렌드에 맞춘 기업의 주가가 탄력을 받을 것이라는 분석이다.\",\n",
       "       '] 시세조종, 미공개정보 이용 등 불공정 거래를 조사하는 금융감독원 특별사법경찰관리(특사경)가 이르면 이달 활동을 시작한다.',\n",
       "       '국내 기관투자가들이 카타르 국립은행(QNB)의 정기 예금을 기초자산으로 하는 자산유동화기업어음(ABCP)에 대한 투자를 재개했다. 지난해 8월 터키 금융시장 불안 때문에 카타르 ABCP를 담은 머니마켓펀드(MMF)에서 대량 환매 사태가 일어난 지 8개월여 만이다.',\n",
       "       '] 인보사의 성분 변경 논란으로 세포 및 유전자 치료제를 개발 중인 국내 바이오기업들은 타격을 입게 됐다. 국내 허가에서는 발견하지 못했던 세포의 기원이 미국 임상에 가서야 발견되면서 국내 임상 수준의 한계도 지적되고 있다. 만약 코오롱티슈진이 미국에서 인보사의 임상3상을 하지 않았다면 국내 의료진은 여전히 인보사의 유래 세포를 제대로 모른 채 환자에게 처방했을 것이란 자조 섞인 반응도 나왔다.',\n",
       "       '] 경기 김포시(시장 정하영·사진)는 양촌·학운산단 등 12개 일반산업단지가 모여 있는 김포골드밸리를 친환경·주민친화형 복합산단으로 조성한다고 1일 발표했다.',\n",
       "       '] 서울 자율형사립고 13곳의 재지정평가 \\'보이콧\\'으로 자료제출 기한이 오는 5일까지로 연장된 가운데 서울교육청이 \"평가가 정상적으로 이뤄지지 않으면 자사고의 법적 지위를 유지하기 힘들 것\"이라고 경고했다. 자사고 교장들은 같은 날 \\'맞불\\' 기자회견(사진)을 열고 \"평가지표 개선 없이는 평가를 받을 수 없다\"는 입장을 재확인했다.',\n",
       "       '] 직장인 김모씨는 한 온라인몰에서 식품의약품안전처 환수조치가 내려진 업체의 헤나 염색약을 구입했지만 환불을 받을 수 없었다. 온라인몰에서는 식약처에서 고시한 제품과 동일한 날에 제조되지 않아 제조번호, 사용기한 등이 다르다는 이유로 김씨의 환불 요청을 거절했다. 해당 온라인몰 관계자는 \"이번 환수조치는 식약처에서 검사한 특정 제조번호만 환수하라는 것\"이라고 말했다.',\n",
       "       '] 가수 승리(본명 이승현·사진)의 성접대 의혹이 경찰 수사에서 일부 확인된 것으로 밝혀졌다. 서울지방경찰청 관계자는 승리의 성접대 의혹과 관련된 인물 여러 명을 조사했고 성접대 정황이 있었다는 진술을 확보했다고 1일 밝혔다.',\n",
       "       '[ 윤상연 기자 ] 경기도는 청년배당 등 복지정책과 연계해 지역경제를 활성화하는 새로운 모델을 구축하기 위해 이달 도내 31개 시·군에서 경기지역화폐를 발행한다고 1일 발표했다. 지역화폐는 법정화폐와 병행하는 또 하나의 지급결제 수단으로 특정 지역에서만 통용할 수 있는 대안화폐다. 광역자치단체 전역에서 지역화폐를 발행하는 것은 경기도가 처음이다. 도는 상품권, 카드, 모바일 형태의 지역화폐가 정착되면 생산유발효과가 1조3000억원에 이를 것으로 분석했다.',\n",
       "       \"] 올해 서울대 법학전문대학원(로스쿨) 신입생 10명 중 9명이 이른바 'SKY(서울대·고려대·연세대)' 졸업생인 것으로 나타났다. 고려대와 연세대 등 서울 주요 로스쿨들도 십중팔구가 명문대 출신으로, 로스쿨의 학벌 쏠림 현상이 심각하다는 지적이다. 다양한 배경과 경험을 갖춘 법조인을 양성하겠다는 로스쿨 도입 취지가 갈수록 무색해지고 학교서열화와 학생들의 명문대 선호 현상을 부추기고 있다는 지적이 제기된다.\",\n",
       "       '] 대구의 인바운드 여행사 여행스케치의 김동영 대표(사진)가 11개월 동안 일본 주요 도시를 자전거로 여행한 내용을 담은 여행서적을 1일 발간했다.',\n",
       "       \"작곡가 황현이 지난 31일 방송된 MBC 표준FM '아이돌 라디오'에 출연한 아이돌들과의 작업 후기를 공개했다.\",\n",
       "       '황하나가 마약을 투약한 혐의를 받고도 경찰 조사도 이뤄지지 않았다는 보도가 나온 가운데 탈세와 유기견 후원금 횡령 등의 의혹도 함께 불거지고 있다.',\n",
       "       \"] 지난해 정보기술(IT)업계에서는 스톡옵션을 포함해 236억4500만원을 받은 더블유게임즈의 박신정 창업멤버 겸 부사장이 '연봉왕' 자리에 올랐다. 스톡옵션을 제외한 급여·상여금만 따지면 김택진 엔씨소프트 창업자 겸 대표가 전년보다 두 배 이상 증가한 138억3600만원으로 가장 많았다.\",\n",
       "       '[ 박재원 기자 ] 문재인 대통령이 \"소득주도성장이 지금 성공하고 있느냐고 한다면, 선을 긋듯이 말할 수는 없을지도 모르겠다\"고 말했다.',\n",
       "       '] 개별단독주택 공시가격이 표준단독주택에 비해 크게 낮은 수준으로 산정됐다는 논란에 대해 국토교통부가 지방자치단체에 시정을 요구하고 한국감정원의 공시가격 산정 절차에 대한 감사에 착수하기로 했다.',\n",
       "       '삼성전자와 SK하이닉스의 지난해 연구개발(R&D) 비용이 역대 최고치를 기록했다. 사상 최고 실적을 기록한 만큼 미래 준비도 소홀히하지 않겠다는 의지를 드러낸 것이다.',\n",
       "       'NH투자증권은 2일 SK이노베이션에 대해 느린 정제마진 회복, 석유화학 제품의 역내 수요 약세가 예상된다며 목표주가를 24만원에서 21만5000원으로 낮췄다. 투자의견은 매수를 유지했다.',\n",
       "       '국내 최대 포털사이트 네이버의 모바일 웹 첫 화면이 오는 3일부터 검색 중심으로 개편된다. 2009년 모바일 웹 페이지가 처음으로 출시된 지 10년 만이다. 뉴스와 실시간급상승검색어가 첫 화면에서 제외된다.',\n",
       "       \"기술보증기금(이사장 정윤모)은 2일 보증 신청기업의 투자유치 사실을 한 번에 확인할 수 있는 '투자정보플랫폼' 구축을 완료하고 본격 가동에 들어갔다. 기보는 민간벤처캐피털(VC)의 벤처투자와 정책금융을 연계하는 프로그램 '투자연계보증' 지원에 더욱 박차를 가할 계획이다.\",\n",
       "       '나영석, 신원호 PD가 CJ ENM 오너 일가보다 더 많은 보수를 받은 것으로 밝혀졌다.',\n",
       "       \"저축은행들이 300만원 이하의 소액신용대출을 줄이고 있는 것으로 나타났다. 금융당국의 가계대출 총량규제와 법정 최고금리 인하 여파로 고금리에다 대출 액수가 적은 소액신용대출이 '계륵' 신세로 전락한 것이다. 저축은행의 높아진 대출 문턱에 급전이 필요한 저신용자들이 제도권 금융 밖으로 밀려나고 지적이 나온다.\",\n",
       "       '충돌 후 코란도 차량은 충격으로 정차하고 말리부 차량은 잠시 멈추는가 했더니 그대로 교량 아래로 추락하고 만다.',\n",
       "       \"'국민 여러분!'이 첫 방송부터 눈을 뗄 수 없는 쾌속 전개와 유쾌한 웃음으로 시청자들을 사로잡으며 시청률 7,5%, 최고는 8.2%(닐슨코리아, 전국기준)를 기록, 산뜻한 출발을 알렸다.\",\n",
       "       \"아이돌 그룹 빅뱅의 전 멤버 승리의 성매매 알선 혐의와 관련해 자칭 '잘 노는 애들' 타칭 '잘 주는 애들'의 실체가 조금씩 드러나고 있다.\",\n",
       "       \"애슬레저 브랜드 안다르가 오늘 오전 10시부터 자사 브랜드만의 기능성 소재 에어터치(airTouch™) 티셔츠의 '1&1 스페셜 패키지' 특가 판매를 실시한다.\",\n",
       "       \"현대인의 피부고민을 연구하는 한국 대표 더마코스메틱 브랜드 에스트라가 지난 27일, 팀 화이트 16기 브랜드아카데미를 후원했다. '더마코스메틱'이란 피부과학이라는 뜻의 더마톨로지(Dermatolongy)와 화장품이라는 뜻의 코스메틱(Cosmetic)이 합쳐진 합성어다.\",\n",
       "       \"히든프라이스는 오는 3일 '더싼데이' 슈퍼반값타임 행사에서 애플 에어팟2를 반값에 판매한다.\",\n",
       "       \"KB금융그룹은 지난 1일 금융권 최초로 그룹 통합 법인고객 우대 프로그램인 '그룹 법인KB스타클럽' 제도를 신설했다고 2일 밝혔다.\",\n",
       "       \"모바일 커머스 티몬(대표 이재후)은 매월 2일을 '리워드데이'로 지정하고, 하루동안 전 상품 한도 제한없이 구매 금액의 1% 또는 5%를 적립금으로 돌려주는 이벤트를 실시한다.\",\n",
       "       \"가상화폐(암호화폐) 거래소 후오비 코리아가 제1회 '후오비 코리아 신춘문예' 공모전을 개최한다고 2일 밝혔다.\",\n",
       "       \"지난 3월 28일, 한국협업진흥협회 윤은기 회장이 팀 화이트 16기 4주차 브랜드아카데미에서 '4차 산업혁명시대와 협업'이라는 주제로 강연을 진행했다.\",\n",
       "       '황하나 남양유업 창업주 외손녀, SK 창업주 손자와 현대그룹 창업주 손자들이 줄줄이 마약으로 관심을 받게 됐다.',\n",
       "       'BNK부산은행(은행장 빈대인)이 디지털 금융을 강화하고 관련 서비스 개선을 위해 경력직 전문가를 채용한다고 2일 밝혔다.',\n",
       "       \"국내 소비 수준 및 품질 향상을 통한 국가경쟁력 강화를 목표로 매년 대중적인 명품브랜드를 발굴하고 있는 '대한민국 명품브랜드 대상'이 산업통상자원부와 한국브랜드경영협회의 후원과 한국경제신문의 주최 하에 개최됐다. 이번 명품브랜드 대상 선정은 제주도를 제외한 전국 만20~59세 남녀를 대상으로 한 인터뷰 조사 및 학계·산업계 등 지난 2월 25일부터 3월 5일까지 전문가 심사를 거쳐 진행됐다.\",\n",
       "       \"삼성전자가 국내 주거 환경에 최적화된 로봇청소기 '파워봇'과 핸디 겸용 스틱청소기 '파워스틱' 신제품을 2일 출시했다.\",\n",
       "       '남양유업 오너 일가이자 JYJ 박유천과의 약혼설로 유명세를 탄 블로거 황하나 씨가 마약 투약에 연루됐으나 관련해 조사를 받지 않았다는 봐주기 논란에 휩싸였다.',\n",
       "       '환경부가 \"중국 석탄 화력발전소는 한국 인접지역 전체 배출량의 일부이므로 발전소가 우리나라(의 미세먼지)에 미치는 영향을 속단하기는 어렵다\"는 견해를 내놓은 것으로 2일 확인됐다. 환경부가 미세먼지 발생의 주 원인으로 지목되고 있는 \\'중국 영향\\'을 사실상 부인한 셈이어서 논란이 예상된다.',\n",
       "       '조달청은 낙찰자 결정부터 시공관리, 계약관리까지 등 시설공사 전반에 걸쳐 공사현장 미세먼지 저감을 위한 종합적인 대책을 마련했다고 2일 발표했다.',\n",
       "       '미래에셋대우는 2일 온라인전용펀드 설정액이 8700억원을 돌파하면서 오프라인에 이어 온라인 펀드시장에서도 증권업계 1위를 차지했다고 밝혔다.',\n",
       "       '중국발 미세먼지가 연일 대기를 뒤덮고 있다. 마스크를 쓰지 않은 사람을 찾아 보기 힘들 정도로 대기오염으로 인한 각종 호흡기 질환에 대한 우려가 나타나고 있다.',\n",
       "       \"셀리버리(대표 조대웅)는 지난 1일부터 미국 애틀랜타에서 열린 미국암학회(AACR)에서 자사의 표적 췌암암 신약 후보물질 'iCP-SOC53'의 최신 연구 결과를 발표했다고 2일 밝혔다.\",\n",
       "       '경찰이 남양유업 외손녀 황하나 씨가 마약류관리법 위반 공범으로 입건됐으나 이와 관련해 소환조사를 받지 않았다는 의혹에 대해 내사에 착수한다.',\n",
       "       '지난 1일 마약류 구매 혐의로 경기 성남시 분당구에서 체포된 SK그룹 창업주 고(故) 최종건 회장의 손자가 마약 투약 혐의를 인정했다. 인천지방경찰청 마약수사대는 SK그룹 계열사에서 근무 중인 최모씨(31)를 마약류 관리에 관한 법률 위반 혐의로 2일 구속영장을 신청한다고 발표했다.',\n",
       "       '12월 결산법인 상장사 33곳이 유가증권·코스닥 시장에서 퇴출될 위기에 놓였다. 올해 상장폐지사유가 발생한 기업은 작년보다 13곳이나 늘었다.',\n",
       "       '드러나는 진실 속 수사도, 로맨스도 초스피드인 박진영(GOT7)과 신예은의 공조가 펼쳐졌다.',\n",
       "       \"그룹 뉴이스트(JR, Aron, 백호, 민현, 렌) 민현의 선공개 곡 'Universe' 발매가 하루 앞으로 다가왔다.\",\n",
       "       \"근로복지공단과 한국노동연구원은 지난1일 오후 3시 국제노동기구(ILO) 본부(스위스 제네바 소재)에서 열린 ILO 고용세미나에서 '사회보험 및 정부 보조금을 통한 고용지원'을 주제로 한국사례를 발표했다.\",\n",
       "       '국내 게임업계가 포괄임금제 폐지에 동참했다. 포괄임금제는 야간근로 등에 대한 시간외근로 수당을 급여에 포함하는 임금제도을 말한다.',\n",
       "       \"경기도는 도내 중.고교에 이어 오는 6월부터 '비인가 대안교육기관'의 학생에게도 30만원 범위에서 교복을 지원한다. 또 도내에 주민등록을 두고 다른 시ㆍ도 중학교에 입학한 학생에게도 교복을 지원하기로 했다. 이는 전국 광역지방자치단체 중 도가 처음시행하는 것이다.\",\n",
       "       '문재인 정부의 3번째 추가경정예산안(추경)이 급물살을 타고 있다. 정부는 추경을 오는 25일 국회에 제출한다. 미세먼지 대책에 필요한 재원 마련과 선제적 경기 대응이 원인으로 규모는 9조원에 이를 것으로 추산된다.',\n",
       "       '올 하반기부터 은행권에서 통신비 등 비금융정보를 활용한 신용등급 재평가를 실시해 사회초년생을 비롯한 금융소외계층이 은행 대출을 받기가 수월해질 전망이다.',\n",
       "       '정부는 노형욱 국무조정실장 주재로 열린 관계기관 회의(국방부, 대구시, 경상북도 참석)에서 대구 군공항 이전사업 관련 국방부와 대구시간 이견을 조정하고, 관련 절차를 속도감 있게 진행하기로 했다고 2일 발표했다.',\n",
       "       \"그룹 워너원 출신 가수 강다니엘과 LM엔터테인먼트가 전속계약 문제로 갈등을 빚고 있는 가운데 배후에 설모 씨, 일명 '설 누나'가 있다는 의혹이 제기됐다.\",\n",
       "       '지원한다고 2일 발표했다. 저녹스버너는 연소 시 화염 온도 및 산소농도를 조절해 연소 효율을 높인 고성능 버너로 최대 77.4%에 달하는 질소산화물(NOx) 저감 효과가 있는 것으로 알려져 있다.',\n",
       "       '네이버는 4일부터 뉴스 서비스 제공시 자체 편집을 하지 않고 AI(인공지능) 알고리즘 기반 자동 추천 기사로 대체한다고 2일 밝혔다.',\n",
       "       \"쌍용자동차는 지난달 국내 완성차업계 최초로 온라인 판매에 도전했다. 홈쇼핑 업체들도 TV방송을 통해 차를 팔기 위한 준비를 마쳤다. 국내에서도 머지않아 '클릭' 한 번으로 차를 구매할 수 있는 시대가 본격적으로 열릴 것이라는 분석이 나온다.\",\n",
       "       '한화건설은 지난해 사업보고서에서 별도 재무제표기준 매출액이 3조5979억원, 영업이익이 3074억원으로 전년대비 각각 12.5%, 117.4%씩 증가했다고 밝혔다. 연결재무제표기준으로 지난해 매출액은 3조7870억원, 영업이익은 2912억원이었다.',\n",
       "       \"놀이방매트의 신흥 강자로 떠오른 '토이파파'가 이커머스 업체 티몬의 타임마케팅에 참여한 후 매출이 크게 증가한 것으로 나타났다.\",\n",
       "       '사우디아라비아 국영 석유기업 아람코가 지난해 무려 1111억달러(약 125조원)로 전세계 기업 중 순이익을 가장 많이 올린 회사로 조사됐다.',\n",
       "       '] 셀바스헬스케어는 지난 2월 이후 온라인에서 떠도는 여러 소문에 대해 \"사실과 전혀 다른 내용으로 회사 명예를 훼손하는 행위에 적극 대응할 것\"이라고 2일 밝혔다.',\n",
       "       '신한은행은 진옥동 신한은행장이 2일 서울 중구 을지로 소재 롯데호텔에서 서울·경기 지역 우수 고객 300여명을 초청해 조찬 세미나를 열고 현장 경영을 시작했다고 밝혔다.',\n",
       "       \"연세대학교의 연세의료원과 미래교육원이 운영하는 CEO 및 오피니언 리더를 위한 '제7기 세브란스 메디컬 아카데미'의 수강생 모집이 진행 중이다.\",\n",
       "       \"줄기세포 피부과학을 선도하는 전문기업 '아프로존'(회장 김봉준)이 홍콩 시장 진출의 시작을 알리는 '아프로존 홍콩 법인' 진출 업무협약을 체결했다. 지난달 27일 아프로존 본사에서 진행된 협약식에는 아프로존 김봉준 회장과 홍콩 법인장 kiang ping fai 등이 참석했다.\",\n",
       "       '경남FC가 프로축구 K리그 경기에서 4·3 재보궐 선거 운동을 지원을 못막은 데 대해 제재금 2000만 원 징계를 받았다.',\n",
       "       '[ 강경민 기자 ] 정부는 금융회사들과 함께 연령대에 맞춰 비과세 및 세금 감면 등의 각종 혜택을 주는 정책금융상품을 속속 출시하고 있다. 소상공인 등을 대상으로 한 연 1%대 초저금리 대출상품도 올 들어 새로 출시됐다. 전문가들은 정책금융상품을 선택할 때는 연소득 및 나이 제한, 매출 기준 등 본인이 기준을 충족하는지 반드시 따져보고 가입하라고 조언했다.',\n",
       "       '] 금융위원회가 최근 올해 업무계획을 통해 주택을 담보로 매달 일정 금액을 연금 방식으로 받는 주택연금의 가입 요건을 완화하면서 가입 기준과 혜택에 대한 관심이 커지고 있다. 주택연금에 대한 궁금증을 Q&A로 정리했다.',\n",
       "       '충남 천안의 코리아텍(총장 이성기)은 온라인평생교육원 개원 4주년을 맞아 이러닝 플랫폼 이벤트를 진행한다고 2일 밝혔다.',\n",
       "       '] 은퇴자산을 관리하는 금융상품이 빠르게 성장하는 가운데 타깃데이터펀드(TDF)가 직장인들의 연금관리 수단으로 주목받고 있다. 가입자가 별도 운용 지시를 하지 않아도 자산을 꾸준히 관리할 수 있어 시간이 부족한 직장인들에게 안성맞춤이기 때문이다.',\n",
       "       '4·3 보궐선거 창원성산 지원유세에 나선 오세훈 전 서울시장이 고 노회찬 의원을 거론하며 \"돈 받고 스스로 목숨을 끊은 분\"이라고 말한 후 정의당의 반발이 계속되고 있다.',\n",
       "       '정부가 2일 대구·경북 통합신공항 건설에 속도를 내겠다고 발표함에 따라 이전사업 추진과 종전부지 개발에 관심이 쏠리고 있다.',\n",
       "       \"] 시중은행들의 모바일뱅킹 이용 비중이 늘면서 모바일 자산관리 서비스도 확산되고 있다. 급증하는 '모바일 재테크족'들을 겨냥, 시중은행들마다 로보어드바이저 서비스를 고도화해 관련 서비스들도 한층 진화했다는 평가를 얻고 있다.\",\n",
       "       '] 금융계의 아동수당 유치전이 불붙고 있다. 올해부터 부모 소득·재산과 관계없이 만 6세 미만 모든 아동에게 아동수당이 지급되면서 20만 명이 추가적인 혜택을 볼 것으로 예상되기 때문이다. 오는 9월부터는 대상이 만 7세 미만 아동으로 확대된다.',\n",
       "       \"이채익 의원(행정안전위, 울산 남구갑)은 2일 울산박물관 대강당에서 '수소산업진흥원' 울산 유치를 위한 토론회를 열었다.\",\n",
       "       '올해로 35회째를 맞는 한국프로골프(KPGA) 코리안투어 신한동해오픈이 아시안투어, 일본프로골프투어(JGTO) 등 3개 투어가 공동주관하는 대형 국제대회로 거듭난다.',\n",
       "       \"그룹 볼빨간사춘기가 신곡 '나만, 봄'으로 또 한번 큰 사랑을 받고 싶다는 바람을 내비쳤다.\",\n",
       "       '넥스트펫은 최근 삼성카드와 반려동물 사업 개발을 위한 업무협약(MOU)을 체결했다고 2일 밝혔다.',\n",
       "       \"] 서울대 법학전문대학원(로스쿨)이 올해 1학기부터 30대 젊은 법조인들을 연구·교육 인력으로 단기간 채용하는 '펠로 프로그램'을 운영한다. 법학 분야 연구를 수행하는 '학문 후속세대'(박사 과정을 마친 전문 연구 인력)를 키우는 동시에 어린 후배들을 가르치는 '교육자'를 양성하겠다는 게 서울대 로스쿨의 목표다.\",\n",
       "       '3일 제24대 한국대학교육협의회 회장으로 취임하는 김헌영 강원대 총장(사진)은 2일 미리 배포한 취임사를 통해 이 같은 포부를 밝혔다. 김 회장은 \"지난 수년간 물가는 지속적으로 상승했지만 등록금은 계속 동결돼 교육의 질적 성장을 가로막았다\"며 \"교육 재정 확충 없이 대학 발전은 불가능하다\"고 진단했다. 그는 이어 \"경제협력개발기구(OECD) 회원국들은 국내총생산(GDP)의 1.4%를 고등교육 지원에 쓰고 있지만 한국은 이 비율이 0.8%에 머물러 있다\"며 \"상황이 이렇다 보니 한국 국민들의 등록금 부담은 세계 최고 수준이지만 학생 1인당 고등교육비는 OECD 34개국 중 29위에 그친다\"고 강조했다. 김 회장은 \"고등교육에 대한 재정 지원 확대에 관한 사회적 공감대가 조성되면 관련 법령 제정도 성사될 수 있을 것\"이라고 덧붙였다.',\n",
       "       '] 한솔제지는 시장에 매물로 나온 태림포장(골판지업체)과 전주페이퍼(신문용지업체) 중 한 곳만 인수하겠다고 2일 밝혔다. 시장에서는 한솔제지가 동시에 두 회사를 인수할 것이란 설이 돌며 주가가 크게 하락했다. 한솔은 이날 보도자료를 통해 \"두 회사를 동시에 인수하는 일은 없을 것\"이라고 밝혔다. 주가뿐 아니라 두 회사를 동시에 인수하면 재무 부담이 너무 커지기 때문이다.',\n",
       "       \"[ 조아란 기자 ] 지난달 4일 성균관대 국제관 건물 1층에 '학생성공센터'가 들어섰다. 상담하러 오는 모든 학생에게 학교가 맞춤형 지원을 하는 곳이다. 국내 대학에는 없던 곳이다.\",\n",
       "       \"] 신소재 나노섬유를 적용해 기존 생리대보다 통기성이 2만 배 뛰어난 생리대가 나왔다. 나노 소재 전문업체 레몬은 생리대의 비닐 위생패드필름(생리대 바닥 부분에 들어가는 샘 방지 필름)을 나노섬유로 개발한 생리대 '에어퀸'을 출시했다고 2일 발표했다.\",\n",
       "       '[ 김남영 기자 ] 분리수거는 귀찮은 일이다. 지구를 살린다는 대의명분도 당장의 귀찮음 앞에서 힘을 잃는다. 여러 정책 수단을 동원하고 있음에도 재활용품의 분리 배출이 제대로 이뤄지지 않고 있는 이유다. 오이스터에이블은 분리수거의 대가로 경제적 보상을 제공하는 대안을 제시했다.',\n",
       "       \"] 중소벤처기업부와 창업진흥원은 3~7년차 스타트업(신생 벤처기업)을 위한 '창업도약패키지' 지원사업을 운영하고 있다. 스타트업의 현금 유동성에 문제가 생기는 시기를 '3~7년차'로 본 것이다.\",\n",
       "       '] 공정거래위원회가 직원을 상대로 \\'갑질\\'을 했다며 업무에서 배제한 유선주 심판담당관(국장)을 직위해제했다. 유 국장은 \"내부 비리에 대한 공익신고를 했다는 이유로 입막음을 하려는 것\"이라고 반발했다.',\n",
       "       \"[ 김순신 기자 ] 인터넷전문은행이 출범 2년 만에 가입자 1000만 명 돌파를 눈앞에 두고 있다. 국민 5명 가운데 1명이 인터넷전문은행 계좌를 트면서 금융계에 '디지털 혁신' 바람을 일으켰다는 평가가 나온다.\",\n",
       "       '] 폴더블폰 관련주로 부각되면서 최근 급등세를 탄 코스닥시장 상장사 유티아이 임직원들이 주식매수선택권(스톡옵션) 행사로 큰 평가차익을 거뒀다. 현재 주가의 6분의 1 수준 가격에 주식을 사들여 500%가 넘는 수익률을 기록했기 때문이다.',\n",
       "       '[ 도병욱 기자 ] 현대자동차가 채식주의자를 위한 점심 메뉴를 만들고 사옥 내 흡연실을 휴게공간으로 바꿨다. 직원들이 평소 불편하다고 건의했던 사항 중 일부를 해소한 것이다. 현대차는 올 들어 기업문화를 바꾸기 위해 다양한 시도를 하고 있다. 이번 조치도 그 연장선에 있다는 게 회사 관계자의 설명이다.',\n",
       "       '[ 강영연 기자 ] 미국과 중국의 제조업지수 반등으로 글로벌 경기 둔화 우려가 잦아들며 코스피지수가 2170선을 회복했다.',\n",
       "       \"[ 박종관 기자 ] 쌍용자동차는 지난달 국내 완성차업계 최초로 온라인 판매에 도전했다. 홈쇼핑 업체들도 TV 방송을 통해 차를 팔기 위한 준비를 마쳤다. 국내에서도 머지않아 '클릭' 한 번으로 차를 구매할 수 있는 시대가 본격적으로 열릴 것이라는 분석이 나온다.\",\n",
       "       '] 부산지역 일부 자동차 부품회사가 공장 폐쇄를 검토 중인 것으로 조사됐다. 르노삼성자동차 노동조합이 파업을 이어가면서 르노삼성 부산공장에 납품하는 물량이 줄어든 데다 직원들이 하나둘 회사를 떠나고 있어 더 이상 버틸 수 없다는 판단에서다.',\n",
       "       \"[ 노경목 기자 ] 중국 부자 순위를 전문적으로 집계하는 매체 후룬은 지난달 인터넷쇼핑몰 핀둬둬의 창업자 황정을 '자수성가형 부자' 1위로 꼽았다. 그가 2015년 9월 창업한 핀둬둬를 3년 만에 미국 나스닥에 상장시켜 자산이 크게 늘어나면서다.\",\n",
       "       'KT가 5일로 예정된 5세대(5G) 이동통신 스마트폰 출시에 맞춰 월 8만원에 데이터를 무제한으로 쓸 수 있는 요금제를 들고나왔다. 통신 3사 가운데 5G 데이터 무제한 상품을 내놓는 것은 KT가 처음이다. KT는 2011~2012년 4G 서비스인 LTE 도입 시기 SK텔레콤, LG유플러스보다 6개월가량 늦게 서비스를 시작해 고전한 경험이 있다. 5G에서는 무제한 데이터 상품을 앞세워 초기부터 시장을 주도해 나가겠다는 의지로 해석된다.',\n",
       "       '[ 전범진 기자 ] 12월에 결산하는 26개 증권사 가운데 약 60%인 16개사의 지난해 임직원(등기임원 제외) 평균 연봉이 1억원을 넘어선 것으로 나타났다. 작년 증시 활황 속에 증권사의 순이익이 급증하면서 인센티브 비중이 높은 증권사 직원들의 연봉이 오른 결과다.',\n",
       "       '전무급 임원들은 평균 5억6000만원, 부사장급은 평균 9억원을 넘게 벌었다. 최고경영자(CEO)의 연봉은 평균 20억원으로 부사장보다 두 배 이상 많았다.',\n",
       "       '] SK에너지가 지난해 최고 연봉 기업에 올랐다. 구인·구직 사이트 사람인이 2일 국내 매출 상위 30대 기업(지주사 제외) 중 금융감독원에 사업보고서를 제출한 28개사의 직원 연봉을 분석한 결과다. 이들 기업의 지난해 평균 연봉은 9100만원으로 전년 대비 800만원 늘어났다.',\n",
       "       '[ 이태훈 기자 ] 지난해 국가부채가 자산보다 두 배 이상 빠른 속도로 증가해 사상 첫 1700조원에 육박했다. 부채의 절반 이상이 공무원과 군인에게 지급할 연금 때문에 쌓아두는 충당부채였다. 국민 한 명이 부담해야 하는 국가부채가 작년에만 200만원 이상 뛰어 3260만원에 달했다. 공무원은 한번 늘리기 시작하면 줄이기도 쉽지 않은 데다 국가가 지출해야 하는 연금 부담도 눈덩이처럼 불어난다. 그럼에도 정부는 문재인 대통령 공약에 따라 2022년까지 공무원 수를 17만 명 늘릴 계획이다.',\n",
       "       '] 검찰이 텔레그램 등 해외에서 개발한 메신저형 소셜네트워크서비스(SNS)에서 지워진 대화 내용을 복원해내는 기술 개발에 나섰다. 마약 거래 등 SNS를 통한 범죄는 갈수록 늘어나는데 휴대폰을 증거로 확보하더라도 지워진 대화 내용을 복원하지 못해 수사가 벽에 부닥치는 일이 많아지고 있어서다.',\n",
       "       '[ 민지혜 기자 ] \"K뷰티의 성공 전략이요? 그걸 알고 싶어서 중국에 와 있는 겁니다.\"',\n",
       "       \"국내 최대 규모 디벨로퍼인 엠디엠그룹의 문주현 회장(한국부동산개발협회 회장·사진)은 1일 창조도시부동산융합 최고위 과정 특강에서 '안티프래질'이 필요하다고 강조했다.\",\n",
       "       '] 한국의 건설산업 글로벌 경쟁력이 2년 연속 추락해 7년 만에 10위 밖으로 밀려난 것으로 나타났다. 국토교통부와 한국건설기술연구원은 매년 공개해오던 이 연구 결과를 올해 비공개로 전환했다가 정보공개 청구에 뒤늦게 공개해 구설에 올랐다.',\n",
       "       \"] 라이나전성기재단은 '라이나50+어워즈' 수상자로 조동우 포스텍 기계공학과 교수와 서명숙 사단법인 제주올레 이사장을 선정했다고 2일 발표했다.\",\n",
       "       '국내 프랜차이즈 제과업체인 뚜레쥬르가 해외 진출 14년 만에 처음으로 미국에서 흑자를 냈다. 제과나 치킨 프랜차이즈 등 국내 식품 프랜차이즈를 통틀어 첫 해외 흑자여서 의미가 크다는 평가다. 해외 진출 이후 끊임없는 품질 및 서비스 개선, 그리고 현지화 전략 등이 결실을 맺고 있다는 설명이다.',\n",
       "       \"카카오의 '카카오T(옛 카카오택시)'가 장악하고 있는 택시호출 시장에 우버가 도전장을 냈다. 후발주자이긴 하지만 세계 최대 모빌리티(이동수단) 기술회사인 우버가 세련된 브랜드 이미지로 젊은 층을 파고들 것으로 예상돼 택시호출 시장의 판도 변화 여부가 주목된다.\",\n",
       "       '] 채상욱 하나금융투자 연구위원(사진)의 올해 집값 전망은 \\'약세\\'다. 채 위원은 한국경제신문과의 인터뷰에서 \"올해는 아파트 가격을 끌어내릴 요인이 많다\"며 \"올해 하반기에서 내년 상반기 중에 집값이 바닥을 찍을 것으로 보인다\"고 전망했다.',\n",
       "       \"그룹 엑소 멤버 첸(본명 김종대·27)이 KBS 쿨FM '이수지의 가요광장' 출연, 첫 솔로 앨범 '사월, 그리고 꽃'(April, and a flower) 발표와 본격적인 활동을 시작했다.\",\n",
       "       '] 이뮤니스바이오는 NK세포 치료제를 대장암과 폐암 말기 환자에게 투여하는 임상시험을 시작했다고 2일 발표했다. 대장암에 NK세포를 활용하는 국내 임상시험은 이번이 처음이다.',\n",
       "       '[ 윤희은 기자 ] \"연구자들이 기술 개발에 성공해 보상금을 받아도 실수령액은 턱없이 작은 수준입니다. 대학 몫 50%를 떼고 세금까지 내면 수령액의 30% 수준으로 줄어들죠. 기술사업화를 활성화히기 위해 조세제도를 빨리 바꿔야 하는 이유입니다.\"',\n",
       "       \"[ 박종관 기자 ] 국내 상장사(12월 결산법인)들의 사업보고서 제출 마감일이던 지난 1일. 기아자동차가 내놓은 지난해 사업보고서에는 눈에 띄는 숫자가 있었다. 10억7600만원. 박광주 기아자동차 서울 테헤란로지점 영업부장(49·사진)이 지난해 받은 급여와 상여금을 합친 금액이다. 박 부장은 10억2700만원을 받은 박한우 사장을 제치고 기아차 임직원 중 '연봉 킹'에 올랐다. 자동차업계에서는 연공서열 중심의 임금 구조를 갖춘 현대·기아차에서 최고경영자(CEO) 연봉을 뛰어넘은 '영업맨'이 누구인지에 관심이 집중됐다.\",\n",
       "       '] 삼성전자 현대자동차 포스코 등 유가증권시장 매출 상위 20대 기업의 지난해 영업활동현금흐름은 총 130조9195억원이었다. 전년(121조7226억원)보다 6.9% 증가한 금액으로, 2012년 국제회계기준(IFRS) 도입 이후 최대 규모다.',\n",
       "       '[ 안혜원 기자 ] 이상우 유진투자증권 연구위원(사진)은 대표적인 집값 강세론자로 꼽힌다. 정부의 9·13 부동산 대책이 단기적으로 약효를 내자 올해 들어 많은 부동산 전문가들이 하락론으로 돌아섰지만 이 연구위원은 \"집값 상승 여력이 여전히 남아 있다\"고 자신했다.',\n",
       "       '] 르노삼성자동차 노사분규가 길어지면서 부산지역 협력업체들이 생산량 감소와 고용 유지 어려움 등 이중고에 시달리고 있다. 일부 업체는 공장을 정리하는 방안을 검토하고 있고 근로자 상여금을 삭감해 노사 갈등을 빚기도 한다.',\n",
       "       '[ 김해연 기자 ] 선박과 발전설비용 고압 압축기를 전문적으로 생산하는 범한산업(대표 정영식)이 대전에 있는 연료전지사업본부를 창원으로 이전한다. 동시에 수소발전설비와 수소충전소를 새로 구축하는 등 경남에 240억원의 투자를 결정했다.',\n",
       "       '가수 강다니엘의 전속계약 분쟁 관련 설 모 씨, 원 모 씨 등의 배후설이 수면 위로 떠올랐다.',\n",
       "       \"경제 미디어 인포스탁데일리의 실시간 경제뉴스가 국내 최대 의사 포털커뮤니티 '아임닥터'에 제공된다. 경제 미디어 인포스탁데일리의 실시간 경제뉴스가 국내 최대 의사 포털커뮤니티 '아임닥터'에 제공된다.\",\n",
       "       \"'국민 여러분!' 베테랑 사기꾼 최시원의 사기 행각을 쫓는 이가 있었으니, 바로 경찰 아내 이유영과 사채업자 김민정으로 이들의 격돌이 예측돼 궁금증을 폭발시킨다.\",\n",
       "       '서울 금천구 아이돌보미가 아기를 학대해 아이의 부모는 국민청원 게시판에 \"돌보미가 14개월 된 아이를 폭행했다\"며 학대장면이 담긴 CCTV 영상을 공개하고 재발방지를 호소했다.',\n",
       "       '[ 워싱턴=주용석 기자 ] 크리스틴 라가르드 국제통화기금(IMF) 총재(사진)가 2일(현지시간) \"올해 세계 경제의 70%가 경기 하강을 경험할 것\"이라고 말했다.',\n",
       "       \"KTB투자증권이 네이버에 대해 라인의 실적 부진이 지속되고 있고 국내 사업 모멘텀도 부족하다고 3일 밝혔다. 목표주가 14만원을 유지하고 투자의견 '유보(HOLD)'를 제시했다.\",\n",
       "       \"하나금융투자는 3일 KT에 대해 '장기 이익 감소 가능성이 낮다'며 목표주가 4만원, 투자의견 '매수'를 각각 유지했다. 다만 '본격적인 주가 상승이 나타나려면 다소간 시일이 소요될 전망'이라며 '단기적으로는 보수적인 투자 자세를 견지할 것'이라고 권고했다.\",\n",
       "       '대신증권은 3일 하나투어에 대해 일본의 회복세가 더디다는 점을 감안해 목표주가를 9만4000원에서 8만9000원으로 하향 조정했다. 투자의견은 매수를 유지했다.',\n",
       "       \"NH투자증권은 3일 LG화학에 대해 'ESS용(리튬이온 배터리 기반 에너지저장장치) 전지부문 실적은 일시적으로 악화되겠지만 장기 성장성은 유지할 것'이라고 분석했다. 투자의견 '매수'와 목표주가 50만원도 유지했다.\",\n",
       "       '전날 오후 급등한 가상화폐(암호화폐) 비트코인 시세가 3일 오전 7시30분 기준 534만원선(이하 업비트 기준)을 기록했다.',\n",
       "       '주방기기를 재활용해서 창업자들의 창업부담도 줄이고 폐기물에 의한 환경오염도 줄이는 사업을 하고있는 경북 경산의 사회적기업 책임(대표 박종복)에서 일하고 있는 청년 A씨는 \"중고 냉장고를 닦고 살려내는 작업은 3D 업종이지만 우리가 하는 일이 환경을 살리고 어려운 자영업자들을 돕는 사업이라 보람을 느낀다\"고 말했다. A씨는 \"사회적기업들이 청년괴짜방에 모여 사회의 문제를 함께 푸는 아이디어를 교환하는 것이 일반 중소기업과 달리 자존감을 높이고 있다\"고 말했다.',\n",
       "       '가수 정준영이 불법 영상물을 유포한 카카오톡 단체 대화방 멤버가 가수 로이킴이라는 사실이 드러났다.',\n",
       "       '최근 만난 한 블록체인 프로젝트 관계자는 이같이 토로했다. 특히 소프트웨어(SW) 개발자가 부족하다. 메인넷(독립된 블록체인 네트워크)이나 가상화폐(암호화폐) 거래소 시스템 운영에 가장 필수적인 전문인력이 개발자다.',\n",
       "       '] 파주 운정신도시 주민들이 3호선 연장을 요구하고 있다. (사진 운정연 제공) 수도권 2기 신도시인 경기도 파주 운정신도시가 교통문제로 몸살을 앓고 있다. 연초로 예정됐던 운정3지구의 분양이 두 달 가까이 미뤄지고 있고, 기존 운정신도시 주민들은 3호선 연장을 주장하고 나섰다.',\n",
       "       \"'불타는 청춘'이 안방마님 '강수지'의 컴백으로 화요일 밤 동시간대 1위를 굳건히 했다.\",\n",
       "       \"서울 강남 접근성이 좋은 편이어서 이른바 '준강남'으로 불리는 지역에서 아파트 분양이 쏟아진다. 경기도 성남고등, 위례, 과천지식정보타운, 하남 감일 등에서다. 수도권에 1순위 통장을 가진 무주택자라면 관심을 둘만한 분양들이다.\",\n",
       "       '큐리언트는 미국 아틀란타에서 열린 미국암학회(AACR)에서 임상 진입을 준비 중인 면역항암치료제(Q702)의 동물시험 결과를 발표했다고 3일 밝혔다. AACR는 회원수 4만명이 넘는 3대 암학회로 매년 2만여명 이상의 전문가와 제약사가 참석한다.',\n",
       "       \"일진그룹의 계열사인 일진건설이 진주 강남동에 호텔 같은 아파트 '일진스위트포레강남'을 선보이며 또 한 번의 도약을 시도한다.\",\n",
       "       '글로벌 디지털 마케팅 서비스 기업인 콘센트릭스코리아는 디지털 마케팅 솔루션 기업인 넷스루와 3월 29일 양사간 디지털 마케팅 사업의 확대강화를 위한 비즈니스 협약을 맺었다고 밝혔다.',\n",
       "       \"다이슨이 3일 개인용 공기청정기 '다이슨 퓨어쿨 미'를 출시했다. 공간 전체를 정화하는 기존 제품과 달리 침대 옆, 책상 위에 놓고 쓸 수 있는 제품이다. 팔 뻗으면 닿을 수 있는 거리에 놓고 써야 한다.\",\n",
       "       '글로벌 화학 전문 소재기업 화승소재(대표 허성룡,사진)는 지난해 차량용 실링 소재(CMB, TPE)와 방산 및 해양산업 분야에서 2814억의 매출을 기록했다고 3일 발표했다.',\n",
       "       '국내 대기업들이 연이어 블록체인 사업에 진출하며 시장 지형을 바꾸고 있다. 스타트업 위주였던 블록체인 시장이 대기업 중심으로 재편하는 모양새다.',\n",
       "       \"SBS '백종원의 골목식당'에서는 '지역경제 살리기 프로젝트' 두 번째 지역인 충청남도 서산 편이 첫 방송된다. 이날 방송에는 조보아 후임으로 출연하게 된 정인선이 처음 등장한다.\",\n",
       "       '그룹 방탄소년단이 새 앨범 MAP OF THE SOUL : PERSONA의 콘셉트 포토를 추가 공개했다.',\n",
       "       '부산국제보트쇼가 6번째 항해를 성황리에 마쳤다. 이번 행사는 보트 요트 관련 제조업체들의 판로개척 및 해양레저 저변 확대를 위해 해양수산부와 부산광역시가 공동 주최했다.',\n",
       "       \"기술보증기금(이사장 정윤모)은 기획재정부가 주관한「2018년 공공기관 고객만족도 조사」에서 '우수등급(A등급)'을 달성했다고 3일 밝혔다. 기보는 2014년 이후 '5년 연속 우수등급' 을 달성했다.\",\n",
       "       '아랍에미리트(UAE)가 최근 한국수력원자력을 상대로 강한 불만을 표시한 것으로 드러났다. 바라카 원전 사업에서 전문 인력을 일방적으로 철수했다는 이유에서다. 새 정부가 2017년 탈(脫)원전 정책을 공표한 뒤 UAE 원전 사업이 삐걱대고 있다는 지적이 나온다.',\n",
       "       \"은행권이 디지털 인재 영입을 위해 그간 고집하던 '순혈주의'를 내려놨다. 내부인력을 키우는 것보다 외부에서 전문인력을 수혈하는 편이 디지털 고도화를 앞당기는 데 유리하다는 판단에서다. 디지털 금융의 중요성이 커지는 만큼 정보기술(IT) 분야의 경력 채용은 더 늘어날 전망이다.\",\n",
       "       \"한국자산관리공사 제57주년 창립기념식?을 개최했다. 이어 오후 2시 대한적십자사 부산지사 희망나눔봉사센터에서 문창용 캠코 사장과 직원 20여명이 '사랑의 생일 떡 나눔' 활동을 펼쳤다.\",\n",
       "       \"차 전문회사 '티젠(대표이사 김종태)'이 오는 4월 3~7일 서울 삼성동 코엑스(COEX)에서 개최되는 '제25회 서울리빙디자인페어'에 참가한다. 티젠은 이번 행사에서 신제품 소개 및 시음 행사, 각종 이벤트 등을 진행할 계획이다.\",\n",
       "       '가수 로이킴 측이 불법 영상물 유포 혐의를 받고 있는 가수 정준영의 카카오톡 단체방에 참여한 것과 관련해 입장을 전했다.',\n",
       "       '일본 국영 동일본여객철도회사(동일본JR)가 가상화폐(암호화폐)를 활용한 교통카드 충전서비스 도입을 검토한다. 일본은 현금거래 비중이 80%에 달한다. 내년 도쿄올림픽을 앞두고 외국인 관광객 소비 촉진을 위한 다양한 결제 옵션 도입 취지로 풀이된다.',\n",
       "       '외모가 경쟁력이 된 요즘 많은 사람들이 더 멋진 외모를 위해 자신을 가꾸기에 여념이 없다. 드라마틱한 효과를 위해 성형수술 등이 고려대상이 되기도 하지만 회복하기까지의 시간과 부담스러운 비용 등이 문제다.',\n",
       "       \"나이스신용평가가 동양생명보험(이하 동양생명)의 보험금지급능력등급과 후순위사채 신용등급 전망을 종전 '안정적'에서 '부정적'으로 하향 조정했다.\",\n",
       "       '항암바이러스 치료제인 암젠의 임리직이 미국 애틀랜타에서 개최되고 있는 미국암학회(AACR 2019)에서 삼중음성 유방암 대상 술전요법 형태의 최신 연구결과를 공개했다. 술전요법이란 종양제거 수술을 위해 사전에 암세포의 크기를 줄이는 것을 말한다.',\n",
       "       '윤화섭 안산시장이 지난 2일 하노버 산업박람회장을 방문해 프라운호퍼 연구소 관계자와 이야기를 하고 있다.',\n",
       "       '시선테라퓨틱스(대표 김혜주)는 28일 인공 핵산 PNA를 기반으로 다양한 치료제를 개발할 수 있는 원천기술인 폴리고(POLIGO)가 국내 특허를 획득했다고 밝혔다. POLIGO 기술은 미국, 캐나다, 중국 등 주요국에서도 PCT 국제출원을 마쳤다.',\n",
       "       '국내 증권업의 수익성이 미국과 일본 등 주요국과 비교해 현저히 낮은 것으로 나타났다. 수수료 인하 등 기업간 경쟁이 치열해서다.',\n",
       "       '현대중공업그린에너지가 3일 대구 Exco에서 개막한 제16회 국제 그린에너지엑스포에서 수상 태양광 통합 솔루션 Hyundai AquaPower를 선보였다.',\n",
       "       \"글로벌 허브 항만기업 부산항만공사(BPA)가 정부의 2018년도 공공기관 고객만족도 조사에 3년 연속 'A등급'을 받았다.\",\n",
       "       '코스피지수가 약 한 달 만에 2200선을 넘어섰다. 미중 무역협상이 타결에 근접했다는 보도가 호재였다.',\n",
       "       \"㈜한양이 경기 구리시 수택지구 주택재건축 정비사업인 '한양수자인 구리역'의 모델하우스를 오는 5일 개관한다.\",\n",
       "       \"'더 뱅커' 채시라가 갑작스레 들이닥친 검사부의 본부장실 압수수색에 당황한 모습이 포착됐다. 이내 검사부 직원 코앞에서 재킷까지 벗어 보이며 도발하는 그녀의 미친 카리스마가 보는 이들의 시선을 강탈한다.\",\n",
       "       \"롯데건설은 3일 부산 남구 용당동 및 대연동, 용호동 일대를 방문해 '꿈과 희망을 주는 러브하우스 봉사활동'을 펼쳤다. 부산 경남 지역 현장의 롯데건설 임직원 20여 명은 부산 남구청이 추천한 부산 남구 용당동에 위치한 아동 청소년 보호시설, 대연동과 용호동의 취약계층 2가구의 시설개선 봉사활동을 했다. 롯데건설은 2016년 4월 부산 남구청과 봉사활동 협약을 맺고 기초생활수급자 등 주거환경이 열악한 곳에 집수리 봉사활동을 꾸준히 해왔다.\",\n",
       "       \"NH투자증권은 고령화에 따라 수혜를 입을 기업에 투자하는 'NH-아문디 올셋 글로벌 실버에이지 펀드'를 추천했다. 해외주식형펀드인 이 상품은 65세 이상 노인 인구가 세계 각국의 소비 주체로 등장하면서 이익이 늘어날 가능성이 높은 실버산업에 집중 투자한다.\",\n",
       "       '삼성증권은 고객에게 달러채권을 유망상품으로 추천한다. 미국 국채 금리가 한국 국채 금리보다 높은 금리역전 현상이 계속될 것으로 예상되면서다. 한국보다 신용등급이 높은 미국에 투자하는데도 오히려 높은 금리를 누릴 수 있는 기회로 여겨지고 있다. 달러채권은 주식이나 금, 원유 등 다른 자산과의 상관성이 낮아 함께 투자할 경우 포트폴리오의 안정성도 높일 수 있다.',\n",
       "       \"'그녀의 사생활' 배우 박민영이 '김비서가 왜 그럴가' 이후 또 한번 '로코'(로맨틱 코미디)에 도전하게 됐다.\",\n",
       "       '] 최근 베트남 인도네시아 등 동남아시아 시장에 대한 투자자의 관심이 높아지고 있다. 동남아는 개발도상국이라는 점에서 선진국과 달리 경기 정점 논란에서 자유로우며, 미·중 무역 분쟁과 중국의 인건비 상승으로 공장들이 동남아로 이전하면서 중장기적으로 수혜를 볼 것으로 기대되고 있다. 특히 평균 인구 연령이 젊고, 중산층이 지속적으로 증가할 것으로 예상됨에 따라 이런 수혜를 받을 수 있는 소비재 기업에 관심이 커지고 있다.',\n",
       "       \"신선식품 배송서비스 마켓컬리(운영사 컬리)가 글로벌 큰손들로부터 1000억원 규모의 자금을 끌어모았다. 새벽배송의 선구자인 이 회사는 인수·합병(M&A)을 제안하는 물류기업들의 '러브콜'을 뿌리치고 독자생존을 택했다.\",\n",
       "       '] 저축은행들이 핀테크(금융기술)를 활용한 모바일 플랫폼 확장에 적극 나서고 있다. 모바일 앱(응용프로그램)으로 가입하면 높은 금리를 제공하는 전용 신상품도 잇따라 내놓고 있다. 또 앱을 통한 입출금 및 대출 편의성을 높였다.',\n",
       "       \"NH농협손해보험은 유병자와 고령층도 저렴한 보험료로 가입가능한 '무배당 간편한가성비플러스건강보험'을 출시했다고 3일 밝혔다.\",\n",
       "       '전력 에너지 공기업 5곳이 상반기 신입 공개채용에 나섰습니다. 공채를 진행중인 전력공기업은 한국전력공사, 한국남부발전, 한국중부발전, 한전KPS, 한전KDN 등으로 모두 961명을 선발합니다. 나머지 전력공기업인 한국수력원자력과 한국남동발전은 5~6월께 채용을 할 것으로 전망됩니다. 전력공기업의 특성상 기술직 채용이 많습니다. 인문계는 여전히 좁은문 입니다. 사무 일반직은 5개 기업에서 16%(155명)밖에 안됩니다. 한국중부발전은 상반기에는 기술직만 채용을 할 정도입니다.',\n",
       "       '최근 동네맛집의 활약이 돋보이고 있다. 경쟁이 치열해지면서 우선 지역상권에서 소규모로 시작해 맛과 서비스를 검증받은 후 사업을 확장한다는 전략이다.',\n",
       "       '경찰이 14개월 영아의 뺨을 때리는 등 학대한 50대 아이돌보미를 피의자 신분으로 소환했다.',\n",
       "       '이르면 7월부터 난임 치료 시술에 대한 건강보험 적용 범위가 확대돼 45세 넘는 여성도 혜택을 받을 수 있게 된다. 5월부터는 암이 아닌 염증성 질환자도 눈·귀·코 등 두경부 자기공명영상(MRI) 검사를 받을 때 건강보험 혜택을 받을 수 있다.',\n",
       "       '[ 강동균,김주완 기자 ] 중국 정부가 1여 년 만에 외국 신규 게임의 유통을 허가했다. 하지만 사드(고고도 미사일방어체계) 한국 배치를 둘러싼 갈등으로 허용하지 않았던 한국산 신규 게임의 유통은 여전히 막고 있다.',\n",
       "       \"] 정부가 공개하는 공공 데이터는 빅데이터 경제의 '마중물'로 통한다. 전국의 교통정보, 공시지가, 기상정보 등 기업이 활용할 만한 데이터가 상당하다. 정부는 2013년 제정된 공공 데이터법에 따라 매년 중앙부처와 공공기관의 데이터를 개방해왔다. 지난해 10월 기준 민간이 자유롭게 열람할 수 있는 데이터는 2만7000여 건에 이른다.\",\n",
       "       '] 황수남 KB캐피탈 사장(사진)은 3일 \"상용차 부문에 집중해 자동차 금융에서 우위를 지키고 기업·개인 대출 시장을 키워 제2의 성장을 이루겠다\"고 강조했다.',\n",
       "       '] 배달 앱(응용프로그램)업계 1위인 배달의민족이 전국 외식업 자영업자에게 종합건강검진 할인 혜택을 제공한다. 음식점 운영에 꼭 필요한 인터넷, 통신과 주방가전 렌털 비용도 할인해주기로 했다.',\n",
       "       \"[ 안효주 기자 ] 유통업계의 '초저가 경쟁'이 이어지고 있다. 이번엔 39만9000원짜리 50인치 초고화질(UHD) TV가 대형마트에 등장했다.\",\n",
       "       '] 생활가전업체 쿠쿠가 지난해 매출 9119억원을 기록했다. 올해는 1조원 달성을 목표로 세웠다. 국내외 생활가전 렌털사업을 확장하고, 성장세가 가파른 전기레인지 시장 공략을 강화할 계획이다.',\n",
       "       '] \"공시가격 자체가 조세정책과 복지정책을 담당하진 않습니다. 공시가격 논란에 대한 핵심은 공시제도를 선진화하고 균형성, 정확성을 높이는 것입니다.',\n",
       "       '] 정부는 지난해 일자리안정자금을 처음 지급하면서 올해부터는 일하는 저소득층에 지원하는 근로장려금(EITC)을 확대하는 등 간접 지원 방식으로 전환하겠다고 했다. 그러나 3조원에 달하는 일자리안정자금을 그대로 둔 채 근로장려금 요건은 완화하고 지급액을 늘렸다. 기존 방식을 그대로 두고 새로운 혜택을 추가한 것이다. 이에 따라 지원 대상은 중산층 수준까지 확대됐다. 전문가들은 소득 상위 20~30%도 근로장려금을 받을 수 있게 됐다고 보고 있다.',\n",
       "       '] 지난해 일자리안정자금(이하 안정자금)을 받은 영세 중소기업과 소상공인들은 상용직보다 임시·일용직 근로자를 더 많이 줄인 것으로 나타났다.',\n",
       "       \"'마이다노'에 다이어트 관련 질문이 올라오면 전담 코치가 바로 댓글을 단다. 마이다노는 2013년 설립된 다노의 온라인 다이어트 코칭 서비스. 코치가 회원에게 1 대 1로 운동과 식이요법을 조언해준다. 서비스 다운로드는 200만 건을 넘는 등 다노의 성장세가 가파르다. 올해 매출 목표는 지난해보다 40%가량 증가한 200억원으로 잡았다. 코칭 서비스를 통해 여성 200명의 일자리도 만들었다.\",\n",
       "       '] 지난달 수입차 판매량이 작년 같은 달과 비교해 31.5% 급감했다. 올 들어 석 달 연속 전년 동기 대비 판매량이 쪼그라들었다.',\n",
       "       \"] '세계 경제·금융 컨퍼런스(GFC)'는 정치·경제·문화 분야 국내외 전문가들의 강연과 치열한 토론을 통해 글로벌 경제의 향방과 해법을 명쾌하게 제시해왔다. 매년 봄 한 차례 열리며, 올해가 11회째다.\",\n",
       "       '[ 김일규 기자 ] \"한국은 칸막이 규제 탓에 미국 아마존, 중국 알리바바 같은 기업이 탄생하기 힘듭니다.\"',\n",
       "       '엔케이맥스 창업자인 박상우 의장(사진)은 \"올해는 글로벌 시장에 진출하기 위해 견고한 사업 기반을 다지는 중요한 시기\"라며 이렇게 말했다. 박 의장은 체내 NK세포 활성도로 면역력을 측정할 수 있는 \\'NK뷰키트\\'를 세계 최초로 개발한 에이티젠 설립자다. 그는 에이티젠의 연구 결과를 바탕으로 면역세포치료제를 개발하기 위해 2016년 엔케이맥스를 세웠다.',\n",
       "       \"] 지난해 현대중공업과 삼성중공업, 대우조선해양 등 조선 '빅3'의 임직원 연봉이 소폭 오른 것으로 나타났다. 반면 희망퇴직 등 구조조정 여파로 고용 인원은 역대 최저치를 기록했다.\",\n",
       "       '] 금융위원회가 증권업을 핀테크(금융기술) 기업에 개방하는 방안을 검토하기로 했다. 핀테크 기업이 증권업에 쉽게 뛰어들 수 있도록 진입규제 개선 방안 등을 마련할 방침이다. 이에 따라 증권업 진출을 준비해온 카카오, 비바리퍼블리카 등의 수혜가 예상된다.',\n",
       "       \"[ 박종관 기자 ] '한국형 레몬법'이 도입된 지 3개월이 지났지만 수입차업체 참여율은 저조한 것으로 나타났다. 국내 수입차 판매 1위 메르세데스벤츠를 비롯해 24개 수입차 브랜드 중 한국형 레몬법을 수용한 브랜드는 9곳뿐이다. 해마다 가파른 성장세를 보이고 있는 수입차업체들이 사후서비스(AS) 품질 향상과 소비자 권리 보호에는 소극적인 태도를 보이고 있다는 지적이 나온다.\",\n",
       "       '] KG그룹·캑터스프라이빗에쿼티(PE) 컨소시엄(이하 KG컨소시엄)이 동부제철을 인수한다. 2014년 워크아웃(기업 재무구조 개선 작업)에 들어간 지 5년 만에 동부제철이 새 주인을 찾으면서 오랜 경영난에서 벗어날지 관심이 쏠린다.',\n",
       "       \"이 회사는 유통업계의 '대세'가 된 새벽배송의 선구자로 꼽힌다. 쏟아지는 매각 제안을 뿌리치고 독자생존을 택했다는 분석이 나온다.\",\n",
       "       \"[ 최만수 기자 ] 'R(recession·경기 침체)의 공포'가 누그러지는 것일까. 지난달 22일 미국의 장단기 국채 간 금리차가 역전되면서 글로벌 경기 침체 우려가 커졌지만 외국인 투자자들은 오히려 공격적으로 한국 주식을 사들이고 있다. 외국인 매수세에 힘입어 코스피지수는 3일 2200선을 회복했다. 매수세도 시장의 예상과 달리 반도체 철강 화학 등 경기민감주에 집중됐다.\",\n",
       "       '] 전라남도는 고흥군 고흥만 간척지 일원에 2022년까지 1056억원을 들여 스마트팜 혁신밸리(조감도)를 조성한다고 3일 발표했다. 청년 창농 유도와 기후변화에 대응한 아열대 작물을 육성하기 위해서다. 도 관계자는 \"고흥은 평균기온이 높고, 전국 최대 일조량으로 기후환경이 스마트팜에 적합하다\"며 \"넓은 간척지가 있어 저렴한 토지 가격으로 청년들이 정착하기에 안성맞춤\"이라고 설명했다.',\n",
       "       \"] 다이슨이 세계 최초로 '날개 없는 선풍기'를 개발한 것은 2009년이었다. 다이슨은 비행기 엔진의 제트 기류에서 영감을 받아 만든 이 제품에 공기 청정 기능을 덧붙여 '선풍기＋공기청정기'라는 신개념 가전으로 변신시켰다. 다이슨은 여기서 멈추지 않았다. 개인용 공기청정기 '다이슨 퓨어쿨 미'(사진 위)는 이렇게 세상에 나왔다.\",\n",
       "       '박진형 한국 창호·도로시설물 공업협동조합 초대 이사장(유니크시스템 대표·사진)은 3일 한국경제신문과의 인터뷰에서 \"정부와 수요처에 합리적인 의견을 제시하는 조합이 되겠다\"고 강조했다. 박 이사장은 4일 대전 계룡스파텔에서 취임식을 한다.',\n",
       "       \"한국 국적 선박인 루니스호가 북한 선박과 불법 환적을 했다는 정황이 확인됐다. 루니스호는 지난달 21일 미국 재무부가 북한의 불법 해상 환적에 관여한 것으로 의심된다며 공개한 선박 목록에 포함된 바 있다. 유엔 안전보장이사회의 대북제재 결의를 위반한 혐의로 또 다른 한국 국적 선박이 부산항에 억류돼 있는 등 한국이 대북 제재의 '구멍'으로 지목될 수 있다는 우려가 나온다.\",\n",
       "       '[ 이해성 기자 ] 정부가 강원 고성·철원 등 비무장지대(DMZ) 일부를 이달 말부터 관광길로 상시 개방한다. 일반전초(GOP) 철책선과 감시초소(GP) 근처에 군인이 아닌 일반인 접근이 처음으로 가능해지는 것이다.',\n",
       "       '] 전국민주노동조합총연맹(민주노총)이 국회 앞에서 경찰과 격렬한 몸싸움을 벌이다 김명환 위원장이 현장에서 연행되는 사태가 빚어졌다. 민주노총은 이 과정에서 국회 울타리를 파손하고 경찰관을 폭행하는 등 불법 시위를 계속한 것으로 알려졌다.',\n",
       "       '[ 이해성 기자 ] A씨는 \\'대박 정보\\'를 준다는 B업체의 주식투자정보서비스를 이용하기로 하고 연회비 420만원을 결제했다. 별다른 정보가 없어 실망한 A씨가 계약해지 및 환급을 요청하자 B업체는 \"420만원은 위약금으로 징수한다\"고 환급을 거부했다.',\n",
       "       \"[ 성수영 기자 ] 정부는 예비타당성조사 제도를 개편하면서 '사회적 가치'도 새롭게 반영하기로 했다.\",\n",
       "       \"] 삼성그룹 공익재단인 호암재단이 3일 신경과학 분야 석학인 마빈 천 예일대 학장(석좌교수)을 '제29회 호암상' 수상자(과학상)로 선정했다. 앤드루 강 미국 UC샌디에이고 교수(공학상), 오우택 한국과학기술연구원(KIST) 뇌과학연구소장(의학상), 설치미술 작가 이불(예술상) 등과 외국인 노동자 봉사단체인 러브아시아(사회봉사상)도 수상자로 뽑혔다.\",\n",
       "       '남성 사무직 종사자가 자영업자보다 갑상샘암 발생비율이 크게 높은 것으로 나타났다. 여성은 주부보다 사무직 종사자의 유방암 발생비율이 높았다.',\n",
       "       '] 서울 구로동에 있는 생체보안기술 전문업체 아이리시스(대표 한승은)는 홍채인식보안 이동식 저장장치(USB) 3000개를 아랍에미리트(UAE) 국방부에 수출한다고 3일 발표했다. 이 회사가 USB를 해외 공공기관에 수출하는 것은 처음이다. 한 대표는 \"UAE 국방부 관계자들이 제품의 보안성을 깐깐하게 시험하는 등 절차가 복잡해 수출까지 1년 넘게 걸렸다\"고 말했다. 그는 \"해외 공공기관에서 제품의 보안기능을 인정했기 때문에 중동의 인근 국가로부터 추가 주문을 기대하고 있다\"고 덧붙였다.',\n",
       "       '직원들이 개관식을 하루 앞두고 행사 준비와 초등학교 학생을 비롯한 방문객에게 설명하는 방식을 한창 논의하고 있었다.',\n",
       "       \"정부가 올해 안에 대구공항 통합이전 최종 부지를 선정하겠다는 방침을 지난 2일 밝힘에 따라 대구와 경북의 공항이전 지역에 대한 개발 기대가 커지고 있다. 대구공항 통합이전은 대구 K-2(군 공항)와 대구공항(민간공항)을 함께 이전하는 사업이다. '군공항 이전 및 지원에 관한 특별법' 절차에 따라 올 상반기 국방부 장관이 위원장인 이전부지 선정위원회에서 종전부지 활용방안과 이전 주변지역 지원방안을 심의한다.\",\n",
       "       \"[ 하인식 기자 ] 울산대 공학 5호관에 있는 울산창조경제혁신센터(센터장 권영해)는 매주 한 번꼴로 '도전 스타트업' 등 창업 관련 행사를 연다.\",\n",
       "       \"쇼핑몰 '임블리'에서 판매된 '임블리 호박즙'에서 이물질이 발견돼 임지현 상무가 판매를 중단하고 전량 환불 조치할 것임을 알렸다.\",\n",
       "       \"한국여자프로골프(KLPGA)투어 국내 개막전 롯데렌터카 여자오픈(총상금 6억원)에 출전하는 우승 후보들이 올해 타이틀을 휩쓸 '대세' 선수를 꼽아달라는 이같이 답했다. 3일 제주 서귀포 롯데호텔에서 열린 대회 미디어데이에서다. 이날 행사에는 지난해 2승과 함께 대상을 차지한 최혜진을 비롯해 김지현(28), 이소영(22), 김아림(24), 조아연(19), 다카바야시 유미(일본)가 참석해 국내 첫 대회를 앞둔 소감을 밝혔다.\",\n",
       "       \"남양유업 창업주의 외손녀인 황하나(31)씨가 4년 전 '필로폰 공급책' 역할을 한 사실이 법원 판결문을 통해 확인되면서, 황씨에게 각각 '불기소 의견 송치' '무혐의 처분'한 경찰과 검찰 수사가 적절했는지를 두고 논란이 일고 있다.\",\n",
       "       '쇼핑몰 \\'임블리\\'에서 판매된 \\'임블리호박즙\\'에서 발견된 이물질로 인해 논란이 커지고 있다. 이에 대해 임블리 창업자 임지현 씨는 자신의 인스타그램을 통해 \"판매를 중단하고 모두 환불 조치하겠다\"라고 밝혔다.',\n",
       "       '예상대로 될 곳은 됐다. 부동산 분양 시장에서 관심을 모았던 단지들이 이름값을 했다. 청량리 역세권을 비롯해 공공택지와 1기 신도시인 분당에서 분양된 단지들이 모두 1순위 청약을 마감했다. 분양 시장에서 청약은 1분기만해도 대거 미달 사태를 보였지만, 흥행이 점쳐진 핵심지역에서 공급된 아파트는 무리없이 높은 청약률을 기록했다.',\n",
       "       \"경찰은 남양유업 창업주 홍두영 명예회장의 외손녀 황하나(31) 씨의 2015년 마약 투약 혐의가 드러났을 때 불구속 입건하고 한 차례도 소환조사 하지 않은 이유에 대해 '집회가 많아서 바빠서 그랬다'라고 해명했다.\",\n",
       "       \"라디오스타 9사진=방송 영상 캡처) '라디오스타' 방송인 홍석천이 가수 왁스와 남다른 우정을 드러내 시선을 모았다.\",\n",
       "       '] 통신 3사는 지난달 29일 LG유플러스를 시작으로 이달 2일 KT, 3일 SK텔레콤이 5G 요금제를 잇따라 내놨다.',\n",
       "       '지난해 보험사의 대출채권 잔액이 15조원 넘게 불어나면서 220조원을 넘어섰다. 특히 기업대출 잔액이 대기업과 중소기업 모두 고르게 늘며 100조원을 돌파했다.',\n",
       "       '일반인 대상 5G(5세대) 스마트폰 이동통신 서비스가 3일 국내에서 세계 최초로 개시됐다.',\n",
       "       '한국투자증권은 4일 최근 신흥국에 대한 불안이 커지고 있지만 신흥국 금융시장의 위험도는 지난해보다 낮아졌다고 분석했다.',\n",
       "       '대우건설은 오는 5일 대구 수성구 두산동 81-2번지 일원에 공급하는 수성 레이크 푸르지오의 모델하우스를 개관한다.',\n",
       "       \"이베스트투자증권은 4일 CJ CGV에 대해 '수익성 위주의 정책으로 1분기 실적부터 발현될 가능성이 높다'고 분석했다. 투자의견 '매수'와 목표주가 6만2000원은 유지했다.\",\n",
       "       '이베스트투자증권은 4일 세진중공업에 대해 \"올해부터 앞으로 최소 3년간 실적 성장이 예상된다. 적극 매수 타이밍\"이라며 목표주가를 기존 6000원에서 7000원으로 올렸다.',\n",
       "       '재건축 사업을 추진 중인 서울 강남구 개포동 개포주공5단지가 공모 방식으로 새 단지 설계안을 마련하기로 했다.',\n",
       "       '가수 로이킴의 아버지 김홍택 홍익대학교 교수가 수업 중 학생들에게 사과했다는 목격담이 전해졌다.',\n",
       "       \"'닥터 프리즈너'가 단 3주만에 시청률 15%를 돌파하며 자체 최고 시청률을 경신하였다.\",\n",
       "       \"삼성증권은 '해외투자 2.0 시대' 선포와 함께 추진한 해외투자 대중화 운동이 가시적인 성과를 나타내기 시작했다고 4일 밝혔다. 올 1분기 삼성증권 고객들의 해외자산 총 투자규모가 1조8000억원을 기록했다는 것이다.\",\n",
       "       '창립 30주년을 맞은 기술보증기금(이사장 정윤모)은 4일 국민이 공감하는 방향으로 정부혁신을 추진하기 위해「창립 30주년, 대국민 혁신아이디어 공모전」을 열어, 8건의 혁신아이디어를 선정했다.',\n",
       "       \"에어부산(사장 한태근)이 식목일을 맞아 기내에서 '씨앗 연필' 나눔 행사를 진행한다고 4일 밝혔다.\",\n",
       "       '가수 윤종신의 아내이자 전 테니스 선수 출신 전미라가 충돌증후군 진단을 받았다고 밝혔다.',\n",
       "       '3일 오후 11시 이동통신 3사가 5G 스마트폰을 처음으로 개통하면서 세계최초 상용화를 기록한 세운 가운데 세계 첫 5G 1호 가입자들이 서비스에 대한 기대감을 나타내고 있다. 김연아, 엑소(EXO) 등 연예인부터 통신사 직원의 부인 등 1호 개통자의 모습도 다양하다.',\n",
       "       \"모바일 커머스 티몬(대표 이재후)이 매월 4일을 '사은품데이'로 정하고 이날 하루 동안 해당 기획전에서 상품을 구매하는 모든 고객에게 사은품 및 적립금을 증정한다.\",\n",
       "       'LG디스플레이가 올 1분기 차량용 디스플레이 누적 판매 1억대를 돌파했다고 4일 밝혔다. 2005년 차량용 디스플레이 시장에 진출한 후 14년 만의 성과다.',\n",
       "       '그룹 방탄소년단이 지난해 전 세계 음악 산업의 매출을 견인한 아티스트로 주목 받고 있다.',\n",
       "       \"조보아를 대신해 새 MC 정인선이 합류한 '백종원의 골목식당'이 최고 시청률을 차지했다.\",\n",
       "       '출범 이래 2년째 적자를 지속 중인 인터넷전문은행들이 올해는 서로 다른 성적표를 받아들 것으로 보인다. 카카오뱅크는 양호한 여신 성장을 바탕으로 흑자 전환에 성공하는 반면 케이뱅크는 올해도 적자를 이어갈 것이란 관측이 짙다. 일각에서는 두 은행에 대한 금융당국의 대주주 적격성 심사 결과에 따라 이들 은행의 명암이 더 극명하게 나뉠 것이란 전망이 나온다.',\n",
       "       '\"대졸 신입사원 연봉은 얼마인가요\"란 질문에 ㈜한화 인재개발팀의 전정수 대리는 \"㈜한화 화약/방산 부문 대졸 학사기준 초임은 약 4500~4600만원 수준입니다. 경영성과금 및 수당(자격,기술,지역근무 등)은 제외된 기본 연봉입니다\"이라고 솔직하게 연봉을 공개했다.',\n",
       "       \"버거 프랜차이즈 맘스터치가 지난해 나홀로 성장 가도를 달리며 승승장구하고 있다. 다른 업체들이 가격을 올릴 때 '가성비(가격 대비 성능) 버거'로 내수불황에 대응한 점, 간편식(HMR) 시장에 뛰어들어 사업구조를 다양화 한 점 등이 호실적의 배경으로 꼽힌다. 정현식 맘스터치 회장은 이 같은 공로를 인정 받아 전년 대비 두 배가 넘는 연봉을 받았다.\",\n",
       "       \"부산은행(은행장 빈대인)은 부산·울산·경남지역의 기술력과 미래 성장성이 우수한 중소기업에게 체계적인 금융지원을 하기 위해 '혁신금융 추진 태스크포스팀(TFT)'을 운영한다고 4일 발표했다.\",\n",
       "       \"부산상공회의소(회장 허용도)는 4일 '2019 한-아세안 특별정상회의' 개최지 부산 확정과 관련해 환영한다고 성명을 발표했다.\",\n",
       "       '로이킴이 정준영이 포함된 카카오톡 채팅방에서 음란물을 유포한 혐의로 경찰 조사를 받는다.',\n",
       "       '경남 창원성산과 통영·고성 등 두 곳의 국회의원 선거구를 포함해 모두 5곳에서 치러진 4·3 보궐선거에서 자유한국당과 정의당이 승리를 나눠 가졌다.',\n",
       "       '금융당국이 중금리대출의 평균금리 기준을 내리기로 했다. 현재 업권과 관계없이 통일돼 있는 중금리대출의 금리 기준을 업권별로 차등화하면서 강화하기로 한 결과다. 은행을 이용하는 중신용자(신용등급 4~6등급)의 중금리대출 평균 기준은 연 6.5% 이하로, 카드사의 중금리대출 기준은 평균금리 연 11% 이하로 떨어진다.',\n",
       "       '1990년 스피드도어를 개발하면서 국내 자동문 시장에 브랜드인지도를 높여온 KAD가 2018년 세계적인 도어솔루션 업체인 ASSA ABLOY Entrance System의 한국법인이 되면서 KAD-ASSA ABLOY(이하 KAD)로 새롭게 태어났다. 아사아블로이는 스웨덴 스톡홀롬에 본사를 둔 세계 최대 규모의 도어솔루션 전문 기업으로 2018년 기준 매출액 10조원을 달성한 글로벌 기업이다. 전 세계에 약 50,000명의 직원을 두고 있으며 알바니, 크로포드, 메가도어 등 선진 산업용 자동문 브랜드를 함께 보유하고 있다.',\n",
       "       '] 3일 신용보증기금 인천영업본부 전성배 본부장(왼쪽)이 아베크에 방문해 퍼스트 펭귄 선정식을 가졌다.',\n",
       "       \"현대중공업이 대우조선해양 인수를 위한 '물적 분할'과 관련해 4일 사내 소식지인 '인사저널'을 통해 임직원의 지지와 협조를 당부했다.\",\n",
       "       \"경기도가 도내 섬유·가죽·패션 중소기업을 대상으로 최적의 정책사업을 지원받을 수 있도록 연계·코칭해주는 '2019년 정책사업 연계 코칭서비스' 사업을 시행한다. 이 사업은 기업들의 자금 부족 및 기술적 어려움을 해결할 수 있도록 지원하는 토탈서비스를 위해 마련됐다.\",\n",
       "       \"'쇼핑의 참견' 5MC가 '예쁜 쓰레기(보기에는 좋으나 사용 용도가 없는)'의 구매 기준을 제시한다.\",\n",
       "       \"경기도는 오는 4일부터 6일까지 인도네시아 자카르타 중심가 케마요에 위치한 자카르타 인터내셔널 엑스포에서 대한민국 대표 글로벌 뷰티 전시 브랜드인 'K-뷰티엑스포'를 연다. 인도네시아 지역에서 처음 열리는 뷰티엑스포는 8000만명의 화장품 소비인구를 겨냥해 시장을 확대하기 위한 것이다.\",\n",
       "       '코스콤과 IBK투자증권은 자본시장 내 효율적인 내부통제와 준법감시 업무 활성화를 위해 레그테크(RegTech) 서비스를 확대해나가기로 하고 상시 모니터링 시스템 가동식을 가졌다고 4일 밝혔다.',\n",
       "       \"글로벌 1위 암호화폐 거래소 바이낸스의 창펑자오 최고경영자(CEO·사진)는 서울 장충체육관에서 열린 '분산경제포럼(디코노미) 2019'에 강연자로 나서 이같이 말했다. 그는 나스닥 시장이 지난 2000~2002년 지수 급등 후 80% 이상 하락했다는 점을 짚었다. 암호화폐 시장과 크게 다르지 않다는 얘기다.\",\n",
       "       \"부산에 국내 최대 뮤지컬 전용극장이 개관하고 운영에 들어갔다. 부산오페라하우스도 공사에 들어가는 등 부산의 랜드마크로 자리 잡을 것으로 전망된다. 영화의전당을 조성해 '영화 도시' 부산의 기틀을 마련한 데 이어 뮤지컬, 오페라 등의 새로운 문화시설을 구축해 글로벌 문화관광도시로 도약하겠다는 것이 부산시의 전략이다.\",\n",
       "       \"4일 경기도의회는 '수원-용인 경계조정'건을 '찬성의견'으로 통과시켜 두 지자체의 7년 갈등 경계조정 마찰을 해결했다.\",\n",
       "       \"'해피투게더4'에 출연한 '한국 사는 외국인들' 구잘-안젤리나-조나단이 '문화충격 토크 릴레이'를 펼친다.\",\n",
       "       '신보라 자유한국당 의원(사진)이 국회 본회의장에 생후 7개월 된 아들을 안고 들어가 연단에 서서 법안 제안설명을 하겠다는 계획이 무산됐다.',\n",
       "       '금융감독원은 4일 핀테크(금융기술) 등 디지털화가 진행되고 있는 금융산업의 위험 관리를 강화하겠다는 방침을 밝혔다.',\n",
       "       \"마약 투약 의혹에 대해 '혐의없음' 처분을 받았던 남양유업 창업주 외손녀 황하나(31)씨가 경찰에 체포됐다.\",\n",
       "       \"우리카드는 '카드의정석' 시리즈 300만 장 발급을 기념한 신상품 '카드의정석 와우리(사진)'를 출시했다고 4일 발표했다.\",\n",
       "       \"[ 김주완 기자 ] 펄어비스는 국내 정보기술(IT)업계에서 최고 수준의 복지 혜택을 갖춘 업체 중 하나다. 글로벌 IT기업 못지않은 복지로 인재 확보에 나서고 있다. '최고의 노력을 추구하고, 최고의 보상을 한다'는 기업 철학이 담겨져 있다는 평가다.\",\n",
       "       \"배우 추자현이 9년만에 한국 드라마 복귀를 한다. JTBC에서 방송되는 '아름다운 세상'을 통해서다.\",\n",
       "       '[ 임현우 기자 ] 펄어비스의 3D 스캔 스튜디오게임업계에 \\'모바일 바람\\'이 거세게 불던 2010년대 초, 펄어비스는 PC용 다중접속역할수행게임(MMORPG) \\'검은사막\\' 개발에 온힘을 쏟았다. 다른 회사들이 모두 모바일을 외칠 때 정반대 길을 갈 수 있었던 건 \"게임 기술을 탄탄히 쌓으면 통할 것\"이라는 믿음 때문이었다. 2014년 출시된 검은사막이 국내외에서 성공을 거두며 펄어비스는 단숨에 \\'MMORPG의 신흥 명가\\'로 떠오르고 있다.',\n",
       "       \"외교부가 연일 '외교 실수' 논란에 시달리고 있다. 이번에는 한·스페인 간 전략대화 공식 행사에 심하게 구겨진 태극기를 배치해 문제가 됐다. 외교부의 기강해이가 도를 넘었다는 지적이 나온다. 4일 오전 외교부 청사 17층 양자회의실에서는 조현 외교부 제1차관과 페르난도 발렌수엘라 스페인 외교차관 간 첫 한·스페인 전략대화가 열렸다. 2020년 양국 수교 70주년을 앞두고 두 나라의 우호협력관계 증진을 위해 마련된 자리였다. 문제는 행사장에 세워진 태극기가 심하게 구겨져 있었다는 점이다. 구겨진 태극기는 양 차관이 기념 촬영을 하고 모두 발언을 하는 내내 그대로 노출됐다. 특히 태극기는 구김 없는 스페인 국기 '적심기'와 나란히 세워져 더욱 대비됐다. 문제는 외교부의 이같은 실수가 계속 반복되고 있다는 점이다. 외교부는 지난달 19일 '발틱'국가인 라트비아·리투아니아·에스토니아를 '발칸' 국가로 잘못 쓴 영문 보도자료를 배포했다. 외교부는 이같은 사실을 모르고 있다가 이틀 뒤인 지난달 21일 라트비아 주한 대사관 쪽 항의를 받고 나서야 수정했다.\",\n",
       "       '스트레이 키즈(Stray Kids)가 가온 앨범 차트 정상에 등극하며 성장세를 재입증했다.',\n",
       "       \"LG전자는 지난 3일 트윈타워에서 LG DIOS 식기세척기 신제품 출시를 기념하여 인플루언서들을 대상으로 '소셜미디어 데이'를 성공적으로 마무리했다.\",\n",
       "       '[ 백승현 기자 ] 예상은 했지만 우려는 현실이 됐다. 탄력근로제 단위기간 확대와 최저임금 결정체계 개편 입법을 기대했던 3월 임시국회가 빈손으로 끝났다. 지난 3일 국회 환경노동위원회는 고용노동소위원회를 열고 탄력근로제 확대와 최저임금제 개편을 논의했으나 이렇다 할 격론 한 번 없이 회의를 마무리했다. 4월 임시국회에서 재논의하자는 것만 합의했다. 입법 무산 사태의 내막을 들여다보면 예상된 시나리오였다는 게 전문가들의 평가다.',\n",
       "       \"완성차업체 노조마다 온갖 이유를 내세우며 투쟁 깃발을 들고 나서고 있기 때문이다. 가뜩이나 '생산절벽'에 직면한 자동차업계 생태계가 무너지는 것 아니냐는 우려가 커지고 있다.\",\n",
       "       '이경상 대한상공회의소 경제조사본부장은 4일 서울 소공동 조선호텔에서 열린 코리아리더스 포럼에서 규제 샌드박스의 한계를 조목조목 지적했다. 그는 \"정부 부처에 규제 완화를 요구하면 샌드박스를 이용하란 답이 돌아온다\"며 \"샌드박스가 규제 완화의 회피 창구로 쓰이고 있다\"고 주장했다.',\n",
       "       \"[ 이승우 기자 ] 1999년 연재를 시작한 한국 만화 '유레카'는 가상현실 세계에서 이뤄지는 다중접속역할수행게임(MMORPG)을 소재로 삼았다. 만화 속 인물들은 가상현실(VR) 헤드셋과 같은 기기를 착용하고 '로스트 사가'라는 게임 속으로 들어갔다.\",\n",
       "       \"] 인도네시아 팀 '사무드라'는 이번 행사에서 버려지는 플라스틱병을 3D(3차원) 프린터 재료로 만드는 아이디어로 대상을 받았다. 세계적인 이슈로 떠오른 플라스틱 처리 문제를 첨단산업과 연계한 해결책을 제시해 높은 점수를 받았다. 우산을 활용해 해파리 모형을 만들고, 페트병을 플라스틱 자동차 모형으로 바꾸는 과정을 마술쇼처럼 선보이는 등 프레젠테이션도 큰 호응을 얻었다.\",\n",
       "       \"'집(ZIP)'은 필리핀 대학생들이 개발한 의류 공유 서비스다. 여성 팀원 두 명이 쌍둥이처럼 같은 옷을 입고 나와 발표해 눈길을 끌었다. 이들은 비싼 돈을 주고 사도 자주 입을 일이 없는 파티드레스 같은 옷을 다른 사람들과 공유할 수 있는 플랫폼 사업을 제안했다. 옷 주인은 돈을 벌고 빌리는 사람도 한 번만 입을 옷을 비싸게 사지 않아도 돼 서로에게 이득이 된다고 설명했다. 동영상에서는 옷을 빌리는 장면을 드라마처럼 꾸몄다. 서비스 소개를 마친 필리핀팀은 패션쇼처럼 발표 무대를 런웨이 삼아 모델워킹으로 퇴장했다.\",\n",
       "       \"] KT에 대한 금융당국의 '케이뱅크 대주주 적격성 심사'가 전면 중단될 위기에 처했다. KT가 공정거래법 위반 혐의로 공정거래위원회 조사를 받고 있는 상황에서 적격성 심사 진행이 불가능하다는 이유에서다. 카카오뱅크의 대주주 적격성 심사 신청을 낸 카카오도 공정거래법 위반에 대한 재판이 진행되고 있어 심사가 중단될 수 있다는 관측도 제기된다.\",\n",
       "       '] 우리금융지주가 동양자산운용과 ABL글로벌자산운용(옛 알리안츠자산운용) 인수를 확정했다.',\n",
       "       '] 내년부터 연간 정부예산 100억원 이상이 투입되는 국책 과학기술 연구개발(R&D) 과제에 인문학·사회과학 연구자도 의무적으로 포함된다. 새로운 과학기술 개발이 사회에 미칠 파급효과를 미리 가늠하고, 인문학·사회과학 연구자를 지원하기 위해서다.',\n",
       "       '] 테런스 오쇼너시 미국 북부사령관 겸 북미항공우주방위사령관은 \"김정은 북한 국무위원장이 한반도 분쟁 시 핵과 대륙간탄도미사일(ICBM)로 미국 본토를 공격할 계획을 갖고 있는 것이 거의 확실하다\"고 말했다.',\n",
       "       '[ 김태훈 기자 ] 5세대(5G) 이동통신의 최대 장점 중 하나는 빠른 속도다. 국제표준화 단체인 3GPP가 정한 최고 속도는 초당 20기가비트(Gbps)로 4세대 이동통신(LTE)보다 20배가량 빠르다. 하지만 이달 시작된 5G 서비스의 최고 속도는 2Gbps 수준이다. 현재 LTE 최고 속도인 1Gbps에 비해 두 배가량 빠르다.',\n",
       "       \"서울시가 약 2조원을 들여 첨단 벤처기업이 입주할 수 있는 공간 1200여 개를 새로 만들기로 했다. 한국과학기술연구원(KIST) KAIST 고려대 경희대 등 학교와 연구기관이 밀집한 홍릉과 양재, 마곡 등 서울 곳곳에 조성한다. 특히 '임차료 전액 면제'라는 파격적 조건을 걸어 초기 자금 부담이 큰 창업기업들에 희소식이 될 전망이다. 박원순 서울시장은 4일 이 같은 내용을 담은 '글로벌 톱5 창업도시 서울 추진계획'을 발표했다.\",\n",
       "       '] 홍남기 부총리 겸 기획재정부 장관(사진)은 \"4차 산업혁명 여파로 산업 전반에 승자독식이 고착화하고 있다\"며 \"역설적으로 디지털로 무장된 스타트업(신생 벤처기업)과 개인들에게는 새로운 성장 기회가 열리고 있다\"고 강조했다.',\n",
       "       '] 자율형 사립고(자사고) 재지정 평가를 둘러싸고 교육청과 학교들이 갈등을 빚는 가운데 서울지역 22개 자사고 학부모 2000여 명이 서울교육청을 항의 방문했다.',\n",
       "       '[ 하수정 기자 ] 한국의 고령화 속도는 세계에서 가장 빠른 것으로 평가되고 있다. 한국보건사회연구원에 따르면 65세 이상 고령인구가 전체 인구에서 차지하는 비중이 2015년 8.2%에서 2030년 24.3%, 2060년 40.1%로 급증할 전망이다. 앞으로 40년 뒤에는 한국 인구 10명 중 4명이 65세 이상 고령자라는 의미다.',\n",
       "       \"[ 김우섭 기자 ] 4·3 국회의원 보궐선거 결과는 예상대로 '1승 1패'였지만 내용상으론 더불어민주당의 패배에 가까웠다. 단일 후보 승리를 확신했던 경남 창원성산에서 진땀승을 거두며 집권 3년차의 요동치고 있는 민심을 확인하기에 충분했다는 분석이다.\",\n",
       "       '[ 안재광 기자 ] 국내 1위 해외배송 대행업체인 코리아센터의 김기록 대표(사진)는 사업 초기였던 2008년 큰 위기를 맞았다. 막 문을 연 미국 로스앤젤레스(LA) 물류센터를 사용하겠다는 기업이 한 곳도 나타나지 않았다. 리먼브러더스 파산 이후 불어닥친 글로벌 금융위기 여파가 김 대표에게도 영향을 미쳤다. 당초 한국 온라인몰이 미국에서 상품을 판매할 때 사용할 수 있도록 하기 위해 매입한 LA 물류센터를 문을 열자마자 닫아야 할 처지였다.',\n",
       "       '] 앨런 가넷 트랙메이번 대표는 \"창의력은 \\'가치 있음\\'과 \\'색다름\\' 사이에서 균형을 찾아야 나온다\"고 말했다.',\n",
       "       \"중소기업중앙회는 IBK기업은행와 공동으로 서울 동대문디자인플라자(DDP) 알림1관에서 '2019 강소벤처기업 일자리 박람회'를 열었다고 4일 밝혔다.\",\n",
       "       \"] 얼마 전 온라인에서 '전 남자친구 샌드위치'가 화제가 됐다. 헤어진 남자친구가 만들어 주던 토스트 맛을 잊지 못한 한 여성의 얘기였다. 이 여성은 그걸 다시 먹고 싶어 전 남자친구에게 '저번에 니가 만들어 준 토스트 레시피가 궁금해'라고 메시지를 보냈다. 어떻게 만드는지 알려달라고 부탁했다. 실제 헤어진 커플이 나눈 이 대화는 온라인에서 퍼져나갔다. 편의점 GS는 이 사연에서 아이디어를 얻고, 사연의 주인공인 전 남자친구의 레시피를 기초로 지난달 '남자친구 샌드위치'를 내놨다. 블루베리잼과 크림치즈로 맛을 살린 이 제품은 출시 14일 만에 48만 개가 팔리며 베스트셀러가 됐다.\",\n",
       "       '[ 이지훈 기자 ] \"공유경제가 가져온 디지털 혁명이 기존의 국가 간 경제 시스템을 무너뜨릴 것이다.\"(아룬 순다라라잔 뉴욕대 교수)',\n",
       "       \"] 제지업체 컨버즈가 외부감사인으로부터 '감사의견 거절'을 받자 소액주주들이 경영에 직접 참여할 움직임을 보이고 있다.\",\n",
       "       '] 반도체, 석유화학 등 주력 품목의 수출 부진 여파로 지난 2월 수출이 3년 만에 최저 수준으로 급감했다. 수입이 크게 줄지 않았더라면 경상수지가 82개월 만에 적자로 돌아설 뻔했다.',\n",
       "       '] 일본 자회사 라인의 대규모 적자 예고에 모회사 네이버 주가가 비틀거리고 있다. 라인은 간편결제 서비스 사업을 강화하면서 비용이 크게 불어나고 있다.',\n",
       "       '] 한화투자증권이 해외 부동산 투자에 속도를 내고 있다. 최근 두 달 새 해외 부동산에 4000억원 넘게 투자했다. 국내 기관투자가가 많이 진출하는 미국 지역 이외에 중·동부 유럽 등으로도 손을 뻗치고 있다.',\n",
       "       '] 재건축 사업을 추진 중인 서울 강남구 개포동 개포주공5단지가 공모 방식으로 새 단지 설계안을 마련하기로 했다.',\n",
       "       '] 국내 사모펀드(PEF) IMM인베스트먼트가 마스크팩 주문자상표부착생산(OEM) 업체 이미인을 인수했다.',\n",
       "       '[ 민경진 기자 ] \"공공건설 임대주택의 분양 전환이 지연되는 걸 방지하고 주택의 품질을 개선하기 위해선 표준건축비를 15% 이상 인상해야 합니다.\"',\n",
       "       '] 해외에 사는 독립유공자 후손 97명이 대한민국임시정부 수립 100주년을 맞아 오는 8~14일 한국을 방문한다고 국가보훈처가 4일 밝혔다.',\n",
       "       \"미국여자프로골프(LPGA)투어에 선수와 캐디로 호흡하는 '헨더슨 자매'가 있다면, 올해 한국여자프로골프(KLPGA)투어에는 '다카바야시 자매'가 있다. 일본인인 다카바야시 유미(31)는 올 시즌 KLPGA투어에서 캐디이자 친동생인 리카(31)와 '풀타임'으로 뛴다. 4일 제주 서귀포시 롯데스카이힐 제주CC에서 열린 KLPGA투어 국내 개막전 롯데렌터카 여자오픈을 앞두고 만난 둘은 웃음이 끊이지 않는 유쾌한 자매였다. 다카바야시는 한국까지 따라온 동생 리카를 지긋이 바라보며 이렇게 말했다.\",\n",
       "       \"국내 최초 부동산 블록체인 전문가 단체인 '글로벌 부동산 블록체인 포럼(GRBF·회장 황성규)'과 연세대학교 스마트시티융합서비스 연구개발단,러시아 국립 엠지모(MGIMO)대학교 공공정책단(Department of Public Governance)등 3자가 공동 주최하는 '제3차 글로벌 스마트시티 포럼'이 9일 오후 1시30분 서울 여의도 한국거래소 국제회의장에서 열린다.\",\n",
       "       '김홍택 H대학교수가 최근 아들 로이킴이 불법 몰카 동영상을 공유한 사건에 대해 수업시간 중 직접 사과한 것으로 알려져 화제다.',\n",
       "       \"[ 이주현 기자 ] 현대엔지니어링이 행정구역상 경기 하남시인 위례신도시 북부(북위례)에서 선보이는 '힐스테이트 북위례' 1순위 청약 신청에 7만2000여 명이 몰렸다. 분양가가 주변 시세보다 40% 가까이 저렴해 예비청약자의 관심을 받아온 단지다.\",\n",
       "       '] 정의용 청와대 국가안보실장은 4일 대북 특사 파견 여부에 대해 \"검토하고 있다\"고 답했다.',\n",
       "       '] 이재현 CJ그룹 회장(사진)이 최근 인수를 완료한 냉동식품회사인 슈완스컴퍼니와 물류회사 DSC로지스틱스 등을 방문하기 위해 미국에 출장 중이다. 이 회장이 이들 기업을 직접 방문한 건 처음이다.',\n",
       "       '영화배우와 모델 등이 함께 있는 제2의 정준영 단톡방 2곳이 또 확인됐다. 한 단톡방에는 영화배우 신 모씨와 한 모씨, 모델 정 모씨가 포함돼 있고, 다른 단톡방에는 삼성계열 사장 아들과 아레나 클럽 MD가 포함돼 있었다. 불법 촬영 후 영상을 대화방에서 공유했으며 피해자만 수십 명이 되는 것으로 전해졌다.',\n",
       "       '강원도 고성에서 난 산불이 강풍을 타고 번지면서 속초 교동 아파트 단지까지 위협해 주민 대피령이 내려졌다.',\n",
       "       \"유진투자증권은 5일 이마트에 대해 '상저하고의 주가흐름을 나타낼 것'이라며 '핵심 변수는 에스에스지닷컴이 될 것'이라고 전망했다. 투자의견 '매수'와 목표주가 25만원은 유지했다.\",\n",
       "       \"키움증권이 LG화학에 대해 2분기부터 정기보수 완료 효과를 볼 것이라고 5일 밝혔다. 목표주가 48만원, 투자의견 '매수'를 유지했다.\",\n",
       "       \"정준영 절친 리스트가 '데스노트'가 됐다. 로이킴(본명 김상우·26)에 이어 에디킴(본명 김정환·29)도 정보통신망법상 음란물 유포 혐의로 입건됐다.\",\n",
       "       '배우 신기현이 정준영 단톡방과 성격이 유사한 또 다른 카카오톡 단체방의 멤버로 지목된 것에 대해 해명했다.',\n",
       "       \"삼성전자가 1분기 사상 첫 '어닝쇼크'를 기록한 가운데 스마트폰 사업을 담당하는 IM부문 매출도 1년새 10% 이상 줄어든 것으로 전망된다.\",\n",
       "       \"그룹 방탄소년단이 3년 연속 미국 '빌보드 뮤직 어워드' 후보에 올랐다. 이번에는 '톱 듀오/그룹' 부문이다.\",\n",
       "       '4일 강원도 고성에 대형 산불이 발생하자, 문재인 대통령은 5일 0시 20분 청와대 위기관리센터에서 긴급 회의를 주재하고 총력 대응을 지시했다.',\n",
       "       \"G마켓이 4월 1주차 '슈퍼프라이데이'를 열고, 5일 하루 동안 '트렌드패션' 전품목에 '20% 할인쿠폰'을 제공한다. 여기에 카드사 중복 할인 및 31개의 인기 소호몰을 대상으로 할인쿠폰을 추가 제공하는 등 풍성한 고객 혜택을 선보인다.\",\n",
       "       '이마트가 다가오는 주말을 맞아 5일부터 7일까지 금, 토, 일 3일간 주말 특가 행사를 펼친다.',\n",
       "       \"고성과 속초 등 강원도 산불이 한창일 때 '재난 컨트롤 타워' 정의용 국가안보실장이 국회 운영위원회 전체회의에 발이 묶여 있었단 사실이 알려져 논란이 커지고 있다.\",\n",
       "       '축하 자리나 파티마다 빠지지 않는 케이크의 주요 구매처가 빵집에서 카페와 아이스크림 전문점으로 바뀌고 있다. 특별한 날뿐만 아니라 일상에서도 케이크를 즐기는 문화가 정착했고 젊은 층을 중심으로 케이크 e쿠폰이 온라인에서 활발히 유통됐기 때문이란 분석이 나온다.',\n",
       "       \"윤석헌 금융감독원장은 5일 외국계 금융사에 '금융포용'과 '책임혁신(Responsible Innovation)'에 동참할 것을 촉구했다.\",\n",
       "       \"한국경제신문과 한경닷컴이 오는 26일 서울 논현동 건설회관에서 '2019 부동산 시장은 어디로?'를 주제로 '제2회 한경 집코노미 부동산 콘서트'를 연다.\",\n",
       "       '경기도 여주 가남면에 위치한 풍경전원마을이 2억원대의 파격적인 분양가로 분양을 진행하고 있다.',\n",
       "       \"이수앱지스는 미국의 공동 개발사인 카탈리스트 바이오사이언시스가 피하주사제형으로 개발하고 있는 B형 혈우병 치료제 'DalcA'의 임상 2b상 환자 모집을 시작했다고 5일 밝혔다.\",\n",
       "       '민주평화당이 5일 의원총회를 열어 정의당과 제4 교섭단체인 \\'평화와 정의의 의원 모임\\'을 재구성하는 방안을 논의했지만 결론을 내리지 못했다. 평화당 일각에서는 \"정의당보다는 바른미래당에서 이탈한 의원들과 교섭단체를 구성해 \\'제3 지대\\'를 열어야 한다\"는 주장이 나오고 있다.',\n",
       "       \"한신대학교가 경기도일자리재단과 '경기도형 대학생 취업브리지 사업' 업무협약을 체결했다고 5일 밝혔다.\",\n",
       "       '강원 고성·속초에서 발생한 산불로 피해가 속출한 가운데 나경원 자유한국당 원내대표가 국회 운영위원회에서 위기대응 컨트롤타워인 정의용 국가안보실장의 이석(離席)을 막고 질의를 이어갔다는 비난에 직면했다.',\n",
       "       \"경기도가 올해 부천 옥련지구 등 20개 시·군 23개 지구 6112필지를 대상으로 지적재조사사업을 실시한다. 지적 토지의 위치, 모양 , 지번 등 땅의 정보를 기록한 것으로 '땅의 주민등록'이라 불린다. 지적재조사 사업은 토지의 실제 현황과 일치하지 않는 지적공부의 등록사항을 바로잡기 위한 사업이다.\",\n",
       "       \"서울시가 위기에 빠진 제로페이의 심폐소생에 나선다. 이달 내 '법인용' 제로페이를 출시하고 상반기 중 온라인 결제와 교통 결제 기능을 도입할 예정이다. 고객 유인책이 전무하다는 평가가 나오는 상황에서 이 같은 조치가 고객 유인은 물론 '혈세 낭비'로 굳어진 여론에 긍정적인 영향을 미칠 수 있을지 관심이 쏠린다.\",\n",
       "       '미세먼지로 인한 불편이 이만저만이 아니다. 미세먼지의 심각성이 국가 재난 수준으로 확산되자, 많은 사람들이 바깥 출입을 줄이고 부득이 외출할 시에는 마스크를 착용한다. 실내에서 역시 공기청정기를 가동하는 등 일상 속에서 실천할 수 있는 미세먼지 대응책 마련에 분주한 모습이다.',\n",
       "       \"식품의약품안전처는 문신용 염료를 '위생용품'으로 지정, 관리하도록 하는 내용의 '위생용품 관리법 시행령' 개정안을 입법예고 한다고 5일 밝혔다. 식약처는 의견수렴을 거쳐 2020년 1월 1일부터 시행할 예정이다.\",\n",
       "       \"정부는 대형 산불이 발생한 강원도 일원에 5일 오전 9시를 기해 '재난사태'를 선포했다.\",\n",
       "       '경기도가 소방인력 423명과 소방차 188대, 소방헬기 1대 등을 강원도 고성에 급파했다. 이는 정부가 강원도 동해안 산불을 국가재난사태로 선포해 대응하는 등 산불 피해가 커지고 있어서다.',\n",
       "       \"정부는 대형 산불이 발생한 강원도 일원에 5일 오전 9시를 기해 '재난사태'를 선포했다.\",\n",
       "       '금융권이 초대형 산불로 막대한 피해를 입은 강원도 주민들을 위해 팔을 걷어부쳤다. 성금과 함께 구호 물품을 전달하고, 긴급 자금 대출에 나서는 등 전방위적인 지원을 이어가기로 했다.',\n",
       "       '지난 4일 CJ오쇼핑방송에서 새벽 6시 방송임에도 올뉴플러스TS샴푸가 완판됐다. TS샴푸는 2017년 GS홈쇼핑과 GS샵에서 주문 수량 기준 전체 1위를 차지하면서 지금까지 소비자들로부터 많은 사랑을 받고 있다.',\n",
       "       '윤석헌 금융감독원장은 5일 김의겸 전 청와대 대변인의 특혜 대출 의혹과 관련해 KB국민은행에 대해 특별검사를 실시할 계획이 없다고 밝혔다.',\n",
       "       '자동차 배터리 기업 현대성우쏠라이트가 4월5일(금) 신라호텔영빈관에서 개최된 2019 Kotler Awards(코틀러 어워드)에서 Marketing Excellence(마케팅 엑설런스) 수상사로 최종 선정됐다.',\n",
       "       '코스피지수가 미중 무역협상 낙관론에도 불구하고 매물 출회가 이어지며 강보합 마감했다. 6거래일 오름세다. 삼성전자는 0.11% 상승했다.',\n",
       "       '탄탄한 중견 건설사들이 상반기 신규 채용에 나섰다. 건설취업포털 건설워커에 따르면 2018년 기준 시공능력평가액 순위 15위인 한신공영, 21위인 아이에스동서, 23위인 금호건설, 42위인 우미건설 등이 신입·경력사원을 모집 중이다.',\n",
       "       '올 하반기부터 임대주택을 등록할 때 기존 세입자도 임대료 5% 증액 제한 혜택을 받게 된다.',\n",
       "       '더불어민주당 윤리심판원이 5일 홍준연 대구 중구의원 제기한 제명 처분 재심 요청을 기각했다.',\n",
       "       '데니스 뮬렌버그 보잉 최고경영자(CEO)가 보잉 737맥스8 항공기의 잇따른 추락 사고의 원인이 센서 오류와 소프트웨어 결함 때문이란 사실을 처음으로 인정했다고 4일(현지시간) 로이터통신 등이 전했다. 지난달 10일 에티오피아에서 해당 기종의 항공기가 이륙 6분만에 추락해 157명 전원이 사망한지 약 한달 만이다.',\n",
       "       '] 주요 카드사들이 연회비 30만원대 프리미엄 신용카드를 앞다퉈 내놓고 있다. 프리미엄 상품군을 강화해 수익성을 끌어올리려는 전략이다.',\n",
       "       \"] 국민·신한·KEB하나·우리·기업 등 주요 은행들이 '기업고객 모시기' 경쟁에 뛰어들었다. 가계대출 규제로 먹거리가 줄어들었기 때문이다. 타깃은 우량 중소기업이다. 혁신기업을 지원하는 정부의 '생산적 금융'에 동참한다는 취지도 깔려 있다. 은행들은 경영지원 플랫폼과 법인고객 우대제도, 전담 영업인력 등 차별화된 서비스를 앞세워 기업대출 시장을 선점한다는 전략이다.\",\n",
       "       \"] 퇴행성관절염 치료제 '인보사'(사진) 논란이 커지고 있습니다. 신장세포가 암을 유발할 가능성이 있다는 지적이 나오면서 투여받은 환자들은 불안해하고 있습니다.\",\n",
       "       '] 국가대표 상비군 권서연(18·사진)이 극적으로 예선을 통과하며 미국 조지아주 오거스타내셔널GC에서 열리는 오거스타내셔널여자아마추어챔피언십(ANWA) 최종 3라운드 진출권을 획득했다.',\n",
       "       '골프가 직업인 프로선수도 대개 한 가지씩 취미생활을 한다. 김민선(24·사진)은 유명한 \\'낚시광\\'이다. 바닷가 근처에서 대회가 열리면 낚싯대를 꼭 가지고 다녔다. 미국 투어에 진출한 고진영(24) 등 주변의 친한 선수들에게도 틈만 나면 낚시를 권했다. 그는 \"두 가지 다 손맛이 좋다. 힐링이 된다\"고 자주 말했다.',\n",
       "       '[ 심은지 기자 ] \"세금을 쓰는 일자리가 아니라 세금을 내는 일자리를 만들어야 합니다.\"',\n",
       "       \"[ 조희찬 기자 ] 고진영(24)이 미국여자프로골프(LPGA)투어 진출 2년 만에 약점 없는 '올라운드 플레이어'로 거듭나고 있다. 올 시즌 참가한 거의 모든 대회에서 우승 경쟁을 하더니 메이저 타이틀까지 따낼 기세다. 자신만의 독특한 스윙으로 LPGA투어 2년차에 US여자오픈을 제패하며 '골프 여제'의 길을 걷기 시작한 박인비(31)의 '무심골프'를 떠올리게 한다.\",\n",
       "       '] 주한미군 주둔비용 중 한국의 부담금을 정한 제10차 한·미 방위비 분담금 특별협정(SMA)이 5일 공식 발효됐다. 이번 협정은 유효기간이 올해 1년간이어서 한·미는 이르면 다음달 11차 SMA 협상에 들어갈 것으로 보인다.',\n",
       "       '] 일반인을 대상으로 한 5세대(5G) 이동통신 서비스가 시작된 5일 통신사들이 공시지원금을 잇따라 올리는 등 가입자 유치 과열경쟁이 벌어졌다. 공시지원금과 별개로 가입자에게 불법 보조금을 지급하는 조짐도 나타나고 있다.',\n",
       "       \"] 현대자동차그룹이 최근 독일 베를린에 오픈이노베이션(개방형 혁신) 센터인 '현대 크래들 베를린'을 열었다고 5일 발표했다. 미국 실리콘밸리(크래들 실리콘밸리)와 한국(제로원), 이스라엘(크래들 텔아비브)에 이어 네 번째다. 이름에 '크래들(cradle·요람)'이라는 단어가 포함된 데서 알 수 있듯이 이 센터는 스타트업(신생 벤처기업)을 발굴하고 키우는 역할을 할 예정이다.\",\n",
       "       \"바른미래당의 집안싸움이 '분당(分黨)' 수순으로 치닫고 있다. 4·3 보궐선거 지원을 이유로 그동안 억지로 묶어놨던 당내 갈등이 선거가 끝나자마자 곧바로 터진 것이다.\",\n",
       "       '] 세계 최대 온라인 유통업체 아마존이 무선 이어폰 열풍에 동참했다. 자사의 인공지능(AI) 알렉사를 적용한 제품을 내놓을 것이라는 관측이 나왔다. 시장을 선점한 애플 에어팟, 삼성 갤럭시 버즈와 치열한 경쟁이 벌어질 전망이다.',\n",
       "       '] 굴착기와 지게차 등을 생산하는 현대중공업그룹의 건설장비 계열사인 현대건설기계가 부품사업 부문을 물적 분할해 자회사 현대코어모션을 설립했다. 수익성이 좋은 교체용 부품시장(애프터마켓) 점유율을 높이고 완성용 부품시장 경쟁력을 끌어올린다는 구상이다.',\n",
       "       \"] 액션영화 시리즈물로 유명한 '미션임파서블 고스트프로토콜'(사진)에는 초전도 자석의 위력을 보여주는 장면이 나온다. 주인공의 동료인 브렌트(제러미 레너 분)가 서버실에 침투하기 위해 높이 10m가 넘는 환풍구 통로로 뛰어드는 대목이다. 자석으로 이뤄진 옷을 입은 브렌트는 바닥에 떨어지기 직전 공중에 멈춰 선다. 환풍구 밑 초전도 자석이 브렌트를 밀어내 띄우는 설정이다.\",\n",
       "       \"] 북한이 세계 3대 무역 규범 중 하나인 '국제물품 매매계약에 관한 유엔협약(CISG)'에 최근 가입한 것으로 확인됐다. 북한이 국제 고립을 탈피하려고 세계 경제 시스템의 기준을 받아들인 것으로 풀이된다. 대북 제재 완화와 남북한 경제협력 확대를 노린 선제적 포석이라는 해석도 나온다.\",\n",
       "       '] 금융감독원이 한국투자증권에 이어 NH투자증권에 대한 제재에 나선다. 지난 3일 재제심의위원회 심의를 마친 한투증권과 마찬가지로 해외 계열사에 대한 부당 신용공여 혐의를 들이댔다. NH투자증권이 2014년 말 인도네시아 법인의 채무 보증을 선 것을 문제 삼았다.',\n",
       "       \"[ 임락근 기자 ] 강원 고성의 산불로 봄철 강원 지역 대형 화재의 악몽이 또다시 재연됐다. 영서에서 태백산맥을 넘어 영동을 향해 빠른 속도로 부는 건조한 바람인 '양간지풍(襄杆之風)'이 피해를 키웠다는 분석이다.\",\n",
       "       \"[ 민지혜 기자 ] 중국 현지 브랜드와 일본 럭셔리 브랜드에 치이고 있지만 여전히 'K뷰티'의 가능성을 높게 보는 현지 전문가도 있었다.\",\n",
       "       '] 코스피지수가 2200선을 넘자 개인들이 인버스 상장지수펀드(ETF)를 대거 사들이고 있다. 시장이 다시 하락할 것이란 전망에 베팅한 것이다.',\n",
       "       \"가수 정준영에 이어 로이킴, 에디킴까지 '슈퍼스타K4' 출신 절친들의 우정이 한 순간에 무너졌다.\",\n",
       "       '[ 김하진 기자 ] SM엔터테인먼트 제공 \"갓 데뷔한 신인가수가 된 것 같아요. 하하.\"',\n",
       "       '80여 개 한국산 화장품 브랜드를 중국에 수출하고 있는 비투링크의 이소형 대표(사진)는 \"중국 소비 흐름은 이미 온라인 중심으로 변한 만큼 오프라인 매장 위주의 전략을 짜는 한국 화장품은 중국 시장에서 밀려날 수 있다\"며 이같이 말했다.',\n",
       "       '] 지난 2월 중순부터 유가증권시장에서 저속 주행에 나선 기아자동차가 다시 속도를 내고 있다. 2017년에 쌓았던 통상임금 관련 충당금이 일부 환입되고, 신차 판매도 호조를 보여 올해 실적이 개선될 것이라는 전망이 나오고 있다.',\n",
       "       '] 한국투자증권과 한국카카오은행(카카오뱅크)이 함께 내놓은 주식 계좌 개설 서비스가 출시 10일 만에 계좌 수 35만 개를 넘기며 대박 조짐을 보이고 있다. 한투증권의 성공으로 증권사와 정보기술(IT) 기업 간 합종연횡 및 플랫폼 경쟁이 한층 치열해질 것이란 전망이 나온다.',\n",
       "       \"한국경제신문의 '책마을'에《우리는 정글로 출근한다》라는 책을 소개한 적이 있습니다. 진화생물학 관점에서 직장생활의 일상을 해석한 책입니다. 회사 동료나 상사의 행동과 지위의 상징에 대해 분석하는 데 많은 부분을 쓰다보니 흥미롭게 읽은 '몸짓 언어'에 대한 부분은 상대적으로 덜 언급할 수 밖에 없어 아쉬웠습니다.\",\n",
       "       '] 이명박 전 대통령에게 거액의 뇌물을 건네고 \\'비망록\\'을 작성한 것으로 알려진 이팔성 전 우리금융지주 회장이 5일 \"이 전 대통령의 도움을 기대하고 자금을 지원했다\"고 진술했다.',\n",
       "       '[ 좌동욱 기자 ] LG전자가 공기청정기, 의류관리기 등 신(新)가전 사업 호조에 힘입어 시장 전망치를 뛰어넘는 1분기 실적을 내놨다. 하지만 스마트폰 사업 적자가 지속되면서 영업이익은 지난해 같은 기간보다 19% 가까이 줄었다.',\n",
       "       '[ 박종관 기자 ] 소형 스포츠유틸리티차량(SUV) 시장이 뜨겁게 달아오르고 있다. 소형 세단 대신 소형 SUV를 생애 첫 차로 선택하는 사람들이 늘어난 덕분이다. 현대자동차를 비롯한 국내 5개 완성차업체는 소형 SUV 모델을 7개나 내놓고 치열한 경쟁을 벌이고 있다. 소형 SUV가 국내 완성차 시장의 최대 격전지로 떠올랐다는 분석이다.',\n",
       "       \"5일 소셜네트워크서비스(SNS)가 '이산가족 찾기' 방송이 됐다. 지난 4일 발생한 화재로 몸을 급하게 피하다가 가족을 잃어버린 강원 고성 주민들이 사람을 찾는 글을 올리면서다. 이 게시물들은 '속초산불_사람을_찾습니다' 등의 해시태그(#)가 붙어서 수백 차례 공유됐다.\",\n",
       "       \"서울시는 재개발 사업 방식 다각화를 골자로 한 '2030 서울시 주거환경정비기본계획(주택정비형 재개발사업)'을 수립한다고 5일 발표했다. 다음주 계획 수립을 맡을 용역업체 입찰 공고를 하고, 5월 중 계획 수립에 착수해 2021년 상반기 마무리할 예정이다.\",\n",
       "       \"4일 열린 국회 법제사법위원회 전체회의에 출석한 박상기 법무부 장관에게 여야 국회의원들은 일제히 검찰이 공판을 청구하기 전에 피의자의 혐의사실 등을 공개하는 '피의사실 공표' 관행을 근절해달라고 강력하게 요구했습니다. 재판은커녕 수사도 채 마무리되지 않은 상태에서 수사기관이 혐의사실 등을 들춰내면 피의자가 '유죄'라는 인상을 남길 수 있어 그의 방어권을 침해할 수 있다는 지적입니다.\",\n",
       "       '[ 최진석 기자 ] 정비사업이 제대로 추진되지 않는 정비구역을 지방자치단체가 직권으로 해제하고 도시재생을 추진할 수 있게 된다. 또 재건축이나 재개발 사업에서 공사비가 함부로 증액되지 않도록 일정 수준 이상 공사비가 오르면 전문기관이 검증에 나선다.',\n",
       "       \"가상화폐(암호화폐) 이더리움 창시자 비탈릭 부테린()은 5일 서울 장충체육관에서 열린 '분산경제포럼(디코노미) 2019'에서 이같이 말했다. 기존 이더리움의 단점을 보완해 확장성을 향상시키겠다는 계획이다.\",\n",
       "       \"백지원(사진=열혈사제' 방송화면캡처) '열혈사제' 백지원의 숨겨진 과거의 정체는 바로 '전설의 타짜 십미호'였다.\",\n",
       "       \"'자백' 이준호가 고교 성폭행 피해자인 박수연과 대면한다. 박수연이 '김성조 살인사건'의 진실로 향하는 키를 쥐고 있는 인물인 만큼, 사건의 전말이 밝혀질지 관심이 집중된다.\",\n",
       "       \"오늘(6일) 방송되는 MBC '전지적 참견 시점' 48회에서는 맞는 것 하나 없는 이용진의 모습이 공개된다.\",\n",
       "       \"5일 첫방송 된 JTBC '아름다운 세상(극본 김지우, 연출 박찬홍)'은 학교폭력으로 인해 생사의 벼랑 끝에 선 아들과 그 가족들이 아들의 이름으로 진실을 찾아가는 이야기를 담고 있다. 1회에서는 조재룡은 원인불명의 사건으로 식물인간이 된 박선호의 사건을 파헤치는 박승만 형사로 날카로운 카리스마를 드러냈다.\",\n",
       "       \"SBS 금토드라마 '열혈사제'의 김남길이 통쾌한 한판승으로 진한 감동을 선사하며 또 자체 최고시청률을 경신했다.\",\n",
       "       \"오늘(6일) 방송되는 MBC '전지적 참견 시점' 48회에서는 이승윤의 경찰서 강연 현장이 공개된다.\",\n",
       "       '배우 이정재와 임세령 대상그룹 전무의 데이트가 공개된 가운데 임 전무의 패션에 시선이 집중되고 있다.',\n",
       "       \"배우 김환희가 지난 5일 방송된 JTBC 드라마 '아름다운 세상' 첫 회에서 절절한 감정 연기를 선보이며 존재감을 확실히 했다.\",\n",
       "       '배우 노유정이 이혼 당시 전 남편 이영범의 내연녀로 인해 상처 받았던 과거를 회상해 주변의 공분을 샀다.',\n",
       "       \"JTBC 금토드라마 '아름다운 세상'에 배우 이재인이 무표정의 동희역으로 첫 등장하며 눈길을 사로 잡았다.\",\n",
       "       \"'막돼먹은 영애씨17' 연제형이 박수아를 향한 미묘한 감정변화를 느끼기 시작하면서 본격적인 러브라인을 예고했다.\",\n",
       "       \"'국민 여러분!' 사기꾼 최시원-경찰 이유영-사채업자 김민정이 다음 주 흥미진진한 추격전으로 더욱 업그레이드된 재미를 예고했다.\",\n",
       "       '180도 달라진 비주얼로 모두를 감쪽같이 속인 미스터리 싱어들이 안방극장에 충격을 선사했다.',\n",
       "       '가수 겸 배우 엄정화의 나이가 공개되자 동안 미모 비결이 주변의 부러움을 자아내고 있다.',\n",
       "       \"킬잇(Kill it)' 장기용과 나나, 이들의 인연을 궁금케 하는 과거 키워드가 공개됐다.\",\n",
       "       \"'아름다운 세상' 추자현과 조여정의 대비 상황이 고조된 가운데 오늘밤 새로운 이야기가 전개될 예정이다.\",\n",
       "       \"6일 저녁 영화 '7년의 밤'이 영화 채널 CGV에서 재방영하면서 많은 누리꾼들의 관심을 받고 있다.\",\n",
       "       \"지난 4일 서울 장충체육관에서 개최된 열린 '분산경제포럼(디코노미) 2019'에서 한경닷컴과 인터뷰한 스테판 러스트(Stefan Rust) 비트코인닷컴 비즈니스 총괄(사진)은 현재 암호화폐 상황을 이같이 짚었다.\",\n",
       "       \"로또 당첨번호가 발표된 가운데, 851회 당첨자 중 한명이 '생생한 당첨후기'를 SNS에 게재해 로또복권 구매에 열을 올리고 있다.\",\n",
       "       '국내 최초의 위스키 공식 경매가 열렸다. 경매는 7000만원에 시작됐다. 몇 분 만에 예상가(1억3000만원)를 뛰어넘었다. 100여 명의 경매 참가자 중 조연태 위스키라이브러리 대표가 최종 낙찰을 받았다. 위스키 경매는 그 동안 뉴욕, 홍콩, 런던 등에서 이뤄졌다. 서울에서 첫 경매가 열린 건 그만큼 국내 위스키 시장이 성숙했다는 증거라는 게 전문가들의 얘기다.',\n",
       "       \"호사카 유지가 일본이 부인하는 일본군 '위안부' 문제가 나오는 만화도 있다고 전해 충격을 주고 있다.\",\n",
       "       '삼성전자가 베트남 직장인들이 선호하는 기업 4위에 올랐다. 삼성전자는 베트남 전체 수출의 약 4분의 1을 차지하면서 베트남 경제의 큰 축을 담당하고 있다. 삼성전자 베트남 임직원은 10만명에 달한다.',\n",
       "       '중소벤처기업진흥공단은 지난 5일 경기 안산시 청년창업사관학교에서 제9기 입교식을 개최했다고 7일 밝혔다.',\n",
       "       \"한국인터넷진흥원(KISA)은 블록체인으로 공공서비스를 혁신하고 우수사례를 발굴하기 위한 '2019년도 블록체인 공공선도 시범사업'의 수행 사업자를 과학기술정보통신부와 선정했다고 7일 밝혔다.\",\n",
       "       '올해 2분기 은행의 주택담보대출이 더 까다로워질 것으로 전망됐다. 가계와 기업의 신용위험은 상승할 것으로 관측됐다.',\n",
       "       \"'배틀트립' 최은경-안선영이 대만 N차 여행욕구를 부르는 '가심비(가격 대비 마음의 만족도)' 최강 설계를 탄생시켰다.\",\n",
       "       \"'세상에서 제일 예쁜 내 딸(세젤예)'에서 스타 드라마 작가 방재범 역할로 활약 중인 배우 남태부가 숨기고 있던 '순정남'의 면모를 드러내며 '구여친 마음 돌리기'에 성공할 수 있을지를 궁금하게 했다.\",\n",
       "       \"'아름다운 세상' 박희순, 추자현, 김환희가 진실을 찾아 나섰다. 이들은 학교폭력이라는 비극에 주저앉지 않았고, 이에 맞서는 가족의 힘을 보여주며 깊은 울림을 전했다.\",\n",
       "       '차량 공유 업체 쏘카가 4월 한 달간 출퇴근 시 쏘카 차량을 1000원에 이용할 수 있는 프로모션을 진행한다고 7일 밝혔다. 쏘카는 내 차를 소유하지 않고도 언제나 차량을 자유롭게 이용할 수 있는 경험을 만드는 데 집중하고 있다. 쏘카만 있으면 ▲출퇴근 ▲장 보기 ▲업무 미팅 ▲자녀 픽업 ▲나들이 등을 즐길 수 있다는 인식을 확대하겠다는 것이다.',\n",
       "       '이동통신업계 최초로 데이터 완전 무제한 요금제를 내놨다고 밝힌 KT가 해당 요금제에 데이터 속도를 제한할 수 있는 조항을 포함한 것으로 확인돼 논란이다.',\n",
       "       '] 올 들어 400만원 초반대의 좁은 박스권에 머물던 비트코인이 이달 초 급등하면서 5개월 만에 550만원 선을 회복했다. 가상화폐업계에선 만우절 가짜뉴스에 따른 비정상적인 현상이라는 분석과 대형 매수자가 시장에 진입한 데 따른 것이라는 의견이 분분하다.',\n",
       "       '김하나 한경닷컴 기자경기 구리시의 아파트값이 강세를 유지하고 있다. 지난해 발표된 9·13 대책 이후 서울·수도권 집값은 하락세를 보이고 있는 반면 구리시의 아파트값은 오히려 최고가를 경신하고 있다. 7일 한국감정원의 매매가격지수에 따르면 구리시는 지난해 9월 이후 경기도 내에서 매매가 지수 상승률이 1위를 나타냈다. 구리시의 매매가격 지수는 작년 9월 10일 기준으로 106.2였다. 이후 꾸준한 상승흐름을 보여 지난 3월 18일 기준으로는 111.5를 기록했다. 6개월 만에 5.3포인트 상승했다. 두 번째로 지수 상승세가 높았던 지역은 부천시(2포인트)였고 용인시(1.9포인트), 김포시(1.1포인트), 수원시(1포인트) 등이 뒤를 이었다.',\n",
       "       \"] 시중은행들이 한층 진화한 로보어드바이저(로봇+상담) 서비스를 앞세워 모바일 자산관리(WM) 시장 선점에 팔을 걷어붙였다. 빅데이터 기반의 알고리즘 분석에다 각 은행 전문가들의 시장 전망을 결합한 '하이브리드' 형태 자산관리 서비스를 통해 모바일 뱅킹 고객 기반을 확보하겠다는 전략이다.\",\n",
       "       '] 5세대(5G) 이동통신 시대가 열렸다. 5G 통신은 올해 증시에서도 가장 뜨거운 테마로 꼽힌다. 이동통신 3사는 물론 통신장비, 휴대폰, 반도체, 미디어·콘텐츠, 인터넷·게임 등 광범위한 종목에 영향을 미칠 것이란 전망이다. 권명준 삼성증권 연구원은 \"5G 이동통신은 4차 산업혁명의 핵심 인프라\"라며 \"새로운 수요와 비즈니스 모델이 생겨나 직·간접적으로 다양한 종목의 수혜가 기대된다\"고 말했다.',\n",
       "       '[ 홍윤정 기자 ] \"온돌 문화가 지난해 국가무형문화재로 지정됐습니다. 이제는 세계로 나아갈 때입니다.\"',\n",
       "       \"글로벌 그룹 아이즈원(IZ*ONE)이 환상적인 '비올레타(Violeta)' 무대를 꾸몄다.\",\n",
       "       \"[ 전설리 기자 ] 침구 청소기업체인 코니맥스가 기능성 화장품을 내놓고 '제2 창업'에 나섰다. 제품 포트폴리오의 다양화 차원이 아니라 이를 계기로 주력 업종을 바꾸겠다는 게 회사 복안이다. 침구 청소기업체가 화장품 회사로 변신을 시도한 데는 그동안 축적한 금형노하우 기술이 기반이 됐다.\",\n",
       "       \"] 소상공인시장진흥공단이 다음달 10일까지 '2019년 소상공인 재창업패키지' 관련 50개 교육기관을 공개 모집한다고 7일 밝혔다.\",\n",
       "       '[ 구은서 기자 ] 한국이 인공지능(AI), 자율주행차 등 신산업 분야에서 중국보다 경쟁력이 떨어진다는 분석이 나왔다.',\n",
       "       '[ 김진수 기자 ] 자영업 전체 사업 소득의 절반 이상이 5분위(상위 20%)에 집중되고 1분위(하위 20%) 소득이 줄어드는 소득 양극화가 심화된 것으로 나타났다. 폐업 위기의 한계 자영업자에게 부채 관리, 생계 지원 같은 사회안전망을 제공하는 등 계층·연령별 맞춤형 정책이 필요하다는 제안이 나왔다.',\n",
       "       '지난 4일 강원 고성과 속초, 인제 등지에서 난 산불로 축구장(7140㎡) 742배에 달하는 임야가 소실되고 720여 명의 이재민이 발생했다.',\n",
       "       '자유한국당이 7일 김연철 통일부, 박영선 중소벤처기업부 장관 후보자의 임명강행에 총공세를 펼쳤다. 박 후보자에 대해서는 추가 의혹을 제기하는 등 막판 화력전을 벌였다.',\n",
       "       '] 르노삼성자동차가 이달 하순 5일간 부산공장 문을 닫는다. 스포츠유틸리티차량(SUV) 로그 생산을 맡긴 일본 닛산이 물량을 40% 줄이겠다고 통보하면서 후폭풍이 본격적으로 시작됐다는 분석이다.',\n",
       "       '정만기 한국자동차산업협회장(사진)은 한국 자동차산업이 \\'생산절벽\\' 위기에 빠진 이유를 이렇게 진단했다. 정 회장은 7일 전화 인터뷰를 통해 \"한국 완성차업계의 1인당 평균 임금은 9072만원(2017년 기준)으로 일본 도요타(8390만원), 독일 폭스바겐(8303만원) 등 경쟁국보다 높다\"고 지적했다. 이어 \"자동차 한 대를 생산하는 데 필요한 시간은 경쟁국보다 10~20% 더 길어 전형적인 고비용·저효율 구조에 빠졌다\"고 덧붙였다. 한국은 2015년까지 연간 자동차 생산 대수 5위를 지켰지만 지난해 7위로 주저앉았다. 올해는 한국 자동차산업 생태계 유지의 \\'마지노선\\'으로 여겨지는 400만 대 생산 여부도 불투명하다.',\n",
       "       \"] '홀인원' 풍년이다. 지난달 임성재(21)가 미국프로골프(PGA)투어 플레이어스챔피언십에서 홀인원을 기록한 지 한 달도 안돼 김시우(24)가 발레로텍사스오픈에서 짜릿한 에이스 손맛을 봤고, 모두 샷감이 최고조에 오른 선수들이어서 누가 먼저 홀인원 기운을 우승으로 연결시킬지가 관심이다.\",\n",
       "       '[ 박동휘 기자 ] \"한·일 군사비밀정보보호협정(GSOMIA·지소미아)은 어차피 강제 사항이 아니거든요.\"',\n",
       "       '] 한·일 관계가 악순환의 수렁에 빠지게 된 배경에는 양국 정치인들의 도발적인 발언도 한몫했다는 분석이 나온다. 지지층 결집 등 국내 정치에 이용하기 위해 서로 반일·혐한 감정을 부추긴다는 지적이다.',\n",
       "       \"[ 김현석 기자 ] 국제 유가의 '벤치마크'인 영국산 브렌트유가 올 들어 처음으로 배럴당 70달러를 넘겼다. 석유수출국기구(OPEC) 주도의 감산이 지속되는 가운데 미국의 이란 및 베네수엘라 제재, 리비아 내전 등으로 공급이 줄어서다. 최근 세계 경제 둔화 우려가 완화되고 미·중 무역갈등 해결 가능성이 제기되면서 수요 감소 걱정이 줄어든 것도 원인이다.\",\n",
       "       '] 올해 들어 수출과 수입이 위축되면서 일본과의 교역도 감소일로에 있다. 올 1분기 대(對)일본 수출·수입 감소율은 각각 6.2%, 14.6%에 이른다. 수입은 전체 감소율(6.8%)의 배가 넘는다. 한국은 매년 일본과의 교역에서 200억달러 이상 적자를 보고 있다. 이 때문에 수입 감소는 무역적자 완화로 이어져 바람직한 것 아니냐고 할 수 있지만 꼭 그렇지는 않다. 일본에서 수입하는 제품 상당수가 주력 산업에 없어선 안될 소재, 부품, 원재료 등이어서다. 특히 반도체 관련 제품이 일본 의존도가 높다.',\n",
       "       '] 한·일 관계가 역대 최악으로 치달으면서 관광업계에서도 우려의 목소리가 커지고 있다. 중국 정부의 \\'한한령(限韓令)\\' 조치가 여전한 가운데 그나마 회복세를 보이던 일본인 관광객마저 발길을 돌릴 경우 여행·호텔업계는 중국에 이어 일본 시장까지 위축되는 \\'이중고\\'를 피하기가 어렵기 때문이다. 중국과 일본은 국내 외국인 관광 시장의 절반 이상을 차지한 주 고객군이다. 일본인 관광객을 주로 받는 한 인바운드 여행사 관계자는 \"한국의 강제징용 배상 판결로 인해 일본 내 여론이 악화되고 있다는 뉴스를 접할 때마다 불똥이 여행시장으로 튀지는 않을까 걱정부터 앞선다\"고 말했다.',\n",
       "       \"] 액화천연가스(LNG)발전소가 유해물질인 암모니아와 발암물질인 포름알데히드를 내뿜고 있다는 주장이 제기됐다. 규제 대상인 '질소산화물(NOx)'을 줄이는 과정에서 규제 대상이 아닌 유독가스가 대량으로 뿜어져 나오고 있다는 주장이다.\",\n",
       "       \"] 고진영(24)이 미국여자프로골프(LPGA)투어 메이저대회 ANA인스퍼레이션(총상금 300만달러) 우승자만 빠질 수 있는 '포피스 폰드(Poppie's Pond)'에 뛰어들 준비를 마쳤다.\",\n",
       "       '] 전문가들은 LNG발전소의 오염물질 배출 현황에 대한 신속한 전수조사와 대책 마련이 시급하다고 입을 모은다. 발전소 오염물질 배출 기준에 일산화탄소, 암모니아 등을 추가하고 오염물질을 배출하지 않는 새로운 탈질설비(SCR)도 마련해야 한다는 처방이다.',\n",
       "       '] 지난 4일 강원 일대에서 연쇄적으로 발생한 산불은 모두 진화됐지만 화재 원인은 아직도 불분명하다.',\n",
       "       '] 문재인 대통령이 8일 박영선 중소벤처기업부 장관 후보자와 김연철 통일부 장관 후보자 임명을 강행할 예정이다. 2기 개각 작업을 완료한 뒤 한·미 정상회담 준비에 집중하겠다는 의미지만 야당이 강하게 반발하고 있어 정국 경색이 불가피할 전망이다.',\n",
       "       '] 4·3 국회의원 보궐선거 이후 더불어민주당 의원들의 위기감이 고조되면서 한 달 앞으로 다가온 원내대표 선거 구도에도 미묘한 파문을 낳고 있다. 누가 내년 총선을 이끌 원내사령탑으로 적임자인가를 두고 유권자인 현역 의원들의 고민이 한층 깊어질 수밖에 없어서다.',\n",
       "       '] 카풀과 관련한 법원의 판단이 재판부에 따라 엇갈리고 있다. 승차 공유 서비스는 거스를 수 없는 세계적 추세라는 시각과 운수사업 질서를 무너뜨리는 위험 요소라는 시각이 사법부 안에 공존하고 있다.',\n",
       "       '] 근육통 환자가 한의원이나 한방병원에서 추나치료를 받으면 8일부터 건강보험 혜택을 받을 수 있다. 환자 부담은 평균 5만원에서 1만원대로 내려간다. 한의원과 한방병원은 늘어나는 예약 환자에 대비하는 등 분주한 분위기다. 반면 의사들은 건강보험 급여 확대를 결정한 보건복지부 장관을 고발하는 등 비판의 목소리를 높이고 있다.',\n",
       "       '] 경영컨설팅기업 맥킨지가 \"2020년대 초 신흥국가(이머징 마켓)의 바이오시밀러(바이오의약품 복제약) 시장 규모가 전세계의 3분의 1에서 절반 정도를 차지할 것\"이라고 예측했다.',\n",
       "       \"] 그룹 '워너원' 출신의 인기 가수 강다니엘(23·사진)을 둘러싸고 법무법인 율촌과 지평이 맞섰다. 강씨가 소속사인 LM엔터테인먼트를 상대로 제기한 전속계약 효력 정지 가처분 신청의 대리전이다.\",\n",
       "       '] 올 2분기 은행권의 가계 주택담보대출 심사가 한층 깐깐해질 전망이다. 반면 중소기업의 대출 문턱은 낮아지면서 돈 빌리기가 한층 수월해질 것으로 보인다.',\n",
       "       '] 직장인들의 노후 대비 자산인 퇴직연금 수익률이 지난해 1%를 가까스로 넘긴 것으로 나타났다. 적립 규모는 빠르게 불어나고 있지만 수익률이 낮고 연금 형태로 받아가는 사람도 많지 않아 내실은 여전히 떨어진다는 지적이 나오고 있다.',\n",
       "       '] 이인기 NH농협카드 사장(사진)은 7일 \"올해는 전업 카드사 수준의 시장 영향력을 갖추는 데 집중할 계획\"이라고 말했다.',\n",
       "       \"[ 안대규 기자 ] 사법연수원 19기에는 차기 검찰총장 물망에 오르는 '3인방'이 있다. 봉욱 대검찰청 차장검사와 조은석 법무연수원장, 황철규 부산고검장이다. 법조계에서는 문무일 검찰총장(58·연수원 18기)의 임기가 오는 7월 끝나기 때문에 국회 청문회 일정을 감안할 때 5월쯤에는 검찰총장 후보가 드러날 것으로 전망한다.\",\n",
       "       \"매일유업과 남양유업은 50년 라이벌이다. 분유와 우유 시장에서 격돌했다. 수십 년간 남양이 우위를 지켰다. 하지만 몇 해 전 매일유업이 남양유업을 제친 후 그 차이를 벌려 나가고 있다. 역전의 시발점은 2013년 남양유업의 '대리점 갑질 사건'이다. 불매운동에 대응하는 과정에서 남양유업은 동력을 잃었다. 직원 사기는 떨어졌고 신사업도 신통치 않았다. 그 사이 매일유업은 사업을 다각화하며 판을 바꾸는 데 성공했다.\",\n",
       "       '[ 강경민 기자 ] 다음달부터 은행이 점포를 폐쇄하려면 취약계층의 금융접근성을 따지는 사전영향평가를 해야 한다. 자동화기기(ATM) 등 대체수단도 마련해야 한다. 또 점포를 많이 폐쇄한 은행은 금융당국의 경영실태평가에서 낮은 점수를 받는 제도가 도입된다. 은행들의 잇단 점포 폐쇄로 금융소비자 불편이 우려된다는 금융감독원의 방침에 따른 것이다. 일부에서는 시대착오적이라는 목소리가 나온다. 4차 산업혁명 시대를 맞아 온라인 등 비(非)대면 채널이 확대되고 있는 상황과는 어울리지 않는 조치라는 지적이다.',\n",
       "       \"JTBC 금토드라마 '아름다운 세상'의 박희순, 추자현, 김환희가 학교폭력에 맞서는 가족의 힘을 보여주며 깊은 울림을 전했다.\",\n",
       "       '] 완연한 봄을 맞아 전국에서 새 아파트 청약 열기가 뜨거워지고 있다. 이번주 전국 14개 단지, 5640가구(오피스텔, 임대 포함)에서 1순위 청약 접수가 이뤄지고 모델하우스는 4곳에서 문을 연다. 19곳의 청약 결과가 발표된다.',\n",
       "       '] LG화학이 베트남 완성차 업체인 빈패스트와 전기 스쿠터용 배터리팩을 생산하는 합작법인을 설립한다.',\n",
       "       '] 서울 시내 좁은 골목길을 되살리는 재생사업이 추진된다. 골목길 폐가를 카페와 식당, 마당 등으로 조성하거나 일자리 공간으로 만들어 활력을 불어넣는 방식이 도입된다.',\n",
       "       '] 임대사업자 세제 혜택 축소와 대출 강화로 임대사업자 등록 건수가 올해 들어 급감했다. 다주택자들은 집을 팔거나 임대사업자 등록을 하는 대신 증여 방식으로 활로를 모색하려는 사례가 급증하고 있다.',\n",
       "       \"자체 개발한 IP(지식재산권) 게임을 앞세운 크래프톤(옛 블루홀), 펄어비스, 그라비티가 폭풍성장했다. 게임업계 상위 3대 업체이자 '3N'으로 불리는 넥슨, 넷마블, 엔씨소프트의 실적이 주춤한 가운데 거둔 성과여서 더 주목받는다. 국내 게임시장 판도가 크게 바뀔 것이라는 전망까지 나온다.\",\n",
       "       '] 통신 3사의 5세대(5G) 이동통신 가입자 유치 경쟁이 치열해지고 있다. SK텔레콤은 과태료를 감수하고 5G 스마트폰 지원금을 올렸다. 일부 통신사가 판매점주를 대상으로 불법 보조금을 주고 있다는 얘기도 흘러나오고 있다. 치열한 경쟁 속에 총 8만 명 안팎이 5G 이동통신 서비스에 가입한 것으로 추정됐다.',\n",
       "       '] 재개발·재건축 사업이 광범위하게 진행되고 있는 경기 성남시 일대 구도심에서 다음달부터 1만여 가구에 이르는 아파트 분양이 잇따를 전망이다. 주변 시세보다 2억~3억원가량 저렴한 단지들이 분양을 앞두고 있는 만큼 예비 청약자의 관심도 달아오르는 분위기다. 일부 단지의 조합원 입주권에는 2억원 이상의 웃돈이 붙은 상태다.',\n",
       "       \"] 초고속 데이터 처리가 가능한 삼성전자의 30테라바이트(TB) SSD인 '30.72TB SAS SSD(사진)'가 '2019 대한민국 ImpaCT-ech(임팩테크) 대상'(옛 대한민국 멀티미디어기술대상)에서 대통령상을 차지했다.\",\n",
       "       '] 한국인터넷진흥원(KISA)이 올해 안에 전국 지하철 역사 내부의 와이파이(Wi-Fi) 위치정보를 민간에 개방한다. 이를 통해 스타트업(신생 벤처기업) 등 민간 기업의 위치기반 사업모델을 육성한다는 계획이다.',\n",
       "       '] 지난주 상하이증시는 주말을 앞두고 2거래일 연속 상승하며 1년 만에 최고치를 기록했다. 마지막 거래일인 4일 상하이종합지수는 전날보다 0.94% 오른 3246.57에 마감했다. 주간 기준으로 상하이지수는 2.40% 상승했다. 미·중 무역협상이 새로운 진전을 이뤘다는 소식이 전해지고, 중국의 제조업 경기 지표가 호조를 보인 게 투자심리 개선에 영향을 미쳤다는 분석이다.',\n",
       "       '] 뉴욕증시의 1분기 실적 시즌이 시작된다. 미국 중앙은행(Fed)의 3월 연방공개시장위원회(FOMC) 의사록도 공개된다.',\n",
       "       '] 글로벌 경기 둔화 우려가 커지고, 미국 등 주요국 금리 인하 기대가 확산되면서 채권형 펀드에 자금이 몰리고 있다.',\n",
       "       '[ 김보라 기자 ] 본죽을 운영하는 본아이에프 연간 매출이 2000억원을 돌파했다. 최저임금 인상, 가정간편식(HMR) 공세, 각종 식재료 가격 상승 프랜차이즈업계를 덮친 악재 속에 거둔 성과다. 2002년 9월 대학로에서 5000만원짜리 가게로 시작한 죽집은 \"아픈 사람이 먹는 죽이 돈이 되겠냐\"는 고정관념을 깨고 종합식품기업으로 성장하고 있다.',\n",
       "       '] 현대·기아자동차가 올 1분기 미국 스포츠유틸리티차량(SUV) 시장에서 7년 만에 가장 높은 점유율을 기록했다. 텔루라이드, 투싼, 싼타페, 코나 등 주요 모델이 고르게 잘 팔린 영향으로 분석된다.',\n",
       "       \"[ 김재후 기자 ] 오뚜기가 올여름 시장을 겨냥해 미역을 넣은 비빔면을 내놓는다. 소고기미역국라면에 이은 '미역라면 2탄'이다. 농심도 다음주 미역듬뿍초장비빔면(사진)을 판매할 예정이다. 올여름 비빔면 시장을 놓고 라면업계 1·2위가 미역을 앞세운 제품으로 경쟁하게 됐다.\",\n",
       "       '[ 강영연 기자 ] 지난달 미국 장·단기 국채금리 역전으로 촉발된 \\'R(recession·경기침체)의 공포\\'에 짓눌렸던 증시가 이달 들어 반등하고 있다. 외국인 투자자는 4월 들어 1조원어치 넘는 한국 주식을 사들였다. 코스피지수가 6거래일 연속 상승하면서 증권업계에선 \"지난 1월에 이어 2차 랠리가 이어질 것\"이란 기대까지 나온다.',\n",
       "       '] SK텔레콤이 가수 싸이(본명 박재상·사진)가 설립한 연예기획사 피네이션(P NATION)에 50억원을 투자했다. 5세대(5G) 이동통신 사업 역량을 강화하기 위한 콘텐츠 확보 차원이란 분석이다.',\n",
       "       \"] 올 들어 국내 증시가 반등했지만 '개미' 투자자의 주식투자 '성적표'는 초라한 것으로 나타났다.\",\n",
       "       '] 액정표시장치(LCD) 업황 부진에 유가증권시장에서 추락을 거듭하던 LG디스플레이가 최근 회복세를 보여 눈길을 끌고 있다. LCD 패널 가격 하락세가 잦아든 데다 미래 먹거리인 유기발광다이오드(OLED) 사업의 성장성이 부각된 점이 투자심리 개선으로 이어졌다는 분석이다.',\n",
       "       \"블랙핑크의 '킬 디스 러브'가 전세계 유튜브 사상 최단 기록으로 뮤직비디오 1억뷰를 돌파하는 영광을 안았다.\",\n",
       "       \"오늘 7일(일) 오후 4시 30분 방송되는 tvN 일요예능 '미쓰 코리아' 3회에서는 前주한미국대사 마크 리퍼트와의 마지막 이야기와 조니 맥도웰과의 첫 만남이 그려지며 웃음과 감동을 선사한다.\",\n",
       "       \"'호구의 연애'에서 양세찬이 자신을 배신해 복수를 꿈꿨던 지윤미와 함께 일출을 구경했다.\",\n",
       "       \"'구해줘 홈즈' 씨스타 출신 배우 윤보라가 화장실도 화보 촬영장으로 만드는 눈부신 미모를 자랑했다.\",\n",
       "       \"오는 8일 밤 KBS 2TV '대국민 토크쇼 안녕하세요'에서는 시청자들의 침샘을 무한 자극할 폭풍 먹방이 펼쳐진다.\",\n",
       "       '] 키움증권은 8일 LG전자에 대해 \"글로벌 경기 둔화 우려 속에서 가전 매출 호조로 시장 기대치를 상회하는 호실적을 거뒀다\"며 목표주가 11만원, 투자의견 \\'매수\\'를 제시했다.',\n",
       "       '대신증권은 8일 삼성전자에 대해 2분기에도 실적 부진이 지속될 것이라고 내다봤다. 투자의견 매수와 목표주가 5만원을 유지했다.',\n",
       "       '모바일커머스 티몬(대표 이재후)이 8일 티몬데이를 통해 1000여종의 파격특가 상품을 선보인다. 특히 이 가운데 수량 999개 이상 준비한 딜이 649개로 언제 티몬에 접속하더라도 파격적인 할인의 타임특가 상품을 만나볼 수 있도록 강화했다는 게 티몬측 설명이다.',\n",
       "       '대신증권은 8일 LG전자에 대해 1분기 실적이 시장예상치를 웃돌았다며 목표주가를 8만5000원에서 9만원으로 상향 조정했다. 투자의견은 매수를 유지했다.',\n",
       "       '하나금융투자는 8일 은행주에 대해 글로벌 경제지표에 초점을 맞추면 안도랠리가 지속될 가능성이 높다고 분석했다.',\n",
       "       \"이베스트투자증권은 8일 이마트에 대해 '정용진 부회장의 지분 매수는 긍정적'이라고 평가했다. 투자의견 '매수'와 목표주가 23만5000원은 유지했다.\",\n",
       "       '우리카드가 고객 패널 제도를 운영 중인 전업 신용카드사 중 가장 적은 활동비를 제공하는 것으로 확인됐다. 우리카드의 활동비는 업계 평균의 3분의 1 수준에 그쳤다.',\n",
       "       '] 리서치알음은 8일 휴니드에 대해 방위산업에 더해 3D 프린팅 사업 진출로 본격적인 성장이 예상된다며 적정주가 1만2500원을 제시했다. 현재 주가보다 38.1%의 상승여력이 있다고 봤다.',\n",
       "       '한국전기연구원(KERI·원장 최규하)이 최근 발표한 브랜드평판 조사에서 기타공공기관 전체 16위, 과학기술정보통신부 산하 연구기관 중 1위를 차지했다.',\n",
       "       \"올 4월부터 주 52시간 근무제가 본격 시행되면서 제이니스의 PC오프 프로그램 '엠오피스(MOffice)'에 관심이 증가했다.\",\n",
       "       \"] 한국의 인구가 기존 전망보다 더 빨리 줄어든다. 출생아보다 사망자가 더 많아지는 인구 '자연 감소'는 올해부터 시작된다. 국내에 사는 외국인까지 더한 총인구도 이르면 내년부터 줄어든다. 통계청이 지난달 28일 발표한 '장래인구특별추계(2017~2067년)' 결과다.\",\n",
       "       '그룹 방탄소년단이 세계적인 가수 할시(Halsey)와 컬래버레이션한 타이틀 곡 티저를 전격 공개했다.',\n",
       "       \"업무량 몰릴 때는 초과근무하고 업무량 줄면 근로자들 쉬도록 해 '평균'을 법정노동시간에 맞추는 제도\",\n",
       "       '한국 골프의 희망 김시우(24)가 약 2년 만의 미국프로골프(PGA)투어 대회 우승에 도전했으나 뒷심 부족으로 공동 4위에 만족해야 했다.',\n",
       "       \"MBC '신나는 로맨스-호구의 연애'가 제주도에서 두 번째 여행을 시작하면서 더 큰 관심과 호응을 얻고 있다.\",\n",
       "       '조양호 한진그룹 회장(사진·70)이 8일 새벽(한국시간) 미국 로스앤젤레스(LA) 병원에서 별세했다.',\n",
       "       \"지난해 '9·13 부동산 대책' 이후 서울과 수도권 집값이 힘을 쓰지 못하고 있다. 바닥이 멀었다는 분석과 반등 신호가 보이고 있다는 의견이 대립하고 있다.\",\n",
       "       '그룹 방탄소년단의 신곡에 피처링으로 나서는 팝스타 할시(Halsey)에 대한 관심이 뜨겁다.',\n",
       "       '고진영(24)이 미국여자프로골프(LPGA)투어 시즌 첫 메이저대회 ANA 인스퍼레이션(총상금 300만달러) 정상에 우뚝섰다. 미국 진출 2년차만에 거둔 성과다.',\n",
       "       '비트코인 시세가 지난 2일 500만원대 돌파에 이어 6일 만인 8일 오전 600만원도 넘었다.',\n",
       "       '대구시는 경북대학교 테크노파크(단장 공성호)와 대구창조경제혁신센터(센터장 연규황)가「2019년 창업도약패키지 지원사업」주관기관에 최종 선정되었다고 8일 밝혔다.',\n",
       "       '황교안 자유한국당 대표는 8일 \"현 정부가 포기한 경제를 살리고 안보를 튼튼히 지키자는 막중한 책임감을 품고 민생 대장정에 나설 것\"이라고 밝혔다.',\n",
       "       '고(故) 조양호 한진그룹 회장이 8일 별세하면서 관련 형사재판 등이 즉시 중단될 전망이다. 장례 일정 등을 이유로 부인 이명희 씨와 딸 조현아 전 대한항공 부사장의 재판도 모두 연기될 것으로 보인다.',\n",
       "       \"주한 핀란드 무역대표부가 '핀란드데이'를 오는 11일부터 13일까지 동대문 디자인플라자(DDP) 알림 2관에서 개최한다. 이번 행사는 핀란드의 모든 것을 한자리에서 경험할 수 있도록 기획한 것이다.\",\n",
       "       \"한국생물공학회(회장 이희찬)는 '2019 한국생물공학회 춘계학술발표대회·국제심포지엄'이 오는 10일부터 12일까지 제주 메종글래드호텔에서 열린다고 8일 밝혔다.\",\n",
       "       '산림청은 4~11월까지 국립산림치유원과 치유의 숲 등 전국 22개 산림치유시설에서 임신 16주~32주 사이의 임신부 또는 임신부부를 대상으로 숲태교 서비스를 제공한다고 8일 발표했다.',\n",
       "       \"SBS '런닝맨'이 압도적인 '2049 시청률' 동시간대 1위는 물론 실시간 검색어까지 장악하며 시청자들의 눈길을 끌었다.\",\n",
       "       '조양호 회장(사진)의 별세로 한진그룹의 경영권 분쟁 가능성이 재차 발생할 것이란 분석이 나왔다.',\n",
       "       '[ 오경묵 기자 ] 부동산 개발 및 공급회사 (주)범창설계기술공사(이하 범창 B.I.D)는 품질경영시스템인증서인 ISO 9001과 환경경영시스템인증서인 ISO 14001을 받았다고 4일 밝혔다.',\n",
       "       '지난달 27일 정기주주총회에서 조양호 한진그룹 회장이 대한항공 사내이사직에서 내려오면서 시작된 조원태 사장 체제로의 전환이 한층 급해졌다. 조 회장이 8일 숙환으로 별세하면서다.',\n",
       "       \"부산지역을 본사로 둔 여신전문 금융회사인 BNK캐피탈이 'BNK 썸 여자프로농구단' 창단을 공식 발표했다.21년 역사의 여자프로농구 사상 처음으로 영남지역에 연고를 둔 여자프로농구단이 탄생했다. BNK캐피탈은 8일 부산시청 26층 회의실에서 오거돈 부산시장과 김지완 BNK금융그룹 회장, 이두호 BNK캐피탈 대표,유영주 BNK 썸 여자농구단 감독 등 관계자들이 참석한 가운데 농구단 창단 기자회견을 갖고 구단 명칭과 연고지,신임 감독 및 코칭 스텝 등을 발표했다. 창단식은 선수단이 마무리되는 6월 열 계획이다. BNK 썸 여자프로농구단은 지난해 한국여자농구연맹(WKBL)이 위탁 운영한 'OK저축은행 농구단'을 BNK캐피탈이 인수하는 형태로 창단됐다. 농구단 명칭인 '썸'(SUM)은 BNK금융 계열사인 부산은행 모바일 뱅킹 '썸뱅크'에서 따왔다. '썸'은 Simple, Useful, Mobile의 줄임말로 간편하고 사용하기 편한 모바일 금융이란 의미를 가진다. 신생 구단으로서 농구 팬들과 '썸'을 타며 여자농구의 붐을 일으키겠다는 중의적인 의미도 담았다. 연고지는 부산이며 부산시의 전폭적인 지원으로 홈구장을 금정실내체육관으로 할 예정이다.BNK캐피탈은 기장군 BNK그룹 연수원에 연습시설도 조성하기로 했다.\",\n",
       "       '조양호 한진그룹 회장(사진)의 별세로 한진칼 지분이 유족에게 넘어갈 것으로 예상된다. 다만 상속세 납부 여부에 따라 경영권 다툼이 일어날 가능성도 배제할 수 없다는 분석이 나온다.',\n",
       "       'GS건설은 2분기(4~6월)에 5개 단지에서 5459가구를 공급한다고 8일 밝혔다. 조합원·임대분 등을 제외하고 일반에는 2356가구가 분양된다.',\n",
       "       \"OCN 새 오리지널 'WATCHER(왓쳐)'에 한석규, 서강준, 김현주가 출연을 확정 지었다.\",\n",
       "       '아이즈원(IZ*ONE)이 역대 걸그룹 앨범 초동 판매량 신기록을 달성하는 기염을 토했다.',\n",
       "       \"셀트리온이 바이오시밀러(바이오의약품 복제약)보다 한단계 위인 '항체-약물 결합 치료제'(ADC·Antibody Drug Conjugate) 개발에 나선다. 항체의약품 복제와 생산 기술력을 바탕으로 바이오 신약 분야까지 도전하고 있다.\",\n",
       "       '서울에서도 인공지능(AI)·클라우드 등 신기술을 활용한 디지털 전환(DT·Digital Transformation)에 성공한 해외 기업들의 사례를 접할 수 있게 됐다.',\n",
       "       'KB금융그룹은 강원도 산불 피해 지역 주민들을 위해 전국재해구호협회를 통해 성금 5억원을 기부한다고 8일 밝혔다.',\n",
       "       '그룹 아이즈원(IZ*ONE)이 역대 걸그룹 앨범 초동 판매량 신기록을 달성하는 기염을 토했다.',\n",
       "       \"파미셀은 항암면역세포치료제 '셀그램-디씨'의 임상 1상을 2021년 종료하는 것을 목표로 보건복지부에서 시행하는 '첨단의료기술개발사업' 2단계에 진입한다고 8일 밝혔다.\",\n",
       "       'DGIST(총장 국양)는 8일 연구행정동 국제회의장에서 비정규직 연구직 및 행정·기술직에 대한 정규직 전환 신규 임용식을 개최했다고 밝혔다.',\n",
       "       \"NH투자증권은 주 52시간 근로제 도입에 따른 새로운 업무 문화 정착을 위해 8일 오전 여의도 본사 사옥에서 'NH Smart Work 333' 캠페인을 진행했다.\",\n",
       "       \"금융당국과 카드업계 간 갈등이 해소될 기미가 보이지 않고 있다. 카드 경쟁력 강화 방안 발표를 앞두고 카드노조원들이 총파업결의대회에 참석해 '생존권 사수'를 외쳤다.\",\n",
       "       \"경기도와 인천광역시, 강원도 등 접경지역 3개 시도와 국가균형발전위원회가 합리적이고 종합적인 접경지 '균형발전 정책 및 사업과제' 도출을 위한 공동 연구를 추진하기로 합의했다.\",\n",
       "       '고동진 삼성전자 IM부문장(사장)이 갤럭시S10 구매자에게 감사의 뜻을 담은 메일을 보냈다.',\n",
       "       '8일 염태영(앞줄 왼쪽에서 두 번째) 수원시장이 기획재정부 앞에서 수원시민들과 함께 신분당선 연장사업의 조속한 착공을 촉구하는 집회를 진행하고 있다.',\n",
       "       '조명균 통일부 장관(사진)이 8일 21개월의 임기를 마친 소회 쓴 손편지를 통일부 전 직원들에게 메일로 보냈다. 조 장관은 \"2017년 깜깜한 상황에서부터 유난히 추웠지만 그만큼 뜨거웠던 평창, 그 후의 남북관계와 북한 비핵화 과정을 거쳐오면서 여러분과 함께라서 희망을 놓지 않고 헤쳐올 수 있었다\"고 밝혔다. 그는 \"저는 요즘 초심을 잃지 말자고 자주 생각한다. 지금 남북관계가 일시 주춤거리고 있습니다만, 2017년부터 지난해 초까지 가졌던 간절한 마음을 다시 생각해 보는 것\"이라며 \"여러분도 평화와 협력으로 가는 목표와 희망, 통일업무를 하는 자부심과 준비하는 자세를 늘 살펴보셨으면 한다\"고 조언했다.',\n",
       "       \"경기 성남시는 오는 13일부터 11월 30일까지 시티투어 '도시樂(락) 버스'를 62회 운행한다고 8일 발표했다. 시티투어 버스에는 문화관광해설사가 동행해 코스별로 다양한 주제의 해설을 통해 관광객들에게 줄거움도 선사한다.\",\n",
       "       '가수 미교가 소속사 제이지스타와 전속계약 분쟁 중에 있다. 양측은 계약해지 여부를 두고 서로 다른 주장을 하며 첨예하게 대립하고 있다.',\n",
       "       '안성시 등 남부지역 6개 지방자치단체가 시청 대외협력실에서 미세먼지 공동 협의체를 구성했다고 8일 발표했다. 공동 협의체 구성은 미세먼지 저감에 공동 대응하기 위해서다.',\n",
       "       'KIS(Korea International School) Jeju 고등학교가 꾸준하게 미국과 영국 대학 상위권 합격 소식을 전하고 있어 눈길을 끈다.',\n",
       "       \"영화 '기생충'으로 봉준호 감독이 칸 레드카펫을 다시 한 번 밟을 수 있을지 이목이 집중된다.\",\n",
       "       '인천경제산업정보테크노파크의 법인명이 인천테크노파크(인천TP)로 변경된다. 인천TP는 지난달 29일 이사회를 통해 의결한 법인 명칭 변경(안)과 조직개편(안) 등 정관변경이 최근 중소벤처기업부로부터 승인을 얻었다고 8일 발표했다.',\n",
       "       '故(고) 장자연의 성 접대 강요 사건의 증언자인 배우 윤지오가 사건 해결을 위한 관심을 당부했다.',\n",
       "       '인공지능(AI) 전문기업 마인즈랩은 173억원 규모의 시리즈C 투자 유치에 성공했다고 8일 밝혔다. 이번 투자유치로 마인즈랩의 누적 투자액은 263억원이 됐다.',\n",
       "       \"[ 김태훈 기자 ] LG유플러스는 5세대(5G) 이동통신 출시에 맞춰 '일상을 바꿉니다'라는 슬로건을 내걸었다. 5G 서비스로 고객의 일상을 바꾸고 나아가 통신시장의 1등까지 바꾸겠다는 의미를 담았다. 지난 1일에는 서울 강남대로에 5G 서비스를 체험할 수 있는 대형 팝업스토어 '일상로 5G길'을 개장했다. 가입자 유치를 위한 요금 경쟁에도 적극 나서고 있다. 지난달 29일 통신 3사 가운데 처음으로 5G 요금제를 공개한 데 이어 지난 4일에는 데이터 완전 무제한 요금제 2종을 내놓았다.\",\n",
       "       \"SK텔레콤은 5세대(5G) 이동통신의 차별화 포인트로 '국내 최고 속도' '최대 커버리지' '세계 최고 보안'을 내세웠다. 이를 통해 '5G 초(超)격차 네트워크'를 만들었다는 설명이다.\",\n",
       "       \"] 건자재기업 에스와이패널이 최근 주주총회를 열고 회사 이름을 에스와이로 변경했다. 건축자재인 '패널'을 사명에서 떼어내면서 건축뿐 아니라 철강 신재생에너지 등 신사업 키우기에 나서고 있다.\",\n",
       "       \"[ 김진수 기자 ] '존경하는 중앙회 회원 여러분, 저는 어제 OO기업을 만나 소상공인의 사회안전망인 노란우산공제 시스템의 안정적인 운영을 위한 IT(정보기술) 지원 협력에 대한 긍정적인 답변을 받았습니다. 강원 산불 피해를 본 노란우산공제 및 공제기금 가입자에게는 대출한도 확대와 금리인하 등의 조치를 시행하였습니다. 필요하신 분은 중앙회 공제운영부 및 강원지역본부(원주센터)를 통해 연락주시기 바랍니다.…(중략)'\",\n",
       "       \"8일 첫 방송되는 MBC '특별근로감독관 조장풍'의 주역 '천덕구'로 분하는 배우 김경남이 첫 방송을 앞두고 본방사수를 응원하는 카리스마 넘치는 대본 인증샷을 공개했다.\",\n",
       "       '기술보증기금(이사장 정윤모,오른쪽)은 연구개발특구진흥재단(이사장 양성광)과 8일 특구재단 회의실에서「공공기술 기반 중소기업의 혁신성장을 위한 상호협력 업무협약」을 체결하고, 연구소기업 및 첨단기술기업 등 공공기술 기반 중소기업의 혁신성장과 일자리 창출을 위해 적극 협력키로 했다.',\n",
       "       '유주현 대한건설협회 회장(사진)은 8일 기자간담회를 열어 \"적자공사가 누적돼 건설산업 기반이 붕괴할지도 모른다는 위기감이 팽배해 있다\"며 이같이 지적했다.',\n",
       "       '] 김현미 국토교통부 장관(사진)이 차기 장관 후보자 낙마로 흔들린 조직을 다독이며 심기일전을 다짐했다. 그는 \"문재인 정부 국토부의 \\'시즌2\\'가 시작됐다\"며 자신을 \"이 정부의 두 번째 국토부 장관\"이라고 소개했다. 김 장관은 또 \"하나의 팀을 이뤄 지금까지 그랬듯이 함께 헤쳐나가자\"고 강조했다.',\n",
       "       \"1975년 배우 김혜자가 CJ제일제당 다시다 광고 모델로 활동하면서 남긴 유행어다. 김혜자 씨는 27년간 다시다 모델로 활약했다. 최장수 TV 광고 모델로 한국 기네스북에 오르기도 했다. 전통적으로 식품업계는 광고 모델로 여성을 많이 썼다. '엄마'나 '아내'의 캐릭터를 보여줘야 했기 때문이다.\",\n",
       "       '[ 임유 기자 ] \"파리 유충에서 발견한 물질인 알로페론을 변형한 알로스타틴으로 면역항암제를 개발하고 있습니다. 김선진 고문 등 미국 MD앤더슨 암센터 출신의 뛰어난 연구자들이 관심을 갖고 합류할 정도로 유망한 신약 후보물질(파이프라인)이죠.\"',\n",
       "       '] 고동진 삼성전자 IM(IT모바일)부문장(사장·사진)이 8일 세계 갤럭시S10 스마트폰 구매자에게 자신 명의의 감사 이메일을 보냈다.',\n",
       "       '] 중국의 한국 브랜드 베끼기가 의료계까지 이어졌다. 중국의 한 미용병원이 한국의 비만병원 브랜드를 무단 도용해 법정에 서게 됐다.',\n",
       "       '지난달 대구의 아파트 전셋값 상승률이 전국 1위를 기록했다. 건설회사들이 정비사업에 속도를 내면서 이주 수요가 한꺼번에 몰린 반면 입주 물량은 부족해진 탓이다.',\n",
       "       \"취업준비생 A씨는 서울 독산동 '산업문화 어울림센터'에 다닌다. 의류 디자이너를 꿈꾸는 그는 디자인 교육을 받고 실습을 한다. 저녁에는 친구와 우시장에서 식사한 뒤 '독산 어울림길'을 산책한다. 지역 전통 산업인 봉제업을 활성화하는 도시재생 뉴딜사업이 완료되는 2023년 독산동 우시장 일대 모습이다.\",\n",
       "       '] 제약·바이오업계의 화두인 마이크로바이옴을 이용한 화장품이 나왔다. 화장품 연구·개발·생산(ODM) 회사 코스맥스는 항노화 마이크로바이옴을 활용한 화장품을 개발했다고 8일 밝혔다. 마이크로바이옴은 인체에 서식하는 미생물(microbe)과 생태계(biome)를 합친 말로 사람 몸속에 공존하는 미생물과 그 유전정보를 말한다. 최근에는 마이크로바이옴을 이용한 당뇨, 비만, 아토피 치료제, 항암제 개발이 활발히 이뤄지고 있다. 마이크로바이옴을 활용한 화장품은 이번이 세계 최초다. 한국콜마가 지난달 세계 최초의 3D 프린팅 화장품을 선보인 데 이어 코스맥스가 마이크로바이옴 화장품을 내놓으면서 한국 ODM 회사들이 화장품업계 혁신을 주도하고 있다는 평가다.',\n",
       "       \"] 셀트리온이 바이오벤처와 손잡고 바이오시밀러(바이오의약품 복제약)보다 한 단계 발전한 '항체·약물 결합 치료제'(ADC) 개발에 나선다.\",\n",
       "       '] 이마트에서 막걸리 매출이 크게 늘고 있다. 20~30대 젊은 층이 막걸리를 찾기 시작한 데 따른 것이다.',\n",
       "       \"[ 고재연 기자 ] LS전선 해외영업팀은 최근 해외 수주에 '비상'이 걸렸다. 해외 전력공사들이 자국 산업을 보호하기 위해 잇따라 '무역 장벽'을 높이고 있어서다. 독일 이탈리아 등 유럽 주요 국가는 물론 알제리 모로코 등 아프리카 국가까지 모든 입찰 서류를 자국어로 제출하도록 하고 있다. 케이블에 문제가 생기면 '24시간 이내 긴급 복구가 가능해야 한다'는 조건도 달았다. 국가 안보와도 직결되는 전력산업을 보호하기 위해 외국 정부가 어떤 노력을 하고 있는지 단적으로 보여주는 대목이다.\",\n",
       "       '[ 김남영 기자 ] \"승차공유 플랫폼이 활성화돼야 자율주행자동차 시대를 대비할 수 있습니다.\"',\n",
       "       '[ 성수영 기자 ] 홍남기 부총리 겸 기획재정부 장관은 8일 정부세종청사 법제처 대회의실에서 대외경제장관회의를 주재했다. 부총리 주재 주요 회의가 정부서울청사가 아니라 세종청사에서 열린 것은 현 정부 들어 처음이다.',\n",
       "       \"] 네이버 쇼핑몰 '네이버스토어'의 판매자가 판매대금을 미리 받을 수 있는 프로그램이 8일 도입됐다.\",\n",
       "       \"] 개인방송 플랫폼 서비스 업체 아프리카TV가 1분기 실적 개선 기대에 코스닥시장에서 상승세를 타고 있다. '별풍선' 등 아이템 매출이 늘고 있는 가운데 e스포츠 성장으로 게임방송 관련 광고 매출이 크게 증가할 것이란 관측이 나온다.\",\n",
       "       '] 충남 아산의 옛 장항선 철도가 신재생에너지를 생산하는 친환경 스포츠 공간으로 새롭게 변모했다. 아산시는 10년 전 운행이 중단된 장항선 부지에 태양광 발전시설을 갖춘 자전거·보행자 도로를 완공했다고 8일 발표했다. 폐철도를 발전시설과 스포츠 공간으로 활용한 전국 첫 사례다.',\n",
       "       '] 렌털 사업을 하는 AJ그룹의 지주회사인 AJ네트웍스 주가가 이달 들어 20% 넘게 올랐다. 여러 불확실성을 고려해도 주가가 너무 싸다는 분석에 힘입은 것이다.',\n",
       "       '김광수 농협금융지주 회장은 8일 \"인공지능(AI), 클라우드 등 신기술을 활용한 혁신적인 사업 모델을 발굴해 업무 현장에 과감히 적용하겠다\"고 말했다.',\n",
       "       '] 충청남도는 지난 4일 전국에서 처음으로 고농도 미세먼지 저감을 위한 실전훈련을 했다. 도는 초미세먼지(PM2.5)가 나쁨 단계(36~75㎍/㎥)인 50㎍/㎥로 예측되자 이날 오전 6시부터 오후 6시까지 비상저감 조치를 발령했다. 도는 서해안 복선 전철 공사를 중단하고, 보령·아산 생활폐기물처리장 등 공공사업장의 소각량을 30% 감축했다. 당진·태안·보령·서천에 밀집한 석탄화력발전 30기도 정격용량의 80%로 가동률을 낮췄다. 보령·태안·당진 발전소는 살수차 5대와 분진흡입차 3대를 시·군에 긴급 투입했다. 빈준수 도 미세먼지관리팀장은 \"비상저감 조치에 대응하기 위해 실전처럼 훈련에 임했다\"며 \"문제점을 보완해 미세먼지를 줄이는 효과를 체감할 수 있는 대책을 마련하겠다\"고 말했다.',\n",
       "       \"KCGI는 지분 늘려 13.47%로 국민연금과 합치면 20% 넘어 '백기사' 확보 등 경영권방어 비상\",\n",
       "       '[ 노유정 기자 ] 조양호 한진그룹 회장의 갑작스런 타계 소식이 전해진 8일 오전, 서울 공항동 대한항공 본사 앞에는 조 회장 별세를 애도하는 조기가 내걸렸다. 임직원들은 월요일 출근하자마자 미국에서 날아든 비보에 술렁이면서 조 회장의 별세에 안타까움을 표했다. 직원 서너 명은 본사 벽과 맞은편 길목에 걸려 있던 \\'노동조합 창립 54주년 및 대한항공 창립 50주년\\' 기념행사 현수막도 떼어냈다. 한 직원은 침통한 표정으로 \"행사를 취소하는 건 아니고 회장님 장례절차가 마무리되고 나중에 다시 걸려고 한다\"고 말했다.',\n",
       "       '[ 김익환 기자 ] 조양호 한진그룹 회장이 타계하면서 그의 재산을 물려받을 장남 조원태 대한항공 사장 등 유가족이 납부할 상속세 규모가 2000억원을 웃돌 것으로 분석된다. 증권업계에서는 조 사장이 조 회장의 한진칼 지분을 상속받는 형태로 그룹 경영권을 승계할 것이라는 관측이 많다.',\n",
       "       \"[ 김보형 기자 ] 조양호 한진그룹 회장이 8일 타계하면서 그의 장남인 조원태 대한항공 사장(44)의 '3세 경영'이 본격화할 전망이다. 조 회장도 부친이자 그룹 창업주인 조중훈 회장이 2002년 별세한 다음해인 2003년 그룹 회장에 올랐다. 하지만 취약한 지배구조와 행동주의 펀드의 경영권 공격 등을 감안하면 조 사장의 경영 승계가 순탄치 않을 것이란 전망도 나온다. 공정거래위원회는 다음달 1일 '2019년 자산 5조원 이상 대기업집단 지정 현황'을 발표하면서 한진그룹의 동일인(총수·현 조양호)을 변경할 방침이다.\",\n",
       "       \"[ 박동휘 기자 ] 국방부가 8일 상반기 군 장성 인사를 단행했다. 한국군 주도의 한·미 연합작전 수행능력을 증명하기 위한 첫 단추라는 게 군 전문가들 해석이다. 신임 육군참모총장에는 육군 내 작전 분야 요직을 두루 거친 서욱 합동참모본부 작전본부장(56·육사 41기)이 내정됐다. 합참차장에서 승진한 원인철 신임 공군참모총장 내정자(58·공사 32기)도 '공중 작전통'으로 평가받는다.\"],\n",
       "      dtype=object)"
      ]
     },
     "metadata": {},
     "execution_count": 28
    }
   ],
   "metadata": {}
  },
  {
   "cell_type": "code",
   "execution_count": 12,
   "source": [
    "func = (lambda x : x)"
   ],
   "outputs": [],
   "metadata": {}
  },
  {
   "cell_type": "code",
   "execution_count": 13,
   "source": [
    "func(\"asd\")"
   ],
   "outputs": [
    {
     "output_type": "execute_result",
     "data": {
      "text/plain": [
       "'asd'"
      ]
     },
     "metadata": {},
     "execution_count": 13
    }
   ],
   "metadata": {}
  },
  {
   "cell_type": "code",
   "execution_count": null,
   "source": [],
   "outputs": [],
   "metadata": {}
  },
  {
   "cell_type": "code",
   "execution_count": 33,
   "source": [
    "\n",
    "\n",
    "df = train_data['text'][271000:]\n",
    "func = kss_split_sent\n",
    "# func = (lambda x : 1)\n",
    "\n",
    "n_workers = get_n_workers(13, data_len=len(df))\n",
    "\n",
    "df_split = np.array_split(df, n_workers)\n",
    "pool = mp.Pool(n_workers)\n",
    "\n",
    "func = functools.partial(\n",
    "    apply_df_by_row,\n",
    "    func=func,\n",
    ")\n",
    "\n",
    "pool.map(func, df_split)\n",
    "# result_df = pd.concat(pool.map(func, df_split))\n",
    "# pool.close()\n",
    "# pool.join()"
   ],
   "outputs": [
    {
     "output_type": "error",
     "ename": "AssertionError",
     "evalue": "daemonic processes are not allowed to have children",
     "traceback": [
      "\u001b[0;31m---------------------------------------------------------------------------\u001b[0m",
      "\u001b[0;31mRemoteTraceback\u001b[0m                           Traceback (most recent call last)",
      "\u001b[0;31mRemoteTraceback\u001b[0m: \n\"\"\"\nTraceback (most recent call last):\n  File \"/home/link/miniconda3/envs/kobertsum/lib/python3.8/multiprocessing/pool.py\", line 125, in worker\n    result = (True, func(*args, **kwds))\n  File \"/home/link/miniconda3/envs/kobertsum/lib/python3.8/multiprocessing/pool.py\", line 48, in mapstar\n    return list(map(*args))\n  File \"<ipython-input-31-aad50168a86f>\", line 25, in apply_df_by_row\n    df = df.apply(lambda row: func(row))\n  File \"/home/link/miniconda3/envs/kobertsum/lib/python3.8/site-packages/pandas/core/series.py\", line 4138, in apply\n    mapped = lib.map_infer(values, f, convert=convert_dtype)\n  File \"pandas/_libs/lib.pyx\", line 2467, in pandas._libs.lib.map_infer\n  File \"<ipython-input-31-aad50168a86f>\", line 25, in <lambda>\n    df = df.apply(lambda row: func(row))\n  File \"/home/link/miniconda3/envs/kobertsum/lib/python3.8/site-packages/kss/kss.py\", line 112, in split_sentences\n    for input_text in pool.map(build_preprocessed_list, _text):\n  File \"/home/link/miniconda3/envs/kobertsum/lib/python3.8/concurrent/futures/process.py\", line 674, in map\n    results = super().map(partial(_process_chunk, fn),\n  File \"/home/link/miniconda3/envs/kobertsum/lib/python3.8/concurrent/futures/_base.py\", line 608, in map\n    fs = [self.submit(fn, *args) for args in zip(*iterables)]\n  File \"/home/link/miniconda3/envs/kobertsum/lib/python3.8/concurrent/futures/_base.py\", line 608, in <listcomp>\n    fs = [self.submit(fn, *args) for args in zip(*iterables)]\n  File \"/home/link/miniconda3/envs/kobertsum/lib/python3.8/concurrent/futures/process.py\", line 645, in submit\n    self._start_queue_management_thread()\n  File \"/home/link/miniconda3/envs/kobertsum/lib/python3.8/concurrent/futures/process.py\", line 584, in _start_queue_management_thread\n    self._adjust_process_count()\n  File \"/home/link/miniconda3/envs/kobertsum/lib/python3.8/concurrent/futures/process.py\", line 608, in _adjust_process_count\n    p.start()\n  File \"/home/link/miniconda3/envs/kobertsum/lib/python3.8/multiprocessing/process.py\", line 118, in start\n    assert not _current_process._config.get('daemon'), \\\nAssertionError: daemonic processes are not allowed to have children\n\"\"\"",
      "\nThe above exception was the direct cause of the following exception:\n",
      "\u001b[0;31mAssertionError\u001b[0m                            Traceback (most recent call last)",
      "\u001b[0;32m<ipython-input-33-3630e77c20b9>\u001b[0m in \u001b[0;36m<module>\u001b[0;34m\u001b[0m\n\u001b[1;32m     13\u001b[0m )\n\u001b[1;32m     14\u001b[0m \u001b[0;34m\u001b[0m\u001b[0m\n\u001b[0;32m---> 15\u001b[0;31m \u001b[0mpool\u001b[0m\u001b[0;34m.\u001b[0m\u001b[0mmap\u001b[0m\u001b[0;34m(\u001b[0m\u001b[0mfunc\u001b[0m\u001b[0;34m,\u001b[0m \u001b[0mdf_split\u001b[0m\u001b[0;34m)\u001b[0m\u001b[0;34m\u001b[0m\u001b[0;34m\u001b[0m\u001b[0m\n\u001b[0m\u001b[1;32m     16\u001b[0m \u001b[0;31m# result_df = pd.concat(pool.map(func, df_split))\u001b[0m\u001b[0;34m\u001b[0m\u001b[0;34m\u001b[0m\u001b[0;34m\u001b[0m\u001b[0m\n\u001b[1;32m     17\u001b[0m \u001b[0;31m# pool.close()\u001b[0m\u001b[0;34m\u001b[0m\u001b[0;34m\u001b[0m\u001b[0;34m\u001b[0m\u001b[0m\n",
      "\u001b[0;32m~/miniconda3/envs/kobertsum/lib/python3.8/multiprocessing/pool.py\u001b[0m in \u001b[0;36mmap\u001b[0;34m(self, func, iterable, chunksize)\u001b[0m\n\u001b[1;32m    362\u001b[0m         \u001b[0;32min\u001b[0m \u001b[0ma\u001b[0m \u001b[0mlist\u001b[0m \u001b[0mthat\u001b[0m \u001b[0;32mis\u001b[0m \u001b[0mreturned\u001b[0m\u001b[0;34m.\u001b[0m\u001b[0;34m\u001b[0m\u001b[0;34m\u001b[0m\u001b[0m\n\u001b[1;32m    363\u001b[0m         '''\n\u001b[0;32m--> 364\u001b[0;31m         \u001b[0;32mreturn\u001b[0m \u001b[0mself\u001b[0m\u001b[0;34m.\u001b[0m\u001b[0m_map_async\u001b[0m\u001b[0;34m(\u001b[0m\u001b[0mfunc\u001b[0m\u001b[0;34m,\u001b[0m \u001b[0miterable\u001b[0m\u001b[0;34m,\u001b[0m \u001b[0mmapstar\u001b[0m\u001b[0;34m,\u001b[0m \u001b[0mchunksize\u001b[0m\u001b[0;34m)\u001b[0m\u001b[0;34m.\u001b[0m\u001b[0mget\u001b[0m\u001b[0;34m(\u001b[0m\u001b[0;34m)\u001b[0m\u001b[0;34m\u001b[0m\u001b[0;34m\u001b[0m\u001b[0m\n\u001b[0m\u001b[1;32m    365\u001b[0m \u001b[0;34m\u001b[0m\u001b[0m\n\u001b[1;32m    366\u001b[0m     \u001b[0;32mdef\u001b[0m \u001b[0mstarmap\u001b[0m\u001b[0;34m(\u001b[0m\u001b[0mself\u001b[0m\u001b[0;34m,\u001b[0m \u001b[0mfunc\u001b[0m\u001b[0;34m,\u001b[0m \u001b[0miterable\u001b[0m\u001b[0;34m,\u001b[0m \u001b[0mchunksize\u001b[0m\u001b[0;34m=\u001b[0m\u001b[0;32mNone\u001b[0m\u001b[0;34m)\u001b[0m\u001b[0;34m:\u001b[0m\u001b[0;34m\u001b[0m\u001b[0;34m\u001b[0m\u001b[0m\n",
      "\u001b[0;32m~/miniconda3/envs/kobertsum/lib/python3.8/multiprocessing/pool.py\u001b[0m in \u001b[0;36mget\u001b[0;34m(self, timeout)\u001b[0m\n\u001b[1;32m    769\u001b[0m             \u001b[0;32mreturn\u001b[0m \u001b[0mself\u001b[0m\u001b[0;34m.\u001b[0m\u001b[0m_value\u001b[0m\u001b[0;34m\u001b[0m\u001b[0;34m\u001b[0m\u001b[0m\n\u001b[1;32m    770\u001b[0m         \u001b[0;32melse\u001b[0m\u001b[0;34m:\u001b[0m\u001b[0;34m\u001b[0m\u001b[0;34m\u001b[0m\u001b[0m\n\u001b[0;32m--> 771\u001b[0;31m             \u001b[0;32mraise\u001b[0m \u001b[0mself\u001b[0m\u001b[0;34m.\u001b[0m\u001b[0m_value\u001b[0m\u001b[0;34m\u001b[0m\u001b[0;34m\u001b[0m\u001b[0m\n\u001b[0m\u001b[1;32m    772\u001b[0m \u001b[0;34m\u001b[0m\u001b[0m\n\u001b[1;32m    773\u001b[0m     \u001b[0;32mdef\u001b[0m \u001b[0m_set\u001b[0m\u001b[0;34m(\u001b[0m\u001b[0mself\u001b[0m\u001b[0;34m,\u001b[0m \u001b[0mi\u001b[0m\u001b[0;34m,\u001b[0m \u001b[0mobj\u001b[0m\u001b[0;34m)\u001b[0m\u001b[0;34m:\u001b[0m\u001b[0;34m\u001b[0m\u001b[0;34m\u001b[0m\u001b[0m\n",
      "\u001b[0;31mAssertionError\u001b[0m: daemonic processes are not allowed to have children"
     ]
    }
   ],
   "metadata": {}
  },
  {
   "cell_type": "code",
   "execution_count": 17,
   "source": [
    "# sentence\n",
    "original_sent_counts = train_data['text'][271000:].apply(lambda x: len(kss_split_sent(x)))\n",
    "\n",
    "fig, axs = plt.subplots(1, 2, figsize=(16, 6), gridspec_kw=dict(width_ratios=[4, 3]))\n",
    "sns.histplot(original_sent_counts, binwidth=1, ax=axs[0])\n",
    "sns.boxplot(original_sent_counts, ax=axs[1])"
   ],
   "outputs": [
    {
     "output_type": "stream",
     "name": "stderr",
     "text": [
      "Process ForkProcess-19074:\n",
      "Exception ignored in: <function _releaseLock at 0x7f87c1afc5e0>\n",
      "Traceback (most recent call last):\n",
      "  File \"/home/link/miniconda3/envs/kobertsum/lib/python3.8/logging/__init__.py\", line 227, in _releaseLock\n",
      "    def _releaseLock():\n",
      "KeyboardInterrupt: \n",
      "Process ForkProcess-19076:\n",
      "Process ForkProcess-19075:\n",
      "Process ForkProcess-19073:\n",
      "Traceback (most recent call last):\n",
      "Traceback (most recent call last):\n",
      "Traceback (most recent call last):\n",
      "  File \"/home/link/miniconda3/envs/kobertsum/lib/python3.8/multiprocessing/process.py\", line 315, in _bootstrap\n",
      "    self.run()\n",
      "  File \"/home/link/miniconda3/envs/kobertsum/lib/python3.8/multiprocessing/process.py\", line 315, in _bootstrap\n",
      "    self.run()\n",
      "  File \"/home/link/miniconda3/envs/kobertsum/lib/python3.8/multiprocessing/process.py\", line 315, in _bootstrap\n",
      "    self.run()\n",
      "Traceback (most recent call last):\n",
      "  File \"/home/link/miniconda3/envs/kobertsum/lib/python3.8/multiprocessing/process.py\", line 108, in run\n",
      "    self._target(*self._args, **self._kwargs)\n",
      "  File \"/home/link/miniconda3/envs/kobertsum/lib/python3.8/multiprocessing/process.py\", line 108, in run\n",
      "    self._target(*self._args, **self._kwargs)\n",
      "  File \"/home/link/miniconda3/envs/kobertsum/lib/python3.8/multiprocessing/process.py\", line 108, in run\n",
      "    self._target(*self._args, **self._kwargs)\n",
      "  File \"/home/link/miniconda3/envs/kobertsum/lib/python3.8/multiprocessing/process.py\", line 315, in _bootstrap\n",
      "    self.run()\n",
      "  File \"/home/link/miniconda3/envs/kobertsum/lib/python3.8/concurrent/futures/process.py\", line 233, in _process_worker\n",
      "    call_item = call_queue.get(block=True)\n",
      "  File \"/home/link/miniconda3/envs/kobertsum/lib/python3.8/concurrent/futures/process.py\", line 233, in _process_worker\n",
      "    call_item = call_queue.get(block=True)\n",
      "  File \"/home/link/miniconda3/envs/kobertsum/lib/python3.8/concurrent/futures/process.py\", line 233, in _process_worker\n",
      "    call_item = call_queue.get(block=True)\n",
      "  File \"/home/link/miniconda3/envs/kobertsum/lib/python3.8/multiprocessing/process.py\", line 108, in run\n",
      "    self._target(*self._args, **self._kwargs)\n",
      "  File \"/home/link/miniconda3/envs/kobertsum/lib/python3.8/multiprocessing/queues.py\", line 96, in get\n",
      "    with self._rlock:\n",
      "  File \"/home/link/miniconda3/envs/kobertsum/lib/python3.8/multiprocessing/queues.py\", line 96, in get\n",
      "    with self._rlock:\n",
      "  File \"/home/link/miniconda3/envs/kobertsum/lib/python3.8/concurrent/futures/process.py\", line 233, in _process_worker\n",
      "    call_item = call_queue.get(block=True)\n",
      "  File \"/home/link/miniconda3/envs/kobertsum/lib/python3.8/multiprocessing/queues.py\", line 97, in get\n",
      "    res = self._recv_bytes()\n",
      "  File \"/home/link/miniconda3/envs/kobertsum/lib/python3.8/multiprocessing/queues.py\", line 96, in get\n",
      "    with self._rlock:\n",
      "  File \"/home/link/miniconda3/envs/kobertsum/lib/python3.8/multiprocessing/connection.py\", line 216, in recv_bytes\n",
      "    buf = self._recv_bytes(maxlength)\n",
      "  File \"/home/link/miniconda3/envs/kobertsum/lib/python3.8/multiprocessing/synchronize.py\", line 95, in __enter__\n",
      "    return self._semlock.__enter__()\n",
      "  File \"/home/link/miniconda3/envs/kobertsum/lib/python3.8/multiprocessing/synchronize.py\", line 95, in __enter__\n",
      "    return self._semlock.__enter__()\n",
      "Process ForkProcess-19078:\n",
      "Process ForkProcess-19077:\n",
      "  File \"/home/link/miniconda3/envs/kobertsum/lib/python3.8/multiprocessing/synchronize.py\", line 95, in __enter__\n",
      "    return self._semlock.__enter__()\n",
      "  File \"/home/link/miniconda3/envs/kobertsum/lib/python3.8/multiprocessing/connection.py\", line 414, in _recv_bytes\n",
      "    buf = self._recv(4)\n",
      "KeyboardInterrupt\n",
      "KeyboardInterrupt\n",
      "  File \"/home/link/miniconda3/envs/kobertsum/lib/python3.8/multiprocessing/connection.py\", line 379, in _recv\n",
      "    chunk = read(handle, remaining)\n",
      "KeyboardInterrupt\n",
      "Traceback (most recent call last):\n",
      "KeyboardInterrupt\n",
      "Traceback (most recent call last):\n",
      "  File \"/home/link/miniconda3/envs/kobertsum/lib/python3.8/multiprocessing/process.py\", line 315, in _bootstrap\n",
      "    self.run()\n",
      "  File \"/home/link/miniconda3/envs/kobertsum/lib/python3.8/multiprocessing/process.py\", line 315, in _bootstrap\n",
      "    self.run()\n",
      "  File \"/home/link/miniconda3/envs/kobertsum/lib/python3.8/multiprocessing/process.py\", line 108, in run\n",
      "    self._target(*self._args, **self._kwargs)\n",
      "  File \"/home/link/miniconda3/envs/kobertsum/lib/python3.8/multiprocessing/process.py\", line 108, in run\n",
      "    self._target(*self._args, **self._kwargs)\n",
      "  File \"/home/link/miniconda3/envs/kobertsum/lib/python3.8/concurrent/futures/process.py\", line 233, in _process_worker\n",
      "    call_item = call_queue.get(block=True)\n",
      "  File \"/home/link/miniconda3/envs/kobertsum/lib/python3.8/concurrent/futures/process.py\", line 233, in _process_worker\n",
      "    call_item = call_queue.get(block=True)\n",
      "  File \"/home/link/miniconda3/envs/kobertsum/lib/python3.8/multiprocessing/queues.py\", line 96, in get\n",
      "    with self._rlock:\n",
      "  File \"/home/link/miniconda3/envs/kobertsum/lib/python3.8/multiprocessing/queues.py\", line 96, in get\n",
      "    with self._rlock:\n",
      "  File \"/home/link/miniconda3/envs/kobertsum/lib/python3.8/multiprocessing/synchronize.py\", line 95, in __enter__\n",
      "    return self._semlock.__enter__()\n",
      "  File \"/home/link/miniconda3/envs/kobertsum/lib/python3.8/multiprocessing/synchronize.py\", line 95, in __enter__\n",
      "    return self._semlock.__enter__()\n",
      "KeyboardInterrupt\n",
      "KeyboardInterrupt\n"
     ]
    },
    {
     "output_type": "error",
     "ename": "BrokenProcessPool",
     "evalue": "A process in the process pool was terminated abruptly while the future was running or pending.",
     "traceback": [
      "\u001b[0;31m---------------------------------------------------------------------------\u001b[0m",
      "\u001b[0;31mBrokenProcessPool\u001b[0m                         Traceback (most recent call last)",
      "\u001b[0;32m<ipython-input-17-bb23876c6879>\u001b[0m in \u001b[0;36m<module>\u001b[0;34m\u001b[0m\n\u001b[1;32m      1\u001b[0m \u001b[0;31m# sentence\u001b[0m\u001b[0;34m\u001b[0m\u001b[0;34m\u001b[0m\u001b[0;34m\u001b[0m\u001b[0m\n\u001b[0;32m----> 2\u001b[0;31m \u001b[0moriginal_sent_counts\u001b[0m \u001b[0;34m=\u001b[0m \u001b[0mtrain_data\u001b[0m\u001b[0;34m[\u001b[0m\u001b[0;34m'text'\u001b[0m\u001b[0;34m]\u001b[0m\u001b[0;34m[\u001b[0m\u001b[0;36m271000\u001b[0m\u001b[0;34m:\u001b[0m\u001b[0;34m]\u001b[0m\u001b[0;34m.\u001b[0m\u001b[0mapply\u001b[0m\u001b[0;34m(\u001b[0m\u001b[0;32mlambda\u001b[0m \u001b[0mx\u001b[0m\u001b[0;34m:\u001b[0m \u001b[0mlen\u001b[0m\u001b[0;34m(\u001b[0m\u001b[0mkss_split_sent\u001b[0m\u001b[0;34m(\u001b[0m\u001b[0mx\u001b[0m\u001b[0;34m)\u001b[0m\u001b[0;34m)\u001b[0m\u001b[0;34m)\u001b[0m\u001b[0;34m\u001b[0m\u001b[0;34m\u001b[0m\u001b[0m\n\u001b[0m\u001b[1;32m      3\u001b[0m \u001b[0;34m\u001b[0m\u001b[0m\n\u001b[1;32m      4\u001b[0m \u001b[0mfig\u001b[0m\u001b[0;34m,\u001b[0m \u001b[0maxs\u001b[0m \u001b[0;34m=\u001b[0m \u001b[0mplt\u001b[0m\u001b[0;34m.\u001b[0m\u001b[0msubplots\u001b[0m\u001b[0;34m(\u001b[0m\u001b[0;36m1\u001b[0m\u001b[0;34m,\u001b[0m \u001b[0;36m2\u001b[0m\u001b[0;34m,\u001b[0m \u001b[0mfigsize\u001b[0m\u001b[0;34m=\u001b[0m\u001b[0;34m(\u001b[0m\u001b[0;36m16\u001b[0m\u001b[0;34m,\u001b[0m \u001b[0;36m6\u001b[0m\u001b[0;34m)\u001b[0m\u001b[0;34m,\u001b[0m \u001b[0mgridspec_kw\u001b[0m\u001b[0;34m=\u001b[0m\u001b[0mdict\u001b[0m\u001b[0;34m(\u001b[0m\u001b[0mwidth_ratios\u001b[0m\u001b[0;34m=\u001b[0m\u001b[0;34m[\u001b[0m\u001b[0;36m4\u001b[0m\u001b[0;34m,\u001b[0m \u001b[0;36m3\u001b[0m\u001b[0;34m]\u001b[0m\u001b[0;34m)\u001b[0m\u001b[0;34m)\u001b[0m\u001b[0;34m\u001b[0m\u001b[0;34m\u001b[0m\u001b[0m\n\u001b[1;32m      5\u001b[0m \u001b[0msns\u001b[0m\u001b[0;34m.\u001b[0m\u001b[0mhistplot\u001b[0m\u001b[0;34m(\u001b[0m\u001b[0moriginal_sent_counts\u001b[0m\u001b[0;34m,\u001b[0m \u001b[0mbinwidth\u001b[0m\u001b[0;34m=\u001b[0m\u001b[0;36m1\u001b[0m\u001b[0;34m,\u001b[0m \u001b[0max\u001b[0m\u001b[0;34m=\u001b[0m\u001b[0maxs\u001b[0m\u001b[0;34m[\u001b[0m\u001b[0;36m0\u001b[0m\u001b[0;34m]\u001b[0m\u001b[0;34m)\u001b[0m\u001b[0;34m\u001b[0m\u001b[0;34m\u001b[0m\u001b[0m\n",
      "\u001b[0;32m~/miniconda3/envs/kobertsum/lib/python3.8/site-packages/pandas/core/series.py\u001b[0m in \u001b[0;36mapply\u001b[0;34m(self, func, convert_dtype, args, **kwds)\u001b[0m\n\u001b[1;32m   4136\u001b[0m             \u001b[0;32melse\u001b[0m\u001b[0;34m:\u001b[0m\u001b[0;34m\u001b[0m\u001b[0;34m\u001b[0m\u001b[0m\n\u001b[1;32m   4137\u001b[0m                 \u001b[0mvalues\u001b[0m \u001b[0;34m=\u001b[0m \u001b[0mself\u001b[0m\u001b[0;34m.\u001b[0m\u001b[0mastype\u001b[0m\u001b[0;34m(\u001b[0m\u001b[0mobject\u001b[0m\u001b[0;34m)\u001b[0m\u001b[0;34m.\u001b[0m\u001b[0m_values\u001b[0m\u001b[0;34m\u001b[0m\u001b[0;34m\u001b[0m\u001b[0m\n\u001b[0;32m-> 4138\u001b[0;31m                 \u001b[0mmapped\u001b[0m \u001b[0;34m=\u001b[0m \u001b[0mlib\u001b[0m\u001b[0;34m.\u001b[0m\u001b[0mmap_infer\u001b[0m\u001b[0;34m(\u001b[0m\u001b[0mvalues\u001b[0m\u001b[0;34m,\u001b[0m \u001b[0mf\u001b[0m\u001b[0;34m,\u001b[0m \u001b[0mconvert\u001b[0m\u001b[0;34m=\u001b[0m\u001b[0mconvert_dtype\u001b[0m\u001b[0;34m)\u001b[0m\u001b[0;34m\u001b[0m\u001b[0;34m\u001b[0m\u001b[0m\n\u001b[0m\u001b[1;32m   4139\u001b[0m \u001b[0;34m\u001b[0m\u001b[0m\n\u001b[1;32m   4140\u001b[0m         \u001b[0;32mif\u001b[0m \u001b[0mlen\u001b[0m\u001b[0;34m(\u001b[0m\u001b[0mmapped\u001b[0m\u001b[0;34m)\u001b[0m \u001b[0;32mand\u001b[0m \u001b[0misinstance\u001b[0m\u001b[0;34m(\u001b[0m\u001b[0mmapped\u001b[0m\u001b[0;34m[\u001b[0m\u001b[0;36m0\u001b[0m\u001b[0;34m]\u001b[0m\u001b[0;34m,\u001b[0m \u001b[0mSeries\u001b[0m\u001b[0;34m)\u001b[0m\u001b[0;34m:\u001b[0m\u001b[0;34m\u001b[0m\u001b[0;34m\u001b[0m\u001b[0m\n",
      "\u001b[0;32mpandas/_libs/lib.pyx\u001b[0m in \u001b[0;36mpandas._libs.lib.map_infer\u001b[0;34m()\u001b[0m\n",
      "\u001b[0;32m<ipython-input-17-bb23876c6879>\u001b[0m in \u001b[0;36m<lambda>\u001b[0;34m(x)\u001b[0m\n\u001b[1;32m      1\u001b[0m \u001b[0;31m# sentence\u001b[0m\u001b[0;34m\u001b[0m\u001b[0;34m\u001b[0m\u001b[0;34m\u001b[0m\u001b[0m\n\u001b[0;32m----> 2\u001b[0;31m \u001b[0moriginal_sent_counts\u001b[0m \u001b[0;34m=\u001b[0m \u001b[0mtrain_data\u001b[0m\u001b[0;34m[\u001b[0m\u001b[0;34m'text'\u001b[0m\u001b[0;34m]\u001b[0m\u001b[0;34m[\u001b[0m\u001b[0;36m271000\u001b[0m\u001b[0;34m:\u001b[0m\u001b[0;34m]\u001b[0m\u001b[0;34m.\u001b[0m\u001b[0mapply\u001b[0m\u001b[0;34m(\u001b[0m\u001b[0;32mlambda\u001b[0m \u001b[0mx\u001b[0m\u001b[0;34m:\u001b[0m \u001b[0mlen\u001b[0m\u001b[0;34m(\u001b[0m\u001b[0mkss_split_sent\u001b[0m\u001b[0;34m(\u001b[0m\u001b[0mx\u001b[0m\u001b[0;34m)\u001b[0m\u001b[0;34m)\u001b[0m\u001b[0;34m)\u001b[0m\u001b[0;34m\u001b[0m\u001b[0;34m\u001b[0m\u001b[0m\n\u001b[0m\u001b[1;32m      3\u001b[0m \u001b[0;34m\u001b[0m\u001b[0m\n\u001b[1;32m      4\u001b[0m \u001b[0mfig\u001b[0m\u001b[0;34m,\u001b[0m \u001b[0maxs\u001b[0m \u001b[0;34m=\u001b[0m \u001b[0mplt\u001b[0m\u001b[0;34m.\u001b[0m\u001b[0msubplots\u001b[0m\u001b[0;34m(\u001b[0m\u001b[0;36m1\u001b[0m\u001b[0;34m,\u001b[0m \u001b[0;36m2\u001b[0m\u001b[0;34m,\u001b[0m \u001b[0mfigsize\u001b[0m\u001b[0;34m=\u001b[0m\u001b[0;34m(\u001b[0m\u001b[0;36m16\u001b[0m\u001b[0;34m,\u001b[0m \u001b[0;36m6\u001b[0m\u001b[0;34m)\u001b[0m\u001b[0;34m,\u001b[0m \u001b[0mgridspec_kw\u001b[0m\u001b[0;34m=\u001b[0m\u001b[0mdict\u001b[0m\u001b[0;34m(\u001b[0m\u001b[0mwidth_ratios\u001b[0m\u001b[0;34m=\u001b[0m\u001b[0;34m[\u001b[0m\u001b[0;36m4\u001b[0m\u001b[0;34m,\u001b[0m \u001b[0;36m3\u001b[0m\u001b[0;34m]\u001b[0m\u001b[0;34m)\u001b[0m\u001b[0;34m)\u001b[0m\u001b[0;34m\u001b[0m\u001b[0;34m\u001b[0m\u001b[0m\n\u001b[1;32m      5\u001b[0m \u001b[0msns\u001b[0m\u001b[0;34m.\u001b[0m\u001b[0mhistplot\u001b[0m\u001b[0;34m(\u001b[0m\u001b[0moriginal_sent_counts\u001b[0m\u001b[0;34m,\u001b[0m \u001b[0mbinwidth\u001b[0m\u001b[0;34m=\u001b[0m\u001b[0;36m1\u001b[0m\u001b[0;34m,\u001b[0m \u001b[0max\u001b[0m\u001b[0;34m=\u001b[0m\u001b[0maxs\u001b[0m\u001b[0;34m[\u001b[0m\u001b[0;36m0\u001b[0m\u001b[0;34m]\u001b[0m\u001b[0;34m)\u001b[0m\u001b[0;34m\u001b[0m\u001b[0;34m\u001b[0m\u001b[0m\n",
      "\u001b[0;32m~/miniconda3/envs/kobertsum/lib/python3.8/site-packages/kss/kss.py\u001b[0m in \u001b[0;36msplit_sentences\u001b[0;34m(text, use_heuristic, use_quotes_brackets_processing, max_recover_step, max_recover_length, backend, num_workers, disable_gc)\u001b[0m\n\u001b[1;32m    110\u001b[0m             \u001b[0m_text\u001b[0m \u001b[0;34m=\u001b[0m \u001b[0mtext\u001b[0m\u001b[0;34m\u001b[0m\u001b[0;34m\u001b[0m\u001b[0m\n\u001b[1;32m    111\u001b[0m \u001b[0;34m\u001b[0m\u001b[0m\n\u001b[0;32m--> 112\u001b[0;31m         \u001b[0;32mfor\u001b[0m \u001b[0minput_text\u001b[0m \u001b[0;32min\u001b[0m \u001b[0mpool\u001b[0m\u001b[0;34m.\u001b[0m\u001b[0mmap\u001b[0m\u001b[0;34m(\u001b[0m\u001b[0mbuild_preprocessed_list\u001b[0m\u001b[0;34m,\u001b[0m \u001b[0m_text\u001b[0m\u001b[0;34m)\u001b[0m\u001b[0;34m:\u001b[0m\u001b[0;34m\u001b[0m\u001b[0;34m\u001b[0m\u001b[0m\n\u001b[0m\u001b[1;32m    113\u001b[0m             \u001b[0;32mif\u001b[0m \u001b[0mlen\u001b[0m\u001b[0;34m(\u001b[0m\u001b[0minput_text\u001b[0m\u001b[0;34m)\u001b[0m \u001b[0;34m==\u001b[0m \u001b[0;36m0\u001b[0m\u001b[0;34m:\u001b[0m\u001b[0;34m\u001b[0m\u001b[0;34m\u001b[0m\u001b[0m\n\u001b[1;32m    114\u001b[0m                 \u001b[0minput_text\u001b[0m\u001b[0;34m.\u001b[0m\u001b[0mappend\u001b[0m\u001b[0;34m(\u001b[0m\u001b[0;34m\"\"\u001b[0m\u001b[0;34m)\u001b[0m\u001b[0;34m\u001b[0m\u001b[0;34m\u001b[0m\u001b[0m\n",
      "\u001b[0;32m~/miniconda3/envs/kobertsum/lib/python3.8/concurrent/futures/process.py\u001b[0m in \u001b[0;36m_chain_from_iterable_of_lists\u001b[0;34m(iterable)\u001b[0m\n\u001b[1;32m    482\u001b[0m     \u001b[0mcareful\u001b[0m \u001b[0;32mnot\u001b[0m \u001b[0mto\u001b[0m \u001b[0mkeep\u001b[0m \u001b[0mreferences\u001b[0m \u001b[0mto\u001b[0m \u001b[0myielded\u001b[0m \u001b[0mobjects\u001b[0m\u001b[0;34m.\u001b[0m\u001b[0;34m\u001b[0m\u001b[0;34m\u001b[0m\u001b[0m\n\u001b[1;32m    483\u001b[0m     \"\"\"\n\u001b[0;32m--> 484\u001b[0;31m     \u001b[0;32mfor\u001b[0m \u001b[0melement\u001b[0m \u001b[0;32min\u001b[0m \u001b[0miterable\u001b[0m\u001b[0;34m:\u001b[0m\u001b[0;34m\u001b[0m\u001b[0;34m\u001b[0m\u001b[0m\n\u001b[0m\u001b[1;32m    485\u001b[0m         \u001b[0melement\u001b[0m\u001b[0;34m.\u001b[0m\u001b[0mreverse\u001b[0m\u001b[0;34m(\u001b[0m\u001b[0;34m)\u001b[0m\u001b[0;34m\u001b[0m\u001b[0;34m\u001b[0m\u001b[0m\n\u001b[1;32m    486\u001b[0m         \u001b[0;32mwhile\u001b[0m \u001b[0melement\u001b[0m\u001b[0;34m:\u001b[0m\u001b[0;34m\u001b[0m\u001b[0;34m\u001b[0m\u001b[0m\n",
      "\u001b[0;32m~/miniconda3/envs/kobertsum/lib/python3.8/concurrent/futures/_base.py\u001b[0m in \u001b[0;36mresult_iterator\u001b[0;34m()\u001b[0m\n\u001b[1;32m    617\u001b[0m                     \u001b[0;31m# Careful not to keep a reference to the popped future\u001b[0m\u001b[0;34m\u001b[0m\u001b[0;34m\u001b[0m\u001b[0;34m\u001b[0m\u001b[0m\n\u001b[1;32m    618\u001b[0m                     \u001b[0;32mif\u001b[0m \u001b[0mtimeout\u001b[0m \u001b[0;32mis\u001b[0m \u001b[0;32mNone\u001b[0m\u001b[0;34m:\u001b[0m\u001b[0;34m\u001b[0m\u001b[0;34m\u001b[0m\u001b[0m\n\u001b[0;32m--> 619\u001b[0;31m                         \u001b[0;32myield\u001b[0m \u001b[0mfs\u001b[0m\u001b[0;34m.\u001b[0m\u001b[0mpop\u001b[0m\u001b[0;34m(\u001b[0m\u001b[0;34m)\u001b[0m\u001b[0;34m.\u001b[0m\u001b[0mresult\u001b[0m\u001b[0;34m(\u001b[0m\u001b[0;34m)\u001b[0m\u001b[0;34m\u001b[0m\u001b[0;34m\u001b[0m\u001b[0m\n\u001b[0m\u001b[1;32m    620\u001b[0m                     \u001b[0;32melse\u001b[0m\u001b[0;34m:\u001b[0m\u001b[0;34m\u001b[0m\u001b[0;34m\u001b[0m\u001b[0m\n\u001b[1;32m    621\u001b[0m                         \u001b[0;32myield\u001b[0m \u001b[0mfs\u001b[0m\u001b[0;34m.\u001b[0m\u001b[0mpop\u001b[0m\u001b[0;34m(\u001b[0m\u001b[0;34m)\u001b[0m\u001b[0;34m.\u001b[0m\u001b[0mresult\u001b[0m\u001b[0;34m(\u001b[0m\u001b[0mend_time\u001b[0m \u001b[0;34m-\u001b[0m \u001b[0mtime\u001b[0m\u001b[0;34m.\u001b[0m\u001b[0mmonotonic\u001b[0m\u001b[0;34m(\u001b[0m\u001b[0;34m)\u001b[0m\u001b[0;34m)\u001b[0m\u001b[0;34m\u001b[0m\u001b[0;34m\u001b[0m\u001b[0m\n",
      "\u001b[0;32m~/miniconda3/envs/kobertsum/lib/python3.8/concurrent/futures/_base.py\u001b[0m in \u001b[0;36mresult\u001b[0;34m(self, timeout)\u001b[0m\n\u001b[1;32m    442\u001b[0m                     \u001b[0;32mraise\u001b[0m \u001b[0mCancelledError\u001b[0m\u001b[0;34m(\u001b[0m\u001b[0;34m)\u001b[0m\u001b[0;34m\u001b[0m\u001b[0;34m\u001b[0m\u001b[0m\n\u001b[1;32m    443\u001b[0m                 \u001b[0;32melif\u001b[0m \u001b[0mself\u001b[0m\u001b[0;34m.\u001b[0m\u001b[0m_state\u001b[0m \u001b[0;34m==\u001b[0m \u001b[0mFINISHED\u001b[0m\u001b[0;34m:\u001b[0m\u001b[0;34m\u001b[0m\u001b[0;34m\u001b[0m\u001b[0m\n\u001b[0;32m--> 444\u001b[0;31m                     \u001b[0;32mreturn\u001b[0m \u001b[0mself\u001b[0m\u001b[0;34m.\u001b[0m\u001b[0m__get_result\u001b[0m\u001b[0;34m(\u001b[0m\u001b[0;34m)\u001b[0m\u001b[0;34m\u001b[0m\u001b[0;34m\u001b[0m\u001b[0m\n\u001b[0m\u001b[1;32m    445\u001b[0m                 \u001b[0;32melse\u001b[0m\u001b[0;34m:\u001b[0m\u001b[0;34m\u001b[0m\u001b[0;34m\u001b[0m\u001b[0m\n\u001b[1;32m    446\u001b[0m                     \u001b[0;32mraise\u001b[0m \u001b[0mTimeoutError\u001b[0m\u001b[0;34m(\u001b[0m\u001b[0;34m)\u001b[0m\u001b[0;34m\u001b[0m\u001b[0;34m\u001b[0m\u001b[0m\n",
      "\u001b[0;32m~/miniconda3/envs/kobertsum/lib/python3.8/concurrent/futures/_base.py\u001b[0m in \u001b[0;36m__get_result\u001b[0;34m(self)\u001b[0m\n\u001b[1;32m    387\u001b[0m         \u001b[0;32mif\u001b[0m \u001b[0mself\u001b[0m\u001b[0;34m.\u001b[0m\u001b[0m_exception\u001b[0m\u001b[0;34m:\u001b[0m\u001b[0;34m\u001b[0m\u001b[0;34m\u001b[0m\u001b[0m\n\u001b[1;32m    388\u001b[0m             \u001b[0;32mtry\u001b[0m\u001b[0;34m:\u001b[0m\u001b[0;34m\u001b[0m\u001b[0;34m\u001b[0m\u001b[0m\n\u001b[0;32m--> 389\u001b[0;31m                 \u001b[0;32mraise\u001b[0m \u001b[0mself\u001b[0m\u001b[0;34m.\u001b[0m\u001b[0m_exception\u001b[0m\u001b[0;34m\u001b[0m\u001b[0;34m\u001b[0m\u001b[0m\n\u001b[0m\u001b[1;32m    390\u001b[0m             \u001b[0;32mfinally\u001b[0m\u001b[0;34m:\u001b[0m\u001b[0;34m\u001b[0m\u001b[0;34m\u001b[0m\u001b[0m\n\u001b[1;32m    391\u001b[0m                 \u001b[0;31m# Break a reference cycle with the exception in self._exception\u001b[0m\u001b[0;34m\u001b[0m\u001b[0;34m\u001b[0m\u001b[0;34m\u001b[0m\u001b[0m\n",
      "\u001b[0;31mBrokenProcessPool\u001b[0m: A process in the process pool was terminated abruptly while the future was running or pending."
     ]
    }
   ],
   "metadata": {}
  },
  {
   "cell_type": "code",
   "execution_count": 13,
   "source": [
    "set(original_sent_counts)"
   ],
   "outputs": [
    {
     "output_type": "execute_result",
     "data": {
      "text/plain": [
       "{1, 2}"
      ]
     },
     "metadata": {},
     "execution_count": 13
    }
   ],
   "metadata": {}
  },
  {
   "cell_type": "code",
   "execution_count": null,
   "source": [],
   "outputs": [],
   "metadata": {}
  },
  {
   "cell_type": "code",
   "execution_count": null,
   "source": [],
   "outputs": [],
   "metadata": {}
  },
  {
   "cell_type": "code",
   "execution_count": 11,
   "source": [
    "val_data = train_data.iloc[-4000:, :]\n",
    "train_data = train_data.iloc[:-4000, :]"
   ],
   "outputs": [],
   "metadata": {}
  },
  {
   "cell_type": "code",
   "execution_count": 12,
   "source": [
    "train_data[\"decoder_input\"] = train_data[\"summary\"].apply(lambda x : \"sostoken \" + str(x))\n",
    "train_data[\"decoder_target\"] = train_data[\"summary\"].apply(lambda x : str(x) + \" eostoken\")\n",
    "\n",
    "encoder_input = train_data[\"text\"]\n",
    "decoder_input = train_data[\"decoder_input\"]\n",
    "decoder_output = train_data[\"decoder_target\"]"
   ],
   "outputs": [],
   "metadata": {}
  },
  {
   "cell_type": "code",
   "execution_count": 13,
   "source": [
    "train_data.head()"
   ],
   "outputs": [
    {
     "output_type": "execute_result",
     "data": {
      "text/html": [
       "<div>\n",
       "<style scoped>\n",
       "    .dataframe tbody tr th:only-of-type {\n",
       "        vertical-align: middle;\n",
       "    }\n",
       "\n",
       "    .dataframe tbody tr th {\n",
       "        vertical-align: top;\n",
       "    }\n",
       "\n",
       "    .dataframe thead th {\n",
       "        text-align: right;\n",
       "    }\n",
       "</style>\n",
       "<table border=\"1\" class=\"dataframe\">\n",
       "  <thead>\n",
       "    <tr style=\"text-align: right;\">\n",
       "      <th></th>\n",
       "      <th>id</th>\n",
       "      <th>text</th>\n",
       "      <th>summary</th>\n",
       "      <th>decoder_input</th>\n",
       "      <th>decoder_target</th>\n",
       "    </tr>\n",
       "  </thead>\n",
       "  <tbody>\n",
       "    <tr>\n",
       "      <th>0</th>\n",
       "      <td>0</td>\n",
       "      <td>원고가 소속회사의 노동조합에서 분규가 발생하자 노조활동을 구실로 정상적인 근무를 해...</td>\n",
       "      <td>원고가  주동하여 회사업무능률을 저해하고 회사업무상의 지휘명령에 위반하였다면 이에 ...</td>\n",
       "      <td>sostoken 원고가  주동하여 회사업무능률을 저해하고 회사업무상의 지휘명령에 위...</td>\n",
       "      <td>원고가  주동하여 회사업무능률을 저해하고 회사업무상의 지휘명령에 위반하였다면 이에 ...</td>\n",
       "    </tr>\n",
       "    <tr>\n",
       "      <th>1</th>\n",
       "      <td>1</td>\n",
       "      <td>수출입업체인 원고가 의류제품을 제조ㆍ수출함에 있어 같은 그룹내 종합무역상사인 소외 ...</td>\n",
       "      <td>수출입업체인 원고가 의류제품을 제조ㆍ수출함에 있어 소외 회사의 직수출실적을 지원하기...</td>\n",
       "      <td>sostoken 수출입업체인 원고가 의류제품을 제조ㆍ수출함에 있어 소외 회사의 직수...</td>\n",
       "      <td>수출입업체인 원고가 의류제품을 제조ㆍ수출함에 있어 소외 회사의 직수출실적을 지원하기...</td>\n",
       "    </tr>\n",
       "    <tr>\n",
       "      <th>2</th>\n",
       "      <td>2</td>\n",
       "      <td>가등기담보권자가 제소전 화해조항에 따라 자기 명의로 소유권이전의 본등기를 경료한 후...</td>\n",
       "      <td>가등기담보권자가 제소전 화해조항에 의해 자기 명의로 소유권이전의 본등기를 경료하고 ...</td>\n",
       "      <td>sostoken 가등기담보권자가 제소전 화해조항에 의해 자기 명의로 소유권이전의 본...</td>\n",
       "      <td>가등기담보권자가 제소전 화해조항에 의해 자기 명의로 소유권이전의 본등기를 경료하고 ...</td>\n",
       "    </tr>\n",
       "    <tr>\n",
       "      <th>3</th>\n",
       "      <td>3</td>\n",
       "      <td>가. 부가가치세법 제22조 제3항 단서에 제1호와 제2호가 동시에 해당한다는 뜻은 ...</td>\n",
       "      <td>부가가치세법 제22조 제3항 단서에 제1호와 제2호가 동시에 해당한다는 의미는 제1...</td>\n",
       "      <td>sostoken 부가가치세법 제22조 제3항 단서에 제1호와 제2호가 동시에 해당한...</td>\n",
       "      <td>부가가치세법 제22조 제3항 단서에 제1호와 제2호가 동시에 해당한다는 의미는 제1...</td>\n",
       "    </tr>\n",
       "    <tr>\n",
       "      <th>4</th>\n",
       "      <td>4</td>\n",
       "      <td>소득세법 제116조 제1항의 규정에 의하면 정부는 과세표준확정신고를 하여야 할 자에...</td>\n",
       "      <td>소득세법 제116조 제1항에 따르면 정부는 과세표준확정신고를 해야 할 자에 대해 당...</td>\n",
       "      <td>sostoken 소득세법 제116조 제1항에 따르면 정부는 과세표준확정신고를 해야 ...</td>\n",
       "      <td>소득세법 제116조 제1항에 따르면 정부는 과세표준확정신고를 해야 할 자에 대해 당...</td>\n",
       "    </tr>\n",
       "  </tbody>\n",
       "</table>\n",
       "</div>"
      ],
      "text/plain": [
       "   id                                               text  \\\n",
       "0   0  원고가 소속회사의 노동조합에서 분규가 발생하자 노조활동을 구실로 정상적인 근무를 해...   \n",
       "1   1  수출입업체인 원고가 의류제품을 제조ㆍ수출함에 있어 같은 그룹내 종합무역상사인 소외 ...   \n",
       "2   2  가등기담보권자가 제소전 화해조항에 따라 자기 명의로 소유권이전의 본등기를 경료한 후...   \n",
       "3   3  가. 부가가치세법 제22조 제3항 단서에 제1호와 제2호가 동시에 해당한다는 뜻은 ...   \n",
       "4   4  소득세법 제116조 제1항의 규정에 의하면 정부는 과세표준확정신고를 하여야 할 자에...   \n",
       "\n",
       "                                             summary  \\\n",
       "0  원고가  주동하여 회사업무능률을 저해하고 회사업무상의 지휘명령에 위반하였다면 이에 ...   \n",
       "1  수출입업체인 원고가 의류제품을 제조ㆍ수출함에 있어 소외 회사의 직수출실적을 지원하기...   \n",
       "2  가등기담보권자가 제소전 화해조항에 의해 자기 명의로 소유권이전의 본등기를 경료하고 ...   \n",
       "3  부가가치세법 제22조 제3항 단서에 제1호와 제2호가 동시에 해당한다는 의미는 제1...   \n",
       "4  소득세법 제116조 제1항에 따르면 정부는 과세표준확정신고를 해야 할 자에 대해 당...   \n",
       "\n",
       "                                       decoder_input  \\\n",
       "0  sostoken 원고가  주동하여 회사업무능률을 저해하고 회사업무상의 지휘명령에 위...   \n",
       "1  sostoken 수출입업체인 원고가 의류제품을 제조ㆍ수출함에 있어 소외 회사의 직수...   \n",
       "2  sostoken 가등기담보권자가 제소전 화해조항에 의해 자기 명의로 소유권이전의 본...   \n",
       "3  sostoken 부가가치세법 제22조 제3항 단서에 제1호와 제2호가 동시에 해당한...   \n",
       "4  sostoken 소득세법 제116조 제1항에 따르면 정부는 과세표준확정신고를 해야 ...   \n",
       "\n",
       "                                      decoder_target  \n",
       "0  원고가  주동하여 회사업무능률을 저해하고 회사업무상의 지휘명령에 위반하였다면 이에 ...  \n",
       "1  수출입업체인 원고가 의류제품을 제조ㆍ수출함에 있어 소외 회사의 직수출실적을 지원하기...  \n",
       "2  가등기담보권자가 제소전 화해조항에 의해 자기 명의로 소유권이전의 본등기를 경료하고 ...  \n",
       "3  부가가치세법 제22조 제3항 단서에 제1호와 제2호가 동시에 해당한다는 의미는 제1...  \n",
       "4  소득세법 제116조 제1항에 따르면 정부는 과세표준확정신고를 해야 할 자에 대해 당...  "
      ]
     },
     "metadata": {},
     "execution_count": 13
    }
   ],
   "metadata": {}
  },
  {
   "cell_type": "code",
   "execution_count": 14,
   "source": [
    "val_data[\"decoder_input\"] = val_data[\"summary\"].apply(lambda x : \"sostoken \" + x)\n",
    "val_data[\"decoder_target\"] = val_data[\"summary\"].apply(lambda x : x + \" eostoken\")\n",
    "\n",
    "encoder_input_val = val_data[\"text\"]\n",
    "decoder_input_val = val_data[\"decoder_input\"]\n",
    "decoder_output_val = val_data[\"decoder_target\"]"
   ],
   "outputs": [],
   "metadata": {}
  },
  {
   "cell_type": "code",
   "execution_count": 15,
   "source": [
    "val_data.head()"
   ],
   "outputs": [
    {
     "output_type": "execute_result",
     "data": {
      "text/html": [
       "<div>\n",
       "<style scoped>\n",
       "    .dataframe tbody tr th:only-of-type {\n",
       "        vertical-align: middle;\n",
       "    }\n",
       "\n",
       "    .dataframe tbody tr th {\n",
       "        vertical-align: top;\n",
       "    }\n",
       "\n",
       "    .dataframe thead th {\n",
       "        text-align: right;\n",
       "    }\n",
       "</style>\n",
       "<table border=\"1\" class=\"dataframe\">\n",
       "  <thead>\n",
       "    <tr style=\"text-align: right;\">\n",
       "      <th></th>\n",
       "      <th>id</th>\n",
       "      <th>text</th>\n",
       "      <th>summary</th>\n",
       "      <th>decoder_input</th>\n",
       "      <th>decoder_target</th>\n",
       "    </tr>\n",
       "  </thead>\n",
       "  <tbody>\n",
       "    <tr>\n",
       "      <th>267659</th>\n",
       "      <td>267665</td>\n",
       "      <td>지난 14일 서울 광화문에서 열린 '2019 자주통일대회' 행사에서 청소년들이 '자...</td>\n",
       "      <td>지난 14일 서울 광화문에서 민주노총 등 52개 진보단체 연합체인 민중공동행동이 개...</td>\n",
       "      <td>sostoken 지난 14일 서울 광화문에서 민주노총 등 52개 진보단체 연합체인 ...</td>\n",
       "      <td>지난 14일 서울 광화문에서 민주노총 등 52개 진보단체 연합체인 민중공동행동이 개...</td>\n",
       "    </tr>\n",
       "    <tr>\n",
       "      <th>267660</th>\n",
       "      <td>267666</td>\n",
       "      <td>2016년 '정운호 게이트' 당시 검찰의 수사상황을 법원행정처에 유출한 혐의로 재판...</td>\n",
       "      <td>2016년 4월 '정운호 게이트' 사건과 관련 검찰의 수사상황을 법원행정처에 공무상...</td>\n",
       "      <td>sostoken 2016년 4월 '정운호 게이트' 사건과 관련 검찰의 수사상황을 법...</td>\n",
       "      <td>2016년 4월 '정운호 게이트' 사건과 관련 검찰의 수사상황을 법원행정처에 공무상...</td>\n",
       "    </tr>\n",
       "    <tr>\n",
       "      <th>267661</th>\n",
       "      <td>267667</td>\n",
       "      <td>[서울신문] 미국이 니콜라스 마두로 베네수엘라 정권의 2인자와 비밀 접촉을 했다는 ...</td>\n",
       "      <td>AP통신이 18일(현지시간) 트럼프 정부 측 인사가 베네수엘라 마두로 정권의 서열2...</td>\n",
       "      <td>sostoken AP통신이 18일(현지시간) 트럼프 정부 측 인사가 베네수엘라 마두...</td>\n",
       "      <td>AP통신이 18일(현지시간) 트럼프 정부 측 인사가 베네수엘라 마두로 정권의 서열2...</td>\n",
       "    </tr>\n",
       "    <tr>\n",
       "      <th>267662</th>\n",
       "      <td>267668</td>\n",
       "      <td>동양제철화학(OCI) 자회사인 ㈜DCRE가 인천 학익동 옛 공장 터에 아파트 1만 ...</td>\n",
       "      <td>19일 가톨릭환경연대 등 인천지역 환경단체들에 따르면 한강유역환경청은 “인천시가 동...</td>\n",
       "      <td>sostoken 19일 가톨릭환경연대 등 인천지역 환경단체들에 따르면 한강유역환경청...</td>\n",
       "      <td>19일 가톨릭환경연대 등 인천지역 환경단체들에 따르면 한강유역환경청은 “인천시가 동...</td>\n",
       "    </tr>\n",
       "    <tr>\n",
       "      <th>267663</th>\n",
       "      <td>267669</td>\n",
       "      <td>[서울신문] 유럽연합(EU)에 이어 유럽자유무역연합(EFTA)도 남미공동시장(메르코...</td>\n",
       "      <td>유럽연합에 이어 유럽자유무역연합도 브라질 정부에게 남미공동시장과의 자유무역협상에 환...</td>\n",
       "      <td>sostoken 유럽연합에 이어 유럽자유무역연합도 브라질 정부에게 남미공동시장과의 ...</td>\n",
       "      <td>유럽연합에 이어 유럽자유무역연합도 브라질 정부에게 남미공동시장과의 자유무역협상에 환...</td>\n",
       "    </tr>\n",
       "  </tbody>\n",
       "</table>\n",
       "</div>"
      ],
      "text/plain": [
       "            id                                               text  \\\n",
       "267659  267665  지난 14일 서울 광화문에서 열린 '2019 자주통일대회' 행사에서 청소년들이 '자...   \n",
       "267660  267666  2016년 '정운호 게이트' 당시 검찰의 수사상황을 법원행정처에 유출한 혐의로 재판...   \n",
       "267661  267667  [서울신문] 미국이 니콜라스 마두로 베네수엘라 정권의 2인자와 비밀 접촉을 했다는 ...   \n",
       "267662  267668  동양제철화학(OCI) 자회사인 ㈜DCRE가 인천 학익동 옛 공장 터에 아파트 1만 ...   \n",
       "267663  267669  [서울신문] 유럽연합(EU)에 이어 유럽자유무역연합(EFTA)도 남미공동시장(메르코...   \n",
       "\n",
       "                                                  summary  \\\n",
       "267659  지난 14일 서울 광화문에서 민주노총 등 52개 진보단체 연합체인 민중공동행동이 개...   \n",
       "267660  2016년 4월 '정운호 게이트' 사건과 관련 검찰의 수사상황을 법원행정처에 공무상...   \n",
       "267661  AP통신이 18일(현지시간) 트럼프 정부 측 인사가 베네수엘라 마두로 정권의 서열2...   \n",
       "267662  19일 가톨릭환경연대 등 인천지역 환경단체들에 따르면 한강유역환경청은 “인천시가 동...   \n",
       "267663  유럽연합에 이어 유럽자유무역연합도 브라질 정부에게 남미공동시장과의 자유무역협상에 환...   \n",
       "\n",
       "                                            decoder_input  \\\n",
       "267659  sostoken 지난 14일 서울 광화문에서 민주노총 등 52개 진보단체 연합체인 ...   \n",
       "267660  sostoken 2016년 4월 '정운호 게이트' 사건과 관련 검찰의 수사상황을 법...   \n",
       "267661  sostoken AP통신이 18일(현지시간) 트럼프 정부 측 인사가 베네수엘라 마두...   \n",
       "267662  sostoken 19일 가톨릭환경연대 등 인천지역 환경단체들에 따르면 한강유역환경청...   \n",
       "267663  sostoken 유럽연합에 이어 유럽자유무역연합도 브라질 정부에게 남미공동시장과의 ...   \n",
       "\n",
       "                                           decoder_target  \n",
       "267659  지난 14일 서울 광화문에서 민주노총 등 52개 진보단체 연합체인 민중공동행동이 개...  \n",
       "267660  2016년 4월 '정운호 게이트' 사건과 관련 검찰의 수사상황을 법원행정처에 공무상...  \n",
       "267661  AP통신이 18일(현지시간) 트럼프 정부 측 인사가 베네수엘라 마두로 정권의 서열2...  \n",
       "267662  19일 가톨릭환경연대 등 인천지역 환경단체들에 따르면 한강유역환경청은 “인천시가 동...  \n",
       "267663  유럽연합에 이어 유럽자유무역연합도 브라질 정부에게 남미공동시장과의 자유무역협상에 환...  "
      ]
     },
     "metadata": {},
     "execution_count": 15
    }
   ],
   "metadata": {}
  },
  {
   "cell_type": "code",
   "execution_count": 16,
   "source": [
    "'''src_tokenizer = Tokenizer()\n",
    "src_tokenizer.fit_on_texts(encoder_input)'''"
   ],
   "outputs": [
    {
     "output_type": "execute_result",
     "data": {
      "text/plain": [
       "'src_tokenizer = Tokenizer()\\nsrc_tokenizer.fit_on_texts(encoder_input)'"
      ]
     },
     "metadata": {},
     "execution_count": 16
    }
   ],
   "metadata": {}
  },
  {
   "cell_type": "code",
   "execution_count": 17,
   "source": [
    "src_vocab = 150000\n",
    "src_tokenizer = Tokenizer(num_words=src_vocab)\n",
    "src_tokenizer.fit_on_texts(encoder_input)\n",
    "\n",
    "encoder_input_train = src_tokenizer.texts_to_sequences(encoder_input)\n",
    "encoder_input_val = src_tokenizer.texts_to_sequences(encoder_input_val)"
   ],
   "outputs": [],
   "metadata": {}
  },
  {
   "cell_type": "code",
   "execution_count": 18,
   "source": [
    "'''tar_tokenizer = Tokenizer()\n",
    "tar_tokenizer.fit_on_texts(decoder_input)'''"
   ],
   "outputs": [
    {
     "output_type": "execute_result",
     "data": {
      "text/plain": [
       "'tar_tokenizer = Tokenizer()\\ntar_tokenizer.fit_on_texts(decoder_input)'"
      ]
     },
     "metadata": {},
     "execution_count": 18
    }
   ],
   "metadata": {}
  },
  {
   "cell_type": "code",
   "execution_count": 19,
   "source": [
    "tar_vocab = 150000\n",
    "tar_tokenizer = Tokenizer(num_words = tar_vocab) \n",
    "tar_tokenizer.fit_on_texts(decoder_input)\n",
    "tar_tokenizer.fit_on_texts(decoder_output)"
   ],
   "outputs": [],
   "metadata": {}
  },
  {
   "cell_type": "code",
   "execution_count": 20,
   "source": [
    "decoder_input_train = tar_tokenizer.texts_to_sequences(decoder_input) \n",
    "decoder_target_train = tar_tokenizer.texts_to_sequences(decoder_output)\n",
    "decoder_input_val = tar_tokenizer.texts_to_sequences(decoder_input_val)\n",
    "decoder_target_val = tar_tokenizer.texts_to_sequences(decoder_output_val)"
   ],
   "outputs": [],
   "metadata": {}
  },
  {
   "cell_type": "code",
   "execution_count": 21,
   "source": [
    "text_max_len = 100\n",
    "summary_max_len = 100"
   ],
   "outputs": [],
   "metadata": {}
  },
  {
   "cell_type": "code",
   "execution_count": 22,
   "source": [
    "encoder_input_train = pad_sequences(encoder_input_train, maxlen = text_max_len, padding='post')\n",
    "encoder_input_val = pad_sequences(encoder_input_val, maxlen = text_max_len, padding='post')\n",
    "decoder_input_train = pad_sequences(decoder_input_train, maxlen = summary_max_len, padding='post')\n",
    "decoder_target_train = pad_sequences(decoder_target_train, maxlen = summary_max_len, padding='post')\n",
    "decoder_input_val = pad_sequences(decoder_input_val, maxlen = summary_max_len, padding='post')\n",
    "decoder_target_val = pad_sequences(decoder_target_val, maxlen = summary_max_len, padding='post')"
   ],
   "outputs": [],
   "metadata": {}
  },
  {
   "cell_type": "code",
   "execution_count": 23,
   "source": [
    "embedding_dim = 128\n",
    "hidden_size = 256\n",
    "\n",
    "encoder_inputs = Input(shape=(text_max_len,))\n",
    "enc_emb = Embedding(src_vocab, embedding_dim)(encoder_inputs)\n",
    "encoder_lstm1 = LSTM(hidden_size, return_sequences=True, return_state=True ,dropout = 0.4, recurrent_dropout = 0.4)\n",
    "encoder_output1, state_h1, state_c1 = encoder_lstm1(enc_emb)\n",
    "encoder_lstm2 = LSTM(hidden_size, return_sequences=True, return_state=True, dropout=0.4, recurrent_dropout=0.4)\n",
    "encoder_output2, state_h2, state_c2 = encoder_lstm2(encoder_output1)\n",
    "encoder_lstm3 = LSTM(hidden_size, return_state=True, return_sequences=True, dropout=0.4, recurrent_dropout=0.4)\n",
    "encoder_outputs, state_h, state_c= encoder_lstm3(encoder_output2)"
   ],
   "outputs": [
    {
     "output_type": "stream",
     "name": "stdout",
     "text": [
      "WARNING:tensorflow:Layer lstm will not use cuDNN kernel since it doesn't meet the cuDNN kernel criteria. It will use generic GPU kernel as fallback when running on GPU\n",
      "WARNING:tensorflow:Layer lstm_1 will not use cuDNN kernel since it doesn't meet the cuDNN kernel criteria. It will use generic GPU kernel as fallback when running on GPU\n",
      "WARNING:tensorflow:Layer lstm_2 will not use cuDNN kernel since it doesn't meet the cuDNN kernel criteria. It will use generic GPU kernel as fallback when running on GPU\n"
     ]
    }
   ],
   "metadata": {}
  },
  {
   "cell_type": "code",
   "execution_count": 24,
   "source": [
    "decoder_inputs = Input(shape=(None,))\n",
    "dec_emb_layer = Embedding(tar_vocab, embedding_dim)\n",
    "dec_emb = dec_emb_layer(decoder_inputs)\n",
    "decoder_lstm = LSTM(hidden_size, return_sequences = True, return_state = True, dropout = 0.4, recurrent_dropout=0.2)\n",
    "decoder_outputs, _, _ = decoder_lstm(dec_emb, initial_state = [state_h, state_c])"
   ],
   "outputs": [
    {
     "output_type": "stream",
     "name": "stdout",
     "text": [
      "WARNING:tensorflow:Layer lstm_3 will not use cuDNN kernel since it doesn't meet the cuDNN kernel criteria. It will use generic GPU kernel as fallback when running on GPU\n"
     ]
    }
   ],
   "metadata": {}
  },
  {
   "cell_type": "code",
   "execution_count": 25,
   "source": [
    "decoder_softmax_layer = Dense(tar_vocab, activation = 'softmax')\n",
    "decoder_softmax_outputs = decoder_softmax_layer(decoder_outputs)\n",
    "model = Model([encoder_inputs, decoder_inputs], decoder_softmax_outputs)\n",
    "model.summary()"
   ],
   "outputs": [
    {
     "output_type": "stream",
     "name": "stdout",
     "text": [
      "Model: \"model\"\n",
      "__________________________________________________________________________________________________\n",
      "Layer (type)                    Output Shape         Param #     Connected to                     \n",
      "==================================================================================================\n",
      "input_1 (InputLayer)            [(None, 100)]        0                                            \n",
      "__________________________________________________________________________________________________\n",
      "embedding (Embedding)           (None, 100, 128)     19200000    input_1[0][0]                    \n",
      "__________________________________________________________________________________________________\n",
      "lstm (LSTM)                     [(None, 100, 256), ( 394240      embedding[0][0]                  \n",
      "__________________________________________________________________________________________________\n",
      "input_2 (InputLayer)            [(None, None)]       0                                            \n",
      "__________________________________________________________________________________________________\n",
      "lstm_1 (LSTM)                   [(None, 100, 256), ( 525312      lstm[0][0]                       \n",
      "__________________________________________________________________________________________________\n",
      "embedding_1 (Embedding)         (None, None, 128)    19200000    input_2[0][0]                    \n",
      "__________________________________________________________________________________________________\n",
      "lstm_2 (LSTM)                   [(None, 100, 256), ( 525312      lstm_1[0][0]                     \n",
      "__________________________________________________________________________________________________\n",
      "lstm_3 (LSTM)                   [(None, None, 256),  394240      embedding_1[0][0]                \n",
      "                                                                 lstm_2[0][1]                     \n",
      "                                                                 lstm_2[0][2]                     \n",
      "__________________________________________________________________________________________________\n",
      "dense (Dense)                   (None, None, 150000) 38550000    lstm_3[0][0]                     \n",
      "==================================================================================================\n",
      "Total params: 78,789,104\n",
      "Trainable params: 78,789,104\n",
      "Non-trainable params: 0\n",
      "__________________________________________________________________________________________________\n"
     ]
    }
   ],
   "metadata": {}
  },
  {
   "cell_type": "code",
   "execution_count": 26,
   "source": [
    "import urllib.request\n",
    "\n",
    "urllib.request.urlretrieve(\"https://raw.githubusercontent.com/thushv89/attention_keras/master/src/layers/attention.py\", filename=\"attention.py\")\n",
    "from attention import AttentionLayer"
   ],
   "outputs": [],
   "metadata": {}
  },
  {
   "cell_type": "code",
   "execution_count": 27,
   "source": [
    "attn_layer = AttentionLayer(name='attention_layer')\n",
    "attn_out, attn_states = attn_layer([encoder_outputs, decoder_outputs])\n",
    "\n",
    "decoder_concat_input = Concatenate(axis = -1, name='concat_layer')([decoder_outputs, attn_out])\n",
    "\n",
    "decoder_softmax_layer = Dense(tar_vocab, activation='softmax')\n",
    "decoder_softmax_outputs = decoder_softmax_layer(decoder_concat_input)\n",
    "\n",
    "model = Model([encoder_inputs, decoder_inputs], decoder_softmax_outputs)\n",
    "model.summary()"
   ],
   "outputs": [
    {
     "output_type": "stream",
     "name": "stdout",
     "text": [
      "Model: \"model_1\"\n",
      "__________________________________________________________________________________________________\n",
      "Layer (type)                    Output Shape         Param #     Connected to                     \n",
      "==================================================================================================\n",
      "input_1 (InputLayer)            [(None, 100)]        0                                            \n",
      "__________________________________________________________________________________________________\n",
      "embedding (Embedding)           (None, 100, 128)     19200000    input_1[0][0]                    \n",
      "__________________________________________________________________________________________________\n",
      "lstm (LSTM)                     [(None, 100, 256), ( 394240      embedding[0][0]                  \n",
      "__________________________________________________________________________________________________\n",
      "input_2 (InputLayer)            [(None, None)]       0                                            \n",
      "__________________________________________________________________________________________________\n",
      "lstm_1 (LSTM)                   [(None, 100, 256), ( 525312      lstm[0][0]                       \n",
      "__________________________________________________________________________________________________\n",
      "embedding_1 (Embedding)         (None, None, 128)    19200000    input_2[0][0]                    \n",
      "__________________________________________________________________________________________________\n",
      "lstm_2 (LSTM)                   [(None, 100, 256), ( 525312      lstm_1[0][0]                     \n",
      "__________________________________________________________________________________________________\n",
      "lstm_3 (LSTM)                   [(None, None, 256),  394240      embedding_1[0][0]                \n",
      "                                                                 lstm_2[0][1]                     \n",
      "                                                                 lstm_2[0][2]                     \n",
      "__________________________________________________________________________________________________\n",
      "attention_layer (AttentionLayer ((None, None, 256),  131328      lstm_2[0][0]                     \n",
      "                                                                 lstm_3[0][0]                     \n",
      "__________________________________________________________________________________________________\n",
      "concat_layer (Concatenate)      (None, None, 512)    0           lstm_3[0][0]                     \n",
      "                                                                 attention_layer[0][0]            \n",
      "__________________________________________________________________________________________________\n",
      "dense_1 (Dense)                 (None, None, 150000) 76950000    concat_layer[0][0]               \n",
      "==================================================================================================\n",
      "Total params: 117,320,432\n",
      "Trainable params: 117,320,432\n",
      "Non-trainable params: 0\n",
      "__________________________________________________________________________________________________\n"
     ]
    }
   ],
   "metadata": {}
  },
  {
   "cell_type": "code",
   "execution_count": 28,
   "source": [
    "model.compile(optimizer='rmsprop', loss='sparse_categorical_crossentropy')"
   ],
   "outputs": [],
   "metadata": {}
  },
  {
   "cell_type": "code",
   "execution_count": 29,
   "source": [
    "es = EarlyStopping(monitor='val_loss', mode='min', verbose=1, patience = 2)\n",
    "history = model.fit(x = [encoder_input_train, decoder_input_train],\n",
    "                    y = decoder_target_train,\n",
    "                    validation_data = ([encoder_input_val, decoder_input_val], decoder_target_val),\n",
    "                    batch_size = 128, callbacks=[es], epochs = 5)"
   ],
   "outputs": [
    {
     "output_type": "stream",
     "name": "stdout",
     "text": [
      "Epoch 1/5\n",
      "2092/2092 [==============================] - 3242s 2s/step - loss: 2.7283 - val_loss: 2.1907\n",
      "Epoch 2/5\n",
      "2092/2092 [==============================] - 3374s 2s/step - loss: 2.2479 - val_loss: 2.0741\n",
      "Epoch 3/5\n",
      "2092/2092 [==============================] - 3209s 2s/step - loss: 2.1465 - val_loss: 2.0262\n",
      "Epoch 4/5\n",
      "2092/2092 [==============================] - 3208s 2s/step - loss: 2.0968 - val_loss: 1.9954\n",
      "Epoch 5/5\n",
      "2092/2092 [==============================] - 3208s 2s/step - loss: 2.0687 - val_loss: 1.9796\n"
     ]
    }
   ],
   "metadata": {}
  },
  {
   "cell_type": "code",
   "execution_count": 30,
   "source": [
    "src_index_to_word = src_tokenizer.index_word\n",
    "tar_word_to_index = tar_tokenizer.word_index\n",
    "tar_index_to_word = tar_tokenizer.index_word"
   ],
   "outputs": [],
   "metadata": {}
  },
  {
   "cell_type": "code",
   "execution_count": 31,
   "source": [
    "encoder_model = Model(inputs=encoder_inputs, outputs=[encoder_outputs, state_h, state_c])"
   ],
   "outputs": [],
   "metadata": {}
  },
  {
   "cell_type": "code",
   "execution_count": 32,
   "source": [
    "decoder_state_input_h = Input(shape=(hidden_size,))\n",
    "decoder_state_input_c = Input(shape=(hidden_size,))\n",
    "\n",
    "dec_emb2 = dec_emb_layer(decoder_inputs)"
   ],
   "outputs": [],
   "metadata": {}
  },
  {
   "cell_type": "code",
   "execution_count": 33,
   "source": [
    "decoder_outputs2, state_h2, state_c2 = decoder_lstm(dec_emb2, initial_state=[decoder_state_input_h, decoder_state_input_c])"
   ],
   "outputs": [],
   "metadata": {}
  },
  {
   "cell_type": "code",
   "execution_count": 34,
   "source": [
    "decoder_hidden_state_input = Input(shape=(text_max_len, hidden_size))\n",
    "attn_out_inf, attn_states_inf = attn_layer([decoder_hidden_state_input, decoder_outputs2])\n",
    "decoder_inf_concat = Concatenate(axis=-1, name='concat')([decoder_outputs2, attn_out_inf])"
   ],
   "outputs": [],
   "metadata": {}
  },
  {
   "cell_type": "code",
   "execution_count": 35,
   "source": [
    "decoder_outputs2 = decoder_softmax_layer(decoder_inf_concat) "
   ],
   "outputs": [],
   "metadata": {}
  },
  {
   "cell_type": "code",
   "execution_count": 36,
   "source": [
    "decoder_model = Model(\n",
    "    [decoder_inputs] + [decoder_hidden_state_input,decoder_state_input_h, decoder_state_input_c],\n",
    "    [decoder_outputs2] + [state_h2, state_c2])"
   ],
   "outputs": [],
   "metadata": {}
  },
  {
   "cell_type": "code",
   "execution_count": 37,
   "source": [
    "def decode_sequence(input_seq):\n",
    "    e_out, e_h, e_c = encoder_model.predict(input_seq)\n",
    "\n",
    "    target_seq = np.zeros((1,1))\n",
    "    target_seq[0, 0] = tar_word_to_index['sostoken']\n",
    "\n",
    "    stop_condition = False\n",
    "    decoded_sentence = ''\n",
    "    while not stop_condition:\n",
    "\n",
    "        output_tokens, h, c = decoder_model.predict([target_seq] + [e_out, e_h, e_c])\n",
    "        sampled_token_index = np.argmax(output_tokens[0, -1, :])\n",
    "        sampled_token = tar_index_to_word[sampled_token_index]\n",
    "\n",
    "        if(sampled_token!='eostoken'):\n",
    "            decoded_sentence += ' '+sampled_token\n",
    "\n",
    "        if (sampled_token == 'eostoken'  or len(decoded_sentence.split()) >= (summary_max_len-1)):\n",
    "            stop_condition = True\n",
    "\n",
    "        target_seq = np.zeros((1,1))\n",
    "        target_seq[0, 0] = sampled_token_index\n",
    "\n",
    "        e_h, e_c = h, c\n",
    "\n",
    "    return decoded_sentence\n",
    "\n",
    "def seq2text(input_seq):\n",
    "    temp=''\n",
    "    for i in input_seq:\n",
    "        if(i!=0):\n",
    "            temp = temp + src_index_to_word[i]+' '\n",
    "    return temp\n",
    "\n",
    "def seq2summary(input_seq):\n",
    "    temp=''\n",
    "    for i in input_seq:\n",
    "        if((i!=0 and i!=tar_word_to_index['sostoken']) and i!=tar_word_to_index['eostoken']):\n",
    "            temp = temp + tar_index_to_word[i] + ' '\n",
    "    return temp"
   ],
   "outputs": [],
   "metadata": {}
  },
  {
   "cell_type": "code",
   "execution_count": 38,
   "source": [
    "encoder_input_test = test_data[\"text\"]\n",
    "encoder_input_test = src_tokenizer.texts_to_sequences(encoder_input_test)\n",
    "encoder_input_test = pad_sequences(encoder_input_test, maxlen = text_max_len, padding='post')"
   ],
   "outputs": [],
   "metadata": {}
  },
  {
   "cell_type": "code",
   "execution_count": 42,
   "source": [
    "from tqdm import tqdm\n",
    "\n",
    "summary = []\n",
    "for i in tqdm(range(len(encoder_input_test))):\n",
    "    summary.append(decode_sequence(encoder_input_test[i].reshape(1, text_max_len)))"
   ],
   "outputs": [
    {
     "output_type": "stream",
     "name": "stderr",
     "text": [
      "100%|██████████| 10000/10000 [3:32:24<00:00,  1.27s/it] \n"
     ]
    }
   ],
   "metadata": {}
  },
  {
   "cell_type": "code",
   "execution_count": 43,
   "source": [
    "sample_submission[\"summary\"] = summary\n",
    "\n",
    "sample_submission.to_csv(\"base_submission.csv\", index = False)"
   ],
   "outputs": [],
   "metadata": {}
  },
  {
   "cell_type": "code",
   "execution_count": 44,
   "source": [
    "sample_submission.head()"
   ],
   "outputs": [
    {
     "output_type": "execute_result",
     "data": {
      "text/html": [
       "<div>\n",
       "<style scoped>\n",
       "    .dataframe tbody tr th:only-of-type {\n",
       "        vertical-align: middle;\n",
       "    }\n",
       "\n",
       "    .dataframe tbody tr th {\n",
       "        vertical-align: top;\n",
       "    }\n",
       "\n",
       "    .dataframe thead th {\n",
       "        text-align: right;\n",
       "    }\n",
       "</style>\n",
       "<table border=\"1\" class=\"dataframe\">\n",
       "  <thead>\n",
       "    <tr style=\"text-align: right;\">\n",
       "      <th></th>\n",
       "      <th>id</th>\n",
       "      <th>summary</th>\n",
       "    </tr>\n",
       "  </thead>\n",
       "  <tbody>\n",
       "    <tr>\n",
       "      <th>0</th>\n",
       "      <td>1</td>\n",
       "      <td>지난 15일 시청 상황실에서 열린 '2019 대한민국 우수사례 우수사례 공모에 선...</td>\n",
       "    </tr>\n",
       "    <tr>\n",
       "      <th>1</th>\n",
       "      <td>2</td>\n",
       "      <td>정부가 지난 2일 국회 본회의를 통과한 가운데 정부는 내년 1월부터 내년 1월부터...</td>\n",
       "    </tr>\n",
       "    <tr>\n",
       "      <th>2</th>\n",
       "      <td>3</td>\n",
       "      <td>지난 20일 오후 2시 30분 앞에서 열린 '2019 대한민국 축구종합센터 유치 ...</td>\n",
       "    </tr>\n",
       "    <tr>\n",
       "      <th>3</th>\n",
       "      <td>4</td>\n",
       "      <td>대법원 판결이 대법원 판결을 받은 뒤 지난 7월 말 이후 한 달간 한 달간 대해 ...</td>\n",
       "    </tr>\n",
       "    <tr>\n",
       "      <th>4</th>\n",
       "      <td>5</td>\n",
       "      <td>문재인 대통령은 지난 1일 트럼프 대통령이 지난 5월 말 열린 트럼프 대통령의 친...</td>\n",
       "    </tr>\n",
       "  </tbody>\n",
       "</table>\n",
       "</div>"
      ],
      "text/plain": [
       "   id                                            summary\n",
       "0   1   지난 15일 시청 상황실에서 열린 '2019 대한민국 우수사례 우수사례 공모에 선...\n",
       "1   2   정부가 지난 2일 국회 본회의를 통과한 가운데 정부는 내년 1월부터 내년 1월부터...\n",
       "2   3   지난 20일 오후 2시 30분 앞에서 열린 '2019 대한민국 축구종합센터 유치 ...\n",
       "3   4   대법원 판결이 대법원 판결을 받은 뒤 지난 7월 말 이후 한 달간 한 달간 대해 ...\n",
       "4   5   문재인 대통령은 지난 1일 트럼프 대통령이 지난 5월 말 열린 트럼프 대통령의 친..."
      ]
     },
     "metadata": {},
     "execution_count": 44
    }
   ],
   "metadata": {}
  },
  {
   "cell_type": "code",
   "execution_count": null,
   "source": [],
   "outputs": [],
   "metadata": {}
  }
 ],
 "metadata": {
  "kernelspec": {
   "name": "python3",
   "display_name": "Python 3.8.10 64-bit ('kobertsum': conda)"
  },
  "language_info": {
   "codemirror_mode": {
    "name": "ipython",
    "version": 3
   },
   "file_extension": ".py",
   "mimetype": "text/x-python",
   "name": "python",
   "nbconvert_exporter": "python",
   "pygments_lexer": "ipython3",
   "version": "3.8.10"
  },
  "interpreter": {
   "hash": "0225bfe348f7edb7bd33f87bfedb9902eeab1a18a4de35e3790c58e60b052226"
  }
 },
 "nbformat": 4,
 "nbformat_minor": 4
}